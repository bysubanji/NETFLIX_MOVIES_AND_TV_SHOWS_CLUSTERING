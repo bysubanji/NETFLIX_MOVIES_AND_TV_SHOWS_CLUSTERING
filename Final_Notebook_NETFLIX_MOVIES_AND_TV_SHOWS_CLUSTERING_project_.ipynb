{
  "nbformat": 4,
  "nbformat_minor": 0,
  "metadata": {
    "colab": {
      "name": "Final_Notebook_NETFLIX_MOVIES_AND_TV_SHOWS_CLUSTERING_project..ipynb",
      "provenance": [],
      "collapsed_sections": [
        "LGcl5Bv9ed6u"
      ],
      "authorship_tag": "ABX9TyNQOx/Ac+I95cFVjoVuW+lR",
      "include_colab_link": true
    },
    "kernelspec": {
      "name": "python3",
      "display_name": "Python 3"
    },
    "language_info": {
      "name": "python"
    }
  },
  "cells": [
    {
      "cell_type": "markdown",
      "metadata": {
        "id": "view-in-github",
        "colab_type": "text"
      },
      "source": [
        "<a href=\"https://colab.research.google.com/github/bysubanji/Netflix_movies_and_Tv_shows_clustering/blob/main/Final_Notebook_NETFLIX_MOVIES_AND_TV_SHOWS_CLUSTERING_project_.ipynb\" target=\"_parent\"><img src=\"https://colab.research.google.com/assets/colab-badge.svg\" alt=\"Open In Colab\"/></a>"
      ]
    },
    {
      "cell_type": "markdown",
      "metadata": {
        "id": "LGcl5Bv9ed6u"
      },
      "source": [
        "# **Problem Statement**"
      ]
    },
    {
      "cell_type": "markdown",
      "metadata": {
        "id": "8M5kyFaVjzXk"
      },
      "source": [
        "This dataset consists of tv shows and movies available on Netflix as of 2019. The dataset is collected from Flixable which is a third-party Netflix search engine.\n",
        "\n",
        "In 2018, they released an interesting report which shows that the number of TV shows on Netflix has nearly tripled since 2010. The streaming service’s number of movies has decreased by more than 2,000 titles since 2010, while its number of TV shows has nearly tripled. It will be interesting to explore what all other insights can be obtained from the same dataset.\n",
        "\n",
        "Integrating this dataset with other external datasets such as IMDB ratings, rotten tomatoes can also provide many interesting findings."
      ]
    },
    {
      "cell_type": "markdown",
      "metadata": {
        "id": "AzGDqdC4fZ-b"
      },
      "source": [
        "# **Attribute Information**"
      ]
    },
    {
      "cell_type": "markdown",
      "metadata": {
        "id": "jhfLYargscGV"
      },
      "source": [
        "1. show_id : Unique ID for every Movie / Tv Show\n",
        "\n",
        "2. type : Identifier - A Movie or TV Show\n",
        "\n",
        "3. title : Title of the Movie / Tv Show\n",
        "\n",
        "4. director : Director of the Movie\n",
        "\n",
        "5. cast : Actors involved in the movie / show\n",
        "\n",
        "6. country : Country where the movie / show was produced\n",
        "\n",
        "7. date_added : Date it was added on Netflix\n",
        "\n",
        "8. release_year : Actual Releaseyear of the movie / show\n",
        "\n",
        "9. rating : TV Rating of the movie / show\n",
        "\n",
        "10. duration : Total Duration - in minutes or number of seasons\n",
        "\n",
        "11. listed_in : Genere\n",
        "\n",
        "12. description: The Summary description"
      ]
    },
    {
      "cell_type": "markdown",
      "metadata": {
        "id": "tLx5cJO8hzb1"
      },
      "source": [
        "## <b>In this  project, you are required to do </b>\n",
        "1. Exploratory Data Analysis \n",
        "\n",
        "2. Understanding what type content is available in different countries\n",
        "\n",
        "3. Is Netflix has increasingly focusing on TV rather than movies in recent years.\n",
        "4. Clustering similar content by matching text-based features\n",
        "\n"
      ]
    },
    {
      "cell_type": "code",
      "execution_count": 1,
      "metadata": {
        "id": "iOJW25f5422c",
        "colab": {
          "base_uri": "https://localhost:8080/"
        },
        "outputId": "1f1e8813-5e15-4ace-9f98-f47afa690a30"
      },
      "outputs": [
        {
          "output_type": "stream",
          "name": "stdout",
          "text": [
            "Mounted at /content/drive\n"
          ]
        }
      ],
      "source": [
        "#mouting the drive\n",
        "from google.colab import drive\n",
        "drive.mount('/content/drive')"
      ]
    },
    {
      "cell_type": "markdown",
      "source": [
        "#<u>Importing all Necessary Libraries</u>"
      ],
      "metadata": {
        "id": "Ewg8Yng35dhA"
      }
    },
    {
      "cell_type": "code",
      "execution_count": 2,
      "metadata": {
        "id": "uzHb7Ym54s_7",
        "colab": {
          "base_uri": "https://localhost:8080/"
        },
        "outputId": "3b0559b1-e859-492c-9d2a-d6214e0a5e3d"
      },
      "outputs": [
        {
          "output_type": "stream",
          "name": "stderr",
          "text": [
            "/usr/local/lib/python3.7/dist-packages/statsmodels/tools/_testing.py:19: FutureWarning:\n",
            "\n",
            "pandas.util.testing is deprecated. Use the functions in the public API at pandas.testing instead.\n",
            "\n"
          ]
        }
      ],
      "source": [
        "#Importing the libraries\n",
        "import numpy as np\n",
        "import pandas as pd\n",
        "from numpy import math\n",
        "import matplotlib.pyplot as plt\n",
        "import seaborn as sns\n",
        "import scipy.stats as stat\n",
        "from scipy import stats\n",
        "import pylab\n",
        "import plotly\n",
        "import plotly.graph_objects as go\n",
        "import plotly.offline as pyo\n",
        "from plotly.offline import init_notebook_mode\n",
        "import plotly.express as px\n",
        "import time\n",
        "from datetime import datetime\n",
        "from datetime import timedelta\n",
        "from statsmodels.stats.outliers_influence import variance_inflation_factor\n",
        "import warnings\n",
        "warnings.filterwarnings(action='ignore')\n",
        "%matplotlib inline\n",
        "%config InlineBackend.figure_format = 'retina'"
      ]
    },
    {
      "cell_type": "code",
      "source": [
        "#All Machine learning Models are imported here\n",
        "from sklearn.decomposition import PCA\n",
        "from sklearn.preprocessing import StandardScaler\n",
        "import nltk\n",
        "nltk.download('all')\n",
        "import re\n",
        "from nltk.corpus import stopwords\n",
        "from nltk.tokenize import word_tokenize\n",
        "from nltk.corpus import stopwords\n",
        "from string import punctuation\n",
        "from collections import Counter\n",
        "import nltk\n",
        "nltk.download('punkt')\n",
        "nltk.download('stopwords')\n",
        "from sklearn.cluster import KMeans\n",
        "from sklearn.metrics import silhouette_score\n",
        "from sklearn.feature_extraction.text import TfidfVectorizer\n",
        "from sklearn import metrics\n",
        "from sklearn import preprocessing\n",
        "from sklearn.feature_extraction.text import CountVectorizer, TfidfVectorizer\n",
        "from sklearn.model_selection import train_test_split, KFold\n",
        "from sklearn import preprocessing\n",
        "from sklearn.feature_extraction.text import CountVectorizer, TfidfVectorizer"
      ],
      "metadata": {
        "id": "J6HPOdTh8XmB",
        "colab": {
          "base_uri": "https://localhost:8080/"
        },
        "outputId": "8472d94c-05d9-4208-eaf5-4f083a23703a"
      },
      "execution_count": 3,
      "outputs": [
        {
          "output_type": "stream",
          "name": "stdout",
          "text": [
            "[nltk_data] Downloading collection 'all'\n",
            "[nltk_data]    | \n",
            "[nltk_data]    | Downloading package abc to /root/nltk_data...\n",
            "[nltk_data]    |   Unzipping corpora/abc.zip.\n",
            "[nltk_data]    | Downloading package alpino to /root/nltk_data...\n",
            "[nltk_data]    |   Unzipping corpora/alpino.zip.\n",
            "[nltk_data]    | Downloading package averaged_perceptron_tagger to\n",
            "[nltk_data]    |     /root/nltk_data...\n",
            "[nltk_data]    |   Unzipping taggers/averaged_perceptron_tagger.zip.\n",
            "[nltk_data]    | Downloading package averaged_perceptron_tagger_ru to\n",
            "[nltk_data]    |     /root/nltk_data...\n",
            "[nltk_data]    |   Unzipping\n",
            "[nltk_data]    |       taggers/averaged_perceptron_tagger_ru.zip.\n",
            "[nltk_data]    | Downloading package basque_grammars to\n",
            "[nltk_data]    |     /root/nltk_data...\n",
            "[nltk_data]    |   Unzipping grammars/basque_grammars.zip.\n",
            "[nltk_data]    | Downloading package biocreative_ppi to\n",
            "[nltk_data]    |     /root/nltk_data...\n",
            "[nltk_data]    |   Unzipping corpora/biocreative_ppi.zip.\n",
            "[nltk_data]    | Downloading package bllip_wsj_no_aux to\n",
            "[nltk_data]    |     /root/nltk_data...\n",
            "[nltk_data]    |   Unzipping models/bllip_wsj_no_aux.zip.\n",
            "[nltk_data]    | Downloading package book_grammars to\n",
            "[nltk_data]    |     /root/nltk_data...\n",
            "[nltk_data]    |   Unzipping grammars/book_grammars.zip.\n",
            "[nltk_data]    | Downloading package brown to /root/nltk_data...\n",
            "[nltk_data]    |   Unzipping corpora/brown.zip.\n",
            "[nltk_data]    | Downloading package brown_tei to /root/nltk_data...\n",
            "[nltk_data]    |   Unzipping corpora/brown_tei.zip.\n",
            "[nltk_data]    | Downloading package cess_cat to /root/nltk_data...\n",
            "[nltk_data]    |   Unzipping corpora/cess_cat.zip.\n",
            "[nltk_data]    | Downloading package cess_esp to /root/nltk_data...\n",
            "[nltk_data]    |   Unzipping corpora/cess_esp.zip.\n",
            "[nltk_data]    | Downloading package chat80 to /root/nltk_data...\n",
            "[nltk_data]    |   Unzipping corpora/chat80.zip.\n",
            "[nltk_data]    | Downloading package city_database to\n",
            "[nltk_data]    |     /root/nltk_data...\n",
            "[nltk_data]    |   Unzipping corpora/city_database.zip.\n",
            "[nltk_data]    | Downloading package cmudict to /root/nltk_data...\n",
            "[nltk_data]    |   Unzipping corpora/cmudict.zip.\n",
            "[nltk_data]    | Downloading package comparative_sentences to\n",
            "[nltk_data]    |     /root/nltk_data...\n",
            "[nltk_data]    |   Unzipping corpora/comparative_sentences.zip.\n",
            "[nltk_data]    | Downloading package comtrans to /root/nltk_data...\n",
            "[nltk_data]    | Downloading package conll2000 to /root/nltk_data...\n",
            "[nltk_data]    |   Unzipping corpora/conll2000.zip.\n",
            "[nltk_data]    | Downloading package conll2002 to /root/nltk_data...\n",
            "[nltk_data]    |   Unzipping corpora/conll2002.zip.\n",
            "[nltk_data]    | Downloading package conll2007 to /root/nltk_data...\n",
            "[nltk_data]    | Downloading package crubadan to /root/nltk_data...\n",
            "[nltk_data]    |   Unzipping corpora/crubadan.zip.\n",
            "[nltk_data]    | Downloading package dependency_treebank to\n",
            "[nltk_data]    |     /root/nltk_data...\n",
            "[nltk_data]    |   Unzipping corpora/dependency_treebank.zip.\n",
            "[nltk_data]    | Downloading package dolch to /root/nltk_data...\n",
            "[nltk_data]    |   Unzipping corpora/dolch.zip.\n",
            "[nltk_data]    | Downloading package europarl_raw to\n",
            "[nltk_data]    |     /root/nltk_data...\n",
            "[nltk_data]    |   Unzipping corpora/europarl_raw.zip.\n",
            "[nltk_data]    | Downloading package extended_omw to\n",
            "[nltk_data]    |     /root/nltk_data...\n",
            "[nltk_data]    |   Unzipping corpora/extended_omw.zip.\n",
            "[nltk_data]    | Downloading package floresta to /root/nltk_data...\n",
            "[nltk_data]    |   Unzipping corpora/floresta.zip.\n",
            "[nltk_data]    | Downloading package framenet_v15 to\n",
            "[nltk_data]    |     /root/nltk_data...\n",
            "[nltk_data]    |   Unzipping corpora/framenet_v15.zip.\n",
            "[nltk_data]    | Downloading package framenet_v17 to\n",
            "[nltk_data]    |     /root/nltk_data...\n",
            "[nltk_data]    |   Unzipping corpora/framenet_v17.zip.\n",
            "[nltk_data]    | Downloading package gazetteers to /root/nltk_data...\n",
            "[nltk_data]    |   Unzipping corpora/gazetteers.zip.\n",
            "[nltk_data]    | Downloading package genesis to /root/nltk_data...\n",
            "[nltk_data]    |   Unzipping corpora/genesis.zip.\n",
            "[nltk_data]    | Downloading package gutenberg to /root/nltk_data...\n",
            "[nltk_data]    |   Unzipping corpora/gutenberg.zip.\n",
            "[nltk_data]    | Downloading package ieer to /root/nltk_data...\n",
            "[nltk_data]    |   Unzipping corpora/ieer.zip.\n",
            "[nltk_data]    | Downloading package inaugural to /root/nltk_data...\n",
            "[nltk_data]    |   Unzipping corpora/inaugural.zip.\n",
            "[nltk_data]    | Downloading package indian to /root/nltk_data...\n",
            "[nltk_data]    |   Unzipping corpora/indian.zip.\n",
            "[nltk_data]    | Downloading package jeita to /root/nltk_data...\n",
            "[nltk_data]    | Downloading package kimmo to /root/nltk_data...\n",
            "[nltk_data]    |   Unzipping corpora/kimmo.zip.\n",
            "[nltk_data]    | Downloading package knbc to /root/nltk_data...\n",
            "[nltk_data]    | Downloading package large_grammars to\n",
            "[nltk_data]    |     /root/nltk_data...\n",
            "[nltk_data]    |   Unzipping grammars/large_grammars.zip.\n",
            "[nltk_data]    | Downloading package lin_thesaurus to\n",
            "[nltk_data]    |     /root/nltk_data...\n",
            "[nltk_data]    |   Unzipping corpora/lin_thesaurus.zip.\n",
            "[nltk_data]    | Downloading package mac_morpho to /root/nltk_data...\n",
            "[nltk_data]    |   Unzipping corpora/mac_morpho.zip.\n",
            "[nltk_data]    | Downloading package machado to /root/nltk_data...\n",
            "[nltk_data]    | Downloading package masc_tagged to /root/nltk_data...\n",
            "[nltk_data]    | Downloading package maxent_ne_chunker to\n",
            "[nltk_data]    |     /root/nltk_data...\n",
            "[nltk_data]    |   Unzipping chunkers/maxent_ne_chunker.zip.\n",
            "[nltk_data]    | Downloading package maxent_treebank_pos_tagger to\n",
            "[nltk_data]    |     /root/nltk_data...\n",
            "[nltk_data]    |   Unzipping taggers/maxent_treebank_pos_tagger.zip.\n",
            "[nltk_data]    | Downloading package moses_sample to\n",
            "[nltk_data]    |     /root/nltk_data...\n",
            "[nltk_data]    |   Unzipping models/moses_sample.zip.\n",
            "[nltk_data]    | Downloading package movie_reviews to\n",
            "[nltk_data]    |     /root/nltk_data...\n",
            "[nltk_data]    |   Unzipping corpora/movie_reviews.zip.\n",
            "[nltk_data]    | Downloading package mte_teip5 to /root/nltk_data...\n",
            "[nltk_data]    |   Unzipping corpora/mte_teip5.zip.\n",
            "[nltk_data]    | Downloading package mwa_ppdb to /root/nltk_data...\n",
            "[nltk_data]    |   Unzipping misc/mwa_ppdb.zip.\n",
            "[nltk_data]    | Downloading package names to /root/nltk_data...\n",
            "[nltk_data]    |   Unzipping corpora/names.zip.\n",
            "[nltk_data]    | Downloading package nombank.1.0 to /root/nltk_data...\n",
            "[nltk_data]    | Downloading package nonbreaking_prefixes to\n",
            "[nltk_data]    |     /root/nltk_data...\n",
            "[nltk_data]    |   Unzipping corpora/nonbreaking_prefixes.zip.\n",
            "[nltk_data]    | Downloading package nps_chat to /root/nltk_data...\n",
            "[nltk_data]    |   Unzipping corpora/nps_chat.zip.\n",
            "[nltk_data]    | Downloading package omw to /root/nltk_data...\n",
            "[nltk_data]    |   Unzipping corpora/omw.zip.\n",
            "[nltk_data]    | Downloading package omw-1.4 to /root/nltk_data...\n",
            "[nltk_data]    |   Unzipping corpora/omw-1.4.zip.\n",
            "[nltk_data]    | Downloading package opinion_lexicon to\n",
            "[nltk_data]    |     /root/nltk_data...\n",
            "[nltk_data]    |   Unzipping corpora/opinion_lexicon.zip.\n",
            "[nltk_data]    | Downloading package panlex_swadesh to\n",
            "[nltk_data]    |     /root/nltk_data...\n",
            "[nltk_data]    | Downloading package paradigms to /root/nltk_data...\n",
            "[nltk_data]    |   Unzipping corpora/paradigms.zip.\n",
            "[nltk_data]    | Downloading package pe08 to /root/nltk_data...\n",
            "[nltk_data]    |   Unzipping corpora/pe08.zip.\n",
            "[nltk_data]    | Downloading package perluniprops to\n",
            "[nltk_data]    |     /root/nltk_data...\n",
            "[nltk_data]    |   Unzipping misc/perluniprops.zip.\n",
            "[nltk_data]    | Downloading package pil to /root/nltk_data...\n",
            "[nltk_data]    |   Unzipping corpora/pil.zip.\n",
            "[nltk_data]    | Downloading package pl196x to /root/nltk_data...\n",
            "[nltk_data]    |   Unzipping corpora/pl196x.zip.\n",
            "[nltk_data]    | Downloading package porter_test to /root/nltk_data...\n",
            "[nltk_data]    |   Unzipping stemmers/porter_test.zip.\n",
            "[nltk_data]    | Downloading package ppattach to /root/nltk_data...\n",
            "[nltk_data]    |   Unzipping corpora/ppattach.zip.\n",
            "[nltk_data]    | Downloading package problem_reports to\n",
            "[nltk_data]    |     /root/nltk_data...\n",
            "[nltk_data]    |   Unzipping corpora/problem_reports.zip.\n",
            "[nltk_data]    | Downloading package product_reviews_1 to\n",
            "[nltk_data]    |     /root/nltk_data...\n",
            "[nltk_data]    |   Unzipping corpora/product_reviews_1.zip.\n",
            "[nltk_data]    | Downloading package product_reviews_2 to\n",
            "[nltk_data]    |     /root/nltk_data...\n",
            "[nltk_data]    |   Unzipping corpora/product_reviews_2.zip.\n",
            "[nltk_data]    | Downloading package propbank to /root/nltk_data...\n",
            "[nltk_data]    | Downloading package pros_cons to /root/nltk_data...\n",
            "[nltk_data]    |   Unzipping corpora/pros_cons.zip.\n",
            "[nltk_data]    | Downloading package ptb to /root/nltk_data...\n",
            "[nltk_data]    |   Unzipping corpora/ptb.zip.\n",
            "[nltk_data]    | Downloading package punkt to /root/nltk_data...\n",
            "[nltk_data]    |   Unzipping tokenizers/punkt.zip.\n",
            "[nltk_data]    | Downloading package qc to /root/nltk_data...\n",
            "[nltk_data]    |   Unzipping corpora/qc.zip.\n",
            "[nltk_data]    | Downloading package reuters to /root/nltk_data...\n",
            "[nltk_data]    | Downloading package rslp to /root/nltk_data...\n",
            "[nltk_data]    |   Unzipping stemmers/rslp.zip.\n",
            "[nltk_data]    | Downloading package rte to /root/nltk_data...\n",
            "[nltk_data]    |   Unzipping corpora/rte.zip.\n",
            "[nltk_data]    | Downloading package sample_grammars to\n",
            "[nltk_data]    |     /root/nltk_data...\n",
            "[nltk_data]    |   Unzipping grammars/sample_grammars.zip.\n",
            "[nltk_data]    | Downloading package semcor to /root/nltk_data...\n",
            "[nltk_data]    | Downloading package senseval to /root/nltk_data...\n",
            "[nltk_data]    |   Unzipping corpora/senseval.zip.\n",
            "[nltk_data]    | Downloading package sentence_polarity to\n",
            "[nltk_data]    |     /root/nltk_data...\n",
            "[nltk_data]    |   Unzipping corpora/sentence_polarity.zip.\n",
            "[nltk_data]    | Downloading package sentiwordnet to\n",
            "[nltk_data]    |     /root/nltk_data...\n",
            "[nltk_data]    |   Unzipping corpora/sentiwordnet.zip.\n",
            "[nltk_data]    | Downloading package shakespeare to /root/nltk_data...\n",
            "[nltk_data]    |   Unzipping corpora/shakespeare.zip.\n",
            "[nltk_data]    | Downloading package sinica_treebank to\n",
            "[nltk_data]    |     /root/nltk_data...\n",
            "[nltk_data]    |   Unzipping corpora/sinica_treebank.zip.\n",
            "[nltk_data]    | Downloading package smultron to /root/nltk_data...\n",
            "[nltk_data]    |   Unzipping corpora/smultron.zip.\n",
            "[nltk_data]    | Downloading package snowball_data to\n",
            "[nltk_data]    |     /root/nltk_data...\n",
            "[nltk_data]    | Downloading package spanish_grammars to\n",
            "[nltk_data]    |     /root/nltk_data...\n",
            "[nltk_data]    |   Unzipping grammars/spanish_grammars.zip.\n",
            "[nltk_data]    | Downloading package state_union to /root/nltk_data...\n",
            "[nltk_data]    |   Unzipping corpora/state_union.zip.\n",
            "[nltk_data]    | Downloading package stopwords to /root/nltk_data...\n",
            "[nltk_data]    |   Unzipping corpora/stopwords.zip.\n",
            "[nltk_data]    | Downloading package subjectivity to\n",
            "[nltk_data]    |     /root/nltk_data...\n",
            "[nltk_data]    |   Unzipping corpora/subjectivity.zip.\n",
            "[nltk_data]    | Downloading package swadesh to /root/nltk_data...\n",
            "[nltk_data]    |   Unzipping corpora/swadesh.zip.\n",
            "[nltk_data]    | Downloading package switchboard to /root/nltk_data...\n",
            "[nltk_data]    |   Unzipping corpora/switchboard.zip.\n",
            "[nltk_data]    | Downloading package tagsets to /root/nltk_data...\n",
            "[nltk_data]    |   Unzipping help/tagsets.zip.\n",
            "[nltk_data]    | Downloading package timit to /root/nltk_data...\n",
            "[nltk_data]    |   Unzipping corpora/timit.zip.\n",
            "[nltk_data]    | Downloading package toolbox to /root/nltk_data...\n",
            "[nltk_data]    |   Unzipping corpora/toolbox.zip.\n",
            "[nltk_data]    | Downloading package treebank to /root/nltk_data...\n",
            "[nltk_data]    |   Unzipping corpora/treebank.zip.\n",
            "[nltk_data]    | Downloading package twitter_samples to\n",
            "[nltk_data]    |     /root/nltk_data...\n",
            "[nltk_data]    |   Unzipping corpora/twitter_samples.zip.\n",
            "[nltk_data]    | Downloading package udhr to /root/nltk_data...\n",
            "[nltk_data]    |   Unzipping corpora/udhr.zip.\n",
            "[nltk_data]    | Downloading package udhr2 to /root/nltk_data...\n",
            "[nltk_data]    |   Unzipping corpora/udhr2.zip.\n",
            "[nltk_data]    | Downloading package unicode_samples to\n",
            "[nltk_data]    |     /root/nltk_data...\n",
            "[nltk_data]    |   Unzipping corpora/unicode_samples.zip.\n",
            "[nltk_data]    | Downloading package universal_tagset to\n",
            "[nltk_data]    |     /root/nltk_data...\n",
            "[nltk_data]    |   Unzipping taggers/universal_tagset.zip.\n",
            "[nltk_data]    | Downloading package universal_treebanks_v20 to\n",
            "[nltk_data]    |     /root/nltk_data...\n",
            "[nltk_data]    | Downloading package vader_lexicon to\n",
            "[nltk_data]    |     /root/nltk_data...\n",
            "[nltk_data]    | Downloading package verbnet to /root/nltk_data...\n",
            "[nltk_data]    |   Unzipping corpora/verbnet.zip.\n",
            "[nltk_data]    | Downloading package verbnet3 to /root/nltk_data...\n",
            "[nltk_data]    |   Unzipping corpora/verbnet3.zip.\n",
            "[nltk_data]    | Downloading package webtext to /root/nltk_data...\n",
            "[nltk_data]    |   Unzipping corpora/webtext.zip.\n",
            "[nltk_data]    | Downloading package wmt15_eval to /root/nltk_data...\n",
            "[nltk_data]    |   Unzipping models/wmt15_eval.zip.\n",
            "[nltk_data]    | Downloading package word2vec_sample to\n",
            "[nltk_data]    |     /root/nltk_data...\n",
            "[nltk_data]    |   Unzipping models/word2vec_sample.zip.\n",
            "[nltk_data]    | Downloading package wordnet to /root/nltk_data...\n",
            "[nltk_data]    |   Unzipping corpora/wordnet.zip.\n",
            "[nltk_data]    | Downloading package wordnet2021 to /root/nltk_data...\n",
            "[nltk_data]    |   Unzipping corpora/wordnet2021.zip.\n",
            "[nltk_data]    | Downloading package wordnet31 to /root/nltk_data...\n",
            "[nltk_data]    |   Unzipping corpora/wordnet31.zip.\n",
            "[nltk_data]    | Downloading package wordnet_ic to /root/nltk_data...\n",
            "[nltk_data]    |   Unzipping corpora/wordnet_ic.zip.\n",
            "[nltk_data]    | Downloading package words to /root/nltk_data...\n",
            "[nltk_data]    |   Unzipping corpora/words.zip.\n",
            "[nltk_data]    | Downloading package ycoe to /root/nltk_data...\n",
            "[nltk_data]    |   Unzipping corpora/ycoe.zip.\n",
            "[nltk_data]    | \n",
            "[nltk_data]  Done downloading collection all\n",
            "[nltk_data] Downloading package punkt to /root/nltk_data...\n",
            "[nltk_data]   Package punkt is already up-to-date!\n",
            "[nltk_data] Downloading package stopwords to /root/nltk_data...\n",
            "[nltk_data]   Package stopwords is already up-to-date!\n"
          ]
        }
      ]
    },
    {
      "cell_type": "markdown",
      "source": [
        "#<u>NETFLIX MOVIES AND TV SHOWS  DATA FRAME</u>"
      ],
      "metadata": {
        "id": "ZGuF1Esk5kxv"
      }
    },
    {
      "cell_type": "code",
      "execution_count": 4,
      "metadata": {
        "id": "3erterWB4tFn"
      },
      "outputs": [],
      "source": [
        "#loading the dataset\n",
        "df=pd.read_csv('/content/drive/MyDrive/Projects - Almabetter/NETFLIX_MOVIES_AND_TV_SHOWS_CLUSTERING/NETFLIX MOVIES AND TV SHOWS CLUSTERING.csv')\n",
        "df=pd.DataFrame(df)"
      ]
    },
    {
      "cell_type": "markdown",
      "source": [
        "##Data types of each column"
      ],
      "metadata": {
        "id": "prqE5GWv74W2"
      }
    },
    {
      "cell_type": "code",
      "execution_count": 5,
      "metadata": {
        "id": "D3fEMxft4tIw",
        "colab": {
          "base_uri": "https://localhost:8080/",
          "height": 336
        },
        "outputId": "fa631640-3fbb-4dbb-ee86-fdef857dcab9"
      },
      "outputs": [
        {
          "output_type": "execute_result",
          "data": {
            "text/html": [
              "\n",
              "  <div id=\"df-a098e86c-30db-47c4-890f-94df510eddf1\">\n",
              "    <div class=\"colab-df-container\">\n",
              "      <div>\n",
              "<style scoped>\n",
              "    .dataframe tbody tr th:only-of-type {\n",
              "        vertical-align: middle;\n",
              "    }\n",
              "\n",
              "    .dataframe tbody tr th {\n",
              "        vertical-align: top;\n",
              "    }\n",
              "\n",
              "    .dataframe thead th {\n",
              "        text-align: right;\n",
              "    }\n",
              "</style>\n",
              "<table border=\"1\" class=\"dataframe\">\n",
              "  <thead>\n",
              "    <tr style=\"text-align: right;\">\n",
              "      <th></th>\n",
              "      <th>show_id</th>\n",
              "      <th>type</th>\n",
              "      <th>title</th>\n",
              "      <th>director</th>\n",
              "      <th>cast</th>\n",
              "      <th>country</th>\n",
              "      <th>date_added</th>\n",
              "      <th>release_year</th>\n",
              "      <th>rating</th>\n",
              "      <th>duration</th>\n",
              "      <th>listed_in</th>\n",
              "      <th>description</th>\n",
              "    </tr>\n",
              "  </thead>\n",
              "  <tbody>\n",
              "    <tr>\n",
              "      <th>0</th>\n",
              "      <td>s1</td>\n",
              "      <td>TV Show</td>\n",
              "      <td>3%</td>\n",
              "      <td>NaN</td>\n",
              "      <td>João Miguel, Bianca Comparato, Michel Gomes, R...</td>\n",
              "      <td>Brazil</td>\n",
              "      <td>August 14, 2020</td>\n",
              "      <td>2020</td>\n",
              "      <td>TV-MA</td>\n",
              "      <td>4 Seasons</td>\n",
              "      <td>International TV Shows, TV Dramas, TV Sci-Fi &amp;...</td>\n",
              "      <td>In a future where the elite inhabit an island ...</td>\n",
              "    </tr>\n",
              "    <tr>\n",
              "      <th>1</th>\n",
              "      <td>s2</td>\n",
              "      <td>Movie</td>\n",
              "      <td>7:19</td>\n",
              "      <td>Jorge Michel Grau</td>\n",
              "      <td>Demián Bichir, Héctor Bonilla, Oscar Serrano, ...</td>\n",
              "      <td>Mexico</td>\n",
              "      <td>December 23, 2016</td>\n",
              "      <td>2016</td>\n",
              "      <td>TV-MA</td>\n",
              "      <td>93 min</td>\n",
              "      <td>Dramas, International Movies</td>\n",
              "      <td>After a devastating earthquake hits Mexico Cit...</td>\n",
              "    </tr>\n",
              "    <tr>\n",
              "      <th>2</th>\n",
              "      <td>s3</td>\n",
              "      <td>Movie</td>\n",
              "      <td>23:59</td>\n",
              "      <td>Gilbert Chan</td>\n",
              "      <td>Tedd Chan, Stella Chung, Henley Hii, Lawrence ...</td>\n",
              "      <td>Singapore</td>\n",
              "      <td>December 20, 2018</td>\n",
              "      <td>2011</td>\n",
              "      <td>R</td>\n",
              "      <td>78 min</td>\n",
              "      <td>Horror Movies, International Movies</td>\n",
              "      <td>When an army recruit is found dead, his fellow...</td>\n",
              "    </tr>\n",
              "    <tr>\n",
              "      <th>3</th>\n",
              "      <td>s4</td>\n",
              "      <td>Movie</td>\n",
              "      <td>9</td>\n",
              "      <td>Shane Acker</td>\n",
              "      <td>Elijah Wood, John C. Reilly, Jennifer Connelly...</td>\n",
              "      <td>United States</td>\n",
              "      <td>November 16, 2017</td>\n",
              "      <td>2009</td>\n",
              "      <td>PG-13</td>\n",
              "      <td>80 min</td>\n",
              "      <td>Action &amp; Adventure, Independent Movies, Sci-Fi...</td>\n",
              "      <td>In a postapocalyptic world, rag-doll robots hi...</td>\n",
              "    </tr>\n",
              "    <tr>\n",
              "      <th>4</th>\n",
              "      <td>s5</td>\n",
              "      <td>Movie</td>\n",
              "      <td>21</td>\n",
              "      <td>Robert Luketic</td>\n",
              "      <td>Jim Sturgess, Kevin Spacey, Kate Bosworth, Aar...</td>\n",
              "      <td>United States</td>\n",
              "      <td>January 1, 2020</td>\n",
              "      <td>2008</td>\n",
              "      <td>PG-13</td>\n",
              "      <td>123 min</td>\n",
              "      <td>Dramas</td>\n",
              "      <td>A brilliant group of students become card-coun...</td>\n",
              "    </tr>\n",
              "  </tbody>\n",
              "</table>\n",
              "</div>\n",
              "      <button class=\"colab-df-convert\" onclick=\"convertToInteractive('df-a098e86c-30db-47c4-890f-94df510eddf1')\"\n",
              "              title=\"Convert this dataframe to an interactive table.\"\n",
              "              style=\"display:none;\">\n",
              "        \n",
              "  <svg xmlns=\"http://www.w3.org/2000/svg\" height=\"24px\"viewBox=\"0 0 24 24\"\n",
              "       width=\"24px\">\n",
              "    <path d=\"M0 0h24v24H0V0z\" fill=\"none\"/>\n",
              "    <path d=\"M18.56 5.44l.94 2.06.94-2.06 2.06-.94-2.06-.94-.94-2.06-.94 2.06-2.06.94zm-11 1L8.5 8.5l.94-2.06 2.06-.94-2.06-.94L8.5 2.5l-.94 2.06-2.06.94zm10 10l.94 2.06.94-2.06 2.06-.94-2.06-.94-.94-2.06-.94 2.06-2.06.94z\"/><path d=\"M17.41 7.96l-1.37-1.37c-.4-.4-.92-.59-1.43-.59-.52 0-1.04.2-1.43.59L10.3 9.45l-7.72 7.72c-.78.78-.78 2.05 0 2.83L4 21.41c.39.39.9.59 1.41.59.51 0 1.02-.2 1.41-.59l7.78-7.78 2.81-2.81c.8-.78.8-2.07 0-2.86zM5.41 20L4 18.59l7.72-7.72 1.47 1.35L5.41 20z\"/>\n",
              "  </svg>\n",
              "      </button>\n",
              "      \n",
              "  <style>\n",
              "    .colab-df-container {\n",
              "      display:flex;\n",
              "      flex-wrap:wrap;\n",
              "      gap: 12px;\n",
              "    }\n",
              "\n",
              "    .colab-df-convert {\n",
              "      background-color: #E8F0FE;\n",
              "      border: none;\n",
              "      border-radius: 50%;\n",
              "      cursor: pointer;\n",
              "      display: none;\n",
              "      fill: #1967D2;\n",
              "      height: 32px;\n",
              "      padding: 0 0 0 0;\n",
              "      width: 32px;\n",
              "    }\n",
              "\n",
              "    .colab-df-convert:hover {\n",
              "      background-color: #E2EBFA;\n",
              "      box-shadow: 0px 1px 2px rgba(60, 64, 67, 0.3), 0px 1px 3px 1px rgba(60, 64, 67, 0.15);\n",
              "      fill: #174EA6;\n",
              "    }\n",
              "\n",
              "    [theme=dark] .colab-df-convert {\n",
              "      background-color: #3B4455;\n",
              "      fill: #D2E3FC;\n",
              "    }\n",
              "\n",
              "    [theme=dark] .colab-df-convert:hover {\n",
              "      background-color: #434B5C;\n",
              "      box-shadow: 0px 1px 3px 1px rgba(0, 0, 0, 0.15);\n",
              "      filter: drop-shadow(0px 1px 2px rgba(0, 0, 0, 0.3));\n",
              "      fill: #FFFFFF;\n",
              "    }\n",
              "  </style>\n",
              "\n",
              "      <script>\n",
              "        const buttonEl =\n",
              "          document.querySelector('#df-a098e86c-30db-47c4-890f-94df510eddf1 button.colab-df-convert');\n",
              "        buttonEl.style.display =\n",
              "          google.colab.kernel.accessAllowed ? 'block' : 'none';\n",
              "\n",
              "        async function convertToInteractive(key) {\n",
              "          const element = document.querySelector('#df-a098e86c-30db-47c4-890f-94df510eddf1');\n",
              "          const dataTable =\n",
              "            await google.colab.kernel.invokeFunction('convertToInteractive',\n",
              "                                                     [key], {});\n",
              "          if (!dataTable) return;\n",
              "\n",
              "          const docLinkHtml = 'Like what you see? Visit the ' +\n",
              "            '<a target=\"_blank\" href=https://colab.research.google.com/notebooks/data_table.ipynb>data table notebook</a>'\n",
              "            + ' to learn more about interactive tables.';\n",
              "          element.innerHTML = '';\n",
              "          dataTable['output_type'] = 'display_data';\n",
              "          await google.colab.output.renderOutput(dataTable, element);\n",
              "          const docLink = document.createElement('div');\n",
              "          docLink.innerHTML = docLinkHtml;\n",
              "          element.appendChild(docLink);\n",
              "        }\n",
              "      </script>\n",
              "    </div>\n",
              "  </div>\n",
              "  "
            ],
            "text/plain": [
              "  show_id  ...                                        description\n",
              "0      s1  ...  In a future where the elite inhabit an island ...\n",
              "1      s2  ...  After a devastating earthquake hits Mexico Cit...\n",
              "2      s3  ...  When an army recruit is found dead, his fellow...\n",
              "3      s4  ...  In a postapocalyptic world, rag-doll robots hi...\n",
              "4      s5  ...  A brilliant group of students become card-coun...\n",
              "\n",
              "[5 rows x 12 columns]"
            ]
          },
          "metadata": {},
          "execution_count": 5
        }
      ],
      "source": [
        "#head of df\n",
        "df.head()"
      ]
    },
    {
      "cell_type": "code",
      "execution_count": 6,
      "metadata": {
        "id": "lvww936TGyFr",
        "colab": {
          "base_uri": "https://localhost:8080/"
        },
        "outputId": "27e976c7-2bb9-4e8c-e5e5-ad0d6c37fc9b"
      },
      "outputs": [
        {
          "output_type": "execute_result",
          "data": {
            "text/plain": [
              "(7787, 12)"
            ]
          },
          "metadata": {},
          "execution_count": 6
        }
      ],
      "source": [
        "#shape of df\n",
        "df.shape"
      ]
    },
    {
      "cell_type": "code",
      "source": [
        "#checking null values\n",
        "df.isnull().sum()"
      ],
      "metadata": {
        "id": "B0J5LOTF7NAu",
        "colab": {
          "base_uri": "https://localhost:8080/"
        },
        "outputId": "30585ab9-8e6a-4cac-88cb-5a3e33cc49c0"
      },
      "execution_count": 7,
      "outputs": [
        {
          "output_type": "execute_result",
          "data": {
            "text/plain": [
              "show_id            0\n",
              "type               0\n",
              "title              0\n",
              "director        2389\n",
              "cast             718\n",
              "country          507\n",
              "date_added        10\n",
              "release_year       0\n",
              "rating             7\n",
              "duration           0\n",
              "listed_in          0\n",
              "description        0\n",
              "dtype: int64"
            ]
          },
          "metadata": {},
          "execution_count": 7
        }
      ]
    },
    {
      "cell_type": "code",
      "execution_count": 8,
      "metadata": {
        "id": "2YjuVHIRHvRO",
        "colab": {
          "base_uri": "https://localhost:8080/",
          "height": 723
        },
        "outputId": "be20e9b8-8c2b-4876-bce9-28d11502081b"
      },
      "outputs": [
        {
          "output_type": "execute_result",
          "data": {
            "text/plain": [
              "<matplotlib.axes._subplots.AxesSubplot at 0x7fcad231b490>"
            ]
          },
          "metadata": {},
          "execution_count": 8
        },
        {
          "output_type": "display_data",
          "data": {
            "image/png": "[encoded data removed]",
            "text/plain": [
              "<Figure size 1440x864 with 2 Axes>"
            ]
          },
          "metadata": {
            "image/png": {
              "width": 1051,
              "height": 688
            },
            "needs_background": "light"
          }
        }
      ],
      "source": [
        "#checking null values by visualizing it\n",
        "plt.figure(figsize=(20,12))\n",
        "sns.heatmap(df.isna())"
      ]
    },
    {
      "cell_type": "code",
      "execution_count": 9,
      "metadata": {
        "id": "OmZCmmWAF50a"
      },
      "outputs": [],
      "source": [
        "#droping director feature from df\n",
        "df.drop(['director'],axis=1,inplace=True)\n",
        "#droping all null values from cast,country,date_added and rating features \n",
        "df_cleaned=df.dropna(subset=['cast','country','date_added','rating'],axis=0)"
      ]
    },
    {
      "cell_type": "code",
      "execution_count": 10,
      "metadata": {
        "id": "jHOZuwWzC1Y9",
        "colab": {
          "base_uri": "https://localhost:8080/"
        },
        "outputId": "fdaa06a8-c7e5-4edd-f924-249bbe1930f7"
      },
      "outputs": [
        {
          "output_type": "execute_result",
          "data": {
            "text/plain": [
              "show_id         0.0\n",
              "type            0.0\n",
              "title           0.0\n",
              "cast            0.0\n",
              "country         0.0\n",
              "date_added      0.0\n",
              "release_year    0.0\n",
              "rating          0.0\n",
              "duration        0.0\n",
              "listed_in       0.0\n",
              "description     0.0\n",
              "dtype: float64"
            ]
          },
          "metadata": {},
          "execution_count": 10
        }
      ],
      "source": [
        "#cheacking null values of df_cleaned variable \n",
        "df_cleaned.isnull().sum()/len(df)*100"
      ]
    },
    {
      "cell_type": "code",
      "execution_count": 11,
      "metadata": {
        "id": "cuQZZylaQYmN"
      },
      "outputs": [],
      "source": [
        "#using lambda funtion for country feature in df_cleaned variable\n",
        "df_cleaned['country']=df_cleaned['country'].apply(lambda x:x.split(\",\"))"
      ]
    },
    {
      "cell_type": "code",
      "execution_count": 12,
      "metadata": {
        "id": "ifEN5ePvR1wW"
      },
      "outputs": [],
      "source": [
        "#creating new variable as df_new \n",
        "df_new=pd.DataFrame(columns=df_cleaned.columns)"
      ]
    },
    {
      "cell_type": "code",
      "execution_count": 13,
      "metadata": {
        "id": "lR59nAqw4tX2"
      },
      "outputs": [],
      "source": [
        "#using iterrows() function in country feature\n",
        "indic=0\n",
        "count=0\n",
        "for index, row in df_cleaned.iterrows():\n",
        "    if len(df_cleaned.loc[index,'country'])>1:\n",
        "      count=len(df_cleaned.loc[index,'country'])+count\n",
        "      for data in df_cleaned.loc[index,'country']:\n",
        "        country_name=[]\n",
        "        indic=indic+0\n",
        "        country_name_list=list(df_cleaned.loc[index])\n",
        "        country_name.append(data)\n",
        "        country_name_list[4]=country_name\n",
        "        df_new.loc[indic]=country_name_list\n",
        "        indic=indic+1\n",
        "      df_cleaned.drop(index,inplace=True)"
      ]
    },
    {
      "cell_type": "code",
      "execution_count": 14,
      "metadata": {
        "id": "cHoODvwLjT7k"
      },
      "outputs": [],
      "source": [
        "#using reset_index() method for df_cleaned variable\n",
        "df_cleaned.reset_index(drop=True,inplace=True)\n",
        "df_clean_frame=df_cleaned.append(df_new,ignore_index=True)"
      ]
    },
    {
      "cell_type": "code",
      "execution_count": 15,
      "metadata": {
        "id": "6eJrwjNwmOHV"
      },
      "outputs": [],
      "source": [
        "#using the lambda function for some data augmentation\n",
        "df_clean_frame['country']=df_clean_frame['country'].apply(lambda x:x[0])\n",
        "df_clean_frame['date_added']=df_clean_frame['date_added'].apply(lambda x:x.strip())\n",
        "df_clean_frame['date_added']=df_clean_frame['date_added'].apply(lambda x:datetime.strptime(x,'%B %d, %Y'))\n",
        "df_clean_frame['release_year']=df_clean_frame['release_year'].astype('int')"
      ]
    },
    {
      "cell_type": "code",
      "execution_count": 16,
      "metadata": {
        "id": "rk07wuV9wrSR"
      },
      "outputs": [],
      "source": [
        "#changing the names of some features \n",
        "df_clean_frame.rename(columns={'type':'Type_of_show','title':'Title_of_Movie/show','cast':'Actors','date_added':'Date_Added_in_netflix','release_year':'Release_year','rating':'Ratings','listed_in':'Genre'},inplace=True)"
      ]
    },
    {
      "cell_type": "code",
      "execution_count": 17,
      "metadata": {
        "id": "wmUSYXyQXGiQ"
      },
      "outputs": [],
      "source": [
        "#clean dataframe\n",
        "df_clean_frame.drop([6361,6527],inplace=True)\n",
        "df_clean_frame.reset_index(drop=True,inplace=True)"
      ]
    },
    {
      "cell_type": "code",
      "execution_count": 18,
      "metadata": {
        "id": "lOKcF8TXsGtl",
        "colab": {
          "base_uri": "https://localhost:8080/",
          "height": 406
        },
        "outputId": "0c945f56-e26e-4f05-f4e5-c32142315c71"
      },
      "outputs": [
        {
          "output_type": "execute_result",
          "data": {
            "text/html": [
              "\n",
              "  <div id=\"df-5307e2ef-621f-47b4-bd66-c3dcb1333dfe\">\n",
              "    <div class=\"colab-df-container\">\n",
              "      <div>\n",
              "<style scoped>\n",
              "    .dataframe tbody tr th:only-of-type {\n",
              "        vertical-align: middle;\n",
              "    }\n",
              "\n",
              "    .dataframe tbody tr th {\n",
              "        vertical-align: top;\n",
              "    }\n",
              "\n",
              "    .dataframe thead th {\n",
              "        text-align: right;\n",
              "    }\n",
              "</style>\n",
              "<table border=\"1\" class=\"dataframe\">\n",
              "  <thead>\n",
              "    <tr style=\"text-align: right;\">\n",
              "      <th></th>\n",
              "      <th>show_id</th>\n",
              "      <th>Type_of_show</th>\n",
              "      <th>Title_of_Movie/show</th>\n",
              "      <th>Actors</th>\n",
              "      <th>country</th>\n",
              "      <th>Date_Added_in_netflix</th>\n",
              "      <th>Release_year</th>\n",
              "      <th>Ratings</th>\n",
              "      <th>duration</th>\n",
              "      <th>Genre</th>\n",
              "      <th>description</th>\n",
              "    </tr>\n",
              "  </thead>\n",
              "  <tbody>\n",
              "    <tr>\n",
              "      <th>0</th>\n",
              "      <td>s1</td>\n",
              "      <td>TV Show</td>\n",
              "      <td>3%</td>\n",
              "      <td>João Miguel, Bianca Comparato, Michel Gomes, R...</td>\n",
              "      <td>Brazil</td>\n",
              "      <td>2020-08-14</td>\n",
              "      <td>2020</td>\n",
              "      <td>TV-MA</td>\n",
              "      <td>4 Seasons</td>\n",
              "      <td>International TV Shows, TV Dramas, TV Sci-Fi &amp;...</td>\n",
              "      <td>In a future where the elite inhabit an island ...</td>\n",
              "    </tr>\n",
              "    <tr>\n",
              "      <th>1</th>\n",
              "      <td>s2</td>\n",
              "      <td>Movie</td>\n",
              "      <td>7:19</td>\n",
              "      <td>Demián Bichir, Héctor Bonilla, Oscar Serrano, ...</td>\n",
              "      <td>Mexico</td>\n",
              "      <td>2016-12-23</td>\n",
              "      <td>2016</td>\n",
              "      <td>TV-MA</td>\n",
              "      <td>93 min</td>\n",
              "      <td>Dramas, International Movies</td>\n",
              "      <td>After a devastating earthquake hits Mexico Cit...</td>\n",
              "    </tr>\n",
              "    <tr>\n",
              "      <th>2</th>\n",
              "      <td>s3</td>\n",
              "      <td>Movie</td>\n",
              "      <td>23:59</td>\n",
              "      <td>Tedd Chan, Stella Chung, Henley Hii, Lawrence ...</td>\n",
              "      <td>Singapore</td>\n",
              "      <td>2018-12-20</td>\n",
              "      <td>2011</td>\n",
              "      <td>R</td>\n",
              "      <td>78 min</td>\n",
              "      <td>Horror Movies, International Movies</td>\n",
              "      <td>When an army recruit is found dead, his fellow...</td>\n",
              "    </tr>\n",
              "    <tr>\n",
              "      <th>3</th>\n",
              "      <td>s4</td>\n",
              "      <td>Movie</td>\n",
              "      <td>9</td>\n",
              "      <td>Elijah Wood, John C. Reilly, Jennifer Connelly...</td>\n",
              "      <td>United States</td>\n",
              "      <td>2017-11-16</td>\n",
              "      <td>2009</td>\n",
              "      <td>PG-13</td>\n",
              "      <td>80 min</td>\n",
              "      <td>Action &amp; Adventure, Independent Movies, Sci-Fi...</td>\n",
              "      <td>In a postapocalyptic world, rag-doll robots hi...</td>\n",
              "    </tr>\n",
              "    <tr>\n",
              "      <th>4</th>\n",
              "      <td>s5</td>\n",
              "      <td>Movie</td>\n",
              "      <td>21</td>\n",
              "      <td>Jim Sturgess, Kevin Spacey, Kate Bosworth, Aar...</td>\n",
              "      <td>United States</td>\n",
              "      <td>2020-01-01</td>\n",
              "      <td>2008</td>\n",
              "      <td>PG-13</td>\n",
              "      <td>123 min</td>\n",
              "      <td>Dramas</td>\n",
              "      <td>A brilliant group of students become card-coun...</td>\n",
              "    </tr>\n",
              "  </tbody>\n",
              "</table>\n",
              "</div>\n",
              "      <button class=\"colab-df-convert\" onclick=\"convertToInteractive('df-5307e2ef-621f-47b4-bd66-c3dcb1333dfe')\"\n",
              "              title=\"Convert this dataframe to an interactive table.\"\n",
              "              style=\"display:none;\">\n",
              "        \n",
              "  <svg xmlns=\"http://www.w3.org/2000/svg\" height=\"24px\"viewBox=\"0 0 24 24\"\n",
              "       width=\"24px\">\n",
              "    <path d=\"M0 0h24v24H0V0z\" fill=\"none\"/>\n",
              "    <path d=\"M18.56 5.44l.94 2.06.94-2.06 2.06-.94-2.06-.94-.94-2.06-.94 2.06-2.06.94zm-11 1L8.5 8.5l.94-2.06 2.06-.94-2.06-.94L8.5 2.5l-.94 2.06-2.06.94zm10 10l.94 2.06.94-2.06 2.06-.94-2.06-.94-.94-2.06-.94 2.06-2.06.94z\"/><path d=\"M17.41 7.96l-1.37-1.37c-.4-.4-.92-.59-1.43-.59-.52 0-1.04.2-1.43.59L10.3 9.45l-7.72 7.72c-.78.78-.78 2.05 0 2.83L4 21.41c.39.39.9.59 1.41.59.51 0 1.02-.2 1.41-.59l7.78-7.78 2.81-2.81c.8-.78.8-2.07 0-2.86zM5.41 20L4 18.59l7.72-7.72 1.47 1.35L5.41 20z\"/>\n",
              "  </svg>\n",
              "      </button>\n",
              "      \n",
              "  <style>\n",
              "    .colab-df-container {\n",
              "      display:flex;\n",
              "      flex-wrap:wrap;\n",
              "      gap: 12px;\n",
              "    }\n",
              "\n",
              "    .colab-df-convert {\n",
              "      background-color: #E8F0FE;\n",
              "      border: none;\n",
              "      border-radius: 50%;\n",
              "      cursor: pointer;\n",
              "      display: none;\n",
              "      fill: #1967D2;\n",
              "      height: 32px;\n",
              "      padding: 0 0 0 0;\n",
              "      width: 32px;\n",
              "    }\n",
              "\n",
              "    .colab-df-convert:hover {\n",
              "      background-color: #E2EBFA;\n",
              "      box-shadow: 0px 1px 2px rgba(60, 64, 67, 0.3), 0px 1px 3px 1px rgba(60, 64, 67, 0.15);\n",
              "      fill: #174EA6;\n",
              "    }\n",
              "\n",
              "    [theme=dark] .colab-df-convert {\n",
              "      background-color: #3B4455;\n",
              "      fill: #D2E3FC;\n",
              "    }\n",
              "\n",
              "    [theme=dark] .colab-df-convert:hover {\n",
              "      background-color: #434B5C;\n",
              "      box-shadow: 0px 1px 3px 1px rgba(0, 0, 0, 0.15);\n",
              "      filter: drop-shadow(0px 1px 2px rgba(0, 0, 0, 0.3));\n",
              "      fill: #FFFFFF;\n",
              "    }\n",
              "  </style>\n",
              "\n",
              "      <script>\n",
              "        const buttonEl =\n",
              "          document.querySelector('#df-5307e2ef-621f-47b4-bd66-c3dcb1333dfe button.colab-df-convert');\n",
              "        buttonEl.style.display =\n",
              "          google.colab.kernel.accessAllowed ? 'block' : 'none';\n",
              "\n",
              "        async function convertToInteractive(key) {\n",
              "          const element = document.querySelector('#df-5307e2ef-621f-47b4-bd66-c3dcb1333dfe');\n",
              "          const dataTable =\n",
              "            await google.colab.kernel.invokeFunction('convertToInteractive',\n",
              "                                                     [key], {});\n",
              "          if (!dataTable) return;\n",
              "\n",
              "          const docLinkHtml = 'Like what you see? Visit the ' +\n",
              "            '<a target=\"_blank\" href=https://colab.research.google.com/notebooks/data_table.ipynb>data table notebook</a>'\n",
              "            + ' to learn more about interactive tables.';\n",
              "          element.innerHTML = '';\n",
              "          dataTable['output_type'] = 'display_data';\n",
              "          await google.colab.output.renderOutput(dataTable, element);\n",
              "          const docLink = document.createElement('div');\n",
              "          docLink.innerHTML = docLinkHtml;\n",
              "          element.appendChild(docLink);\n",
              "        }\n",
              "      </script>\n",
              "    </div>\n",
              "  </div>\n",
              "  "
            ],
            "text/plain": [
              "  show_id  ...                                        description\n",
              "0      s1  ...  In a future where the elite inhabit an island ...\n",
              "1      s2  ...  After a devastating earthquake hits Mexico Cit...\n",
              "2      s3  ...  When an army recruit is found dead, his fellow...\n",
              "3      s4  ...  In a postapocalyptic world, rag-doll robots hi...\n",
              "4      s5  ...  A brilliant group of students become card-coun...\n",
              "\n",
              "[5 rows x 11 columns]"
            ]
          },
          "metadata": {},
          "execution_count": 18
        }
      ],
      "source": [
        "#head of df_clean_frame\n",
        "df_clean_frame.head()"
      ]
    },
    {
      "cell_type": "code",
      "execution_count": 19,
      "metadata": {
        "id": "LGhHeM9QePaS",
        "colab": {
          "base_uri": "https://localhost:8080/"
        },
        "outputId": "13f18db5-2e08-4412-b18d-1c8c6e80a7e3"
      },
      "outputs": [
        {
          "output_type": "execute_result",
          "data": {
            "text/plain": [
              "(8262, 11)"
            ]
          },
          "metadata": {},
          "execution_count": 19
        }
      ],
      "source": [
        "#shape of df_clean_frame\n",
        "df_clean_frame.shape"
      ]
    },
    {
      "cell_type": "markdown",
      "source": [
        "## Data Cleaning and Feature Engineering "
      ],
      "metadata": {
        "id": "2c3Z2pxL6ql6"
      }
    },
    {
      "cell_type": "code",
      "execution_count": 20,
      "metadata": {
        "id": "mBUDdpV5xtIe",
        "colab": {
          "base_uri": "https://localhost:8080/"
        },
        "outputId": "37a82e0c-f738-41ca-98b7-00952b71875c"
      },
      "outputs": [
        {
          "output_type": "execute_result",
          "data": {
            "text/plain": [
              "show_id                          object\n",
              "Type_of_show                     object\n",
              "Title_of_Movie/show              object\n",
              "Actors                           object\n",
              "country                          object\n",
              "Date_Added_in_netflix    datetime64[ns]\n",
              "Release_year                      int64\n",
              "Ratings                          object\n",
              "duration                         object\n",
              "Genre                            object\n",
              "description                      object\n",
              "dtype: object"
            ]
          },
          "metadata": {},
          "execution_count": 20
        }
      ],
      "source": [
        "#checking dtype of df_clean_frame\n",
        "df_clean_frame.dtypes"
      ]
    },
    {
      "cell_type": "markdown",
      "source": [
        "# 1. Exploratory Data Analysis\n",
        "###i)Name the cast who has been acted more times only for Indian Movies?\n",
        "###ii)What is more popular on Netflix, movies or TV shows?\n",
        "###iii)Name the top two countries where Netflix is most popular?\n",
        "###iv)In December 2020, what type of shows has been launched more and explore the highest rating of movie given to that month?"
      ],
      "metadata": {
        "id": "c7UprcGGcbVn"
      }
    },
    {
      "cell_type": "markdown",
      "metadata": {
        "id": "5f1vBuy3qXZ4"
      },
      "source": [
        "__i) Name the cast who has been acted more times only for Indian Movies?__"
      ]
    },
    {
      "cell_type": "code",
      "execution_count": 21,
      "metadata": {
        "id": "HPUEgkNrx9v0"
      },
      "outputs": [],
      "source": [
        "#extracing india from country column\n",
        "df_india=df_clean_frame.loc[df_clean_frame['country']=='India',:]"
      ]
    },
    {
      "cell_type": "code",
      "execution_count": 22,
      "metadata": {
        "id": "t7mGCKQM5jH-"
      },
      "outputs": [],
      "source": [
        "#defining stripping and returning the dates\n",
        "def stripping(x):\n",
        "  datas=[]\n",
        "  for i in x:\n",
        "    datas.append(i.strip())\n",
        "  return datas"
      ]
    },
    {
      "cell_type": "code",
      "execution_count": 23,
      "metadata": {
        "id": "3kG39lcU2wP8"
      },
      "outputs": [],
      "source": [
        "#using lambda function for Actors feature in df_india variable\n",
        "df_india['Actors']=df_india['Actors'].apply(lambda x:x.split(','))\n",
        "df_india['Actors']=df_india['Actors'].apply(lambda x:stripping(x))"
      ]
    },
    {
      "cell_type": "code",
      "execution_count": 24,
      "metadata": {
        "id": "nWbJqCuA54O-"
      },
      "outputs": [],
      "source": [
        "#creating actors_list=[]\n",
        "actors_list=[]\n",
        "for i in df_india['Actors']:\n",
        "  actors_list.extend(i)"
      ]
    },
    {
      "cell_type": "code",
      "execution_count": 25,
      "metadata": {
        "id": "jgJ1AHOT91L_",
        "colab": {
          "base_uri": "https://localhost:8080/",
          "height": 206
        },
        "outputId": "e269146d-1ba7-49cf-9f6c-d01b83a83512"
      },
      "outputs": [
        {
          "output_type": "execute_result",
          "data": {
            "text/html": [
              "\n",
              "  <div id=\"df-80e0f42d-07e2-4434-bb69-e23de5d9a84a\">\n",
              "    <div class=\"colab-df-container\">\n",
              "      <div>\n",
              "<style scoped>\n",
              "    .dataframe tbody tr th:only-of-type {\n",
              "        vertical-align: middle;\n",
              "    }\n",
              "\n",
              "    .dataframe tbody tr th {\n",
              "        vertical-align: top;\n",
              "    }\n",
              "\n",
              "    .dataframe thead th {\n",
              "        text-align: right;\n",
              "    }\n",
              "</style>\n",
              "<table border=\"1\" class=\"dataframe\">\n",
              "  <thead>\n",
              "    <tr style=\"text-align: right;\">\n",
              "      <th></th>\n",
              "      <th>Actors</th>\n",
              "      <th>Count</th>\n",
              "    </tr>\n",
              "  </thead>\n",
              "  <tbody>\n",
              "    <tr>\n",
              "      <th>0</th>\n",
              "      <td>Anupam Kher</td>\n",
              "      <td>39</td>\n",
              "    </tr>\n",
              "    <tr>\n",
              "      <th>1</th>\n",
              "      <td>Shah Rukh Khan</td>\n",
              "      <td>33</td>\n",
              "    </tr>\n",
              "    <tr>\n",
              "      <th>2</th>\n",
              "      <td>Naseeruddin Shah</td>\n",
              "      <td>29</td>\n",
              "    </tr>\n",
              "    <tr>\n",
              "      <th>3</th>\n",
              "      <td>Akshay Kumar</td>\n",
              "      <td>28</td>\n",
              "    </tr>\n",
              "    <tr>\n",
              "      <th>4</th>\n",
              "      <td>Om Puri</td>\n",
              "      <td>27</td>\n",
              "    </tr>\n",
              "  </tbody>\n",
              "</table>\n",
              "</div>\n",
              "      <button class=\"colab-df-convert\" onclick=\"convertToInteractive('df-80e0f42d-07e2-4434-bb69-e23de5d9a84a')\"\n",
              "              title=\"Convert this dataframe to an interactive table.\"\n",
              "              style=\"display:none;\">\n",
              "        \n",
              "  <svg xmlns=\"http://www.w3.org/2000/svg\" height=\"24px\"viewBox=\"0 0 24 24\"\n",
              "       width=\"24px\">\n",
              "    <path d=\"M0 0h24v24H0V0z\" fill=\"none\"/>\n",
              "    <path d=\"M18.56 5.44l.94 2.06.94-2.06 2.06-.94-2.06-.94-.94-2.06-.94 2.06-2.06.94zm-11 1L8.5 8.5l.94-2.06 2.06-.94-2.06-.94L8.5 2.5l-.94 2.06-2.06.94zm10 10l.94 2.06.94-2.06 2.06-.94-2.06-.94-.94-2.06-.94 2.06-2.06.94z\"/><path d=\"M17.41 7.96l-1.37-1.37c-.4-.4-.92-.59-1.43-.59-.52 0-1.04.2-1.43.59L10.3 9.45l-7.72 7.72c-.78.78-.78 2.05 0 2.83L4 21.41c.39.39.9.59 1.41.59.51 0 1.02-.2 1.41-.59l7.78-7.78 2.81-2.81c.8-.78.8-2.07 0-2.86zM5.41 20L4 18.59l7.72-7.72 1.47 1.35L5.41 20z\"/>\n",
              "  </svg>\n",
              "      </button>\n",
              "      \n",
              "  <style>\n",
              "    .colab-df-container {\n",
              "      display:flex;\n",
              "      flex-wrap:wrap;\n",
              "      gap: 12px;\n",
              "    }\n",
              "\n",
              "    .colab-df-convert {\n",
              "      background-color: #E8F0FE;\n",
              "      border: none;\n",
              "      border-radius: 50%;\n",
              "      cursor: pointer;\n",
              "      display: none;\n",
              "      fill: #1967D2;\n",
              "      height: 32px;\n",
              "      padding: 0 0 0 0;\n",
              "      width: 32px;\n",
              "    }\n",
              "\n",
              "    .colab-df-convert:hover {\n",
              "      background-color: #E2EBFA;\n",
              "      box-shadow: 0px 1px 2px rgba(60, 64, 67, 0.3), 0px 1px 3px 1px rgba(60, 64, 67, 0.15);\n",
              "      fill: #174EA6;\n",
              "    }\n",
              "\n",
              "    [theme=dark] .colab-df-convert {\n",
              "      background-color: #3B4455;\n",
              "      fill: #D2E3FC;\n",
              "    }\n",
              "\n",
              "    [theme=dark] .colab-df-convert:hover {\n",
              "      background-color: #434B5C;\n",
              "      box-shadow: 0px 1px 3px 1px rgba(0, 0, 0, 0.15);\n",
              "      filter: drop-shadow(0px 1px 2px rgba(0, 0, 0, 0.3));\n",
              "      fill: #FFFFFF;\n",
              "    }\n",
              "  </style>\n",
              "\n",
              "      <script>\n",
              "        const buttonEl =\n",
              "          document.querySelector('#df-80e0f42d-07e2-4434-bb69-e23de5d9a84a button.colab-df-convert');\n",
              "        buttonEl.style.display =\n",
              "          google.colab.kernel.accessAllowed ? 'block' : 'none';\n",
              "\n",
              "        async function convertToInteractive(key) {\n",
              "          const element = document.querySelector('#df-80e0f42d-07e2-4434-bb69-e23de5d9a84a');\n",
              "          const dataTable =\n",
              "            await google.colab.kernel.invokeFunction('convertToInteractive',\n",
              "                                                     [key], {});\n",
              "          if (!dataTable) return;\n",
              "\n",
              "          const docLinkHtml = 'Like what you see? Visit the ' +\n",
              "            '<a target=\"_blank\" href=https://colab.research.google.com/notebooks/data_table.ipynb>data table notebook</a>'\n",
              "            + ' to learn more about interactive tables.';\n",
              "          element.innerHTML = '';\n",
              "          dataTable['output_type'] = 'display_data';\n",
              "          await google.colab.output.renderOutput(dataTable, element);\n",
              "          const docLink = document.createElement('div');\n",
              "          docLink.innerHTML = docLinkHtml;\n",
              "          element.appendChild(docLink);\n",
              "        }\n",
              "      </script>\n",
              "    </div>\n",
              "  </div>\n",
              "  "
            ],
            "text/plain": [
              "             Actors  Count\n",
              "0       Anupam Kher     39\n",
              "1    Shah Rukh Khan     33\n",
              "2  Naseeruddin Shah     29\n",
              "3      Akshay Kumar     28\n",
              "4           Om Puri     27"
            ]
          },
          "metadata": {},
          "execution_count": 25
        }
      ],
      "source": [
        "#top five actors who acted more times in indian movies\n",
        "actors_df=pd.DataFrame(actors_list,columns=['Actors'])\n",
        "actors_df=actors_df.value_counts().reset_index()\n",
        "actors_df.rename(columns={0:'Count'},inplace=True)\n",
        "actors_df.head(5)"
      ]
    },
    {
      "cell_type": "code",
      "execution_count": 26,
      "metadata": {
        "id": "27AOSob0qwmV",
        "colab": {
          "base_uri": "https://localhost:8080/",
          "height": 460
        },
        "outputId": "dfa2aef9-b8aa-4133-8959-15d8d2913889"
      },
      "outputs": [
        {
          "output_type": "execute_result",
          "data": {
            "text/plain": [
              "<matplotlib.axes._subplots.AxesSubplot at 0x7fcac2aa6f90>"
            ]
          },
          "metadata": {},
          "execution_count": 26
        },
        {
          "output_type": "display_data",
          "data": {
            "image/png": "[encoded data removed]",
            "text/plain": [
              "<Figure size 864x504 with 1 Axes>"
            ]
          },
          "metadata": {
            "image/png": {
              "width": 717,
              "height": 424
            },
            "needs_background": "light"
          }
        }
      ],
      "source": [
        "#visualising top five actors who acted more times in indian movies\n",
        "plt.figure(figsize=(12,7))\n",
        "sns.barplot(x=actors_df['Actors'].head(5),y=actors_df['Count'].head(5))"
      ]
    },
    {
      "cell_type": "markdown",
      "source": [
        "As we can see from the plot, Anupam Kher has acted in more Indian films than anyone else."
      ],
      "metadata": {
        "id": "JswxZGbt6Wq-"
      }
    },
    {
      "cell_type": "markdown",
      "source": [
        "__ii) What is more popular on Netflix, movies or TV shows?__"
      ],
      "metadata": {
        "id": "PBkCLj88cD1W"
      }
    },
    {
      "cell_type": "code",
      "source": [
        "#Movies and Tv Shows available on netflix\n",
        "movies_and_tv_shows=df_clean_frame['Type_of_show'].value_counts().reset_index()\n",
        "movies_and_tv_shows"
      ],
      "metadata": {
        "id": "qC9PuQBecT1v",
        "colab": {
          "base_uri": "https://localhost:8080/",
          "height": 112
        },
        "outputId": "721fad6f-1fca-4970-85aa-c602d6e6657f"
      },
      "execution_count": 27,
      "outputs": [
        {
          "output_type": "execute_result",
          "data": {
            "text/html": [
              "\n",
              "  <div id=\"df-6cbfb0d5-fab1-48da-8eb4-b082bd417be1\">\n",
              "    <div class=\"colab-df-container\">\n",
              "      <div>\n",
              "<style scoped>\n",
              "    .dataframe tbody tr th:only-of-type {\n",
              "        vertical-align: middle;\n",
              "    }\n",
              "\n",
              "    .dataframe tbody tr th {\n",
              "        vertical-align: top;\n",
              "    }\n",
              "\n",
              "    .dataframe thead th {\n",
              "        text-align: right;\n",
              "    }\n",
              "</style>\n",
              "<table border=\"1\" class=\"dataframe\">\n",
              "  <thead>\n",
              "    <tr style=\"text-align: right;\">\n",
              "      <th></th>\n",
              "      <th>index</th>\n",
              "      <th>Type_of_show</th>\n",
              "    </tr>\n",
              "  </thead>\n",
              "  <tbody>\n",
              "    <tr>\n",
              "      <th>0</th>\n",
              "      <td>Movie</td>\n",
              "      <td>6080</td>\n",
              "    </tr>\n",
              "    <tr>\n",
              "      <th>1</th>\n",
              "      <td>TV Show</td>\n",
              "      <td>2182</td>\n",
              "    </tr>\n",
              "  </tbody>\n",
              "</table>\n",
              "</div>\n",
              "      <button class=\"colab-df-convert\" onclick=\"convertToInteractive('df-6cbfb0d5-fab1-48da-8eb4-b082bd417be1')\"\n",
              "              title=\"Convert this dataframe to an interactive table.\"\n",
              "              style=\"display:none;\">\n",
              "        \n",
              "  <svg xmlns=\"http://www.w3.org/2000/svg\" height=\"24px\"viewBox=\"0 0 24 24\"\n",
              "       width=\"24px\">\n",
              "    <path d=\"M0 0h24v24H0V0z\" fill=\"none\"/>\n",
              "    <path d=\"M18.56 5.44l.94 2.06.94-2.06 2.06-.94-2.06-.94-.94-2.06-.94 2.06-2.06.94zm-11 1L8.5 8.5l.94-2.06 2.06-.94-2.06-.94L8.5 2.5l-.94 2.06-2.06.94zm10 10l.94 2.06.94-2.06 2.06-.94-2.06-.94-.94-2.06-.94 2.06-2.06.94z\"/><path d=\"M17.41 7.96l-1.37-1.37c-.4-.4-.92-.59-1.43-.59-.52 0-1.04.2-1.43.59L10.3 9.45l-7.72 7.72c-.78.78-.78 2.05 0 2.83L4 21.41c.39.39.9.59 1.41.59.51 0 1.02-.2 1.41-.59l7.78-7.78 2.81-2.81c.8-.78.8-2.07 0-2.86zM5.41 20L4 18.59l7.72-7.72 1.47 1.35L5.41 20z\"/>\n",
              "  </svg>\n",
              "      </button>\n",
              "      \n",
              "  <style>\n",
              "    .colab-df-container {\n",
              "      display:flex;\n",
              "      flex-wrap:wrap;\n",
              "      gap: 12px;\n",
              "    }\n",
              "\n",
              "    .colab-df-convert {\n",
              "      background-color: #E8F0FE;\n",
              "      border: none;\n",
              "      border-radius: 50%;\n",
              "      cursor: pointer;\n",
              "      display: none;\n",
              "      fill: #1967D2;\n",
              "      height: 32px;\n",
              "      padding: 0 0 0 0;\n",
              "      width: 32px;\n",
              "    }\n",
              "\n",
              "    .colab-df-convert:hover {\n",
              "      background-color: #E2EBFA;\n",
              "      box-shadow: 0px 1px 2px rgba(60, 64, 67, 0.3), 0px 1px 3px 1px rgba(60, 64, 67, 0.15);\n",
              "      fill: #174EA6;\n",
              "    }\n",
              "\n",
              "    [theme=dark] .colab-df-convert {\n",
              "      background-color: #3B4455;\n",
              "      fill: #D2E3FC;\n",
              "    }\n",
              "\n",
              "    [theme=dark] .colab-df-convert:hover {\n",
              "      background-color: #434B5C;\n",
              "      box-shadow: 0px 1px 3px 1px rgba(0, 0, 0, 0.15);\n",
              "      filter: drop-shadow(0px 1px 2px rgba(0, 0, 0, 0.3));\n",
              "      fill: #FFFFFF;\n",
              "    }\n",
              "  </style>\n",
              "\n",
              "      <script>\n",
              "        const buttonEl =\n",
              "          document.querySelector('#df-6cbfb0d5-fab1-48da-8eb4-b082bd417be1 button.colab-df-convert');\n",
              "        buttonEl.style.display =\n",
              "          google.colab.kernel.accessAllowed ? 'block' : 'none';\n",
              "\n",
              "        async function convertToInteractive(key) {\n",
              "          const element = document.querySelector('#df-6cbfb0d5-fab1-48da-8eb4-b082bd417be1');\n",
              "          const dataTable =\n",
              "            await google.colab.kernel.invokeFunction('convertToInteractive',\n",
              "                                                     [key], {});\n",
              "          if (!dataTable) return;\n",
              "\n",
              "          const docLinkHtml = 'Like what you see? Visit the ' +\n",
              "            '<a target=\"_blank\" href=https://colab.research.google.com/notebooks/data_table.ipynb>data table notebook</a>'\n",
              "            + ' to learn more about interactive tables.';\n",
              "          element.innerHTML = '';\n",
              "          dataTable['output_type'] = 'display_data';\n",
              "          await google.colab.output.renderOutput(dataTable, element);\n",
              "          const docLink = document.createElement('div');\n",
              "          docLink.innerHTML = docLinkHtml;\n",
              "          element.appendChild(docLink);\n",
              "        }\n",
              "      </script>\n",
              "    </div>\n",
              "  </div>\n",
              "  "
            ],
            "text/plain": [
              "     index  Type_of_show\n",
              "0    Movie          6080\n",
              "1  TV Show          2182"
            ]
          },
          "metadata": {},
          "execution_count": 27
        }
      ]
    },
    {
      "cell_type": "code",
      "source": [
        "#visualising What is more popular on Netflix, movies or TV shows\n",
        "(px.bar(movies_and_tv_shows, x=\"index\",y=\"Type_of_show\", color=\"index\")\n",
        ".update_layout(title_font_size=50)\n",
        ".update_xaxes(showgrid=True)\n",
        ").show()"
      ],
      "metadata": {
        "id": "IlFvi5Y9dMBw",
        "colab": {
          "base_uri": "https://localhost:8080/",
          "height": 542
        },
        "outputId": "d089af6f-980b-4eb3-8963-479d8acc1be6"
      },
      "execution_count": 28,
      "outputs": [
        {
          "output_type": "display_data",
          "data": {
            "text/html": [
              "<html>\n",
              "<head><meta charset=\"utf-8\" /></head>\n",
              "<body>\n",
              "    <div>            <script src=\"https://cdnjs.cloudflare.com/ajax/libs/mathjax/2.7.5/MathJax.js?config=TeX-AMS-MML_SVG\"></script><script type=\"text/javascript\">if (window.MathJax) {MathJax.Hub.Config({SVG: {font: \"STIX-Web\"}});}</script>                <script type=\"text/javascript\">window.PlotlyConfig = {MathJaxConfig: 'local'};</script>\n",
              "        <script src=\"https://cdn.plot.ly/plotly-2.8.3.min.js\"></script>                <div id=\"e4bd6158-09dc-40e9-8f6c-c2185e218760\" class=\"plotly-graph-div\" style=\"height:525px; width:100%;\"></div>            <script type=\"text/javascript\">                                    window.PLOTLYENV=window.PLOTLYENV || {};                                    if (document.getElementById(\"e4bd6158-09dc-40e9-8f6c-c2185e218760\")) {                    Plotly.newPlot(                        \"e4bd6158-09dc-40e9-8f6c-c2185e218760\",                        [{\"alignmentgroup\":\"True\",\"hovertemplate\":\"index=%{x}<br>Type_of_show=%{y}<extra></extra>\",\"legendgroup\":\"Movie\",\"marker\":{\"color\":\"#636efa\",\"pattern\":{\"shape\":\"\"}},\"name\":\"Movie\",\"offsetgroup\":\"Movie\",\"orientation\":\"v\",\"showlegend\":true,\"textposition\":\"auto\",\"x\":[\"Movie\"],\"xaxis\":\"x\",\"y\":[6080],\"yaxis\":\"y\",\"type\":\"bar\"},{\"alignmentgroup\":\"True\",\"hovertemplate\":\"index=%{x}<br>Type_of_show=%{y}<extra></extra>\",\"legendgroup\":\"TV Show\",\"marker\":{\"color\":\"#EF553B\",\"pattern\":{\"shape\":\"\"}},\"name\":\"TV Show\",\"offsetgroup\":\"TV Show\",\"orientation\":\"v\",\"showlegend\":true,\"textposition\":\"auto\",\"x\":[\"TV Show\"],\"xaxis\":\"x\",\"y\":[2182],\"yaxis\":\"y\",\"type\":\"bar\"}],                        {\"template\":{\"data\":{\"bar\":[{\"error_x\":{\"color\":\"#2a3f5f\"},\"error_y\":{\"color\":\"#2a3f5f\"},\"marker\":{\"line\":{\"color\":\"#E5ECF6\",\"width\":0.5},\"pattern\":{\"fillmode\":\"overlay\",\"size\":10,\"solidity\":0.2}},\"type\":\"bar\"}],\"barpolar\":[{\"marker\":{\"line\":{\"color\":\"#E5ECF6\",\"width\":0.5},\"pattern\":{\"fillmode\":\"overlay\",\"size\":10,\"solidity\":0.2}},\"type\":\"barpolar\"}],\"carpet\":[{\"aaxis\":{\"endlinecolor\":\"#2a3f5f\",\"gridcolor\":\"white\",\"linecolor\":\"white\",\"minorgridcolor\":\"white\",\"startlinecolor\":\"#2a3f5f\"},\"baxis\":{\"endlinecolor\":\"#2a3f5f\",\"gridcolor\":\"white\",\"linecolor\":\"white\",\"minorgridcolor\":\"white\",\"startlinecolor\":\"#2a3f5f\"},\"type\":\"carpet\"}],\"choropleth\":[{\"colorbar\":{\"outlinewidth\":0,\"ticks\":\"\"},\"type\":\"choropleth\"}],\"contour\":[{\"colorbar\":{\"outlinewidth\":0,\"ticks\":\"\"},\"colorscale\":[[0.0,\"#0d0887\"],[0.1111111111111111,\"#46039f\"],[0.2222222222222222,\"#7201a8\"],[0.3333333333333333,\"#9c179e\"],[0.4444444444444444,\"#bd3786\"],[0.5555555555555556,\"#d8576b\"],[0.6666666666666666,\"#ed7953\"],[0.7777777777777778,\"#fb9f3a\"],[0.8888888888888888,\"#fdca26\"],[1.0,\"#f0f921\"]],\"type\":\"contour\"}],\"contourcarpet\":[{\"colorbar\":{\"outlinewidth\":0,\"ticks\":\"\"},\"type\":\"contourcarpet\"}],\"heatmap\":[{\"colorbar\":{\"outlinewidth\":0,\"ticks\":\"\"},\"colorscale\":[[0.0,\"#0d0887\"],[0.1111111111111111,\"#46039f\"],[0.2222222222222222,\"#7201a8\"],[0.3333333333333333,\"#9c179e\"],[0.4444444444444444,\"#bd3786\"],[0.5555555555555556,\"#d8576b\"],[0.6666666666666666,\"#ed7953\"],[0.7777777777777778,\"#fb9f3a\"],[0.8888888888888888,\"#fdca26\"],[1.0,\"#f0f921\"]],\"type\":\"heatmap\"}],\"heatmapgl\":[{\"colorbar\":{\"outlinewidth\":0,\"ticks\":\"\"},\"colorscale\":[[0.0,\"#0d0887\"],[0.1111111111111111,\"#46039f\"],[0.2222222222222222,\"#7201a8\"],[0.3333333333333333,\"#9c179e\"],[0.4444444444444444,\"#bd3786\"],[0.5555555555555556,\"#d8576b\"],[0.6666666666666666,\"#ed7953\"],[0.7777777777777778,\"#fb9f3a\"],[0.8888888888888888,\"#fdca26\"],[1.0,\"#f0f921\"]],\"type\":\"heatmapgl\"}],\"histogram\":[{\"marker\":{\"pattern\":{\"fillmode\":\"overlay\",\"size\":10,\"solidity\":0.2}},\"type\":\"histogram\"}],\"histogram2d\":[{\"colorbar\":{\"outlinewidth\":0,\"ticks\":\"\"},\"colorscale\":[[0.0,\"#0d0887\"],[0.1111111111111111,\"#46039f\"],[0.2222222222222222,\"#7201a8\"],[0.3333333333333333,\"#9c179e\"],[0.4444444444444444,\"#bd3786\"],[0.5555555555555556,\"#d8576b\"],[0.6666666666666666,\"#ed7953\"],[0.7777777777777778,\"#fb9f3a\"],[0.8888888888888888,\"#fdca26\"],[1.0,\"#f0f921\"]],\"type\":\"histogram2d\"}],\"histogram2dcontour\":[{\"colorbar\":{\"outlinewidth\":0,\"ticks\":\"\"},\"colorscale\":[[0.0,\"#0d0887\"],[0.1111111111111111,\"#46039f\"],[0.2222222222222222,\"#7201a8\"],[0.3333333333333333,\"#9c179e\"],[0.4444444444444444,\"#bd3786\"],[0.5555555555555556,\"#d8576b\"],[0.6666666666666666,\"#ed7953\"],[0.7777777777777778,\"#fb9f3a\"],[0.8888888888888888,\"#fdca26\"],[1.0,\"#f0f921\"]],\"type\":\"histogram2dcontour\"}],\"mesh3d\":[{\"colorbar\":{\"outlinewidth\":0,\"ticks\":\"\"},\"type\":\"mesh3d\"}],\"parcoords\":[{\"line\":{\"colorbar\":{\"outlinewidth\":0,\"ticks\":\"\"}},\"type\":\"parcoords\"}],\"pie\":[{\"automargin\":true,\"type\":\"pie\"}],\"scatter\":[{\"marker\":{\"colorbar\":{\"outlinewidth\":0,\"ticks\":\"\"}},\"type\":\"scatter\"}],\"scatter3d\":[{\"line\":{\"colorbar\":{\"outlinewidth\":0,\"ticks\":\"\"}},\"marker\":{\"colorbar\":{\"outlinewidth\":0,\"ticks\":\"\"}},\"type\":\"scatter3d\"}],\"scattercarpet\":[{\"marker\":{\"colorbar\":{\"outlinewidth\":0,\"ticks\":\"\"}},\"type\":\"scattercarpet\"}],\"scattergeo\":[{\"marker\":{\"colorbar\":{\"outlinewidth\":0,\"ticks\":\"\"}},\"type\":\"scattergeo\"}],\"scattergl\":[{\"marker\":{\"colorbar\":{\"outlinewidth\":0,\"ticks\":\"\"}},\"type\":\"scattergl\"}],\"scattermapbox\":[{\"marker\":{\"colorbar\":{\"outlinewidth\":0,\"ticks\":\"\"}},\"type\":\"scattermapbox\"}],\"scatterpolar\":[{\"marker\":{\"colorbar\":{\"outlinewidth\":0,\"ticks\":\"\"}},\"type\":\"scatterpolar\"}],\"scatterpolargl\":[{\"marker\":{\"colorbar\":{\"outlinewidth\":0,\"ticks\":\"\"}},\"type\":\"scatterpolargl\"}],\"scatterternary\":[{\"marker\":{\"colorbar\":{\"outlinewidth\":0,\"ticks\":\"\"}},\"type\":\"scatterternary\"}],\"surface\":[{\"colorbar\":{\"outlinewidth\":0,\"ticks\":\"\"},\"colorscale\":[[0.0,\"#0d0887\"],[0.1111111111111111,\"#46039f\"],[0.2222222222222222,\"#7201a8\"],[0.3333333333333333,\"#9c179e\"],[0.4444444444444444,\"#bd3786\"],[0.5555555555555556,\"#d8576b\"],[0.6666666666666666,\"#ed7953\"],[0.7777777777777778,\"#fb9f3a\"],[0.8888888888888888,\"#fdca26\"],[1.0,\"#f0f921\"]],\"type\":\"surface\"}],\"table\":[{\"cells\":{\"fill\":{\"color\":\"#EBF0F8\"},\"line\":{\"color\":\"white\"}},\"header\":{\"fill\":{\"color\":\"#C8D4E3\"},\"line\":{\"color\":\"white\"}},\"type\":\"table\"}]},\"layout\":{\"annotationdefaults\":{\"arrowcolor\":\"#2a3f5f\",\"arrowhead\":0,\"arrowwidth\":1},\"autotypenumbers\":\"strict\",\"coloraxis\":{\"colorbar\":{\"outlinewidth\":0,\"ticks\":\"\"}},\"colorscale\":{\"diverging\":[[0,\"#8e0152\"],[0.1,\"#c51b7d\"],[0.2,\"#de77ae\"],[0.3,\"#f1b6da\"],[0.4,\"#fde0ef\"],[0.5,\"#f7f7f7\"],[0.6,\"#e6f5d0\"],[0.7,\"#b8e186\"],[0.8,\"#7fbc41\"],[0.9,\"#4d9221\"],[1,\"#276419\"]],\"sequential\":[[0.0,\"#0d0887\"],[0.1111111111111111,\"#46039f\"],[0.2222222222222222,\"#7201a8\"],[0.3333333333333333,\"#9c179e\"],[0.4444444444444444,\"#bd3786\"],[0.5555555555555556,\"#d8576b\"],[0.6666666666666666,\"#ed7953\"],[0.7777777777777778,\"#fb9f3a\"],[0.8888888888888888,\"#fdca26\"],[1.0,\"#f0f921\"]],\"sequentialminus\":[[0.0,\"#0d0887\"],[0.1111111111111111,\"#46039f\"],[0.2222222222222222,\"#7201a8\"],[0.3333333333333333,\"#9c179e\"],[0.4444444444444444,\"#bd3786\"],[0.5555555555555556,\"#d8576b\"],[0.6666666666666666,\"#ed7953\"],[0.7777777777777778,\"#fb9f3a\"],[0.8888888888888888,\"#fdca26\"],[1.0,\"#f0f921\"]]},\"colorway\":[\"#636efa\",\"#EF553B\",\"#00cc96\",\"#ab63fa\",\"#FFA15A\",\"#19d3f3\",\"#FF6692\",\"#B6E880\",\"#FF97FF\",\"#FECB52\"],\"font\":{\"color\":\"#2a3f5f\"},\"geo\":{\"bgcolor\":\"white\",\"lakecolor\":\"white\",\"landcolor\":\"#E5ECF6\",\"showlakes\":true,\"showland\":true,\"subunitcolor\":\"white\"},\"hoverlabel\":{\"align\":\"left\"},\"hovermode\":\"closest\",\"mapbox\":{\"style\":\"light\"},\"paper_bgcolor\":\"white\",\"plot_bgcolor\":\"#E5ECF6\",\"polar\":{\"angularaxis\":{\"gridcolor\":\"white\",\"linecolor\":\"white\",\"ticks\":\"\"},\"bgcolor\":\"#E5ECF6\",\"radialaxis\":{\"gridcolor\":\"white\",\"linecolor\":\"white\",\"ticks\":\"\"}},\"scene\":{\"xaxis\":{\"backgroundcolor\":\"#E5ECF6\",\"gridcolor\":\"white\",\"gridwidth\":2,\"linecolor\":\"white\",\"showbackground\":true,\"ticks\":\"\",\"zerolinecolor\":\"white\"},\"yaxis\":{\"backgroundcolor\":\"#E5ECF6\",\"gridcolor\":\"white\",\"gridwidth\":2,\"linecolor\":\"white\",\"showbackground\":true,\"ticks\":\"\",\"zerolinecolor\":\"white\"},\"zaxis\":{\"backgroundcolor\":\"#E5ECF6\",\"gridcolor\":\"white\",\"gridwidth\":2,\"linecolor\":\"white\",\"showbackground\":true,\"ticks\":\"\",\"zerolinecolor\":\"white\"}},\"shapedefaults\":{\"line\":{\"color\":\"#2a3f5f\"}},\"ternary\":{\"aaxis\":{\"gridcolor\":\"white\",\"linecolor\":\"white\",\"ticks\":\"\"},\"baxis\":{\"gridcolor\":\"white\",\"linecolor\":\"white\",\"ticks\":\"\"},\"bgcolor\":\"#E5ECF6\",\"caxis\":{\"gridcolor\":\"white\",\"linecolor\":\"white\",\"ticks\":\"\"}},\"title\":{\"x\":0.05},\"xaxis\":{\"automargin\":true,\"gridcolor\":\"white\",\"linecolor\":\"white\",\"ticks\":\"\",\"title\":{\"standoff\":15},\"zerolinecolor\":\"white\",\"zerolinewidth\":2},\"yaxis\":{\"automargin\":true,\"gridcolor\":\"white\",\"linecolor\":\"white\",\"ticks\":\"\",\"title\":{\"standoff\":15},\"zerolinecolor\":\"white\",\"zerolinewidth\":2}}},\"xaxis\":{\"anchor\":\"y\",\"domain\":[0.0,1.0],\"title\":{\"text\":\"index\"},\"categoryorder\":\"array\",\"categoryarray\":[\"Movie\",\"TV Show\"],\"showgrid\":true},\"yaxis\":{\"anchor\":\"x\",\"domain\":[0.0,1.0],\"title\":{\"text\":\"Type_of_show\"}},\"legend\":{\"title\":{\"text\":\"index\"},\"tracegroupgap\":0},\"margin\":{\"t\":60},\"barmode\":\"relative\",\"title\":{\"font\":{\"size\":50}}},                        {\"responsive\": true}                    ).then(function(){\n",
              "                            \n",
              "var gd = document.getElementById('e4bd6158-09dc-40e9-8f6c-c2185e218760');\n",
              "var x = new MutationObserver(function (mutations, observer) {{\n",
              "        var display = window.getComputedStyle(gd).display;\n",
              "        if (!display || display === 'none') {{\n",
              "            console.log([gd, 'removed!']);\n",
              "            Plotly.purge(gd);\n",
              "            observer.disconnect();\n",
              "        }}\n",
              "}});\n",
              "\n",
              "// Listen for the removal of the full notebook cells\n",
              "var notebookContainer = gd.closest('#notebook-container');\n",
              "if (notebookContainer) {{\n",
              "    x.observe(notebookContainer, {childList: true});\n",
              "}}\n",
              "\n",
              "// Listen for the clearing of the current output cell\n",
              "var outputEl = gd.closest('.output');\n",
              "if (outputEl) {{\n",
              "    x.observe(outputEl, {childList: true});\n",
              "}}\n",
              "\n",
              "                        })                };                            </script>        </div>\n",
              "</body>\n",
              "</html>"
            ]
          },
          "metadata": {}
        }
      ]
    },
    {
      "cell_type": "markdown",
      "source": [
        "As we can see in the plot, there are more movies available on Netflix compared to TV shows. That means movies are more popular than TV shows."
      ],
      "metadata": {
        "id": "nkDiaGJnb8Lp"
      }
    },
    {
      "cell_type": "markdown",
      "metadata": {
        "id": "SyVoU0KRs6ma"
      },
      "source": [
        "__iii) Name the top two countries where Netflix is most popular?__"
      ]
    },
    {
      "cell_type": "code",
      "execution_count": 29,
      "metadata": {
        "id": "-bVtvV71-bDa",
        "colab": {
          "base_uri": "https://localhost:8080/",
          "height": 143
        },
        "outputId": "7f325617-f534-44df-e637-9da2a3970157"
      },
      "outputs": [
        {
          "output_type": "execute_result",
          "data": {
            "text/html": [
              "\n",
              "  <div id=\"df-e9d7cd6a-680c-444b-a86f-9d0270371c32\">\n",
              "    <div class=\"colab-df-container\">\n",
              "      <div>\n",
              "<style scoped>\n",
              "    .dataframe tbody tr th:only-of-type {\n",
              "        vertical-align: middle;\n",
              "    }\n",
              "\n",
              "    .dataframe tbody tr th {\n",
              "        vertical-align: top;\n",
              "    }\n",
              "\n",
              "    .dataframe thead th {\n",
              "        text-align: right;\n",
              "    }\n",
              "</style>\n",
              "<table border=\"1\" class=\"dataframe\">\n",
              "  <thead>\n",
              "    <tr style=\"text-align: right;\">\n",
              "      <th></th>\n",
              "      <th>index</th>\n",
              "      <th>country</th>\n",
              "    </tr>\n",
              "  </thead>\n",
              "  <tbody>\n",
              "    <tr>\n",
              "      <th>0</th>\n",
              "      <td>United States</td>\n",
              "      <td>2541</td>\n",
              "    </tr>\n",
              "    <tr>\n",
              "      <th>1</th>\n",
              "      <td>India</td>\n",
              "      <td>927</td>\n",
              "    </tr>\n",
              "    <tr>\n",
              "      <th>2</th>\n",
              "      <td>United Kingdom</td>\n",
              "      <td>499</td>\n",
              "    </tr>\n",
              "  </tbody>\n",
              "</table>\n",
              "</div>\n",
              "      <button class=\"colab-df-convert\" onclick=\"convertToInteractive('df-e9d7cd6a-680c-444b-a86f-9d0270371c32')\"\n",
              "              title=\"Convert this dataframe to an interactive table.\"\n",
              "              style=\"display:none;\">\n",
              "        \n",
              "  <svg xmlns=\"http://www.w3.org/2000/svg\" height=\"24px\"viewBox=\"0 0 24 24\"\n",
              "       width=\"24px\">\n",
              "    <path d=\"M0 0h24v24H0V0z\" fill=\"none\"/>\n",
              "    <path d=\"M18.56 5.44l.94 2.06.94-2.06 2.06-.94-2.06-.94-.94-2.06-.94 2.06-2.06.94zm-11 1L8.5 8.5l.94-2.06 2.06-.94-2.06-.94L8.5 2.5l-.94 2.06-2.06.94zm10 10l.94 2.06.94-2.06 2.06-.94-2.06-.94-.94-2.06-.94 2.06-2.06.94z\"/><path d=\"M17.41 7.96l-1.37-1.37c-.4-.4-.92-.59-1.43-.59-.52 0-1.04.2-1.43.59L10.3 9.45l-7.72 7.72c-.78.78-.78 2.05 0 2.83L4 21.41c.39.39.9.59 1.41.59.51 0 1.02-.2 1.41-.59l7.78-7.78 2.81-2.81c.8-.78.8-2.07 0-2.86zM5.41 20L4 18.59l7.72-7.72 1.47 1.35L5.41 20z\"/>\n",
              "  </svg>\n",
              "      </button>\n",
              "      \n",
              "  <style>\n",
              "    .colab-df-container {\n",
              "      display:flex;\n",
              "      flex-wrap:wrap;\n",
              "      gap: 12px;\n",
              "    }\n",
              "\n",
              "    .colab-df-convert {\n",
              "      background-color: #E8F0FE;\n",
              "      border: none;\n",
              "      border-radius: 50%;\n",
              "      cursor: pointer;\n",
              "      display: none;\n",
              "      fill: #1967D2;\n",
              "      height: 32px;\n",
              "      padding: 0 0 0 0;\n",
              "      width: 32px;\n",
              "    }\n",
              "\n",
              "    .colab-df-convert:hover {\n",
              "      background-color: #E2EBFA;\n",
              "      box-shadow: 0px 1px 2px rgba(60, 64, 67, 0.3), 0px 1px 3px 1px rgba(60, 64, 67, 0.15);\n",
              "      fill: #174EA6;\n",
              "    }\n",
              "\n",
              "    [theme=dark] .colab-df-convert {\n",
              "      background-color: #3B4455;\n",
              "      fill: #D2E3FC;\n",
              "    }\n",
              "\n",
              "    [theme=dark] .colab-df-convert:hover {\n",
              "      background-color: #434B5C;\n",
              "      box-shadow: 0px 1px 3px 1px rgba(0, 0, 0, 0.15);\n",
              "      filter: drop-shadow(0px 1px 2px rgba(0, 0, 0, 0.3));\n",
              "      fill: #FFFFFF;\n",
              "    }\n",
              "  </style>\n",
              "\n",
              "      <script>\n",
              "        const buttonEl =\n",
              "          document.querySelector('#df-e9d7cd6a-680c-444b-a86f-9d0270371c32 button.colab-df-convert');\n",
              "        buttonEl.style.display =\n",
              "          google.colab.kernel.accessAllowed ? 'block' : 'none';\n",
              "\n",
              "        async function convertToInteractive(key) {\n",
              "          const element = document.querySelector('#df-e9d7cd6a-680c-444b-a86f-9d0270371c32');\n",
              "          const dataTable =\n",
              "            await google.colab.kernel.invokeFunction('convertToInteractive',\n",
              "                                                     [key], {});\n",
              "          if (!dataTable) return;\n",
              "\n",
              "          const docLinkHtml = 'Like what you see? Visit the ' +\n",
              "            '<a target=\"_blank\" href=https://colab.research.google.com/notebooks/data_table.ipynb>data table notebook</a>'\n",
              "            + ' to learn more about interactive tables.';\n",
              "          element.innerHTML = '';\n",
              "          dataTable['output_type'] = 'display_data';\n",
              "          await google.colab.output.renderOutput(dataTable, element);\n",
              "          const docLink = document.createElement('div');\n",
              "          docLink.innerHTML = docLinkHtml;\n",
              "          element.appendChild(docLink);\n",
              "        }\n",
              "      </script>\n",
              "    </div>\n",
              "  </div>\n",
              "  "
            ],
            "text/plain": [
              "            index  country\n",
              "0   United States     2541\n",
              "1           India      927\n",
              "2  United Kingdom      499"
            ]
          },
          "metadata": {},
          "execution_count": 29
        }
      ],
      "source": [
        "#top_two countries where netflix is most popular\n",
        "top_two=df_clean_frame['country'].value_counts().head(3).reset_index()\n",
        "top_two"
      ]
    },
    {
      "cell_type": "code",
      "execution_count": 30,
      "metadata": {
        "id": "tpzpOJ1qtX_T",
        "colab": {
          "base_uri": "https://localhost:8080/",
          "height": 460
        },
        "outputId": "595002d3-facb-4b7d-eb97-4b0d41a1cacc"
      },
      "outputs": [
        {
          "output_type": "execute_result",
          "data": {
            "text/plain": [
              "<matplotlib.axes._subplots.AxesSubplot at 0x7fcac1e01310>"
            ]
          },
          "metadata": {},
          "execution_count": 30
        },
        {
          "output_type": "display_data",
          "data": {
            "image/png": "[encoded data removed]",
            "text/plain": [
              "<Figure size 864x504 with 1 Axes>"
            ]
          },
          "metadata": {
            "image/png": {
              "width": 730,
              "height": 424
            },
            "needs_background": "light"
          }
        }
      ],
      "source": [
        "#Visualising Which are the top two countries using Netfilx\n",
        "plt.figure(figsize=(12,7))\n",
        "sns.barplot(x=top_two['index'],y=top_two['country'])"
      ]
    },
    {
      "cell_type": "markdown",
      "source": [
        "As can be seen in the plot above, the United States and India are the two countries where Netflix is most popular."
      ],
      "metadata": {
        "id": "wl4LZJypaNPH"
      }
    },
    {
      "cell_type": "markdown",
      "metadata": {
        "id": "Vg8xHETJv3wC"
      },
      "source": [
        "__iv) In December 2020, what type of shows has been launched more and explore the highest rating of movie given to that month?__"
      ]
    },
    {
      "cell_type": "code",
      "execution_count": 31,
      "metadata": {
        "id": "faq6oGbU3rlP"
      },
      "outputs": [],
      "source": [
        "#creating two columns year and month in df_clean_frame variable\n",
        "df_clean_frame['year']=pd.DatetimeIndex(df_clean_frame['Date_Added_in_netflix']).year\n",
        "df_clean_frame['month']=pd.DatetimeIndex(df_clean_frame['Date_Added_in_netflix']).month"
      ]
    },
    {
      "cell_type": "code",
      "source": [
        "#creating df_new11 variable\n",
        "df_new11=pd.DataFrame(columns=df_clean_frame.columns)"
      ],
      "metadata": {
        "id": "Uuv69V39DyeZ"
      },
      "execution_count": 32,
      "outputs": []
    },
    {
      "cell_type": "code",
      "execution_count": 33,
      "metadata": {
        "id": "tanzJXQxyxbR"
      },
      "outputs": [],
      "source": [
        "#extracting 12th month and 2020 year from month and year feature \n",
        "indic=0\n",
        "for index,row in df_clean_frame.iterrows():\n",
        "    if (df_clean_frame.loc[index,'month']==12) & (df_clean_frame.loc[index,'year']==2020):\n",
        "      df_new11.loc[indic]=df_clean_frame.loc[index,:]\n",
        "      indic=indic+1"
      ]
    },
    {
      "cell_type": "code",
      "execution_count": 34,
      "metadata": {
        "id": "F5zmMkXtyyKF",
        "colab": {
          "base_uri": "https://localhost:8080/",
          "height": 520
        },
        "outputId": "a2afed1e-a09e-4a04-db8b-ede4cd60062e"
      },
      "outputs": [
        {
          "output_type": "execute_result",
          "data": {
            "text/html": [
              "\n",
              "  <div id=\"df-5f34580b-8370-47c7-9186-c23a3366c34c\">\n",
              "    <div class=\"colab-df-container\">\n",
              "      <div>\n",
              "<style scoped>\n",
              "    .dataframe tbody tr th:only-of-type {\n",
              "        vertical-align: middle;\n",
              "    }\n",
              "\n",
              "    .dataframe tbody tr th {\n",
              "        vertical-align: top;\n",
              "    }\n",
              "\n",
              "    .dataframe thead th {\n",
              "        text-align: right;\n",
              "    }\n",
              "</style>\n",
              "<table border=\"1\" class=\"dataframe\">\n",
              "  <thead>\n",
              "    <tr style=\"text-align: right;\">\n",
              "      <th></th>\n",
              "      <th>Type_of_show</th>\n",
              "      <th>Ratings</th>\n",
              "      <th>count</th>\n",
              "    </tr>\n",
              "  </thead>\n",
              "  <tbody>\n",
              "    <tr>\n",
              "      <th>0</th>\n",
              "      <td>Movie</td>\n",
              "      <td>PG</td>\n",
              "      <td>7</td>\n",
              "    </tr>\n",
              "    <tr>\n",
              "      <th>1</th>\n",
              "      <td>Movie</td>\n",
              "      <td>PG-13</td>\n",
              "      <td>22</td>\n",
              "    </tr>\n",
              "    <tr>\n",
              "      <th>2</th>\n",
              "      <td>Movie</td>\n",
              "      <td>R</td>\n",
              "      <td>20</td>\n",
              "    </tr>\n",
              "    <tr>\n",
              "      <th>3</th>\n",
              "      <td>Movie</td>\n",
              "      <td>TV-14</td>\n",
              "      <td>23</td>\n",
              "    </tr>\n",
              "    <tr>\n",
              "      <th>4</th>\n",
              "      <td>Movie</td>\n",
              "      <td>TV-G</td>\n",
              "      <td>3</td>\n",
              "    </tr>\n",
              "    <tr>\n",
              "      <th>5</th>\n",
              "      <td>Movie</td>\n",
              "      <td>TV-MA</td>\n",
              "      <td>33</td>\n",
              "    </tr>\n",
              "    <tr>\n",
              "      <th>6</th>\n",
              "      <td>Movie</td>\n",
              "      <td>TV-PG</td>\n",
              "      <td>5</td>\n",
              "    </tr>\n",
              "    <tr>\n",
              "      <th>7</th>\n",
              "      <td>Movie</td>\n",
              "      <td>TV-Y</td>\n",
              "      <td>4</td>\n",
              "    </tr>\n",
              "    <tr>\n",
              "      <th>8</th>\n",
              "      <td>Movie</td>\n",
              "      <td>TV-Y7</td>\n",
              "      <td>2</td>\n",
              "    </tr>\n",
              "    <tr>\n",
              "      <th>9</th>\n",
              "      <td>TV Show</td>\n",
              "      <td>TV-14</td>\n",
              "      <td>18</td>\n",
              "    </tr>\n",
              "    <tr>\n",
              "      <th>10</th>\n",
              "      <td>TV Show</td>\n",
              "      <td>TV-G</td>\n",
              "      <td>4</td>\n",
              "    </tr>\n",
              "    <tr>\n",
              "      <th>11</th>\n",
              "      <td>TV Show</td>\n",
              "      <td>TV-MA</td>\n",
              "      <td>20</td>\n",
              "    </tr>\n",
              "    <tr>\n",
              "      <th>12</th>\n",
              "      <td>TV Show</td>\n",
              "      <td>TV-PG</td>\n",
              "      <td>4</td>\n",
              "    </tr>\n",
              "    <tr>\n",
              "      <th>13</th>\n",
              "      <td>TV Show</td>\n",
              "      <td>TV-Y</td>\n",
              "      <td>19</td>\n",
              "    </tr>\n",
              "    <tr>\n",
              "      <th>14</th>\n",
              "      <td>TV Show</td>\n",
              "      <td>TV-Y7</td>\n",
              "      <td>4</td>\n",
              "    </tr>\n",
              "  </tbody>\n",
              "</table>\n",
              "</div>\n",
              "      <button class=\"colab-df-convert\" onclick=\"convertToInteractive('df-5f34580b-8370-47c7-9186-c23a3366c34c')\"\n",
              "              title=\"Convert this dataframe to an interactive table.\"\n",
              "              style=\"display:none;\">\n",
              "        \n",
              "  <svg xmlns=\"http://www.w3.org/2000/svg\" height=\"24px\"viewBox=\"0 0 24 24\"\n",
              "       width=\"24px\">\n",
              "    <path d=\"M0 0h24v24H0V0z\" fill=\"none\"/>\n",
              "    <path d=\"M18.56 5.44l.94 2.06.94-2.06 2.06-.94-2.06-.94-.94-2.06-.94 2.06-2.06.94zm-11 1L8.5 8.5l.94-2.06 2.06-.94-2.06-.94L8.5 2.5l-.94 2.06-2.06.94zm10 10l.94 2.06.94-2.06 2.06-.94-2.06-.94-.94-2.06-.94 2.06-2.06.94z\"/><path d=\"M17.41 7.96l-1.37-1.37c-.4-.4-.92-.59-1.43-.59-.52 0-1.04.2-1.43.59L10.3 9.45l-7.72 7.72c-.78.78-.78 2.05 0 2.83L4 21.41c.39.39.9.59 1.41.59.51 0 1.02-.2 1.41-.59l7.78-7.78 2.81-2.81c.8-.78.8-2.07 0-2.86zM5.41 20L4 18.59l7.72-7.72 1.47 1.35L5.41 20z\"/>\n",
              "  </svg>\n",
              "      </button>\n",
              "      \n",
              "  <style>\n",
              "    .colab-df-container {\n",
              "      display:flex;\n",
              "      flex-wrap:wrap;\n",
              "      gap: 12px;\n",
              "    }\n",
              "\n",
              "    .colab-df-convert {\n",
              "      background-color: #E8F0FE;\n",
              "      border: none;\n",
              "      border-radius: 50%;\n",
              "      cursor: pointer;\n",
              "      display: none;\n",
              "      fill: #1967D2;\n",
              "      height: 32px;\n",
              "      padding: 0 0 0 0;\n",
              "      width: 32px;\n",
              "    }\n",
              "\n",
              "    .colab-df-convert:hover {\n",
              "      background-color: #E2EBFA;\n",
              "      box-shadow: 0px 1px 2px rgba(60, 64, 67, 0.3), 0px 1px 3px 1px rgba(60, 64, 67, 0.15);\n",
              "      fill: #174EA6;\n",
              "    }\n",
              "\n",
              "    [theme=dark] .colab-df-convert {\n",
              "      background-color: #3B4455;\n",
              "      fill: #D2E3FC;\n",
              "    }\n",
              "\n",
              "    [theme=dark] .colab-df-convert:hover {\n",
              "      background-color: #434B5C;\n",
              "      box-shadow: 0px 1px 3px 1px rgba(0, 0, 0, 0.15);\n",
              "      filter: drop-shadow(0px 1px 2px rgba(0, 0, 0, 0.3));\n",
              "      fill: #FFFFFF;\n",
              "    }\n",
              "  </style>\n",
              "\n",
              "      <script>\n",
              "        const buttonEl =\n",
              "          document.querySelector('#df-5f34580b-8370-47c7-9186-c23a3366c34c button.colab-df-convert');\n",
              "        buttonEl.style.display =\n",
              "          google.colab.kernel.accessAllowed ? 'block' : 'none';\n",
              "\n",
              "        async function convertToInteractive(key) {\n",
              "          const element = document.querySelector('#df-5f34580b-8370-47c7-9186-c23a3366c34c');\n",
              "          const dataTable =\n",
              "            await google.colab.kernel.invokeFunction('convertToInteractive',\n",
              "                                                     [key], {});\n",
              "          if (!dataTable) return;\n",
              "\n",
              "          const docLinkHtml = 'Like what you see? Visit the ' +\n",
              "            '<a target=\"_blank\" href=https://colab.research.google.com/notebooks/data_table.ipynb>data table notebook</a>'\n",
              "            + ' to learn more about interactive tables.';\n",
              "          element.innerHTML = '';\n",
              "          dataTable['output_type'] = 'display_data';\n",
              "          await google.colab.output.renderOutput(dataTable, element);\n",
              "          const docLink = document.createElement('div');\n",
              "          docLink.innerHTML = docLinkHtml;\n",
              "          element.appendChild(docLink);\n",
              "        }\n",
              "      </script>\n",
              "    </div>\n",
              "  </div>\n",
              "  "
            ],
            "text/plain": [
              "   Type_of_show Ratings  count\n",
              "0         Movie      PG      7\n",
              "1         Movie   PG-13     22\n",
              "2         Movie       R     20\n",
              "3         Movie   TV-14     23\n",
              "4         Movie    TV-G      3\n",
              "5         Movie   TV-MA     33\n",
              "6         Movie   TV-PG      5\n",
              "7         Movie    TV-Y      4\n",
              "8         Movie   TV-Y7      2\n",
              "9       TV Show   TV-14     18\n",
              "10      TV Show    TV-G      4\n",
              "11      TV Show   TV-MA     20\n",
              "12      TV Show   TV-PG      4\n",
              "13      TV Show    TV-Y     19\n",
              "14      TV Show   TV-Y7      4"
            ]
          },
          "metadata": {},
          "execution_count": 34
        }
      ],
      "source": [
        "#groupby Type_of_show and Ratings\n",
        "ratings_december_2020=df_new11.groupby(['Type_of_show','Ratings'])['country'].count().reset_index().rename(columns={'country':'count'})\n",
        "ratings_december_2020"
      ]
    },
    {
      "cell_type": "code",
      "execution_count": 35,
      "metadata": {
        "id": "nIBVvtp7Dcz6",
        "colab": {
          "base_uri": "https://localhost:8080/",
          "height": 786
        },
        "outputId": "e9437d1e-8bf9-4fe4-cb13-882250a7fd7d"
      },
      "outputs": [
        {
          "output_type": "execute_result",
          "data": {
            "text/plain": [
              "<matplotlib.axes._subplots.AxesSubplot at 0x7fcac4a8e250>"
            ]
          },
          "metadata": {},
          "execution_count": 35
        },
        {
          "output_type": "display_data",
          "data": {
            "image/png": "[encoded data removed]",
            "text/plain": [
              "<Figure size 1296x936 with 1 Axes>"
            ]
          },
          "metadata": {
            "image/png": {
              "width": 1052,
              "height": 751
            },
            "needs_background": "light"
          }
        }
      ],
      "source": [
        "#visualising in December 2020, what type of shows has been launched more and explore the highest rating of movie given to that month\n",
        "plt.figure(figsize=(18,13))\n",
        "sns.barplot(x=ratings_december_2020['Type_of_show'],y=ratings_december_2020['count'],hue=ratings_december_2020['Ratings'])"
      ]
    },
    {
      "cell_type": "markdown",
      "source": [
        "As shown in the plot above, TV-MA ratings in December 2020 are the highest in movies and TV shows, with TV-MA standing for Mature Audience Only. Because this programme is intended for adults, it may not be appropriate for children under the age of 17."
      ],
      "metadata": {
        "id": "z0l59ziZ4Tmb"
      }
    },
    {
      "cell_type": "markdown",
      "metadata": {
        "id": "1qVaHtqUIAt8"
      },
      "source": [
        "# 2. Understanding what type content is available in different countries\n"
      ]
    },
    {
      "cell_type": "code",
      "execution_count": 36,
      "metadata": {
        "id": "hSahXe-LaKJa"
      },
      "outputs": [],
      "source": [
        "#groupby country and Ratings feature\n",
        "content_in_different_countries=df_clean_frame.groupby(['country','Ratings'])['Actors'].count().reset_index()\n",
        "content_in_different_countries.drop('Actors',axis=1,inplace=True)"
      ]
    },
    {
      "cell_type": "code",
      "source": [
        "#visualising what type content is available in different countries\n",
        "(px.bar(content_in_different_countries, x=\"Ratings\",y=\"country\", color=\"country\")\n",
        ".update_layout(title_font_size=200)\n",
        ".update_xaxes(showgrid=True)\n",
        ").show()"
      ],
      "metadata": {
        "id": "guxjMsaBKtVx",
        "colab": {
          "base_uri": "https://localhost:8080/",
          "height": 542
        },
        "outputId": "e7f65ecd-add4-44c1-f3b6-4c94fb416431"
      },
      "execution_count": 37,
      "outputs": [
        {
          "output_type": "display_data",
          "data": {
            "text/html": [
              "<html>\n",
              "<head><meta charset=\"utf-8\" /></head>\n",
              "<body>\n",
              "    <div>            <script src=\"https://cdnjs.cloudflare.com/ajax/libs/mathjax/2.7.5/MathJax.js?config=TeX-AMS-MML_SVG\"></script><script type=\"text/javascript\">if (window.MathJax) {MathJax.Hub.Config({SVG: {font: \"STIX-Web\"}});}</script>                <script type=\"text/javascript\">window.PlotlyConfig = {MathJaxConfig: 'local'};</script>\n",
              "        <script src=\"https://cdn.plot.ly/plotly-2.8.3.min.js\"></script>                <div id=\"4c4c46fb-1c7d-49e8-9a85-0aceaa68dbca\" class=\"plotly-graph-div\" style=\"height:525px; width:100%;\"></div>            <script type=\"text/javascript\">                                    window.PLOTLYENV=window.PLOTLYENV || {};                                    if (document.getElementById(\"4c4c46fb-1c7d-49e8-9a85-0aceaa68dbca\")) {                    Plotly.newPlot(                        \"4c4c46fb-1c7d-49e8-9a85-0aceaa68dbca\",                        [{\"alignmentgroup\":\"True\",\"hovertemplate\":\"country=%{y}<br>Ratings=%{x}<extra></extra>\",\"legendgroup\":\" Afghanistan\",\"marker\":{\"color\":\"#636efa\",\"pattern\":{\"shape\":\"\"}},\"name\":\" Afghanistan\",\"offsetgroup\":\" Afghanistan\",\"orientation\":\"v\",\"showlegend\":true,\"textposition\":\"auto\",\"x\":[\"TV-MA\"],\"xaxis\":\"x\",\"y\":[\" Afghanistan\"],\"yaxis\":\"y\",\"type\":\"bar\"},{\"alignmentgroup\":\"True\",\"hovertemplate\":\"country=%{y}<br>Ratings=%{x}<extra></extra>\",\"legendgroup\":\" Albania\",\"marker\":{\"color\":\"#EF553B\",\"pattern\":{\"shape\":\"\"}},\"name\":\" Albania\",\"offsetgroup\":\" Albania\",\"orientation\":\"v\",\"showlegend\":true,\"textposition\":\"auto\",\"x\":[\"TV-MA\"],\"xaxis\":\"x\",\"y\":[\" Albania\"],\"yaxis\":\"y\",\"type\":\"bar\"},{\"alignmentgroup\":\"True\",\"hovertemplate\":\"country=%{y}<br>Ratings=%{x}<extra></extra>\",\"legendgroup\":\" Algeria\",\"marker\":{\"color\":\"#00cc96\",\"pattern\":{\"shape\":\"\"}},\"name\":\" Algeria\",\"offsetgroup\":\" Algeria\",\"orientation\":\"v\",\"showlegend\":true,\"textposition\":\"auto\",\"x\":[\"TV-MA\"],\"xaxis\":\"x\",\"y\":[\" Algeria\"],\"yaxis\":\"y\",\"type\":\"bar\"},{\"alignmentgroup\":\"True\",\"hovertemplate\":\"country=%{y}<br>Ratings=%{x}<extra></extra>\",\"legendgroup\":\" Angola\",\"marker\":{\"color\":\"#ab63fa\",\"pattern\":{\"shape\":\"\"}},\"name\":\" Angola\",\"offsetgroup\":\" Angola\",\"orientation\":\"v\",\"showlegend\":true,\"textposition\":\"auto\",\"x\":[\"TV-MA\"],\"xaxis\":\"x\",\"y\":[\" Angola\"],\"yaxis\":\"y\",\"type\":\"bar\"},{\"alignmentgroup\":\"True\",\"hovertemplate\":\"country=%{y}<br>Ratings=%{x}<extra></extra>\",\"legendgroup\":\" Argentina\",\"marker\":{\"color\":\"#FFA15A\",\"pattern\":{\"shape\":\"\"}},\"name\":\" Argentina\",\"offsetgroup\":\" Argentina\",\"orientation\":\"v\",\"showlegend\":true,\"textposition\":\"auto\",\"x\":[\"G\",\"R\",\"TV-MA\"],\"xaxis\":\"x\",\"y\":[\" Argentina\",\" Argentina\",\" Argentina\"],\"yaxis\":\"y\",\"type\":\"bar\"},{\"alignmentgroup\":\"True\",\"hovertemplate\":\"country=%{y}<br>Ratings=%{x}<extra></extra>\",\"legendgroup\":\" Australia\",\"marker\":{\"color\":\"#19d3f3\",\"pattern\":{\"shape\":\"\"}},\"name\":\" Australia\",\"offsetgroup\":\" Australia\",\"orientation\":\"v\",\"showlegend\":true,\"textposition\":\"auto\",\"x\":[\"NR\",\"PG\",\"PG-13\",\"R\",\"TV-14\",\"TV-MA\",\"TV-PG\",\"TV-Y7\"],\"xaxis\":\"x\",\"y\":[\" Australia\",\" Australia\",\" Australia\",\" Australia\",\" Australia\",\" Australia\",\" Australia\",\" Australia\"],\"yaxis\":\"y\",\"type\":\"bar\"},{\"alignmentgroup\":\"True\",\"hovertemplate\":\"country=%{y}<br>Ratings=%{x}<extra></extra>\",\"legendgroup\":\" Austria\",\"marker\":{\"color\":\"#FF6692\",\"pattern\":{\"shape\":\"\"}},\"name\":\" Austria\",\"offsetgroup\":\" Austria\",\"orientation\":\"v\",\"showlegend\":true,\"textposition\":\"auto\",\"x\":[\"TV-14\",\"TV-PG\"],\"xaxis\":\"x\",\"y\":[\" Austria\",\" Austria\"],\"yaxis\":\"y\",\"type\":\"bar\"},{\"alignmentgroup\":\"True\",\"hovertemplate\":\"country=%{y}<br>Ratings=%{x}<extra></extra>\",\"legendgroup\":\" Azerbaijan\",\"marker\":{\"color\":\"#B6E880\",\"pattern\":{\"shape\":\"\"}},\"name\":\" Azerbaijan\",\"offsetgroup\":\" Azerbaijan\",\"orientation\":\"v\",\"showlegend\":true,\"textposition\":\"auto\",\"x\":[\"TV-14\"],\"xaxis\":\"x\",\"y\":[\" Azerbaijan\"],\"yaxis\":\"y\",\"type\":\"bar\"},{\"alignmentgroup\":\"True\",\"hovertemplate\":\"country=%{y}<br>Ratings=%{x}<extra></extra>\",\"legendgroup\":\" Bahamas\",\"marker\":{\"color\":\"#FF97FF\",\"pattern\":{\"shape\":\"\"}},\"name\":\" Bahamas\",\"offsetgroup\":\" Bahamas\",\"orientation\":\"v\",\"showlegend\":true,\"textposition\":\"auto\",\"x\":[\"PG-13\"],\"xaxis\":\"x\",\"y\":[\" Bahamas\"],\"yaxis\":\"y\",\"type\":\"bar\"},{\"alignmentgroup\":\"True\",\"hovertemplate\":\"country=%{y}<br>Ratings=%{x}<extra></extra>\",\"legendgroup\":\" Bangladesh\",\"marker\":{\"color\":\"#FECB52\",\"pattern\":{\"shape\":\"\"}},\"name\":\" Bangladesh\",\"offsetgroup\":\" Bangladesh\",\"orientation\":\"v\",\"showlegend\":true,\"textposition\":\"auto\",\"x\":[\"NR\"],\"xaxis\":\"x\",\"y\":[\" Bangladesh\"],\"yaxis\":\"y\",\"type\":\"bar\"},{\"alignmentgroup\":\"True\",\"hovertemplate\":\"country=%{y}<br>Ratings=%{x}<extra></extra>\",\"legendgroup\":\" Belgium\",\"marker\":{\"color\":\"#636efa\",\"pattern\":{\"shape\":\"\"}},\"name\":\" Belgium\",\"offsetgroup\":\" Belgium\",\"orientation\":\"v\",\"showlegend\":true,\"textposition\":\"auto\",\"x\":[\"G\",\"NC-17\",\"NR\",\"PG\",\"PG-13\",\"R\",\"TV-14\",\"TV-MA\",\"TV-PG\",\"TV-Y\",\"TV-Y7\"],\"xaxis\":\"x\",\"y\":[\" Belgium\",\" Belgium\",\" Belgium\",\" Belgium\",\" Belgium\",\" Belgium\",\" Belgium\",\" Belgium\",\" Belgium\",\" Belgium\",\" Belgium\"],\"yaxis\":\"y\",\"type\":\"bar\"},{\"alignmentgroup\":\"True\",\"hovertemplate\":\"country=%{y}<br>Ratings=%{x}<extra></extra>\",\"legendgroup\":\" Bermuda\",\"marker\":{\"color\":\"#EF553B\",\"pattern\":{\"shape\":\"\"}},\"name\":\" Bermuda\",\"offsetgroup\":\" Bermuda\",\"orientation\":\"v\",\"showlegend\":true,\"textposition\":\"auto\",\"x\":[\"TV-PG\"],\"xaxis\":\"x\",\"y\":[\" Bermuda\"],\"yaxis\":\"y\",\"type\":\"bar\"},{\"alignmentgroup\":\"True\",\"hovertemplate\":\"country=%{y}<br>Ratings=%{x}<extra></extra>\",\"legendgroup\":\" Brazil\",\"marker\":{\"color\":\"#00cc96\",\"pattern\":{\"shape\":\"\"}},\"name\":\" Brazil\",\"offsetgroup\":\" Brazil\",\"orientation\":\"v\",\"showlegend\":true,\"textposition\":\"auto\",\"x\":[\"PG\",\"R\",\"TV-14\",\"TV-MA\",\"TV-PG\",\"TV-Y7\"],\"xaxis\":\"x\",\"y\":[\" Brazil\",\" Brazil\",\" Brazil\",\" Brazil\",\" Brazil\",\" Brazil\"],\"yaxis\":\"y\",\"type\":\"bar\"},{\"alignmentgroup\":\"True\",\"hovertemplate\":\"country=%{y}<br>Ratings=%{x}<extra></extra>\",\"legendgroup\":\" Bulgaria\",\"marker\":{\"color\":\"#ab63fa\",\"pattern\":{\"shape\":\"\"}},\"name\":\" Bulgaria\",\"offsetgroup\":\" Bulgaria\",\"orientation\":\"v\",\"showlegend\":true,\"textposition\":\"auto\",\"x\":[\"R\",\"TV-MA\",\"TV-PG\"],\"xaxis\":\"x\",\"y\":[\" Bulgaria\",\" Bulgaria\",\" Bulgaria\"],\"yaxis\":\"y\",\"type\":\"bar\"},{\"alignmentgroup\":\"True\",\"hovertemplate\":\"country=%{y}<br>Ratings=%{x}<extra></extra>\",\"legendgroup\":\" Cambodia\",\"marker\":{\"color\":\"#FFA15A\",\"pattern\":{\"shape\":\"\"}},\"name\":\" Cambodia\",\"offsetgroup\":\" Cambodia\",\"orientation\":\"v\",\"showlegend\":true,\"textposition\":\"auto\",\"x\":[\"PG\",\"PG-13\",\"TV-14\"],\"xaxis\":\"x\",\"y\":[\" Cambodia\",\" Cambodia\",\" Cambodia\"],\"yaxis\":\"y\",\"type\":\"bar\"},{\"alignmentgroup\":\"True\",\"hovertemplate\":\"country=%{y}<br>Ratings=%{x}<extra></extra>\",\"legendgroup\":\" Canada\",\"marker\":{\"color\":\"#19d3f3\",\"pattern\":{\"shape\":\"\"}},\"name\":\" Canada\",\"offsetgroup\":\" Canada\",\"orientation\":\"v\",\"showlegend\":true,\"textposition\":\"auto\",\"x\":[\"NR\",\"PG\",\"PG-13\",\"R\",\"TV-14\",\"TV-G\",\"TV-MA\",\"TV-PG\",\"TV-Y\",\"TV-Y7\",\"UR\"],\"xaxis\":\"x\",\"y\":[\" Canada\",\" Canada\",\" Canada\",\" Canada\",\" Canada\",\" Canada\",\" Canada\",\" Canada\",\" Canada\",\" Canada\",\" Canada\"],\"yaxis\":\"y\",\"type\":\"bar\"},{\"alignmentgroup\":\"True\",\"hovertemplate\":\"country=%{y}<br>Ratings=%{x}<extra></extra>\",\"legendgroup\":\" Cayman Islands\",\"marker\":{\"color\":\"#FF6692\",\"pattern\":{\"shape\":\"\"}},\"name\":\" Cayman Islands\",\"offsetgroup\":\" Cayman Islands\",\"orientation\":\"v\",\"showlegend\":true,\"textposition\":\"auto\",\"x\":[\"PG\",\"TV-Y7\"],\"xaxis\":\"x\",\"y\":[\" Cayman Islands\",\" Cayman Islands\"],\"yaxis\":\"y\",\"type\":\"bar\"},{\"alignmentgroup\":\"True\",\"hovertemplate\":\"country=%{y}<br>Ratings=%{x}<extra></extra>\",\"legendgroup\":\" Chile\",\"marker\":{\"color\":\"#B6E880\",\"pattern\":{\"shape\":\"\"}},\"name\":\" Chile\",\"offsetgroup\":\" Chile\",\"orientation\":\"v\",\"showlegend\":true,\"textposition\":\"auto\",\"x\":[\"R\",\"TV-14\",\"TV-MA\"],\"xaxis\":\"x\",\"y\":[\" Chile\",\" Chile\",\" Chile\"],\"yaxis\":\"y\",\"type\":\"bar\"},{\"alignmentgroup\":\"True\",\"hovertemplate\":\"country=%{y}<br>Ratings=%{x}<extra></extra>\",\"legendgroup\":\" China\",\"marker\":{\"color\":\"#FF97FF\",\"pattern\":{\"shape\":\"\"}},\"name\":\" China\",\"offsetgroup\":\" China\",\"orientation\":\"v\",\"showlegend\":true,\"textposition\":\"auto\",\"x\":[\"G\",\"PG\",\"PG-13\",\"R\",\"TV-14\",\"TV-MA\",\"TV-PG\",\"TV-Y\",\"TV-Y7\"],\"xaxis\":\"x\",\"y\":[\" China\",\" China\",\" China\",\" China\",\" China\",\" China\",\" China\",\" China\",\" China\"],\"yaxis\":\"y\",\"type\":\"bar\"},{\"alignmentgroup\":\"True\",\"hovertemplate\":\"country=%{y}<br>Ratings=%{x}<extra></extra>\",\"legendgroup\":\" Colombia\",\"marker\":{\"color\":\"#FECB52\",\"pattern\":{\"shape\":\"\"}},\"name\":\" Colombia\",\"offsetgroup\":\" Colombia\",\"orientation\":\"v\",\"showlegend\":true,\"textposition\":\"auto\",\"x\":[\"R\",\"TV-14\",\"TV-MA\",\"TV-PG\"],\"xaxis\":\"x\",\"y\":[\" Colombia\",\" Colombia\",\" Colombia\",\" Colombia\"],\"yaxis\":\"y\",\"type\":\"bar\"},{\"alignmentgroup\":\"True\",\"hovertemplate\":\"country=%{y}<br>Ratings=%{x}<extra></extra>\",\"legendgroup\":\" Croatia\",\"marker\":{\"color\":\"#636efa\",\"pattern\":{\"shape\":\"\"}},\"name\":\" Croatia\",\"offsetgroup\":\" Croatia\",\"orientation\":\"v\",\"showlegend\":true,\"textposition\":\"auto\",\"x\":[\"PG-13\",\"TV-14\"],\"xaxis\":\"x\",\"y\":[\" Croatia\",\" Croatia\"],\"yaxis\":\"y\",\"type\":\"bar\"},{\"alignmentgroup\":\"True\",\"hovertemplate\":\"country=%{y}<br>Ratings=%{x}<extra></extra>\",\"legendgroup\":\" Cuba\",\"marker\":{\"color\":\"#EF553B\",\"pattern\":{\"shape\":\"\"}},\"name\":\" Cuba\",\"offsetgroup\":\" Cuba\",\"orientation\":\"v\",\"showlegend\":true,\"textposition\":\"auto\",\"x\":[\"TV-MA\"],\"xaxis\":\"x\",\"y\":[\" Cuba\"],\"yaxis\":\"y\",\"type\":\"bar\"},{\"alignmentgroup\":\"True\",\"hovertemplate\":\"country=%{y}<br>Ratings=%{x}<extra></extra>\",\"legendgroup\":\" Czech Republic\",\"marker\":{\"color\":\"#00cc96\",\"pattern\":{\"shape\":\"\"}},\"name\":\" Czech Republic\",\"offsetgroup\":\" Czech Republic\",\"orientation\":\"v\",\"showlegend\":true,\"textposition\":\"auto\",\"x\":[\"PG\",\"PG-13\",\"R\",\"TV-14\",\"TV-MA\",\"TV-PG\"],\"xaxis\":\"x\",\"y\":[\" Czech Republic\",\" Czech Republic\",\" Czech Republic\",\" Czech Republic\",\" Czech Republic\",\" Czech Republic\"],\"yaxis\":\"y\",\"type\":\"bar\"},{\"alignmentgroup\":\"True\",\"hovertemplate\":\"country=%{y}<br>Ratings=%{x}<extra></extra>\",\"legendgroup\":\" Denmark\",\"marker\":{\"color\":\"#ab63fa\",\"pattern\":{\"shape\":\"\"}},\"name\":\" Denmark\",\"offsetgroup\":\" Denmark\",\"orientation\":\"v\",\"showlegend\":true,\"textposition\":\"auto\",\"x\":[\"PG-13\",\"R\",\"TV-14\",\"TV-G\",\"TV-MA\",\"TV-PG\"],\"xaxis\":\"x\",\"y\":[\" Denmark\",\" Denmark\",\" Denmark\",\" Denmark\",\" Denmark\",\" Denmark\"],\"yaxis\":\"y\",\"type\":\"bar\"},{\"alignmentgroup\":\"True\",\"hovertemplate\":\"country=%{y}<br>Ratings=%{x}<extra></extra>\",\"legendgroup\":\" Dominican Republic\",\"marker\":{\"color\":\"#FFA15A\",\"pattern\":{\"shape\":\"\"}},\"name\":\" Dominican Republic\",\"offsetgroup\":\" Dominican Republic\",\"orientation\":\"v\",\"showlegend\":true,\"textposition\":\"auto\",\"x\":[\"PG-13\"],\"xaxis\":\"x\",\"y\":[\" Dominican Republic\"],\"yaxis\":\"y\",\"type\":\"bar\"},{\"alignmentgroup\":\"True\",\"hovertemplate\":\"country=%{y}<br>Ratings=%{x}<extra></extra>\",\"legendgroup\":\" East Germany\",\"marker\":{\"color\":\"#19d3f3\",\"pattern\":{\"shape\":\"\"}},\"name\":\" East Germany\",\"offsetgroup\":\" East Germany\",\"orientation\":\"v\",\"showlegend\":true,\"textposition\":\"auto\",\"x\":[\"G\"],\"xaxis\":\"x\",\"y\":[\" East Germany\"],\"yaxis\":\"y\",\"type\":\"bar\"},{\"alignmentgroup\":\"True\",\"hovertemplate\":\"country=%{y}<br>Ratings=%{x}<extra></extra>\",\"legendgroup\":\" Ecuador\",\"marker\":{\"color\":\"#FF6692\",\"pattern\":{\"shape\":\"\"}},\"name\":\" Ecuador\",\"offsetgroup\":\" Ecuador\",\"orientation\":\"v\",\"showlegend\":true,\"textposition\":\"auto\",\"x\":[\"TV-PG\"],\"xaxis\":\"x\",\"y\":[\" Ecuador\"],\"yaxis\":\"y\",\"type\":\"bar\"},{\"alignmentgroup\":\"True\",\"hovertemplate\":\"country=%{y}<br>Ratings=%{x}<extra></extra>\",\"legendgroup\":\" Egypt\",\"marker\":{\"color\":\"#B6E880\",\"pattern\":{\"shape\":\"\"}},\"name\":\" Egypt\",\"offsetgroup\":\" Egypt\",\"orientation\":\"v\",\"showlegend\":true,\"textposition\":\"auto\",\"x\":[\"TV-14\",\"TV-MA\"],\"xaxis\":\"x\",\"y\":[\" Egypt\",\" Egypt\"],\"yaxis\":\"y\",\"type\":\"bar\"},{\"alignmentgroup\":\"True\",\"hovertemplate\":\"country=%{y}<br>Ratings=%{x}<extra></extra>\",\"legendgroup\":\" Finland\",\"marker\":{\"color\":\"#FF97FF\",\"pattern\":{\"shape\":\"\"}},\"name\":\" Finland\",\"offsetgroup\":\" Finland\",\"orientation\":\"v\",\"showlegend\":true,\"textposition\":\"auto\",\"x\":[\"PG-13\",\"TV-MA\",\"TV-Y\"],\"xaxis\":\"x\",\"y\":[\" Finland\",\" Finland\",\" Finland\"],\"yaxis\":\"y\",\"type\":\"bar\"},{\"alignmentgroup\":\"True\",\"hovertemplate\":\"country=%{y}<br>Ratings=%{x}<extra></extra>\",\"legendgroup\":\" France\",\"marker\":{\"color\":\"#FECB52\",\"pattern\":{\"shape\":\"\"}},\"name\":\" France\",\"offsetgroup\":\" France\",\"orientation\":\"v\",\"showlegend\":true,\"textposition\":\"auto\",\"x\":[\"G\",\"NR\",\"PG\",\"PG-13\",\"R\",\"TV-14\",\"TV-G\",\"TV-MA\",\"TV-PG\",\"TV-Y\",\"TV-Y7\",\"UR\"],\"xaxis\":\"x\",\"y\":[\" France\",\" France\",\" France\",\" France\",\" France\",\" France\",\" France\",\" France\",\" France\",\" France\",\" France\",\" France\"],\"yaxis\":\"y\",\"type\":\"bar\"},{\"alignmentgroup\":\"True\",\"hovertemplate\":\"country=%{y}<br>Ratings=%{x}<extra></extra>\",\"legendgroup\":\" Germany\",\"marker\":{\"color\":\"#636efa\",\"pattern\":{\"shape\":\"\"}},\"name\":\" Germany\",\"offsetgroup\":\" Germany\",\"orientation\":\"v\",\"showlegend\":true,\"textposition\":\"auto\",\"x\":[\"NR\",\"PG\",\"PG-13\",\"R\",\"TV-14\",\"TV-G\",\"TV-MA\",\"TV-PG\",\"TV-Y\",\"TV-Y7\"],\"xaxis\":\"x\",\"y\":[\" Germany\",\" Germany\",\" Germany\",\" Germany\",\" Germany\",\" Germany\",\" Germany\",\" Germany\",\" Germany\",\" Germany\"],\"yaxis\":\"y\",\"type\":\"bar\"},{\"alignmentgroup\":\"True\",\"hovertemplate\":\"country=%{y}<br>Ratings=%{x}<extra></extra>\",\"legendgroup\":\" Greece\",\"marker\":{\"color\":\"#EF553B\",\"pattern\":{\"shape\":\"\"}},\"name\":\" Greece\",\"offsetgroup\":\" Greece\",\"orientation\":\"v\",\"showlegend\":true,\"textposition\":\"auto\",\"x\":[\"PG\",\"PG-13\",\"R\",\"TV-14\",\"TV-PG\"],\"xaxis\":\"x\",\"y\":[\" Greece\",\" Greece\",\" Greece\",\" Greece\",\" Greece\"],\"yaxis\":\"y\",\"type\":\"bar\"},{\"alignmentgroup\":\"True\",\"hovertemplate\":\"country=%{y}<br>Ratings=%{x}<extra></extra>\",\"legendgroup\":\" Guatemala\",\"marker\":{\"color\":\"#00cc96\",\"pattern\":{\"shape\":\"\"}},\"name\":\" Guatemala\",\"offsetgroup\":\" Guatemala\",\"orientation\":\"v\",\"showlegend\":true,\"textposition\":\"auto\",\"x\":[\"TV-G\"],\"xaxis\":\"x\",\"y\":[\" Guatemala\"],\"yaxis\":\"y\",\"type\":\"bar\"},{\"alignmentgroup\":\"True\",\"hovertemplate\":\"country=%{y}<br>Ratings=%{x}<extra></extra>\",\"legendgroup\":\" Hong Kong\",\"marker\":{\"color\":\"#ab63fa\",\"pattern\":{\"shape\":\"\"}},\"name\":\" Hong Kong\",\"offsetgroup\":\" Hong Kong\",\"orientation\":\"v\",\"showlegend\":true,\"textposition\":\"auto\",\"x\":[\"NR\",\"PG\",\"PG-13\",\"R\",\"TV-14\",\"TV-MA\"],\"xaxis\":\"x\",\"y\":[\" Hong Kong\",\" Hong Kong\",\" Hong Kong\",\" Hong Kong\",\" Hong Kong\",\" Hong Kong\"],\"yaxis\":\"y\",\"type\":\"bar\"},{\"alignmentgroup\":\"True\",\"hovertemplate\":\"country=%{y}<br>Ratings=%{x}<extra></extra>\",\"legendgroup\":\" Hungary\",\"marker\":{\"color\":\"#FFA15A\",\"pattern\":{\"shape\":\"\"}},\"name\":\" Hungary\",\"offsetgroup\":\" Hungary\",\"orientation\":\"v\",\"showlegend\":true,\"textposition\":\"auto\",\"x\":[\"R\",\"TV-14\",\"TV-MA\"],\"xaxis\":\"x\",\"y\":[\" Hungary\",\" Hungary\",\" Hungary\"],\"yaxis\":\"y\",\"type\":\"bar\"},{\"alignmentgroup\":\"True\",\"hovertemplate\":\"country=%{y}<br>Ratings=%{x}<extra></extra>\",\"legendgroup\":\" Iceland\",\"marker\":{\"color\":\"#19d3f3\",\"pattern\":{\"shape\":\"\"}},\"name\":\" Iceland\",\"offsetgroup\":\" Iceland\",\"orientation\":\"v\",\"showlegend\":true,\"textposition\":\"auto\",\"x\":[\"PG-13\",\"R\",\"TV-14\"],\"xaxis\":\"x\",\"y\":[\" Iceland\",\" Iceland\",\" Iceland\"],\"yaxis\":\"y\",\"type\":\"bar\"},{\"alignmentgroup\":\"True\",\"hovertemplate\":\"country=%{y}<br>Ratings=%{x}<extra></extra>\",\"legendgroup\":\" India\",\"marker\":{\"color\":\"#FF6692\",\"pattern\":{\"shape\":\"\"}},\"name\":\" India\",\"offsetgroup\":\" India\",\"orientation\":\"v\",\"showlegend\":true,\"textposition\":\"auto\",\"x\":[\"NR\",\"PG\",\"PG-13\",\"R\",\"TV-14\",\"TV-MA\",\"TV-PG\",\"TV-Y\",\"TV-Y7\"],\"xaxis\":\"x\",\"y\":[\" India\",\" India\",\" India\",\" India\",\" India\",\" India\",\" India\",\" India\",\" India\"],\"yaxis\":\"y\",\"type\":\"bar\"},{\"alignmentgroup\":\"True\",\"hovertemplate\":\"country=%{y}<br>Ratings=%{x}<extra></extra>\",\"legendgroup\":\" Indonesia\",\"marker\":{\"color\":\"#B6E880\",\"pattern\":{\"shape\":\"\"}},\"name\":\" Indonesia\",\"offsetgroup\":\" Indonesia\",\"orientation\":\"v\",\"showlegend\":true,\"textposition\":\"auto\",\"x\":[\"PG-13\",\"R\",\"TV-Y7\"],\"xaxis\":\"x\",\"y\":[\" Indonesia\",\" Indonesia\",\" Indonesia\"],\"yaxis\":\"y\",\"type\":\"bar\"},{\"alignmentgroup\":\"True\",\"hovertemplate\":\"country=%{y}<br>Ratings=%{x}<extra></extra>\",\"legendgroup\":\" Iran\",\"marker\":{\"color\":\"#FF97FF\",\"pattern\":{\"shape\":\"\"}},\"name\":\" Iran\",\"offsetgroup\":\" Iran\",\"orientation\":\"v\",\"showlegend\":true,\"textposition\":\"auto\",\"x\":[\"PG-13\",\"R\",\"TV-14\"],\"xaxis\":\"x\",\"y\":[\" Iran\",\" Iran\",\" Iran\"],\"yaxis\":\"y\",\"type\":\"bar\"},{\"alignmentgroup\":\"True\",\"hovertemplate\":\"country=%{y}<br>Ratings=%{x}<extra></extra>\",\"legendgroup\":\" Iraq\",\"marker\":{\"color\":\"#FECB52\",\"pattern\":{\"shape\":\"\"}},\"name\":\" Iraq\",\"offsetgroup\":\" Iraq\",\"orientation\":\"v\",\"showlegend\":true,\"textposition\":\"auto\",\"x\":[\"TV-MA\"],\"xaxis\":\"x\",\"y\":[\" Iraq\"],\"yaxis\":\"y\",\"type\":\"bar\"},{\"alignmentgroup\":\"True\",\"hovertemplate\":\"country=%{y}<br>Ratings=%{x}<extra></extra>\",\"legendgroup\":\" Ireland\",\"marker\":{\"color\":\"#636efa\",\"pattern\":{\"shape\":\"\"}},\"name\":\" Ireland\",\"offsetgroup\":\" Ireland\",\"orientation\":\"v\",\"showlegend\":true,\"textposition\":\"auto\",\"x\":[\"PG\",\"PG-13\",\"TV-G\",\"TV-MA\",\"TV-PG\",\"TV-Y\"],\"xaxis\":\"x\",\"y\":[\" Ireland\",\" Ireland\",\" Ireland\",\" Ireland\",\" Ireland\",\" Ireland\"],\"yaxis\":\"y\",\"type\":\"bar\"},{\"alignmentgroup\":\"True\",\"hovertemplate\":\"country=%{y}<br>Ratings=%{x}<extra></extra>\",\"legendgroup\":\" Israel\",\"marker\":{\"color\":\"#EF553B\",\"pattern\":{\"shape\":\"\"}},\"name\":\" Israel\",\"offsetgroup\":\" Israel\",\"orientation\":\"v\",\"showlegend\":true,\"textposition\":\"auto\",\"x\":[\"R\",\"TV-14\",\"TV-MA\"],\"xaxis\":\"x\",\"y\":[\" Israel\",\" Israel\",\" Israel\"],\"yaxis\":\"y\",\"type\":\"bar\"},{\"alignmentgroup\":\"True\",\"hovertemplate\":\"country=%{y}<br>Ratings=%{x}<extra></extra>\",\"legendgroup\":\" Italy\",\"marker\":{\"color\":\"#00cc96\",\"pattern\":{\"shape\":\"\"}},\"name\":\" Italy\",\"offsetgroup\":\" Italy\",\"orientation\":\"v\",\"showlegend\":true,\"textposition\":\"auto\",\"x\":[\"G\",\"PG\",\"PG-13\",\"R\",\"TV-14\",\"TV-MA\",\"TV-Y\",\"TV-Y7\",\"TV-Y7-FV\"],\"xaxis\":\"x\",\"y\":[\" Italy\",\" Italy\",\" Italy\",\" Italy\",\" Italy\",\" Italy\",\" Italy\",\" Italy\",\" Italy\"],\"yaxis\":\"y\",\"type\":\"bar\"},{\"alignmentgroup\":\"True\",\"hovertemplate\":\"country=%{y}<br>Ratings=%{x}<extra></extra>\",\"legendgroup\":\" Japan\",\"marker\":{\"color\":\"#ab63fa\",\"pattern\":{\"shape\":\"\"}},\"name\":\" Japan\",\"offsetgroup\":\" Japan\",\"orientation\":\"v\",\"showlegend\":true,\"textposition\":\"auto\",\"x\":[\"G\",\"PG\",\"PG-13\",\"R\",\"TV-14\",\"TV-G\",\"TV-MA\",\"TV-PG\",\"TV-Y7\"],\"xaxis\":\"x\",\"y\":[\" Japan\",\" Japan\",\" Japan\",\" Japan\",\" Japan\",\" Japan\",\" Japan\",\" Japan\",\" Japan\"],\"yaxis\":\"y\",\"type\":\"bar\"},{\"alignmentgroup\":\"True\",\"hovertemplate\":\"country=%{y}<br>Ratings=%{x}<extra></extra>\",\"legendgroup\":\" Jordan\",\"marker\":{\"color\":\"#FFA15A\",\"pattern\":{\"shape\":\"\"}},\"name\":\" Jordan\",\"offsetgroup\":\" Jordan\",\"orientation\":\"v\",\"showlegend\":true,\"textposition\":\"auto\",\"x\":[\"PG\",\"PG-13\",\"TV-14\",\"TV-MA\"],\"xaxis\":\"x\",\"y\":[\" Jordan\",\" Jordan\",\" Jordan\",\" Jordan\"],\"yaxis\":\"y\",\"type\":\"bar\"},{\"alignmentgroup\":\"True\",\"hovertemplate\":\"country=%{y}<br>Ratings=%{x}<extra></extra>\",\"legendgroup\":\" Kenya\",\"marker\":{\"color\":\"#19d3f3\",\"pattern\":{\"shape\":\"\"}},\"name\":\" Kenya\",\"offsetgroup\":\" Kenya\",\"orientation\":\"v\",\"showlegend\":true,\"textposition\":\"auto\",\"x\":[\"R\",\"TV-MA\"],\"xaxis\":\"x\",\"y\":[\" Kenya\",\" Kenya\"],\"yaxis\":\"y\",\"type\":\"bar\"},{\"alignmentgroup\":\"True\",\"hovertemplate\":\"country=%{y}<br>Ratings=%{x}<extra></extra>\",\"legendgroup\":\" Kuwait\",\"marker\":{\"color\":\"#FF6692\",\"pattern\":{\"shape\":\"\"}},\"name\":\" Kuwait\",\"offsetgroup\":\" Kuwait\",\"orientation\":\"v\",\"showlegend\":true,\"textposition\":\"auto\",\"x\":[\"TV-14\"],\"xaxis\":\"x\",\"y\":[\" Kuwait\"],\"yaxis\":\"y\",\"type\":\"bar\"},{\"alignmentgroup\":\"True\",\"hovertemplate\":\"country=%{y}<br>Ratings=%{x}<extra></extra>\",\"legendgroup\":\" Latvia\",\"marker\":{\"color\":\"#B6E880\",\"pattern\":{\"shape\":\"\"}},\"name\":\" Latvia\",\"offsetgroup\":\" Latvia\",\"orientation\":\"v\",\"showlegend\":true,\"textposition\":\"auto\",\"x\":[\"TV-MA\"],\"xaxis\":\"x\",\"y\":[\" Latvia\"],\"yaxis\":\"y\",\"type\":\"bar\"},{\"alignmentgroup\":\"True\",\"hovertemplate\":\"country=%{y}<br>Ratings=%{x}<extra></extra>\",\"legendgroup\":\" Lebanon\",\"marker\":{\"color\":\"#FF97FF\",\"pattern\":{\"shape\":\"\"}},\"name\":\" Lebanon\",\"offsetgroup\":\" Lebanon\",\"orientation\":\"v\",\"showlegend\":true,\"textposition\":\"auto\",\"x\":[\"PG\",\"TV-14\",\"TV-MA\"],\"xaxis\":\"x\",\"y\":[\" Lebanon\",\" Lebanon\",\" Lebanon\"],\"yaxis\":\"y\",\"type\":\"bar\"},{\"alignmentgroup\":\"True\",\"hovertemplate\":\"country=%{y}<br>Ratings=%{x}<extra></extra>\",\"legendgroup\":\" Liechtenstein\",\"marker\":{\"color\":\"#FECB52\",\"pattern\":{\"shape\":\"\"}},\"name\":\" Liechtenstein\",\"offsetgroup\":\" Liechtenstein\",\"orientation\":\"v\",\"showlegend\":true,\"textposition\":\"auto\",\"x\":[\"PG-13\"],\"xaxis\":\"x\",\"y\":[\" Liechtenstein\"],\"yaxis\":\"y\",\"type\":\"bar\"},{\"alignmentgroup\":\"True\",\"hovertemplate\":\"country=%{y}<br>Ratings=%{x}<extra></extra>\",\"legendgroup\":\" Lithuania\",\"marker\":{\"color\":\"#636efa\",\"pattern\":{\"shape\":\"\"}},\"name\":\" Lithuania\",\"offsetgroup\":\" Lithuania\",\"orientation\":\"v\",\"showlegend\":true,\"textposition\":\"auto\",\"x\":[\"TV-MA\"],\"xaxis\":\"x\",\"y\":[\" Lithuania\"],\"yaxis\":\"y\",\"type\":\"bar\"},{\"alignmentgroup\":\"True\",\"hovertemplate\":\"country=%{y}<br>Ratings=%{x}<extra></extra>\",\"legendgroup\":\" Luxembourg\",\"marker\":{\"color\":\"#EF553B\",\"pattern\":{\"shape\":\"\"}},\"name\":\" Luxembourg\",\"offsetgroup\":\" Luxembourg\",\"orientation\":\"v\",\"showlegend\":true,\"textposition\":\"auto\",\"x\":[\"PG\",\"PG-13\",\"R\",\"TV-14\",\"TV-MA\",\"TV-PG\",\"TV-Y7\"],\"xaxis\":\"x\",\"y\":[\" Luxembourg\",\" Luxembourg\",\" Luxembourg\",\" Luxembourg\",\" Luxembourg\",\" Luxembourg\",\" Luxembourg\"],\"yaxis\":\"y\",\"type\":\"bar\"},{\"alignmentgroup\":\"True\",\"hovertemplate\":\"country=%{y}<br>Ratings=%{x}<extra></extra>\",\"legendgroup\":\" Malawi\",\"marker\":{\"color\":\"#00cc96\",\"pattern\":{\"shape\":\"\"}},\"name\":\" Malawi\",\"offsetgroup\":\" Malawi\",\"orientation\":\"v\",\"showlegend\":true,\"textposition\":\"auto\",\"x\":[\"TV-PG\"],\"xaxis\":\"x\",\"y\":[\" Malawi\"],\"yaxis\":\"y\",\"type\":\"bar\"},{\"alignmentgroup\":\"True\",\"hovertemplate\":\"country=%{y}<br>Ratings=%{x}<extra></extra>\",\"legendgroup\":\" Malaysia\",\"marker\":{\"color\":\"#ab63fa\",\"pattern\":{\"shape\":\"\"}},\"name\":\" Malaysia\",\"offsetgroup\":\" Malaysia\",\"orientation\":\"v\",\"showlegend\":true,\"textposition\":\"auto\",\"x\":[\"TV-14\",\"TV-PG\"],\"xaxis\":\"x\",\"y\":[\" Malaysia\",\" Malaysia\"],\"yaxis\":\"y\",\"type\":\"bar\"},{\"alignmentgroup\":\"True\",\"hovertemplate\":\"country=%{y}<br>Ratings=%{x}<extra></extra>\",\"legendgroup\":\" Malta\",\"marker\":{\"color\":\"#FFA15A\",\"pattern\":{\"shape\":\"\"}},\"name\":\" Malta\",\"offsetgroup\":\" Malta\",\"orientation\":\"v\",\"showlegend\":true,\"textposition\":\"auto\",\"x\":[\"PG-13\",\"R\",\"TV-MA\"],\"xaxis\":\"x\",\"y\":[\" Malta\",\" Malta\",\" Malta\"],\"yaxis\":\"y\",\"type\":\"bar\"},{\"alignmentgroup\":\"True\",\"hovertemplate\":\"country=%{y}<br>Ratings=%{x}<extra></extra>\",\"legendgroup\":\" Mexico\",\"marker\":{\"color\":\"#19d3f3\",\"pattern\":{\"shape\":\"\"}},\"name\":\" Mexico\",\"offsetgroup\":\" Mexico\",\"orientation\":\"v\",\"showlegend\":true,\"textposition\":\"auto\",\"x\":[\"PG\",\"PG-13\",\"R\",\"TV-14\",\"TV-MA\",\"TV-PG\",\"TV-Y7\"],\"xaxis\":\"x\",\"y\":[\" Mexico\",\" Mexico\",\" Mexico\",\" Mexico\",\" Mexico\",\" Mexico\",\" Mexico\"],\"yaxis\":\"y\",\"type\":\"bar\"},{\"alignmentgroup\":\"True\",\"hovertemplate\":\"country=%{y}<br>Ratings=%{x}<extra></extra>\",\"legendgroup\":\" Montenegro\",\"marker\":{\"color\":\"#FF6692\",\"pattern\":{\"shape\":\"\"}},\"name\":\" Montenegro\",\"offsetgroup\":\" Montenegro\",\"orientation\":\"v\",\"showlegend\":true,\"textposition\":\"auto\",\"x\":[\"TV-MA\"],\"xaxis\":\"x\",\"y\":[\" Montenegro\"],\"yaxis\":\"y\",\"type\":\"bar\"},{\"alignmentgroup\":\"True\",\"hovertemplate\":\"country=%{y}<br>Ratings=%{x}<extra></extra>\",\"legendgroup\":\" Morocco\",\"marker\":{\"color\":\"#B6E880\",\"pattern\":{\"shape\":\"\"}},\"name\":\" Morocco\",\"offsetgroup\":\" Morocco\",\"orientation\":\"v\",\"showlegend\":true,\"textposition\":\"auto\",\"x\":[\"PG-13\",\"TV-14\",\"TV-MA\"],\"xaxis\":\"x\",\"y\":[\" Morocco\",\" Morocco\",\" Morocco\"],\"yaxis\":\"y\",\"type\":\"bar\"},{\"alignmentgroup\":\"True\",\"hovertemplate\":\"country=%{y}<br>Ratings=%{x}<extra></extra>\",\"legendgroup\":\" Nepal\",\"marker\":{\"color\":\"#FF97FF\",\"pattern\":{\"shape\":\"\"}},\"name\":\" Nepal\",\"offsetgroup\":\" Nepal\",\"orientation\":\"v\",\"showlegend\":true,\"textposition\":\"auto\",\"x\":[\"TV-PG\"],\"xaxis\":\"x\",\"y\":[\" Nepal\"],\"yaxis\":\"y\",\"type\":\"bar\"},{\"alignmentgroup\":\"True\",\"hovertemplate\":\"country=%{y}<br>Ratings=%{x}<extra></extra>\",\"legendgroup\":\" Netherlands\",\"marker\":{\"color\":\"#FECB52\",\"pattern\":{\"shape\":\"\"}},\"name\":\" Netherlands\",\"offsetgroup\":\" Netherlands\",\"orientation\":\"v\",\"showlegend\":true,\"textposition\":\"auto\",\"x\":[\"PG\",\"R\",\"TV-14\",\"TV-MA\",\"TV-PG\",\"TV-Y7\"],\"xaxis\":\"x\",\"y\":[\" Netherlands\",\" Netherlands\",\" Netherlands\",\" Netherlands\",\" Netherlands\",\" Netherlands\"],\"yaxis\":\"y\",\"type\":\"bar\"},{\"alignmentgroup\":\"True\",\"hovertemplate\":\"country=%{y}<br>Ratings=%{x}<extra></extra>\",\"legendgroup\":\" New Zealand\",\"marker\":{\"color\":\"#636efa\",\"pattern\":{\"shape\":\"\"}},\"name\":\" New Zealand\",\"offsetgroup\":\" New Zealand\",\"orientation\":\"v\",\"showlegend\":true,\"textposition\":\"auto\",\"x\":[\"PG\",\"R\",\"TV-14\",\"TV-MA\",\"TV-PG\",\"TV-Y7\"],\"xaxis\":\"x\",\"y\":[\" New Zealand\",\" New Zealand\",\" New Zealand\",\" New Zealand\",\" New Zealand\",\" New Zealand\"],\"yaxis\":\"y\",\"type\":\"bar\"},{\"alignmentgroup\":\"True\",\"hovertemplate\":\"country=%{y}<br>Ratings=%{x}<extra></extra>\",\"legendgroup\":\" Nicaragua\",\"marker\":{\"color\":\"#EF553B\",\"pattern\":{\"shape\":\"\"}},\"name\":\" Nicaragua\",\"offsetgroup\":\" Nicaragua\",\"orientation\":\"v\",\"showlegend\":true,\"textposition\":\"auto\",\"x\":[\"R\"],\"xaxis\":\"x\",\"y\":[\" Nicaragua\"],\"yaxis\":\"y\",\"type\":\"bar\"},{\"alignmentgroup\":\"True\",\"hovertemplate\":\"country=%{y}<br>Ratings=%{x}<extra></extra>\",\"legendgroup\":\" Nigeria\",\"marker\":{\"color\":\"#00cc96\",\"pattern\":{\"shape\":\"\"}},\"name\":\" Nigeria\",\"offsetgroup\":\" Nigeria\",\"orientation\":\"v\",\"showlegend\":true,\"textposition\":\"auto\",\"x\":[\"TV-14\",\"TV-MA\",\"TV-PG\"],\"xaxis\":\"x\",\"y\":[\" Nigeria\",\" Nigeria\",\" Nigeria\"],\"yaxis\":\"y\",\"type\":\"bar\"},{\"alignmentgroup\":\"True\",\"hovertemplate\":\"country=%{y}<br>Ratings=%{x}<extra></extra>\",\"legendgroup\":\" Norway\",\"marker\":{\"color\":\"#ab63fa\",\"pattern\":{\"shape\":\"\"}},\"name\":\" Norway\",\"offsetgroup\":\" Norway\",\"orientation\":\"v\",\"showlegend\":true,\"textposition\":\"auto\",\"x\":[\"PG-13\",\"R\",\"TV-14\",\"TV-MA\"],\"xaxis\":\"x\",\"y\":[\" Norway\",\" Norway\",\" Norway\",\" Norway\"],\"yaxis\":\"y\",\"type\":\"bar\"},{\"alignmentgroup\":\"True\",\"hovertemplate\":\"country=%{y}<br>Ratings=%{x}<extra></extra>\",\"legendgroup\":\" Pakistan\",\"marker\":{\"color\":\"#FFA15A\",\"pattern\":{\"shape\":\"\"}},\"name\":\" Pakistan\",\"offsetgroup\":\" Pakistan\",\"orientation\":\"v\",\"showlegend\":true,\"textposition\":\"auto\",\"x\":[\"TV-14\",\"TV-MA\"],\"xaxis\":\"x\",\"y\":[\" Pakistan\",\" Pakistan\"],\"yaxis\":\"y\",\"type\":\"bar\"},{\"alignmentgroup\":\"True\",\"hovertemplate\":\"country=%{y}<br>Ratings=%{x}<extra></extra>\",\"legendgroup\":\" Panama\",\"marker\":{\"color\":\"#19d3f3\",\"pattern\":{\"shape\":\"\"}},\"name\":\" Panama\",\"offsetgroup\":\" Panama\",\"orientation\":\"v\",\"showlegend\":true,\"textposition\":\"auto\",\"x\":[\"TV-PG\"],\"xaxis\":\"x\",\"y\":[\" Panama\"],\"yaxis\":\"y\",\"type\":\"bar\"},{\"alignmentgroup\":\"True\",\"hovertemplate\":\"country=%{y}<br>Ratings=%{x}<extra></extra>\",\"legendgroup\":\" Peru\",\"marker\":{\"color\":\"#FF6692\",\"pattern\":{\"shape\":\"\"}},\"name\":\" Peru\",\"offsetgroup\":\" Peru\",\"orientation\":\"v\",\"showlegend\":true,\"textposition\":\"auto\",\"x\":[\"TV-14\",\"TV-MA\"],\"xaxis\":\"x\",\"y\":[\" Peru\",\" Peru\"],\"yaxis\":\"y\",\"type\":\"bar\"},{\"alignmentgroup\":\"True\",\"hovertemplate\":\"country=%{y}<br>Ratings=%{x}<extra></extra>\",\"legendgroup\":\" Philippines\",\"marker\":{\"color\":\"#B6E880\",\"pattern\":{\"shape\":\"\"}},\"name\":\" Philippines\",\"offsetgroup\":\" Philippines\",\"orientation\":\"v\",\"showlegend\":true,\"textposition\":\"auto\",\"x\":[\"PG-13\",\"TV-MA\"],\"xaxis\":\"x\",\"y\":[\" Philippines\",\" Philippines\"],\"yaxis\":\"y\",\"type\":\"bar\"},{\"alignmentgroup\":\"True\",\"hovertemplate\":\"country=%{y}<br>Ratings=%{x}<extra></extra>\",\"legendgroup\":\" Poland\",\"marker\":{\"color\":\"#FF97FF\",\"pattern\":{\"shape\":\"\"}},\"name\":\" Poland\",\"offsetgroup\":\" Poland\",\"orientation\":\"v\",\"showlegend\":true,\"textposition\":\"auto\",\"x\":[\"PG-13\",\"R\",\"TV-14\",\"TV-MA\"],\"xaxis\":\"x\",\"y\":[\" Poland\",\" Poland\",\" Poland\",\" Poland\"],\"yaxis\":\"y\",\"type\":\"bar\"},{\"alignmentgroup\":\"True\",\"hovertemplate\":\"country=%{y}<br>Ratings=%{x}<extra></extra>\",\"legendgroup\":\" Portugal\",\"marker\":{\"color\":\"#FECB52\",\"pattern\":{\"shape\":\"\"}},\"name\":\" Portugal\",\"offsetgroup\":\" Portugal\",\"orientation\":\"v\",\"showlegend\":true,\"textposition\":\"auto\",\"x\":[\"TV-MA\"],\"xaxis\":\"x\",\"y\":[\" Portugal\"],\"yaxis\":\"y\",\"type\":\"bar\"},{\"alignmentgroup\":\"True\",\"hovertemplate\":\"country=%{y}<br>Ratings=%{x}<extra></extra>\",\"legendgroup\":\" Qatar\",\"marker\":{\"color\":\"#636efa\",\"pattern\":{\"shape\":\"\"}},\"name\":\" Qatar\",\"offsetgroup\":\" Qatar\",\"orientation\":\"v\",\"showlegend\":true,\"textposition\":\"auto\",\"x\":[\"PG\",\"PG-13\",\"TV-14\",\"TV-MA\"],\"xaxis\":\"x\",\"y\":[\" Qatar\",\" Qatar\",\" Qatar\",\" Qatar\"],\"yaxis\":\"y\",\"type\":\"bar\"},{\"alignmentgroup\":\"True\",\"hovertemplate\":\"country=%{y}<br>Ratings=%{x}<extra></extra>\",\"legendgroup\":\" Romania\",\"marker\":{\"color\":\"#EF553B\",\"pattern\":{\"shape\":\"\"}},\"name\":\" Romania\",\"offsetgroup\":\" Romania\",\"orientation\":\"v\",\"showlegend\":true,\"textposition\":\"auto\",\"x\":[\"PG-13\",\"TV-MA\"],\"xaxis\":\"x\",\"y\":[\" Romania\",\" Romania\"],\"yaxis\":\"y\",\"type\":\"bar\"},{\"alignmentgroup\":\"True\",\"hovertemplate\":\"country=%{y}<br>Ratings=%{x}<extra></extra>\",\"legendgroup\":\" Russia\",\"marker\":{\"color\":\"#00cc96\",\"pattern\":{\"shape\":\"\"}},\"name\":\" Russia\",\"offsetgroup\":\" Russia\",\"orientation\":\"v\",\"showlegend\":true,\"textposition\":\"auto\",\"x\":[\"R\",\"TV-14\"],\"xaxis\":\"x\",\"y\":[\" Russia\",\" Russia\"],\"yaxis\":\"y\",\"type\":\"bar\"},{\"alignmentgroup\":\"True\",\"hovertemplate\":\"country=%{y}<br>Ratings=%{x}<extra></extra>\",\"legendgroup\":\" Senegal\",\"marker\":{\"color\":\"#ab63fa\",\"pattern\":{\"shape\":\"\"}},\"name\":\" Senegal\",\"offsetgroup\":\" Senegal\",\"orientation\":\"v\",\"showlegend\":true,\"textposition\":\"auto\",\"x\":[\"TV-14\"],\"xaxis\":\"x\",\"y\":[\" Senegal\"],\"yaxis\":\"y\",\"type\":\"bar\"},{\"alignmentgroup\":\"True\",\"hovertemplate\":\"country=%{y}<br>Ratings=%{x}<extra></extra>\",\"legendgroup\":\" Serbia\",\"marker\":{\"color\":\"#FFA15A\",\"pattern\":{\"shape\":\"\"}},\"name\":\" Serbia\",\"offsetgroup\":\" Serbia\",\"orientation\":\"v\",\"showlegend\":true,\"textposition\":\"auto\",\"x\":[\"PG-13\",\"TV-14\",\"TV-MA\"],\"xaxis\":\"x\",\"y\":[\" Serbia\",\" Serbia\",\" Serbia\"],\"yaxis\":\"y\",\"type\":\"bar\"},{\"alignmentgroup\":\"True\",\"hovertemplate\":\"country=%{y}<br>Ratings=%{x}<extra></extra>\",\"legendgroup\":\" Singapore\",\"marker\":{\"color\":\"#19d3f3\",\"pattern\":{\"shape\":\"\"}},\"name\":\" Singapore\",\"offsetgroup\":\" Singapore\",\"orientation\":\"v\",\"showlegend\":true,\"textposition\":\"auto\",\"x\":[\"R\",\"TV-14\",\"TV-MA\",\"TV-Y\",\"TV-Y7\"],\"xaxis\":\"x\",\"y\":[\" Singapore\",\" Singapore\",\" Singapore\",\" Singapore\",\" Singapore\"],\"yaxis\":\"y\",\"type\":\"bar\"},{\"alignmentgroup\":\"True\",\"hovertemplate\":\"country=%{y}<br>Ratings=%{x}<extra></extra>\",\"legendgroup\":\" Slovakia\",\"marker\":{\"color\":\"#FF6692\",\"pattern\":{\"shape\":\"\"}},\"name\":\" Slovakia\",\"offsetgroup\":\" Slovakia\",\"orientation\":\"v\",\"showlegend\":true,\"textposition\":\"auto\",\"x\":[\"TV-MA\"],\"xaxis\":\"x\",\"y\":[\" Slovakia\"],\"yaxis\":\"y\",\"type\":\"bar\"},{\"alignmentgroup\":\"True\",\"hovertemplate\":\"country=%{y}<br>Ratings=%{x}<extra></extra>\",\"legendgroup\":\" Slovenia\",\"marker\":{\"color\":\"#B6E880\",\"pattern\":{\"shape\":\"\"}},\"name\":\" Slovenia\",\"offsetgroup\":\" Slovenia\",\"orientation\":\"v\",\"showlegend\":true,\"textposition\":\"auto\",\"x\":[\"TV-MA\"],\"xaxis\":\"x\",\"y\":[\" Slovenia\"],\"yaxis\":\"y\",\"type\":\"bar\"},{\"alignmentgroup\":\"True\",\"hovertemplate\":\"country=%{y}<br>Ratings=%{x}<extra></extra>\",\"legendgroup\":\" South Africa\",\"marker\":{\"color\":\"#FF97FF\",\"pattern\":{\"shape\":\"\"}},\"name\":\" South Africa\",\"offsetgroup\":\" South Africa\",\"orientation\":\"v\",\"showlegend\":true,\"textposition\":\"auto\",\"x\":[\"PG-13\",\"R\",\"TV-14\",\"TV-MA\",\"TV-PG\"],\"xaxis\":\"x\",\"y\":[\" South Africa\",\" South Africa\",\" South Africa\",\" South Africa\",\" South Africa\"],\"yaxis\":\"y\",\"type\":\"bar\"},{\"alignmentgroup\":\"True\",\"hovertemplate\":\"country=%{y}<br>Ratings=%{x}<extra></extra>\",\"legendgroup\":\" South Korea\",\"marker\":{\"color\":\"#FECB52\",\"pattern\":{\"shape\":\"\"}},\"name\":\" South Korea\",\"offsetgroup\":\" South Korea\",\"orientation\":\"v\",\"showlegend\":true,\"textposition\":\"auto\",\"x\":[\"PG\",\"PG-13\",\"R\",\"TV-14\",\"TV-MA\",\"TV-PG\",\"TV-Y\",\"TV-Y7\"],\"xaxis\":\"x\",\"y\":[\" South Korea\",\" South Korea\",\" South Korea\",\" South Korea\",\" South Korea\",\" South Korea\",\" South Korea\",\" South Korea\"],\"yaxis\":\"y\",\"type\":\"bar\"},{\"alignmentgroup\":\"True\",\"hovertemplate\":\"country=%{y}<br>Ratings=%{x}<extra></extra>\",\"legendgroup\":\" Soviet Union\",\"marker\":{\"color\":\"#636efa\",\"pattern\":{\"shape\":\"\"}},\"name\":\" Soviet Union\",\"offsetgroup\":\" Soviet Union\",\"orientation\":\"v\",\"showlegend\":true,\"textposition\":\"auto\",\"x\":[\"TV-14\"],\"xaxis\":\"x\",\"y\":[\" Soviet Union\"],\"yaxis\":\"y\",\"type\":\"bar\"},{\"alignmentgroup\":\"True\",\"hovertemplate\":\"country=%{y}<br>Ratings=%{x}<extra></extra>\",\"legendgroup\":\" Spain\",\"marker\":{\"color\":\"#EF553B\",\"pattern\":{\"shape\":\"\"}},\"name\":\" Spain\",\"offsetgroup\":\" Spain\",\"orientation\":\"v\",\"showlegend\":true,\"textposition\":\"auto\",\"x\":[\"G\",\"NC-17\",\"PG\",\"PG-13\",\"R\",\"TV-14\",\"TV-MA\",\"TV-PG\",\"TV-Y\",\"TV-Y7\"],\"xaxis\":\"x\",\"y\":[\" Spain\",\" Spain\",\" Spain\",\" Spain\",\" Spain\",\" Spain\",\" Spain\",\" Spain\",\" Spain\",\" Spain\"],\"yaxis\":\"y\",\"type\":\"bar\"},{\"alignmentgroup\":\"True\",\"hovertemplate\":\"country=%{y}<br>Ratings=%{x}<extra></extra>\",\"legendgroup\":\" Sri Lanka\",\"marker\":{\"color\":\"#00cc96\",\"pattern\":{\"shape\":\"\"}},\"name\":\" Sri Lanka\",\"offsetgroup\":\" Sri Lanka\",\"orientation\":\"v\",\"showlegend\":true,\"textposition\":\"auto\",\"x\":[\"TV-G\"],\"xaxis\":\"x\",\"y\":[\" Sri Lanka\"],\"yaxis\":\"y\",\"type\":\"bar\"},{\"alignmentgroup\":\"True\",\"hovertemplate\":\"country=%{y}<br>Ratings=%{x}<extra></extra>\",\"legendgroup\":\" Sudan\",\"marker\":{\"color\":\"#ab63fa\",\"pattern\":{\"shape\":\"\"}},\"name\":\" Sudan\",\"offsetgroup\":\" Sudan\",\"orientation\":\"v\",\"showlegend\":true,\"textposition\":\"auto\",\"x\":[\"R\"],\"xaxis\":\"x\",\"y\":[\" Sudan\"],\"yaxis\":\"y\",\"type\":\"bar\"},{\"alignmentgroup\":\"True\",\"hovertemplate\":\"country=%{y}<br>Ratings=%{x}<extra></extra>\",\"legendgroup\":\" Sweden\",\"marker\":{\"color\":\"#FFA15A\",\"pattern\":{\"shape\":\"\"}},\"name\":\" Sweden\",\"offsetgroup\":\" Sweden\",\"orientation\":\"v\",\"showlegend\":true,\"textposition\":\"auto\",\"x\":[\"NR\",\"PG-13\",\"R\",\"TV-14\",\"TV-MA\",\"TV-PG\"],\"xaxis\":\"x\",\"y\":[\" Sweden\",\" Sweden\",\" Sweden\",\" Sweden\",\" Sweden\",\" Sweden\"],\"yaxis\":\"y\",\"type\":\"bar\"},{\"alignmentgroup\":\"True\",\"hovertemplate\":\"country=%{y}<br>Ratings=%{x}<extra></extra>\",\"legendgroup\":\" Switzerland\",\"marker\":{\"color\":\"#19d3f3\",\"pattern\":{\"shape\":\"\"}},\"name\":\" Switzerland\",\"offsetgroup\":\" Switzerland\",\"orientation\":\"v\",\"showlegend\":true,\"textposition\":\"auto\",\"x\":[\"G\",\"PG\",\"PG-13\",\"R\",\"TV-14\",\"TV-MA\"],\"xaxis\":\"x\",\"y\":[\" Switzerland\",\" Switzerland\",\" Switzerland\",\" Switzerland\",\" Switzerland\",\" Switzerland\"],\"yaxis\":\"y\",\"type\":\"bar\"},{\"alignmentgroup\":\"True\",\"hovertemplate\":\"country=%{y}<br>Ratings=%{x}<extra></extra>\",\"legendgroup\":\" Syria\",\"marker\":{\"color\":\"#FF6692\",\"pattern\":{\"shape\":\"\"}},\"name\":\" Syria\",\"offsetgroup\":\" Syria\",\"orientation\":\"v\",\"showlegend\":true,\"textposition\":\"auto\",\"x\":[\"TV-14\"],\"xaxis\":\"x\",\"y\":[\" Syria\"],\"yaxis\":\"y\",\"type\":\"bar\"},{\"alignmentgroup\":\"True\",\"hovertemplate\":\"country=%{y}<br>Ratings=%{x}<extra></extra>\",\"legendgroup\":\" Taiwan\",\"marker\":{\"color\":\"#B6E880\",\"pattern\":{\"shape\":\"\"}},\"name\":\" Taiwan\",\"offsetgroup\":\" Taiwan\",\"orientation\":\"v\",\"showlegend\":true,\"textposition\":\"auto\",\"x\":[\"TV-14\",\"TV-PG\"],\"xaxis\":\"x\",\"y\":[\" Taiwan\",\" Taiwan\"],\"yaxis\":\"y\",\"type\":\"bar\"},{\"alignmentgroup\":\"True\",\"hovertemplate\":\"country=%{y}<br>Ratings=%{x}<extra></extra>\",\"legendgroup\":\" Thailand\",\"marker\":{\"color\":\"#FF97FF\",\"pattern\":{\"shape\":\"\"}},\"name\":\" Thailand\",\"offsetgroup\":\" Thailand\",\"orientation\":\"v\",\"showlegend\":true,\"textposition\":\"auto\",\"x\":[\"PG-13\",\"R\",\"TV-MA\"],\"xaxis\":\"x\",\"y\":[\" Thailand\",\" Thailand\",\" Thailand\"],\"yaxis\":\"y\",\"type\":\"bar\"},{\"alignmentgroup\":\"True\",\"hovertemplate\":\"country=%{y}<br>Ratings=%{x}<extra></extra>\",\"legendgroup\":\" Turkey\",\"marker\":{\"color\":\"#FECB52\",\"pattern\":{\"shape\":\"\"}},\"name\":\" Turkey\",\"offsetgroup\":\" Turkey\",\"orientation\":\"v\",\"showlegend\":true,\"textposition\":\"auto\",\"x\":[\"TV-MA\"],\"xaxis\":\"x\",\"y\":[\" Turkey\"],\"yaxis\":\"y\",\"type\":\"bar\"},{\"alignmentgroup\":\"True\",\"hovertemplate\":\"country=%{y}<br>Ratings=%{x}<extra></extra>\",\"legendgroup\":\" United Arab Emirates\",\"marker\":{\"color\":\"#636efa\",\"pattern\":{\"shape\":\"\"}},\"name\":\" United Arab Emirates\",\"offsetgroup\":\" United Arab Emirates\",\"orientation\":\"v\",\"showlegend\":true,\"textposition\":\"auto\",\"x\":[\"G\",\"PG\",\"PG-13\",\"R\",\"TV-14\",\"TV-MA\",\"TV-PG\"],\"xaxis\":\"x\",\"y\":[\" United Arab Emirates\",\" United Arab Emirates\",\" United Arab Emirates\",\" United Arab Emirates\",\" United Arab Emirates\",\" United Arab Emirates\",\" United Arab Emirates\"],\"yaxis\":\"y\",\"type\":\"bar\"},{\"alignmentgroup\":\"True\",\"hovertemplate\":\"country=%{y}<br>Ratings=%{x}<extra></extra>\",\"legendgroup\":\" United Kingdom\",\"marker\":{\"color\":\"#EF553B\",\"pattern\":{\"shape\":\"\"}},\"name\":\" United Kingdom\",\"offsetgroup\":\" United Kingdom\",\"orientation\":\"v\",\"showlegend\":true,\"textposition\":\"auto\",\"x\":[\"G\",\"NR\",\"PG\",\"PG-13\",\"R\",\"TV-14\",\"TV-G\",\"TV-MA\",\"TV-PG\",\"TV-Y\",\"TV-Y7\"],\"xaxis\":\"x\",\"y\":[\" United Kingdom\",\" United Kingdom\",\" United Kingdom\",\" United Kingdom\",\" United Kingdom\",\" United Kingdom\",\" United Kingdom\",\" United Kingdom\",\" United Kingdom\",\" United Kingdom\",\" United Kingdom\"],\"yaxis\":\"y\",\"type\":\"bar\"},{\"alignmentgroup\":\"True\",\"hovertemplate\":\"country=%{y}<br>Ratings=%{x}<extra></extra>\",\"legendgroup\":\" United States\",\"marker\":{\"color\":\"#00cc96\",\"pattern\":{\"shape\":\"\"}},\"name\":\" United States\",\"offsetgroup\":\" United States\",\"orientation\":\"v\",\"showlegend\":true,\"textposition\":\"auto\",\"x\":[\"G\",\"NR\",\"PG\",\"PG-13\",\"R\",\"TV-14\",\"TV-G\",\"TV-MA\",\"TV-PG\",\"TV-Y\",\"TV-Y7\"],\"xaxis\":\"x\",\"y\":[\" United States\",\" United States\",\" United States\",\" United States\",\" United States\",\" United States\",\" United States\",\" United States\",\" United States\",\" United States\",\" United States\"],\"yaxis\":\"y\",\"type\":\"bar\"},{\"alignmentgroup\":\"True\",\"hovertemplate\":\"country=%{y}<br>Ratings=%{x}<extra></extra>\",\"legendgroup\":\" Uruguay\",\"marker\":{\"color\":\"#ab63fa\",\"pattern\":{\"shape\":\"\"}},\"name\":\" Uruguay\",\"offsetgroup\":\" Uruguay\",\"orientation\":\"v\",\"showlegend\":true,\"textposition\":\"auto\",\"x\":[\"TV-14\",\"TV-MA\"],\"xaxis\":\"x\",\"y\":[\" Uruguay\",\" Uruguay\"],\"yaxis\":\"y\",\"type\":\"bar\"},{\"alignmentgroup\":\"True\",\"hovertemplate\":\"country=%{y}<br>Ratings=%{x}<extra></extra>\",\"legendgroup\":\" Vatican City\",\"marker\":{\"color\":\"#FFA15A\",\"pattern\":{\"shape\":\"\"}},\"name\":\" Vatican City\",\"offsetgroup\":\" Vatican City\",\"orientation\":\"v\",\"showlegend\":true,\"textposition\":\"auto\",\"x\":[\"PG\"],\"xaxis\":\"x\",\"y\":[\" Vatican City\"],\"yaxis\":\"y\",\"type\":\"bar\"},{\"alignmentgroup\":\"True\",\"hovertemplate\":\"country=%{y}<br>Ratings=%{x}<extra></extra>\",\"legendgroup\":\" West Germany\",\"marker\":{\"color\":\"#19d3f3\",\"pattern\":{\"shape\":\"\"}},\"name\":\" West Germany\",\"offsetgroup\":\" West Germany\",\"orientation\":\"v\",\"showlegend\":true,\"textposition\":\"auto\",\"x\":[\"G\",\"TV-14\",\"TV-MA\"],\"xaxis\":\"x\",\"y\":[\" West Germany\",\" West Germany\",\" West Germany\"],\"yaxis\":\"y\",\"type\":\"bar\"},{\"alignmentgroup\":\"True\",\"hovertemplate\":\"country=%{y}<br>Ratings=%{x}<extra></extra>\",\"legendgroup\":\"Argentina\",\"marker\":{\"color\":\"#FF6692\",\"pattern\":{\"shape\":\"\"}},\"name\":\"Argentina\",\"offsetgroup\":\"Argentina\",\"orientation\":\"v\",\"showlegend\":true,\"textposition\":\"auto\",\"x\":[\"NR\",\"PG\",\"R\",\"TV-14\",\"TV-MA\",\"TV-PG\",\"TV-Y\"],\"xaxis\":\"x\",\"y\":[\"Argentina\",\"Argentina\",\"Argentina\",\"Argentina\",\"Argentina\",\"Argentina\",\"Argentina\"],\"yaxis\":\"y\",\"type\":\"bar\"},{\"alignmentgroup\":\"True\",\"hovertemplate\":\"country=%{y}<br>Ratings=%{x}<extra></extra>\",\"legendgroup\":\"Australia\",\"marker\":{\"color\":\"#B6E880\",\"pattern\":{\"shape\":\"\"}},\"name\":\"Australia\",\"offsetgroup\":\"Australia\",\"orientation\":\"v\",\"showlegend\":true,\"textposition\":\"auto\",\"x\":[\"NR\",\"PG\",\"PG-13\",\"R\",\"TV-14\",\"TV-G\",\"TV-MA\",\"TV-PG\",\"TV-Y\",\"TV-Y7\"],\"xaxis\":\"x\",\"y\":[\"Australia\",\"Australia\",\"Australia\",\"Australia\",\"Australia\",\"Australia\",\"Australia\",\"Australia\",\"Australia\",\"Australia\"],\"yaxis\":\"y\",\"type\":\"bar\"},{\"alignmentgroup\":\"True\",\"hovertemplate\":\"country=%{y}<br>Ratings=%{x}<extra></extra>\",\"legendgroup\":\"Austria\",\"marker\":{\"color\":\"#FF97FF\",\"pattern\":{\"shape\":\"\"}},\"name\":\"Austria\",\"offsetgroup\":\"Austria\",\"orientation\":\"v\",\"showlegend\":true,\"textposition\":\"auto\",\"x\":[\"R\",\"TV-MA\",\"TV-PG\"],\"xaxis\":\"x\",\"y\":[\"Austria\",\"Austria\",\"Austria\"],\"yaxis\":\"y\",\"type\":\"bar\"},{\"alignmentgroup\":\"True\",\"hovertemplate\":\"country=%{y}<br>Ratings=%{x}<extra></extra>\",\"legendgroup\":\"Bangladesh\",\"marker\":{\"color\":\"#FECB52\",\"pattern\":{\"shape\":\"\"}},\"name\":\"Bangladesh\",\"offsetgroup\":\"Bangladesh\",\"orientation\":\"v\",\"showlegend\":true,\"textposition\":\"auto\",\"x\":[\"TV-14\",\"TV-MA\"],\"xaxis\":\"x\",\"y\":[\"Bangladesh\",\"Bangladesh\"],\"yaxis\":\"y\",\"type\":\"bar\"},{\"alignmentgroup\":\"True\",\"hovertemplate\":\"country=%{y}<br>Ratings=%{x}<extra></extra>\",\"legendgroup\":\"Belarus\",\"marker\":{\"color\":\"#636efa\",\"pattern\":{\"shape\":\"\"}},\"name\":\"Belarus\",\"offsetgroup\":\"Belarus\",\"orientation\":\"v\",\"showlegend\":true,\"textposition\":\"auto\",\"x\":[\"TV-Y\"],\"xaxis\":\"x\",\"y\":[\"Belarus\"],\"yaxis\":\"y\",\"type\":\"bar\"},{\"alignmentgroup\":\"True\",\"hovertemplate\":\"country=%{y}<br>Ratings=%{x}<extra></extra>\",\"legendgroup\":\"Belgium\",\"marker\":{\"color\":\"#EF553B\",\"pattern\":{\"shape\":\"\"}},\"name\":\"Belgium\",\"offsetgroup\":\"Belgium\",\"orientation\":\"v\",\"showlegend\":true,\"textposition\":\"auto\",\"x\":[\"R\",\"TV-14\",\"TV-MA\"],\"xaxis\":\"x\",\"y\":[\"Belgium\",\"Belgium\",\"Belgium\"],\"yaxis\":\"y\",\"type\":\"bar\"},{\"alignmentgroup\":\"True\",\"hovertemplate\":\"country=%{y}<br>Ratings=%{x}<extra></extra>\",\"legendgroup\":\"Brazil\",\"marker\":{\"color\":\"#00cc96\",\"pattern\":{\"shape\":\"\"}},\"name\":\"Brazil\",\"offsetgroup\":\"Brazil\",\"orientation\":\"v\",\"showlegend\":true,\"textposition\":\"auto\",\"x\":[\"NR\",\"PG\",\"PG-13\",\"R\",\"TV-14\",\"TV-G\",\"TV-MA\",\"TV-PG\",\"TV-Y\"],\"xaxis\":\"x\",\"y\":[\"Brazil\",\"Brazil\",\"Brazil\",\"Brazil\",\"Brazil\",\"Brazil\",\"Brazil\",\"Brazil\",\"Brazil\"],\"yaxis\":\"y\",\"type\":\"bar\"},{\"alignmentgroup\":\"True\",\"hovertemplate\":\"country=%{y}<br>Ratings=%{x}<extra></extra>\",\"legendgroup\":\"Bulgaria\",\"marker\":{\"color\":\"#ab63fa\",\"pattern\":{\"shape\":\"\"}},\"name\":\"Bulgaria\",\"offsetgroup\":\"Bulgaria\",\"orientation\":\"v\",\"showlegend\":true,\"textposition\":\"auto\",\"x\":[\"R\"],\"xaxis\":\"x\",\"y\":[\"Bulgaria\"],\"yaxis\":\"y\",\"type\":\"bar\"},{\"alignmentgroup\":\"True\",\"hovertemplate\":\"country=%{y}<br>Ratings=%{x}<extra></extra>\",\"legendgroup\":\"Cambodia\",\"marker\":{\"color\":\"#FFA15A\",\"pattern\":{\"shape\":\"\"}},\"name\":\"Cambodia\",\"offsetgroup\":\"Cambodia\",\"orientation\":\"v\",\"showlegend\":true,\"textposition\":\"auto\",\"x\":[\"TV-MA\"],\"xaxis\":\"x\",\"y\":[\"Cambodia\"],\"yaxis\":\"y\",\"type\":\"bar\"},{\"alignmentgroup\":\"True\",\"hovertemplate\":\"country=%{y}<br>Ratings=%{x}<extra></extra>\",\"legendgroup\":\"Canada\",\"marker\":{\"color\":\"#19d3f3\",\"pattern\":{\"shape\":\"\"}},\"name\":\"Canada\",\"offsetgroup\":\"Canada\",\"orientation\":\"v\",\"showlegend\":true,\"textposition\":\"auto\",\"x\":[\"G\",\"NC-17\",\"NR\",\"PG\",\"PG-13\",\"R\",\"TV-14\",\"TV-G\",\"TV-MA\",\"TV-PG\",\"TV-Y\",\"TV-Y7\",\"TV-Y7-FV\"],\"xaxis\":\"x\",\"y\":[\"Canada\",\"Canada\",\"Canada\",\"Canada\",\"Canada\",\"Canada\",\"Canada\",\"Canada\",\"Canada\",\"Canada\",\"Canada\",\"Canada\",\"Canada\"],\"yaxis\":\"y\",\"type\":\"bar\"},{\"alignmentgroup\":\"True\",\"hovertemplate\":\"country=%{y}<br>Ratings=%{x}<extra></extra>\",\"legendgroup\":\"Chile\",\"marker\":{\"color\":\"#FF6692\",\"pattern\":{\"shape\":\"\"}},\"name\":\"Chile\",\"offsetgroup\":\"Chile\",\"orientation\":\"v\",\"showlegend\":true,\"textposition\":\"auto\",\"x\":[\"R\",\"TV-14\",\"TV-MA\",\"TV-PG\"],\"xaxis\":\"x\",\"y\":[\"Chile\",\"Chile\",\"Chile\",\"Chile\"],\"yaxis\":\"y\",\"type\":\"bar\"},{\"alignmentgroup\":\"True\",\"hovertemplate\":\"country=%{y}<br>Ratings=%{x}<extra></extra>\",\"legendgroup\":\"China\",\"marker\":{\"color\":\"#B6E880\",\"pattern\":{\"shape\":\"\"}},\"name\":\"China\",\"offsetgroup\":\"China\",\"orientation\":\"v\",\"showlegend\":true,\"textposition\":\"auto\",\"x\":[\"NR\",\"PG\",\"PG-13\",\"R\",\"TV-14\",\"TV-G\",\"TV-MA\",\"TV-PG\",\"TV-Y\",\"TV-Y7\"],\"xaxis\":\"x\",\"y\":[\"China\",\"China\",\"China\",\"China\",\"China\",\"China\",\"China\",\"China\",\"China\",\"China\"],\"yaxis\":\"y\",\"type\":\"bar\"},{\"alignmentgroup\":\"True\",\"hovertemplate\":\"country=%{y}<br>Ratings=%{x}<extra></extra>\",\"legendgroup\":\"Colombia\",\"marker\":{\"color\":\"#FF97FF\",\"pattern\":{\"shape\":\"\"}},\"name\":\"Colombia\",\"offsetgroup\":\"Colombia\",\"orientation\":\"v\",\"showlegend\":true,\"textposition\":\"auto\",\"x\":[\"TV-14\",\"TV-MA\"],\"xaxis\":\"x\",\"y\":[\"Colombia\",\"Colombia\"],\"yaxis\":\"y\",\"type\":\"bar\"},{\"alignmentgroup\":\"True\",\"hovertemplate\":\"country=%{y}<br>Ratings=%{x}<extra></extra>\",\"legendgroup\":\"Croatia\",\"marker\":{\"color\":\"#FECB52\",\"pattern\":{\"shape\":\"\"}},\"name\":\"Croatia\",\"offsetgroup\":\"Croatia\",\"orientation\":\"v\",\"showlegend\":true,\"textposition\":\"auto\",\"x\":[\"TV-MA\"],\"xaxis\":\"x\",\"y\":[\"Croatia\"],\"yaxis\":\"y\",\"type\":\"bar\"},{\"alignmentgroup\":\"True\",\"hovertemplate\":\"country=%{y}<br>Ratings=%{x}<extra></extra>\",\"legendgroup\":\"Cyprus\",\"marker\":{\"color\":\"#636efa\",\"pattern\":{\"shape\":\"\"}},\"name\":\"Cyprus\",\"offsetgroup\":\"Cyprus\",\"orientation\":\"v\",\"showlegend\":true,\"textposition\":\"auto\",\"x\":[\"TV-Y\"],\"xaxis\":\"x\",\"y\":[\"Cyprus\"],\"yaxis\":\"y\",\"type\":\"bar\"},{\"alignmentgroup\":\"True\",\"hovertemplate\":\"country=%{y}<br>Ratings=%{x}<extra></extra>\",\"legendgroup\":\"Czech Republic\",\"marker\":{\"color\":\"#EF553B\",\"pattern\":{\"shape\":\"\"}},\"name\":\"Czech Republic\",\"offsetgroup\":\"Czech Republic\",\"orientation\":\"v\",\"showlegend\":true,\"textposition\":\"auto\",\"x\":[\"R\",\"TV-14\",\"TV-MA\"],\"xaxis\":\"x\",\"y\":[\"Czech Republic\",\"Czech Republic\",\"Czech Republic\"],\"yaxis\":\"y\",\"type\":\"bar\"},{\"alignmentgroup\":\"True\",\"hovertemplate\":\"country=%{y}<br>Ratings=%{x}<extra></extra>\",\"legendgroup\":\"Denmark\",\"marker\":{\"color\":\"#00cc96\",\"pattern\":{\"shape\":\"\"}},\"name\":\"Denmark\",\"offsetgroup\":\"Denmark\",\"orientation\":\"v\",\"showlegend\":true,\"textposition\":\"auto\",\"x\":[\"NR\",\"R\",\"TV-14\",\"TV-G\",\"TV-MA\",\"TV-Y\",\"TV-Y7\"],\"xaxis\":\"x\",\"y\":[\"Denmark\",\"Denmark\",\"Denmark\",\"Denmark\",\"Denmark\",\"Denmark\",\"Denmark\"],\"yaxis\":\"y\",\"type\":\"bar\"},{\"alignmentgroup\":\"True\",\"hovertemplate\":\"country=%{y}<br>Ratings=%{x}<extra></extra>\",\"legendgroup\":\"Egypt\",\"marker\":{\"color\":\"#ab63fa\",\"pattern\":{\"shape\":\"\"}},\"name\":\"Egypt\",\"offsetgroup\":\"Egypt\",\"orientation\":\"v\",\"showlegend\":true,\"textposition\":\"auto\",\"x\":[\"TV-14\",\"TV-MA\",\"TV-PG\"],\"xaxis\":\"x\",\"y\":[\"Egypt\",\"Egypt\",\"Egypt\"],\"yaxis\":\"y\",\"type\":\"bar\"},{\"alignmentgroup\":\"True\",\"hovertemplate\":\"country=%{y}<br>Ratings=%{x}<extra></extra>\",\"legendgroup\":\"Finland\",\"marker\":{\"color\":\"#FFA15A\",\"pattern\":{\"shape\":\"\"}},\"name\":\"Finland\",\"offsetgroup\":\"Finland\",\"orientation\":\"v\",\"showlegend\":true,\"textposition\":\"auto\",\"x\":[\"PG\",\"TV-MA\",\"TV-Y7\"],\"xaxis\":\"x\",\"y\":[\"Finland\",\"Finland\",\"Finland\"],\"yaxis\":\"y\",\"type\":\"bar\"},{\"alignmentgroup\":\"True\",\"hovertemplate\":\"country=%{y}<br>Ratings=%{x}<extra></extra>\",\"legendgroup\":\"France\",\"marker\":{\"color\":\"#19d3f3\",\"pattern\":{\"shape\":\"\"}},\"name\":\"France\",\"offsetgroup\":\"France\",\"orientation\":\"v\",\"showlegend\":true,\"textposition\":\"auto\",\"x\":[\"G\",\"NC-17\",\"NR\",\"PG\",\"PG-13\",\"R\",\"TV-14\",\"TV-MA\",\"TV-PG\",\"TV-Y\",\"TV-Y7\",\"UR\"],\"xaxis\":\"x\",\"y\":[\"France\",\"France\",\"France\",\"France\",\"France\",\"France\",\"France\",\"France\",\"France\",\"France\",\"France\",\"France\"],\"yaxis\":\"y\",\"type\":\"bar\"},{\"alignmentgroup\":\"True\",\"hovertemplate\":\"country=%{y}<br>Ratings=%{x}<extra></extra>\",\"legendgroup\":\"Georgia\",\"marker\":{\"color\":\"#FF6692\",\"pattern\":{\"shape\":\"\"}},\"name\":\"Georgia\",\"offsetgroup\":\"Georgia\",\"orientation\":\"v\",\"showlegend\":true,\"textposition\":\"auto\",\"x\":[\"TV-14\"],\"xaxis\":\"x\",\"y\":[\"Georgia\"],\"yaxis\":\"y\",\"type\":\"bar\"},{\"alignmentgroup\":\"True\",\"hovertemplate\":\"country=%{y}<br>Ratings=%{x}<extra></extra>\",\"legendgroup\":\"Germany\",\"marker\":{\"color\":\"#B6E880\",\"pattern\":{\"shape\":\"\"}},\"name\":\"Germany\",\"offsetgroup\":\"Germany\",\"orientation\":\"v\",\"showlegend\":true,\"textposition\":\"auto\",\"x\":[\"G\",\"NR\",\"PG\",\"PG-13\",\"R\",\"TV-14\",\"TV-G\",\"TV-MA\",\"TV-PG\",\"TV-Y\",\"TV-Y7\"],\"xaxis\":\"x\",\"y\":[\"Germany\",\"Germany\",\"Germany\",\"Germany\",\"Germany\",\"Germany\",\"Germany\",\"Germany\",\"Germany\",\"Germany\",\"Germany\"],\"yaxis\":\"y\",\"type\":\"bar\"},{\"alignmentgroup\":\"True\",\"hovertemplate\":\"country=%{y}<br>Ratings=%{x}<extra></extra>\",\"legendgroup\":\"Ghana\",\"marker\":{\"color\":\"#FF97FF\",\"pattern\":{\"shape\":\"\"}},\"name\":\"Ghana\",\"offsetgroup\":\"Ghana\",\"orientation\":\"v\",\"showlegend\":true,\"textposition\":\"auto\",\"x\":[\"TV-14\",\"TV-MA\"],\"xaxis\":\"x\",\"y\":[\"Ghana\",\"Ghana\"],\"yaxis\":\"y\",\"type\":\"bar\"},{\"alignmentgroup\":\"True\",\"hovertemplate\":\"country=%{y}<br>Ratings=%{x}<extra></extra>\",\"legendgroup\":\"Guatemala\",\"marker\":{\"color\":\"#FECB52\",\"pattern\":{\"shape\":\"\"}},\"name\":\"Guatemala\",\"offsetgroup\":\"Guatemala\",\"orientation\":\"v\",\"showlegend\":true,\"textposition\":\"auto\",\"x\":[\"TV-MA\"],\"xaxis\":\"x\",\"y\":[\"Guatemala\"],\"yaxis\":\"y\",\"type\":\"bar\"},{\"alignmentgroup\":\"True\",\"hovertemplate\":\"country=%{y}<br>Ratings=%{x}<extra></extra>\",\"legendgroup\":\"Hong Kong\",\"marker\":{\"color\":\"#636efa\",\"pattern\":{\"shape\":\"\"}},\"name\":\"Hong Kong\",\"offsetgroup\":\"Hong Kong\",\"orientation\":\"v\",\"showlegend\":true,\"textposition\":\"auto\",\"x\":[\"NR\",\"PG\",\"PG-13\",\"R\",\"TV-14\",\"TV-MA\",\"TV-PG\"],\"xaxis\":\"x\",\"y\":[\"Hong Kong\",\"Hong Kong\",\"Hong Kong\",\"Hong Kong\",\"Hong Kong\",\"Hong Kong\",\"Hong Kong\"],\"yaxis\":\"y\",\"type\":\"bar\"},{\"alignmentgroup\":\"True\",\"hovertemplate\":\"country=%{y}<br>Ratings=%{x}<extra></extra>\",\"legendgroup\":\"Hungary\",\"marker\":{\"color\":\"#EF553B\",\"pattern\":{\"shape\":\"\"}},\"name\":\"Hungary\",\"offsetgroup\":\"Hungary\",\"orientation\":\"v\",\"showlegend\":true,\"textposition\":\"auto\",\"x\":[\"TV-MA\",\"TV-Y\"],\"xaxis\":\"x\",\"y\":[\"Hungary\",\"Hungary\"],\"yaxis\":\"y\",\"type\":\"bar\"},{\"alignmentgroup\":\"True\",\"hovertemplate\":\"country=%{y}<br>Ratings=%{x}<extra></extra>\",\"legendgroup\":\"Iceland\",\"marker\":{\"color\":\"#00cc96\",\"pattern\":{\"shape\":\"\"}},\"name\":\"Iceland\",\"offsetgroup\":\"Iceland\",\"orientation\":\"v\",\"showlegend\":true,\"textposition\":\"auto\",\"x\":[\"TV-14\",\"TV-MA\"],\"xaxis\":\"x\",\"y\":[\"Iceland\",\"Iceland\"],\"yaxis\":\"y\",\"type\":\"bar\"},{\"alignmentgroup\":\"True\",\"hovertemplate\":\"country=%{y}<br>Ratings=%{x}<extra></extra>\",\"legendgroup\":\"India\",\"marker\":{\"color\":\"#ab63fa\",\"pattern\":{\"shape\":\"\"}},\"name\":\"India\",\"offsetgroup\":\"India\",\"orientation\":\"v\",\"showlegend\":true,\"textposition\":\"auto\",\"x\":[\"NR\",\"PG\",\"PG-13\",\"R\",\"TV-14\",\"TV-G\",\"TV-MA\",\"TV-PG\",\"TV-Y\",\"TV-Y7\",\"TV-Y7-FV\",\"UR\"],\"xaxis\":\"x\",\"y\":[\"India\",\"India\",\"India\",\"India\",\"India\",\"India\",\"India\",\"India\",\"India\",\"India\",\"India\",\"India\"],\"yaxis\":\"y\",\"type\":\"bar\"},{\"alignmentgroup\":\"True\",\"hovertemplate\":\"country=%{y}<br>Ratings=%{x}<extra></extra>\",\"legendgroup\":\"Indonesia\",\"marker\":{\"color\":\"#FFA15A\",\"pattern\":{\"shape\":\"\"}},\"name\":\"Indonesia\",\"offsetgroup\":\"Indonesia\",\"orientation\":\"v\",\"showlegend\":true,\"textposition\":\"auto\",\"x\":[\"R\",\"TV-14\",\"TV-G\",\"TV-MA\",\"TV-PG\"],\"xaxis\":\"x\",\"y\":[\"Indonesia\",\"Indonesia\",\"Indonesia\",\"Indonesia\",\"Indonesia\"],\"yaxis\":\"y\",\"type\":\"bar\"},{\"alignmentgroup\":\"True\",\"hovertemplate\":\"country=%{y}<br>Ratings=%{x}<extra></extra>\",\"legendgroup\":\"Iran\",\"marker\":{\"color\":\"#19d3f3\",\"pattern\":{\"shape\":\"\"}},\"name\":\"Iran\",\"offsetgroup\":\"Iran\",\"orientation\":\"v\",\"showlegend\":true,\"textposition\":\"auto\",\"x\":[\"PG-13\"],\"xaxis\":\"x\",\"y\":[\"Iran\"],\"yaxis\":\"y\",\"type\":\"bar\"},{\"alignmentgroup\":\"True\",\"hovertemplate\":\"country=%{y}<br>Ratings=%{x}<extra></extra>\",\"legendgroup\":\"Ireland\",\"marker\":{\"color\":\"#FF6692\",\"pattern\":{\"shape\":\"\"}},\"name\":\"Ireland\",\"offsetgroup\":\"Ireland\",\"orientation\":\"v\",\"showlegend\":true,\"textposition\":\"auto\",\"x\":[\"G\",\"PG-13\",\"R\",\"TV-14\",\"TV-MA\",\"TV-Y\"],\"xaxis\":\"x\",\"y\":[\"Ireland\",\"Ireland\",\"Ireland\",\"Ireland\",\"Ireland\",\"Ireland\"],\"yaxis\":\"y\",\"type\":\"bar\"},{\"alignmentgroup\":\"True\",\"hovertemplate\":\"country=%{y}<br>Ratings=%{x}<extra></extra>\",\"legendgroup\":\"Israel\",\"marker\":{\"color\":\"#B6E880\",\"pattern\":{\"shape\":\"\"}},\"name\":\"Israel\",\"offsetgroup\":\"Israel\",\"orientation\":\"v\",\"showlegend\":true,\"textposition\":\"auto\",\"x\":[\"PG-13\",\"R\",\"TV-14\",\"TV-MA\",\"TV-PG\"],\"xaxis\":\"x\",\"y\":[\"Israel\",\"Israel\",\"Israel\",\"Israel\",\"Israel\"],\"yaxis\":\"y\",\"type\":\"bar\"},{\"alignmentgroup\":\"True\",\"hovertemplate\":\"country=%{y}<br>Ratings=%{x}<extra></extra>\",\"legendgroup\":\"Italy\",\"marker\":{\"color\":\"#FF97FF\",\"pattern\":{\"shape\":\"\"}},\"name\":\"Italy\",\"offsetgroup\":\"Italy\",\"orientation\":\"v\",\"showlegend\":true,\"textposition\":\"auto\",\"x\":[\"NR\",\"PG-13\",\"R\",\"TV-14\",\"TV-MA\",\"TV-PG\",\"TV-Y\",\"TV-Y7\"],\"xaxis\":\"x\",\"y\":[\"Italy\",\"Italy\",\"Italy\",\"Italy\",\"Italy\",\"Italy\",\"Italy\",\"Italy\"],\"yaxis\":\"y\",\"type\":\"bar\"},{\"alignmentgroup\":\"True\",\"hovertemplate\":\"country=%{y}<br>Ratings=%{x}<extra></extra>\",\"legendgroup\":\"Jamaica\",\"marker\":{\"color\":\"#FECB52\",\"pattern\":{\"shape\":\"\"}},\"name\":\"Jamaica\",\"offsetgroup\":\"Jamaica\",\"orientation\":\"v\",\"showlegend\":true,\"textposition\":\"auto\",\"x\":[\"TV-MA\"],\"xaxis\":\"x\",\"y\":[\"Jamaica\"],\"yaxis\":\"y\",\"type\":\"bar\"},{\"alignmentgroup\":\"True\",\"hovertemplate\":\"country=%{y}<br>Ratings=%{x}<extra></extra>\",\"legendgroup\":\"Japan\",\"marker\":{\"color\":\"#636efa\",\"pattern\":{\"shape\":\"\"}},\"name\":\"Japan\",\"offsetgroup\":\"Japan\",\"orientation\":\"v\",\"showlegend\":true,\"textposition\":\"auto\",\"x\":[\"PG\",\"PG-13\",\"TV-14\",\"TV-G\",\"TV-MA\",\"TV-PG\",\"TV-Y7\"],\"xaxis\":\"x\",\"y\":[\"Japan\",\"Japan\",\"Japan\",\"Japan\",\"Japan\",\"Japan\",\"Japan\"],\"yaxis\":\"y\",\"type\":\"bar\"},{\"alignmentgroup\":\"True\",\"hovertemplate\":\"country=%{y}<br>Ratings=%{x}<extra></extra>\",\"legendgroup\":\"Jordan\",\"marker\":{\"color\":\"#EF553B\",\"pattern\":{\"shape\":\"\"}},\"name\":\"Jordan\",\"offsetgroup\":\"Jordan\",\"orientation\":\"v\",\"showlegend\":true,\"textposition\":\"auto\",\"x\":[\"TV-MA\"],\"xaxis\":\"x\",\"y\":[\"Jordan\"],\"yaxis\":\"y\",\"type\":\"bar\"},{\"alignmentgroup\":\"True\",\"hovertemplate\":\"country=%{y}<br>Ratings=%{x}<extra></extra>\",\"legendgroup\":\"Kenya\",\"marker\":{\"color\":\"#00cc96\",\"pattern\":{\"shape\":\"\"}},\"name\":\"Kenya\",\"offsetgroup\":\"Kenya\",\"orientation\":\"v\",\"showlegend\":true,\"textposition\":\"auto\",\"x\":[\"TV-14\",\"TV-MA\"],\"xaxis\":\"x\",\"y\":[\"Kenya\",\"Kenya\"],\"yaxis\":\"y\",\"type\":\"bar\"},{\"alignmentgroup\":\"True\",\"hovertemplate\":\"country=%{y}<br>Ratings=%{x}<extra></extra>\",\"legendgroup\":\"Kuwait\",\"marker\":{\"color\":\"#ab63fa\",\"pattern\":{\"shape\":\"\"}},\"name\":\"Kuwait\",\"offsetgroup\":\"Kuwait\",\"orientation\":\"v\",\"showlegend\":true,\"textposition\":\"auto\",\"x\":[\"TV-14\",\"TV-G\",\"TV-MA\",\"TV-PG\"],\"xaxis\":\"x\",\"y\":[\"Kuwait\",\"Kuwait\",\"Kuwait\",\"Kuwait\"],\"yaxis\":\"y\",\"type\":\"bar\"},{\"alignmentgroup\":\"True\",\"hovertemplate\":\"country=%{y}<br>Ratings=%{x}<extra></extra>\",\"legendgroup\":\"Lebanon\",\"marker\":{\"color\":\"#FFA15A\",\"pattern\":{\"shape\":\"\"}},\"name\":\"Lebanon\",\"offsetgroup\":\"Lebanon\",\"orientation\":\"v\",\"showlegend\":true,\"textposition\":\"auto\",\"x\":[\"TV-14\",\"TV-MA\"],\"xaxis\":\"x\",\"y\":[\"Lebanon\",\"Lebanon\"],\"yaxis\":\"y\",\"type\":\"bar\"},{\"alignmentgroup\":\"True\",\"hovertemplate\":\"country=%{y}<br>Ratings=%{x}<extra></extra>\",\"legendgroup\":\"Malaysia\",\"marker\":{\"color\":\"#19d3f3\",\"pattern\":{\"shape\":\"\"}},\"name\":\"Malaysia\",\"offsetgroup\":\"Malaysia\",\"orientation\":\"v\",\"showlegend\":true,\"textposition\":\"auto\",\"x\":[\"TV-14\",\"TV-MA\",\"TV-PG\",\"TV-Y\"],\"xaxis\":\"x\",\"y\":[\"Malaysia\",\"Malaysia\",\"Malaysia\",\"Malaysia\"],\"yaxis\":\"y\",\"type\":\"bar\"},{\"alignmentgroup\":\"True\",\"hovertemplate\":\"country=%{y}<br>Ratings=%{x}<extra></extra>\",\"legendgroup\":\"Mauritius\",\"marker\":{\"color\":\"#FF6692\",\"pattern\":{\"shape\":\"\"}},\"name\":\"Mauritius\",\"offsetgroup\":\"Mauritius\",\"orientation\":\"v\",\"showlegend\":true,\"textposition\":\"auto\",\"x\":[\"TV-MA\"],\"xaxis\":\"x\",\"y\":[\"Mauritius\"],\"yaxis\":\"y\",\"type\":\"bar\"},{\"alignmentgroup\":\"True\",\"hovertemplate\":\"country=%{y}<br>Ratings=%{x}<extra></extra>\",\"legendgroup\":\"Mexico\",\"marker\":{\"color\":\"#B6E880\",\"pattern\":{\"shape\":\"\"}},\"name\":\"Mexico\",\"offsetgroup\":\"Mexico\",\"orientation\":\"v\",\"showlegend\":true,\"textposition\":\"auto\",\"x\":[\"NR\",\"PG-13\",\"R\",\"TV-14\",\"TV-G\",\"TV-MA\",\"TV-PG\",\"TV-Y7\"],\"xaxis\":\"x\",\"y\":[\"Mexico\",\"Mexico\",\"Mexico\",\"Mexico\",\"Mexico\",\"Mexico\",\"Mexico\",\"Mexico\"],\"yaxis\":\"y\",\"type\":\"bar\"},{\"alignmentgroup\":\"True\",\"hovertemplate\":\"country=%{y}<br>Ratings=%{x}<extra></extra>\",\"legendgroup\":\"Namibia\",\"marker\":{\"color\":\"#FF97FF\",\"pattern\":{\"shape\":\"\"}},\"name\":\"Namibia\",\"offsetgroup\":\"Namibia\",\"orientation\":\"v\",\"showlegend\":true,\"textposition\":\"auto\",\"x\":[\"TV-PG\"],\"xaxis\":\"x\",\"y\":[\"Namibia\"],\"yaxis\":\"y\",\"type\":\"bar\"},{\"alignmentgroup\":\"True\",\"hovertemplate\":\"country=%{y}<br>Ratings=%{x}<extra></extra>\",\"legendgroup\":\"Netherlands\",\"marker\":{\"color\":\"#FECB52\",\"pattern\":{\"shape\":\"\"}},\"name\":\"Netherlands\",\"offsetgroup\":\"Netherlands\",\"orientation\":\"v\",\"showlegend\":true,\"textposition\":\"auto\",\"x\":[\"R\",\"TV-14\",\"TV-G\",\"TV-MA\",\"TV-PG\",\"TV-Y7\"],\"xaxis\":\"x\",\"y\":[\"Netherlands\",\"Netherlands\",\"Netherlands\",\"Netherlands\",\"Netherlands\",\"Netherlands\"],\"yaxis\":\"y\",\"type\":\"bar\"},{\"alignmentgroup\":\"True\",\"hovertemplate\":\"country=%{y}<br>Ratings=%{x}<extra></extra>\",\"legendgroup\":\"New Zealand\",\"marker\":{\"color\":\"#636efa\",\"pattern\":{\"shape\":\"\"}},\"name\":\"New Zealand\",\"offsetgroup\":\"New Zealand\",\"orientation\":\"v\",\"showlegend\":true,\"textposition\":\"auto\",\"x\":[\"PG\",\"PG-13\",\"R\",\"TV-14\",\"TV-MA\",\"TV-PG\"],\"xaxis\":\"x\",\"y\":[\"New Zealand\",\"New Zealand\",\"New Zealand\",\"New Zealand\",\"New Zealand\",\"New Zealand\"],\"yaxis\":\"y\",\"type\":\"bar\"},{\"alignmentgroup\":\"True\",\"hovertemplate\":\"country=%{y}<br>Ratings=%{x}<extra></extra>\",\"legendgroup\":\"Nigeria\",\"marker\":{\"color\":\"#EF553B\",\"pattern\":{\"shape\":\"\"}},\"name\":\"Nigeria\",\"offsetgroup\":\"Nigeria\",\"orientation\":\"v\",\"showlegend\":true,\"textposition\":\"auto\",\"x\":[\"NR\",\"TV-14\",\"TV-G\",\"TV-MA\",\"TV-PG\"],\"xaxis\":\"x\",\"y\":[\"Nigeria\",\"Nigeria\",\"Nigeria\",\"Nigeria\",\"Nigeria\"],\"yaxis\":\"y\",\"type\":\"bar\"},{\"alignmentgroup\":\"True\",\"hovertemplate\":\"country=%{y}<br>Ratings=%{x}<extra></extra>\",\"legendgroup\":\"Norway\",\"marker\":{\"color\":\"#00cc96\",\"pattern\":{\"shape\":\"\"}},\"name\":\"Norway\",\"offsetgroup\":\"Norway\",\"orientation\":\"v\",\"showlegend\":true,\"textposition\":\"auto\",\"x\":[\"PG-13\",\"R\",\"TV-14\",\"TV-MA\",\"TV-PG\"],\"xaxis\":\"x\",\"y\":[\"Norway\",\"Norway\",\"Norway\",\"Norway\",\"Norway\"],\"yaxis\":\"y\",\"type\":\"bar\"},{\"alignmentgroup\":\"True\",\"hovertemplate\":\"country=%{y}<br>Ratings=%{x}<extra></extra>\",\"legendgroup\":\"Pakistan\",\"marker\":{\"color\":\"#ab63fa\",\"pattern\":{\"shape\":\"\"}},\"name\":\"Pakistan\",\"offsetgroup\":\"Pakistan\",\"orientation\":\"v\",\"showlegend\":true,\"textposition\":\"auto\",\"x\":[\"TV-14\",\"TV-MA\",\"TV-PG\"],\"xaxis\":\"x\",\"y\":[\"Pakistan\",\"Pakistan\",\"Pakistan\"],\"yaxis\":\"y\",\"type\":\"bar\"},{\"alignmentgroup\":\"True\",\"hovertemplate\":\"country=%{y}<br>Ratings=%{x}<extra></extra>\",\"legendgroup\":\"Paraguay\",\"marker\":{\"color\":\"#FFA15A\",\"pattern\":{\"shape\":\"\"}},\"name\":\"Paraguay\",\"offsetgroup\":\"Paraguay\",\"orientation\":\"v\",\"showlegend\":true,\"textposition\":\"auto\",\"x\":[\"TV-MA\"],\"xaxis\":\"x\",\"y\":[\"Paraguay\"],\"yaxis\":\"y\",\"type\":\"bar\"},{\"alignmentgroup\":\"True\",\"hovertemplate\":\"country=%{y}<br>Ratings=%{x}<extra></extra>\",\"legendgroup\":\"Peru\",\"marker\":{\"color\":\"#19d3f3\",\"pattern\":{\"shape\":\"\"}},\"name\":\"Peru\",\"offsetgroup\":\"Peru\",\"orientation\":\"v\",\"showlegend\":true,\"textposition\":\"auto\",\"x\":[\"TV-14\",\"TV-MA\"],\"xaxis\":\"x\",\"y\":[\"Peru\",\"Peru\"],\"yaxis\":\"y\",\"type\":\"bar\"},{\"alignmentgroup\":\"True\",\"hovertemplate\":\"country=%{y}<br>Ratings=%{x}<extra></extra>\",\"legendgroup\":\"Philippines\",\"marker\":{\"color\":\"#FF6692\",\"pattern\":{\"shape\":\"\"}},\"name\":\"Philippines\",\"offsetgroup\":\"Philippines\",\"orientation\":\"v\",\"showlegend\":true,\"textposition\":\"auto\",\"x\":[\"R\",\"TV-14\",\"TV-G\",\"TV-MA\",\"TV-PG\"],\"xaxis\":\"x\",\"y\":[\"Philippines\",\"Philippines\",\"Philippines\",\"Philippines\",\"Philippines\"],\"yaxis\":\"y\",\"type\":\"bar\"},{\"alignmentgroup\":\"True\",\"hovertemplate\":\"country=%{y}<br>Ratings=%{x}<extra></extra>\",\"legendgroup\":\"Poland\",\"marker\":{\"color\":\"#B6E880\",\"pattern\":{\"shape\":\"\"}},\"name\":\"Poland\",\"offsetgroup\":\"Poland\",\"orientation\":\"v\",\"showlegend\":true,\"textposition\":\"auto\",\"x\":[\"TV-14\",\"TV-MA\",\"TV-PG\"],\"xaxis\":\"x\",\"y\":[\"Poland\",\"Poland\",\"Poland\"],\"yaxis\":\"y\",\"type\":\"bar\"},{\"alignmentgroup\":\"True\",\"hovertemplate\":\"country=%{y}<br>Ratings=%{x}<extra></extra>\",\"legendgroup\":\"Portugal\",\"marker\":{\"color\":\"#FF97FF\",\"pattern\":{\"shape\":\"\"}},\"name\":\"Portugal\",\"offsetgroup\":\"Portugal\",\"orientation\":\"v\",\"showlegend\":true,\"textposition\":\"auto\",\"x\":[\"TV-MA\"],\"xaxis\":\"x\",\"y\":[\"Portugal\"],\"yaxis\":\"y\",\"type\":\"bar\"},{\"alignmentgroup\":\"True\",\"hovertemplate\":\"country=%{y}<br>Ratings=%{x}<extra></extra>\",\"legendgroup\":\"Puerto Rico\",\"marker\":{\"color\":\"#FECB52\",\"pattern\":{\"shape\":\"\"}},\"name\":\"Puerto Rico\",\"offsetgroup\":\"Puerto Rico\",\"orientation\":\"v\",\"showlegend\":true,\"textposition\":\"auto\",\"x\":[\"TV-MA\"],\"xaxis\":\"x\",\"y\":[\"Puerto Rico\"],\"yaxis\":\"y\",\"type\":\"bar\"},{\"alignmentgroup\":\"True\",\"hovertemplate\":\"country=%{y}<br>Ratings=%{x}<extra></extra>\",\"legendgroup\":\"Romania\",\"marker\":{\"color\":\"#636efa\",\"pattern\":{\"shape\":\"\"}},\"name\":\"Romania\",\"offsetgroup\":\"Romania\",\"orientation\":\"v\",\"showlegend\":true,\"textposition\":\"auto\",\"x\":[\"R\",\"TV-14\",\"TV-MA\"],\"xaxis\":\"x\",\"y\":[\"Romania\",\"Romania\",\"Romania\"],\"yaxis\":\"y\",\"type\":\"bar\"},{\"alignmentgroup\":\"True\",\"hovertemplate\":\"country=%{y}<br>Ratings=%{x}<extra></extra>\",\"legendgroup\":\"Russia\",\"marker\":{\"color\":\"#EF553B\",\"pattern\":{\"shape\":\"\"}},\"name\":\"Russia\",\"offsetgroup\":\"Russia\",\"orientation\":\"v\",\"showlegend\":true,\"textposition\":\"auto\",\"x\":[\"PG-13\",\"R\",\"TV-14\",\"TV-MA\",\"TV-Y\",\"TV-Y7\"],\"xaxis\":\"x\",\"y\":[\"Russia\",\"Russia\",\"Russia\",\"Russia\",\"Russia\",\"Russia\"],\"yaxis\":\"y\",\"type\":\"bar\"},{\"alignmentgroup\":\"True\",\"hovertemplate\":\"country=%{y}<br>Ratings=%{x}<extra></extra>\",\"legendgroup\":\"Saudi Arabia\",\"marker\":{\"color\":\"#00cc96\",\"pattern\":{\"shape\":\"\"}},\"name\":\"Saudi Arabia\",\"offsetgroup\":\"Saudi Arabia\",\"orientation\":\"v\",\"showlegend\":true,\"textposition\":\"auto\",\"x\":[\"PG\",\"TV-14\",\"TV-MA\",\"TV-PG\"],\"xaxis\":\"x\",\"y\":[\"Saudi Arabia\",\"Saudi Arabia\",\"Saudi Arabia\",\"Saudi Arabia\"],\"yaxis\":\"y\",\"type\":\"bar\"},{\"alignmentgroup\":\"True\",\"hovertemplate\":\"country=%{y}<br>Ratings=%{x}<extra></extra>\",\"legendgroup\":\"Senegal\",\"marker\":{\"color\":\"#ab63fa\",\"pattern\":{\"shape\":\"\"}},\"name\":\"Senegal\",\"offsetgroup\":\"Senegal\",\"orientation\":\"v\",\"showlegend\":true,\"textposition\":\"auto\",\"x\":[\"TV-MA\"],\"xaxis\":\"x\",\"y\":[\"Senegal\"],\"yaxis\":\"y\",\"type\":\"bar\"},{\"alignmentgroup\":\"True\",\"hovertemplate\":\"country=%{y}<br>Ratings=%{x}<extra></extra>\",\"legendgroup\":\"Serbia\",\"marker\":{\"color\":\"#FFA15A\",\"pattern\":{\"shape\":\"\"}},\"name\":\"Serbia\",\"offsetgroup\":\"Serbia\",\"orientation\":\"v\",\"showlegend\":true,\"textposition\":\"auto\",\"x\":[\"R\",\"TV-MA\"],\"xaxis\":\"x\",\"y\":[\"Serbia\",\"Serbia\"],\"yaxis\":\"y\",\"type\":\"bar\"},{\"alignmentgroup\":\"True\",\"hovertemplate\":\"country=%{y}<br>Ratings=%{x}<extra></extra>\",\"legendgroup\":\"Singapore\",\"marker\":{\"color\":\"#19d3f3\",\"pattern\":{\"shape\":\"\"}},\"name\":\"Singapore\",\"offsetgroup\":\"Singapore\",\"orientation\":\"v\",\"showlegend\":true,\"textposition\":\"auto\",\"x\":[\"R\",\"TV-14\",\"TV-MA\",\"TV-PG\"],\"xaxis\":\"x\",\"y\":[\"Singapore\",\"Singapore\",\"Singapore\",\"Singapore\"],\"yaxis\":\"y\",\"type\":\"bar\"},{\"alignmentgroup\":\"True\",\"hovertemplate\":\"country=%{y}<br>Ratings=%{x}<extra></extra>\",\"legendgroup\":\"Slovenia\",\"marker\":{\"color\":\"#FF6692\",\"pattern\":{\"shape\":\"\"}},\"name\":\"Slovenia\",\"offsetgroup\":\"Slovenia\",\"orientation\":\"v\",\"showlegend\":true,\"textposition\":\"auto\",\"x\":[\"TV-14\"],\"xaxis\":\"x\",\"y\":[\"Slovenia\"],\"yaxis\":\"y\",\"type\":\"bar\"},{\"alignmentgroup\":\"True\",\"hovertemplate\":\"country=%{y}<br>Ratings=%{x}<extra></extra>\",\"legendgroup\":\"Somalia\",\"marker\":{\"color\":\"#B6E880\",\"pattern\":{\"shape\":\"\"}},\"name\":\"Somalia\",\"offsetgroup\":\"Somalia\",\"orientation\":\"v\",\"showlegend\":true,\"textposition\":\"auto\",\"x\":[\"R\"],\"xaxis\":\"x\",\"y\":[\"Somalia\"],\"yaxis\":\"y\",\"type\":\"bar\"},{\"alignmentgroup\":\"True\",\"hovertemplate\":\"country=%{y}<br>Ratings=%{x}<extra></extra>\",\"legendgroup\":\"South Africa\",\"marker\":{\"color\":\"#FF97FF\",\"pattern\":{\"shape\":\"\"}},\"name\":\"South Africa\",\"offsetgroup\":\"South Africa\",\"orientation\":\"v\",\"showlegend\":true,\"textposition\":\"auto\",\"x\":[\"PG-13\",\"R\",\"TV-14\",\"TV-MA\",\"TV-PG\"],\"xaxis\":\"x\",\"y\":[\"South Africa\",\"South Africa\",\"South Africa\",\"South Africa\",\"South Africa\"],\"yaxis\":\"y\",\"type\":\"bar\"},{\"alignmentgroup\":\"True\",\"hovertemplate\":\"country=%{y}<br>Ratings=%{x}<extra></extra>\",\"legendgroup\":\"South Korea\",\"marker\":{\"color\":\"#FECB52\",\"pattern\":{\"shape\":\"\"}},\"name\":\"South Korea\",\"offsetgroup\":\"South Korea\",\"orientation\":\"v\",\"showlegend\":true,\"textposition\":\"auto\",\"x\":[\"G\",\"NR\",\"R\",\"TV-14\",\"TV-G\",\"TV-MA\",\"TV-PG\",\"TV-Y\",\"TV-Y7\"],\"xaxis\":\"x\",\"y\":[\"South Korea\",\"South Korea\",\"South Korea\",\"South Korea\",\"South Korea\",\"South Korea\",\"South Korea\",\"South Korea\",\"South Korea\"],\"yaxis\":\"y\",\"type\":\"bar\"},{\"alignmentgroup\":\"True\",\"hovertemplate\":\"country=%{y}<br>Ratings=%{x}<extra></extra>\",\"legendgroup\":\"Soviet Union\",\"marker\":{\"color\":\"#636efa\",\"pattern\":{\"shape\":\"\"}},\"name\":\"Soviet Union\",\"offsetgroup\":\"Soviet Union\",\"orientation\":\"v\",\"showlegend\":true,\"textposition\":\"auto\",\"x\":[\"TV-14\"],\"xaxis\":\"x\",\"y\":[\"Soviet Union\"],\"yaxis\":\"y\",\"type\":\"bar\"},{\"alignmentgroup\":\"True\",\"hovertemplate\":\"country=%{y}<br>Ratings=%{x}<extra></extra>\",\"legendgroup\":\"Spain\",\"marker\":{\"color\":\"#EF553B\",\"pattern\":{\"shape\":\"\"}},\"name\":\"Spain\",\"offsetgroup\":\"Spain\",\"orientation\":\"v\",\"showlegend\":true,\"textposition\":\"auto\",\"x\":[\"G\",\"NR\",\"PG\",\"PG-13\",\"R\",\"TV-14\",\"TV-G\",\"TV-MA\",\"TV-PG\",\"TV-Y\"],\"xaxis\":\"x\",\"y\":[\"Spain\",\"Spain\",\"Spain\",\"Spain\",\"Spain\",\"Spain\",\"Spain\",\"Spain\",\"Spain\",\"Spain\"],\"yaxis\":\"y\",\"type\":\"bar\"},{\"alignmentgroup\":\"True\",\"hovertemplate\":\"country=%{y}<br>Ratings=%{x}<extra></extra>\",\"legendgroup\":\"Sweden\",\"marker\":{\"color\":\"#00cc96\",\"pattern\":{\"shape\":\"\"}},\"name\":\"Sweden\",\"offsetgroup\":\"Sweden\",\"orientation\":\"v\",\"showlegend\":true,\"textposition\":\"auto\",\"x\":[\"PG-13\",\"TV-MA\"],\"xaxis\":\"x\",\"y\":[\"Sweden\",\"Sweden\"],\"yaxis\":\"y\",\"type\":\"bar\"},{\"alignmentgroup\":\"True\",\"hovertemplate\":\"country=%{y}<br>Ratings=%{x}<extra></extra>\",\"legendgroup\":\"Switzerland\",\"marker\":{\"color\":\"#ab63fa\",\"pattern\":{\"shape\":\"\"}},\"name\":\"Switzerland\",\"offsetgroup\":\"Switzerland\",\"orientation\":\"v\",\"showlegend\":true,\"textposition\":\"auto\",\"x\":[\"PG\",\"PG-13\",\"R\",\"TV-MA\"],\"xaxis\":\"x\",\"y\":[\"Switzerland\",\"Switzerland\",\"Switzerland\",\"Switzerland\"],\"yaxis\":\"y\",\"type\":\"bar\"},{\"alignmentgroup\":\"True\",\"hovertemplate\":\"country=%{y}<br>Ratings=%{x}<extra></extra>\",\"legendgroup\":\"Taiwan\",\"marker\":{\"color\":\"#FFA15A\",\"pattern\":{\"shape\":\"\"}},\"name\":\"Taiwan\",\"offsetgroup\":\"Taiwan\",\"orientation\":\"v\",\"showlegend\":true,\"textposition\":\"auto\",\"x\":[\"PG-13\",\"TV-14\",\"TV-MA\",\"TV-PG\"],\"xaxis\":\"x\",\"y\":[\"Taiwan\",\"Taiwan\",\"Taiwan\",\"Taiwan\"],\"yaxis\":\"y\",\"type\":\"bar\"},{\"alignmentgroup\":\"True\",\"hovertemplate\":\"country=%{y}<br>Ratings=%{x}<extra></extra>\",\"legendgroup\":\"Thailand\",\"marker\":{\"color\":\"#19d3f3\",\"pattern\":{\"shape\":\"\"}},\"name\":\"Thailand\",\"offsetgroup\":\"Thailand\",\"orientation\":\"v\",\"showlegend\":true,\"textposition\":\"auto\",\"x\":[\"R\",\"TV-14\",\"TV-G\",\"TV-MA\",\"TV-PG\"],\"xaxis\":\"x\",\"y\":[\"Thailand\",\"Thailand\",\"Thailand\",\"Thailand\",\"Thailand\"],\"yaxis\":\"y\",\"type\":\"bar\"},{\"alignmentgroup\":\"True\",\"hovertemplate\":\"country=%{y}<br>Ratings=%{x}<extra></extra>\",\"legendgroup\":\"Turkey\",\"marker\":{\"color\":\"#FF6692\",\"pattern\":{\"shape\":\"\"}},\"name\":\"Turkey\",\"offsetgroup\":\"Turkey\",\"orientation\":\"v\",\"showlegend\":true,\"textposition\":\"auto\",\"x\":[\"NR\",\"R\",\"TV-14\",\"TV-G\",\"TV-MA\",\"TV-PG\"],\"xaxis\":\"x\",\"y\":[\"Turkey\",\"Turkey\",\"Turkey\",\"Turkey\",\"Turkey\",\"Turkey\"],\"yaxis\":\"y\",\"type\":\"bar\"},{\"alignmentgroup\":\"True\",\"hovertemplate\":\"country=%{y}<br>Ratings=%{x}<extra></extra>\",\"legendgroup\":\"Ukraine\",\"marker\":{\"color\":\"#B6E880\",\"pattern\":{\"shape\":\"\"}},\"name\":\"Ukraine\",\"offsetgroup\":\"Ukraine\",\"orientation\":\"v\",\"showlegend\":true,\"textposition\":\"auto\",\"x\":[\"TV-14\",\"TV-MA\"],\"xaxis\":\"x\",\"y\":[\"Ukraine\",\"Ukraine\"],\"yaxis\":\"y\",\"type\":\"bar\"},{\"alignmentgroup\":\"True\",\"hovertemplate\":\"country=%{y}<br>Ratings=%{x}<extra></extra>\",\"legendgroup\":\"United Arab Emirates\",\"marker\":{\"color\":\"#FF97FF\",\"pattern\":{\"shape\":\"\"}},\"name\":\"United Arab Emirates\",\"offsetgroup\":\"United Arab Emirates\",\"orientation\":\"v\",\"showlegend\":true,\"textposition\":\"auto\",\"x\":[\"R\",\"TV-14\",\"TV-G\",\"TV-MA\",\"TV-PG\"],\"xaxis\":\"x\",\"y\":[\"United Arab Emirates\",\"United Arab Emirates\",\"United Arab Emirates\",\"United Arab Emirates\",\"United Arab Emirates\"],\"yaxis\":\"y\",\"type\":\"bar\"},{\"alignmentgroup\":\"True\",\"hovertemplate\":\"country=%{y}<br>Ratings=%{x}<extra></extra>\",\"legendgroup\":\"United Kingdom\",\"marker\":{\"color\":\"#FECB52\",\"pattern\":{\"shape\":\"\"}},\"name\":\"United Kingdom\",\"offsetgroup\":\"United Kingdom\",\"orientation\":\"v\",\"showlegend\":true,\"textposition\":\"auto\",\"x\":[\"G\",\"NR\",\"PG\",\"PG-13\",\"R\",\"TV-14\",\"TV-G\",\"TV-MA\",\"TV-PG\",\"TV-Y\",\"TV-Y7\",\"UR\"],\"xaxis\":\"x\",\"y\":[\"United Kingdom\",\"United Kingdom\",\"United Kingdom\",\"United Kingdom\",\"United Kingdom\",\"United Kingdom\",\"United Kingdom\",\"United Kingdom\",\"United Kingdom\",\"United Kingdom\",\"United Kingdom\",\"United Kingdom\"],\"yaxis\":\"y\",\"type\":\"bar\"},{\"alignmentgroup\":\"True\",\"hovertemplate\":\"country=%{y}<br>Ratings=%{x}<extra></extra>\",\"legendgroup\":\"United States\",\"marker\":{\"color\":\"#636efa\",\"pattern\":{\"shape\":\"\"}},\"name\":\"United States\",\"offsetgroup\":\"United States\",\"orientation\":\"v\",\"showlegend\":true,\"textposition\":\"auto\",\"x\":[\"G\",\"NC-17\",\"NR\",\"PG\",\"PG-13\",\"R\",\"TV-14\",\"TV-G\",\"TV-MA\",\"TV-PG\",\"TV-Y\",\"TV-Y7\",\"TV-Y7-FV\",\"UR\"],\"xaxis\":\"x\",\"y\":[\"United States\",\"United States\",\"United States\",\"United States\",\"United States\",\"United States\",\"United States\",\"United States\",\"United States\",\"United States\",\"United States\",\"United States\",\"United States\",\"United States\"],\"yaxis\":\"y\",\"type\":\"bar\"},{\"alignmentgroup\":\"True\",\"hovertemplate\":\"country=%{y}<br>Ratings=%{x}<extra></extra>\",\"legendgroup\":\"Uruguay\",\"marker\":{\"color\":\"#EF553B\",\"pattern\":{\"shape\":\"\"}},\"name\":\"Uruguay\",\"offsetgroup\":\"Uruguay\",\"orientation\":\"v\",\"showlegend\":true,\"textposition\":\"auto\",\"x\":[\"TV-G\",\"TV-MA\",\"TV-PG\"],\"xaxis\":\"x\",\"y\":[\"Uruguay\",\"Uruguay\",\"Uruguay\"],\"yaxis\":\"y\",\"type\":\"bar\"},{\"alignmentgroup\":\"True\",\"hovertemplate\":\"country=%{y}<br>Ratings=%{x}<extra></extra>\",\"legendgroup\":\"Venezuela\",\"marker\":{\"color\":\"#00cc96\",\"pattern\":{\"shape\":\"\"}},\"name\":\"Venezuela\",\"offsetgroup\":\"Venezuela\",\"orientation\":\"v\",\"showlegend\":true,\"textposition\":\"auto\",\"x\":[\"TV-14\"],\"xaxis\":\"x\",\"y\":[\"Venezuela\"],\"yaxis\":\"y\",\"type\":\"bar\"},{\"alignmentgroup\":\"True\",\"hovertemplate\":\"country=%{y}<br>Ratings=%{x}<extra></extra>\",\"legendgroup\":\"Vietnam\",\"marker\":{\"color\":\"#ab63fa\",\"pattern\":{\"shape\":\"\"}},\"name\":\"Vietnam\",\"offsetgroup\":\"Vietnam\",\"orientation\":\"v\",\"showlegend\":true,\"textposition\":\"auto\",\"x\":[\"TV-14\",\"TV-G\",\"TV-MA\"],\"xaxis\":\"x\",\"y\":[\"Vietnam\",\"Vietnam\",\"Vietnam\"],\"yaxis\":\"y\",\"type\":\"bar\"},{\"alignmentgroup\":\"True\",\"hovertemplate\":\"country=%{y}<br>Ratings=%{x}<extra></extra>\",\"legendgroup\":\"Zimbabwe\",\"marker\":{\"color\":\"#FFA15A\",\"pattern\":{\"shape\":\"\"}},\"name\":\"Zimbabwe\",\"offsetgroup\":\"Zimbabwe\",\"orientation\":\"v\",\"showlegend\":true,\"textposition\":\"auto\",\"x\":[\"TV-G\"],\"xaxis\":\"x\",\"y\":[\"Zimbabwe\"],\"yaxis\":\"y\",\"type\":\"bar\"}],                        {\"template\":{\"data\":{\"bar\":[{\"error_x\":{\"color\":\"#2a3f5f\"},\"error_y\":{\"color\":\"#2a3f5f\"},\"marker\":{\"line\":{\"color\":\"#E5ECF6\",\"width\":0.5},\"pattern\":{\"fillmode\":\"overlay\",\"size\":10,\"solidity\":0.2}},\"type\":\"bar\"}],\"barpolar\":[{\"marker\":{\"line\":{\"color\":\"#E5ECF6\",\"width\":0.5},\"pattern\":{\"fillmode\":\"overlay\",\"size\":10,\"solidity\":0.2}},\"type\":\"barpolar\"}],\"carpet\":[{\"aaxis\":{\"endlinecolor\":\"#2a3f5f\",\"gridcolor\":\"white\",\"linecolor\":\"white\",\"minorgridcolor\":\"white\",\"startlinecolor\":\"#2a3f5f\"},\"baxis\":{\"endlinecolor\":\"#2a3f5f\",\"gridcolor\":\"white\",\"linecolor\":\"white\",\"minorgridcolor\":\"white\",\"startlinecolor\":\"#2a3f5f\"},\"type\":\"carpet\"}],\"choropleth\":[{\"colorbar\":{\"outlinewidth\":0,\"ticks\":\"\"},\"type\":\"choropleth\"}],\"contour\":[{\"colorbar\":{\"outlinewidth\":0,\"ticks\":\"\"},\"colorscale\":[[0.0,\"#0d0887\"],[0.1111111111111111,\"#46039f\"],[0.2222222222222222,\"#7201a8\"],[0.3333333333333333,\"#9c179e\"],[0.4444444444444444,\"#bd3786\"],[0.5555555555555556,\"#d8576b\"],[0.6666666666666666,\"#ed7953\"],[0.7777777777777778,\"#fb9f3a\"],[0.8888888888888888,\"#fdca26\"],[1.0,\"#f0f921\"]],\"type\":\"contour\"}],\"contourcarpet\":[{\"colorbar\":{\"outlinewidth\":0,\"ticks\":\"\"},\"type\":\"contourcarpet\"}],\"heatmap\":[{\"colorbar\":{\"outlinewidth\":0,\"ticks\":\"\"},\"colorscale\":[[0.0,\"#0d0887\"],[0.1111111111111111,\"#46039f\"],[0.2222222222222222,\"#7201a8\"],[0.3333333333333333,\"#9c179e\"],[0.4444444444444444,\"#bd3786\"],[0.5555555555555556,\"#d8576b\"],[0.6666666666666666,\"#ed7953\"],[0.7777777777777778,\"#fb9f3a\"],[0.8888888888888888,\"#fdca26\"],[1.0,\"#f0f921\"]],\"type\":\"heatmap\"}],\"heatmapgl\":[{\"colorbar\":{\"outlinewidth\":0,\"ticks\":\"\"},\"colorscale\":[[0.0,\"#0d0887\"],[0.1111111111111111,\"#46039f\"],[0.2222222222222222,\"#7201a8\"],[0.3333333333333333,\"#9c179e\"],[0.4444444444444444,\"#bd3786\"],[0.5555555555555556,\"#d8576b\"],[0.6666666666666666,\"#ed7953\"],[0.7777777777777778,\"#fb9f3a\"],[0.8888888888888888,\"#fdca26\"],[1.0,\"#f0f921\"]],\"type\":\"heatmapgl\"}],\"histogram\":[{\"marker\":{\"pattern\":{\"fillmode\":\"overlay\",\"size\":10,\"solidity\":0.2}},\"type\":\"histogram\"}],\"histogram2d\":[{\"colorbar\":{\"outlinewidth\":0,\"ticks\":\"\"},\"colorscale\":[[0.0,\"#0d0887\"],[0.1111111111111111,\"#46039f\"],[0.2222222222222222,\"#7201a8\"],[0.3333333333333333,\"#9c179e\"],[0.4444444444444444,\"#bd3786\"],[0.5555555555555556,\"#d8576b\"],[0.6666666666666666,\"#ed7953\"],[0.7777777777777778,\"#fb9f3a\"],[0.8888888888888888,\"#fdca26\"],[1.0,\"#f0f921\"]],\"type\":\"histogram2d\"}],\"histogram2dcontour\":[{\"colorbar\":{\"outlinewidth\":0,\"ticks\":\"\"},\"colorscale\":[[0.0,\"#0d0887\"],[0.1111111111111111,\"#46039f\"],[0.2222222222222222,\"#7201a8\"],[0.3333333333333333,\"#9c179e\"],[0.4444444444444444,\"#bd3786\"],[0.5555555555555556,\"#d8576b\"],[0.6666666666666666,\"#ed7953\"],[0.7777777777777778,\"#fb9f3a\"],[0.8888888888888888,\"#fdca26\"],[1.0,\"#f0f921\"]],\"type\":\"histogram2dcontour\"}],\"mesh3d\":[{\"colorbar\":{\"outlinewidth\":0,\"ticks\":\"\"},\"type\":\"mesh3d\"}],\"parcoords\":[{\"line\":{\"colorbar\":{\"outlinewidth\":0,\"ticks\":\"\"}},\"type\":\"parcoords\"}],\"pie\":[{\"automargin\":true,\"type\":\"pie\"}],\"scatter\":[{\"marker\":{\"colorbar\":{\"outlinewidth\":0,\"ticks\":\"\"}},\"type\":\"scatter\"}],\"scatter3d\":[{\"line\":{\"colorbar\":{\"outlinewidth\":0,\"ticks\":\"\"}},\"marker\":{\"colorbar\":{\"outlinewidth\":0,\"ticks\":\"\"}},\"type\":\"scatter3d\"}],\"scattercarpet\":[{\"marker\":{\"colorbar\":{\"outlinewidth\":0,\"ticks\":\"\"}},\"type\":\"scattercarpet\"}],\"scattergeo\":[{\"marker\":{\"colorbar\":{\"outlinewidth\":0,\"ticks\":\"\"}},\"type\":\"scattergeo\"}],\"scattergl\":[{\"marker\":{\"colorbar\":{\"outlinewidth\":0,\"ticks\":\"\"}},\"type\":\"scattergl\"}],\"scattermapbox\":[{\"marker\":{\"colorbar\":{\"outlinewidth\":0,\"ticks\":\"\"}},\"type\":\"scattermapbox\"}],\"scatterpolar\":[{\"marker\":{\"colorbar\":{\"outlinewidth\":0,\"ticks\":\"\"}},\"type\":\"scatterpolar\"}],\"scatterpolargl\":[{\"marker\":{\"colorbar\":{\"outlinewidth\":0,\"ticks\":\"\"}},\"type\":\"scatterpolargl\"}],\"scatterternary\":[{\"marker\":{\"colorbar\":{\"outlinewidth\":0,\"ticks\":\"\"}},\"type\":\"scatterternary\"}],\"surface\":[{\"colorbar\":{\"outlinewidth\":0,\"ticks\":\"\"},\"colorscale\":[[0.0,\"#0d0887\"],[0.1111111111111111,\"#46039f\"],[0.2222222222222222,\"#7201a8\"],[0.3333333333333333,\"#9c179e\"],[0.4444444444444444,\"#bd3786\"],[0.5555555555555556,\"#d8576b\"],[0.6666666666666666,\"#ed7953\"],[0.7777777777777778,\"#fb9f3a\"],[0.8888888888888888,\"#fdca26\"],[1.0,\"#f0f921\"]],\"type\":\"surface\"}],\"table\":[{\"cells\":{\"fill\":{\"color\":\"#EBF0F8\"},\"line\":{\"color\":\"white\"}},\"header\":{\"fill\":{\"color\":\"#C8D4E3\"},\"line\":{\"color\":\"white\"}},\"type\":\"table\"}]},\"layout\":{\"annotationdefaults\":{\"arrowcolor\":\"#2a3f5f\",\"arrowhead\":0,\"arrowwidth\":1},\"autotypenumbers\":\"strict\",\"coloraxis\":{\"colorbar\":{\"outlinewidth\":0,\"ticks\":\"\"}},\"colorscale\":{\"diverging\":[[0,\"#8e0152\"],[0.1,\"#c51b7d\"],[0.2,\"#de77ae\"],[0.3,\"#f1b6da\"],[0.4,\"#fde0ef\"],[0.5,\"#f7f7f7\"],[0.6,\"#e6f5d0\"],[0.7,\"#b8e186\"],[0.8,\"#7fbc41\"],[0.9,\"#4d9221\"],[1,\"#276419\"]],\"sequential\":[[0.0,\"#0d0887\"],[0.1111111111111111,\"#46039f\"],[0.2222222222222222,\"#7201a8\"],[0.3333333333333333,\"#9c179e\"],[0.4444444444444444,\"#bd3786\"],[0.5555555555555556,\"#d8576b\"],[0.6666666666666666,\"#ed7953\"],[0.7777777777777778,\"#fb9f3a\"],[0.8888888888888888,\"#fdca26\"],[1.0,\"#f0f921\"]],\"sequentialminus\":[[0.0,\"#0d0887\"],[0.1111111111111111,\"#46039f\"],[0.2222222222222222,\"#7201a8\"],[0.3333333333333333,\"#9c179e\"],[0.4444444444444444,\"#bd3786\"],[0.5555555555555556,\"#d8576b\"],[0.6666666666666666,\"#ed7953\"],[0.7777777777777778,\"#fb9f3a\"],[0.8888888888888888,\"#fdca26\"],[1.0,\"#f0f921\"]]},\"colorway\":[\"#636efa\",\"#EF553B\",\"#00cc96\",\"#ab63fa\",\"#FFA15A\",\"#19d3f3\",\"#FF6692\",\"#B6E880\",\"#FF97FF\",\"#FECB52\"],\"font\":{\"color\":\"#2a3f5f\"},\"geo\":{\"bgcolor\":\"white\",\"lakecolor\":\"white\",\"landcolor\":\"#E5ECF6\",\"showlakes\":true,\"showland\":true,\"subunitcolor\":\"white\"},\"hoverlabel\":{\"align\":\"left\"},\"hovermode\":\"closest\",\"mapbox\":{\"style\":\"light\"},\"paper_bgcolor\":\"white\",\"plot_bgcolor\":\"#E5ECF6\",\"polar\":{\"angularaxis\":{\"gridcolor\":\"white\",\"linecolor\":\"white\",\"ticks\":\"\"},\"bgcolor\":\"#E5ECF6\",\"radialaxis\":{\"gridcolor\":\"white\",\"linecolor\":\"white\",\"ticks\":\"\"}},\"scene\":{\"xaxis\":{\"backgroundcolor\":\"#E5ECF6\",\"gridcolor\":\"white\",\"gridwidth\":2,\"linecolor\":\"white\",\"showbackground\":true,\"ticks\":\"\",\"zerolinecolor\":\"white\"},\"yaxis\":{\"backgroundcolor\":\"#E5ECF6\",\"gridcolor\":\"white\",\"gridwidth\":2,\"linecolor\":\"white\",\"showbackground\":true,\"ticks\":\"\",\"zerolinecolor\":\"white\"},\"zaxis\":{\"backgroundcolor\":\"#E5ECF6\",\"gridcolor\":\"white\",\"gridwidth\":2,\"linecolor\":\"white\",\"showbackground\":true,\"ticks\":\"\",\"zerolinecolor\":\"white\"}},\"shapedefaults\":{\"line\":{\"color\":\"#2a3f5f\"}},\"ternary\":{\"aaxis\":{\"gridcolor\":\"white\",\"linecolor\":\"white\",\"ticks\":\"\"},\"baxis\":{\"gridcolor\":\"white\",\"linecolor\":\"white\",\"ticks\":\"\"},\"bgcolor\":\"#E5ECF6\",\"caxis\":{\"gridcolor\":\"white\",\"linecolor\":\"white\",\"ticks\":\"\"}},\"title\":{\"x\":0.05},\"xaxis\":{\"automargin\":true,\"gridcolor\":\"white\",\"linecolor\":\"white\",\"ticks\":\"\",\"title\":{\"standoff\":15},\"zerolinecolor\":\"white\",\"zerolinewidth\":2},\"yaxis\":{\"automargin\":true,\"gridcolor\":\"white\",\"linecolor\":\"white\",\"ticks\":\"\",\"title\":{\"standoff\":15},\"zerolinecolor\":\"white\",\"zerolinewidth\":2}}},\"xaxis\":{\"anchor\":\"y\",\"domain\":[0.0,1.0],\"title\":{\"text\":\"Ratings\"},\"showgrid\":true},\"yaxis\":{\"anchor\":\"x\",\"domain\":[0.0,1.0],\"title\":{\"text\":\"country\"},\"categoryorder\":\"array\",\"categoryarray\":[\"Zimbabwe\",\"Vietnam\",\"Venezuela\",\"Uruguay\",\"United States\",\"United Kingdom\",\"United Arab Emirates\",\"Ukraine\",\"Turkey\",\"Thailand\",\"Taiwan\",\"Switzerland\",\"Sweden\",\"Spain\",\"Soviet Union\",\"South Korea\",\"South Africa\",\"Somalia\",\"Slovenia\",\"Singapore\",\"Serbia\",\"Senegal\",\"Saudi Arabia\",\"Russia\",\"Romania\",\"Puerto Rico\",\"Portugal\",\"Poland\",\"Philippines\",\"Peru\",\"Paraguay\",\"Pakistan\",\"Norway\",\"Nigeria\",\"New Zealand\",\"Netherlands\",\"Namibia\",\"Mexico\",\"Mauritius\",\"Malaysia\",\"Lebanon\",\"Kuwait\",\"Kenya\",\"Jordan\",\"Japan\",\"Jamaica\",\"Italy\",\"Israel\",\"Ireland\",\"Iran\",\"Indonesia\",\"India\",\"Iceland\",\"Hungary\",\"Hong Kong\",\"Guatemala\",\"Ghana\",\"Germany\",\"Georgia\",\"France\",\"Finland\",\"Egypt\",\"Denmark\",\"Czech Republic\",\"Cyprus\",\"Croatia\",\"Colombia\",\"China\",\"Chile\",\"Canada\",\"Cambodia\",\"Bulgaria\",\"Brazil\",\"Belgium\",\"Belarus\",\"Bangladesh\",\"Austria\",\"Australia\",\"Argentina\",\" West Germany\",\" Vatican City\",\" Uruguay\",\" United States\",\" United Kingdom\",\" United Arab Emirates\",\" Turkey\",\" Thailand\",\" Taiwan\",\" Syria\",\" Switzerland\",\" Sweden\",\" Sudan\",\" Sri Lanka\",\" Spain\",\" Soviet Union\",\" South Korea\",\" South Africa\",\" Slovenia\",\" Slovakia\",\" Singapore\",\" Serbia\",\" Senegal\",\" Russia\",\" Romania\",\" Qatar\",\" Portugal\",\" Poland\",\" Philippines\",\" Peru\",\" Panama\",\" Pakistan\",\" Norway\",\" Nigeria\",\" Nicaragua\",\" New Zealand\",\" Netherlands\",\" Nepal\",\" Morocco\",\" Montenegro\",\" Mexico\",\" Malta\",\" Malaysia\",\" Malawi\",\" Luxembourg\",\" Lithuania\",\" Liechtenstein\",\" Lebanon\",\" Latvia\",\" Kuwait\",\" Kenya\",\" Jordan\",\" Japan\",\" Italy\",\" Israel\",\" Ireland\",\" Iraq\",\" Iran\",\" Indonesia\",\" India\",\" Iceland\",\" Hungary\",\" Hong Kong\",\" Guatemala\",\" Greece\",\" Germany\",\" France\",\" Finland\",\" Egypt\",\" Ecuador\",\" East Germany\",\" Dominican Republic\",\" Denmark\",\" Czech Republic\",\" Cuba\",\" Croatia\",\" Colombia\",\" China\",\" Chile\",\" Cayman Islands\",\" Canada\",\" Cambodia\",\" Bulgaria\",\" Brazil\",\" Bermuda\",\" Belgium\",\" Bangladesh\",\" Bahamas\",\" Azerbaijan\",\" Austria\",\" Australia\",\" Argentina\",\" Angola\",\" Algeria\",\" Albania\",\" Afghanistan\"]},\"legend\":{\"title\":{\"text\":\"country\"},\"tracegroupgap\":0},\"margin\":{\"t\":60},\"barmode\":\"relative\",\"title\":{\"font\":{\"size\":200}}},                        {\"responsive\": true}                    ).then(function(){\n",
              "                            \n",
              "var gd = document.getElementById('4c4c46fb-1c7d-49e8-9a85-0aceaa68dbca');\n",
              "var x = new MutationObserver(function (mutations, observer) {{\n",
              "        var display = window.getComputedStyle(gd).display;\n",
              "        if (!display || display === 'none') {{\n",
              "            console.log([gd, 'removed!']);\n",
              "            Plotly.purge(gd);\n",
              "            observer.disconnect();\n",
              "        }}\n",
              "}});\n",
              "\n",
              "// Listen for the removal of the full notebook cells\n",
              "var notebookContainer = gd.closest('#notebook-container');\n",
              "if (notebookContainer) {{\n",
              "    x.observe(notebookContainer, {childList: true});\n",
              "}}\n",
              "\n",
              "// Listen for the clearing of the current output cell\n",
              "var outputEl = gd.closest('.output');\n",
              "if (outputEl) {{\n",
              "    x.observe(outputEl, {childList: true});\n",
              "}}\n",
              "\n",
              "                        })                };                            </script>        </div>\n",
              "</body>\n",
              "</html>"
            ]
          },
          "metadata": {}
        }
      ]
    },
    {
      "cell_type": "markdown",
      "source": [
        "As we can see from the plot above, there are various types of content available, but in most countries, TV-MA content is available, and the TV-MA rating you see on many Netflix TV series signifies that the programme is only suitable for mature viewers. A TV show with a TV-MA rating features graphic violence or a combination of brutal violence. So that could be the reason for it, because the Netflix audience enjoys this type of content. "
      ],
      "metadata": {
        "id": "uVcJJYj9Jq2E"
      }
    },
    {
      "cell_type": "markdown",
      "metadata": {
        "id": "8bmq4CwReqd9"
      },
      "source": [
        "# 3. Is Netflix has increasingly focusing on TV rather than movies in recent years."
      ]
    },
    {
      "cell_type": "code",
      "execution_count": 38,
      "metadata": {
        "id": "7rNbaxLVgUb9"
      },
      "outputs": [],
      "source": [
        "#groupby year and type of show feature\n",
        "tv_rather_than_movies=df_clean_frame.groupby(['year','Type_of_show'])['show_id'].count().reset_index().rename(columns={'show_id':'count'})"
      ]
    },
    {
      "cell_type": "code",
      "source": [
        "#visualising type_of_show feature w.r.t. years\n",
        "df = px.data.gapminder().query(\"continent == 'Oceania'\")\n",
        "fig = px.line(tv_rather_than_movies, x='year', y='count', color='Type_of_show')\n",
        "fig.show()"
      ],
      "metadata": {
        "id": "457XdvIJAhqj",
        "colab": {
          "base_uri": "https://localhost:8080/",
          "height": 542
        },
        "outputId": "e2041abe-6163-46c1-c6aa-7db82fe636fa"
      },
      "execution_count": 39,
      "outputs": [
        {
          "output_type": "display_data",
          "data": {
            "text/html": [
              "<html>\n",
              "<head><meta charset=\"utf-8\" /></head>\n",
              "<body>\n",
              "    <div>            <script src=\"https://cdnjs.cloudflare.com/ajax/libs/mathjax/2.7.5/MathJax.js?config=TeX-AMS-MML_SVG\"></script><script type=\"text/javascript\">if (window.MathJax) {MathJax.Hub.Config({SVG: {font: \"STIX-Web\"}});}</script>                <script type=\"text/javascript\">window.PlotlyConfig = {MathJaxConfig: 'local'};</script>\n",
              "        <script src=\"https://cdn.plot.ly/plotly-2.8.3.min.js\"></script>                <div id=\"2051458e-402b-4eec-bc75-d43c5ed0a46d\" class=\"plotly-graph-div\" style=\"height:525px; width:100%;\"></div>            <script type=\"text/javascript\">                                    window.PLOTLYENV=window.PLOTLYENV || {};                                    if (document.getElementById(\"2051458e-402b-4eec-bc75-d43c5ed0a46d\")) {                    Plotly.newPlot(                        \"2051458e-402b-4eec-bc75-d43c5ed0a46d\",                        [{\"hovertemplate\":\"Type_of_show=Movie<br>year=%{x}<br>count=%{y}<extra></extra>\",\"legendgroup\":\"Movie\",\"line\":{\"color\":\"#636efa\",\"dash\":\"solid\"},\"marker\":{\"symbol\":\"circle\"},\"mode\":\"lines\",\"name\":\"Movie\",\"orientation\":\"v\",\"showlegend\":true,\"x\":[2008,2009,2010,2011,2012,2013,2014,2015,2016,2017,2018,2019,2020,2021],\"xaxis\":\"x\",\"y\":[1,2,1,15,4,6,21,57,269,945,1429,1681,1545,104],\"yaxis\":\"y\",\"type\":\"scatter\"},{\"hovertemplate\":\"Type_of_show=TV Show<br>year=%{x}<br>count=%{y}<extra></extra>\",\"legendgroup\":\"TV Show\",\"line\":{\"color\":\"#EF553B\",\"dash\":\"solid\"},\"marker\":{\"symbol\":\"circle\"},\"mode\":\"lines\",\"name\":\"TV Show\",\"orientation\":\"v\",\"showlegend\":true,\"x\":[2013,2014,2015,2016,2017,2018,2019,2020,2021],\"xaxis\":\"x\",\"y\":[7,11,35,208,319,363,568,646,25],\"yaxis\":\"y\",\"type\":\"scatter\"}],                        {\"template\":{\"data\":{\"bar\":[{\"error_x\":{\"color\":\"#2a3f5f\"},\"error_y\":{\"color\":\"#2a3f5f\"},\"marker\":{\"line\":{\"color\":\"#E5ECF6\",\"width\":0.5},\"pattern\":{\"fillmode\":\"overlay\",\"size\":10,\"solidity\":0.2}},\"type\":\"bar\"}],\"barpolar\":[{\"marker\":{\"line\":{\"color\":\"#E5ECF6\",\"width\":0.5},\"pattern\":{\"fillmode\":\"overlay\",\"size\":10,\"solidity\":0.2}},\"type\":\"barpolar\"}],\"carpet\":[{\"aaxis\":{\"endlinecolor\":\"#2a3f5f\",\"gridcolor\":\"white\",\"linecolor\":\"white\",\"minorgridcolor\":\"white\",\"startlinecolor\":\"#2a3f5f\"},\"baxis\":{\"endlinecolor\":\"#2a3f5f\",\"gridcolor\":\"white\",\"linecolor\":\"white\",\"minorgridcolor\":\"white\",\"startlinecolor\":\"#2a3f5f\"},\"type\":\"carpet\"}],\"choropleth\":[{\"colorbar\":{\"outlinewidth\":0,\"ticks\":\"\"},\"type\":\"choropleth\"}],\"contour\":[{\"colorbar\":{\"outlinewidth\":0,\"ticks\":\"\"},\"colorscale\":[[0.0,\"#0d0887\"],[0.1111111111111111,\"#46039f\"],[0.2222222222222222,\"#7201a8\"],[0.3333333333333333,\"#9c179e\"],[0.4444444444444444,\"#bd3786\"],[0.5555555555555556,\"#d8576b\"],[0.6666666666666666,\"#ed7953\"],[0.7777777777777778,\"#fb9f3a\"],[0.8888888888888888,\"#fdca26\"],[1.0,\"#f0f921\"]],\"type\":\"contour\"}],\"contourcarpet\":[{\"colorbar\":{\"outlinewidth\":0,\"ticks\":\"\"},\"type\":\"contourcarpet\"}],\"heatmap\":[{\"colorbar\":{\"outlinewidth\":0,\"ticks\":\"\"},\"colorscale\":[[0.0,\"#0d0887\"],[0.1111111111111111,\"#46039f\"],[0.2222222222222222,\"#7201a8\"],[0.3333333333333333,\"#9c179e\"],[0.4444444444444444,\"#bd3786\"],[0.5555555555555556,\"#d8576b\"],[0.6666666666666666,\"#ed7953\"],[0.7777777777777778,\"#fb9f3a\"],[0.8888888888888888,\"#fdca26\"],[1.0,\"#f0f921\"]],\"type\":\"heatmap\"}],\"heatmapgl\":[{\"colorbar\":{\"outlinewidth\":0,\"ticks\":\"\"},\"colorscale\":[[0.0,\"#0d0887\"],[0.1111111111111111,\"#46039f\"],[0.2222222222222222,\"#7201a8\"],[0.3333333333333333,\"#9c179e\"],[0.4444444444444444,\"#bd3786\"],[0.5555555555555556,\"#d8576b\"],[0.6666666666666666,\"#ed7953\"],[0.7777777777777778,\"#fb9f3a\"],[0.8888888888888888,\"#fdca26\"],[1.0,\"#f0f921\"]],\"type\":\"heatmapgl\"}],\"histogram\":[{\"marker\":{\"pattern\":{\"fillmode\":\"overlay\",\"size\":10,\"solidity\":0.2}},\"type\":\"histogram\"}],\"histogram2d\":[{\"colorbar\":{\"outlinewidth\":0,\"ticks\":\"\"},\"colorscale\":[[0.0,\"#0d0887\"],[0.1111111111111111,\"#46039f\"],[0.2222222222222222,\"#7201a8\"],[0.3333333333333333,\"#9c179e\"],[0.4444444444444444,\"#bd3786\"],[0.5555555555555556,\"#d8576b\"],[0.6666666666666666,\"#ed7953\"],[0.7777777777777778,\"#fb9f3a\"],[0.8888888888888888,\"#fdca26\"],[1.0,\"#f0f921\"]],\"type\":\"histogram2d\"}],\"histogram2dcontour\":[{\"colorbar\":{\"outlinewidth\":0,\"ticks\":\"\"},\"colorscale\":[[0.0,\"#0d0887\"],[0.1111111111111111,\"#46039f\"],[0.2222222222222222,\"#7201a8\"],[0.3333333333333333,\"#9c179e\"],[0.4444444444444444,\"#bd3786\"],[0.5555555555555556,\"#d8576b\"],[0.6666666666666666,\"#ed7953\"],[0.7777777777777778,\"#fb9f3a\"],[0.8888888888888888,\"#fdca26\"],[1.0,\"#f0f921\"]],\"type\":\"histogram2dcontour\"}],\"mesh3d\":[{\"colorbar\":{\"outlinewidth\":0,\"ticks\":\"\"},\"type\":\"mesh3d\"}],\"parcoords\":[{\"line\":{\"colorbar\":{\"outlinewidth\":0,\"ticks\":\"\"}},\"type\":\"parcoords\"}],\"pie\":[{\"automargin\":true,\"type\":\"pie\"}],\"scatter\":[{\"marker\":{\"colorbar\":{\"outlinewidth\":0,\"ticks\":\"\"}},\"type\":\"scatter\"}],\"scatter3d\":[{\"line\":{\"colorbar\":{\"outlinewidth\":0,\"ticks\":\"\"}},\"marker\":{\"colorbar\":{\"outlinewidth\":0,\"ticks\":\"\"}},\"type\":\"scatter3d\"}],\"scattercarpet\":[{\"marker\":{\"colorbar\":{\"outlinewidth\":0,\"ticks\":\"\"}},\"type\":\"scattercarpet\"}],\"scattergeo\":[{\"marker\":{\"colorbar\":{\"outlinewidth\":0,\"ticks\":\"\"}},\"type\":\"scattergeo\"}],\"scattergl\":[{\"marker\":{\"colorbar\":{\"outlinewidth\":0,\"ticks\":\"\"}},\"type\":\"scattergl\"}],\"scattermapbox\":[{\"marker\":{\"colorbar\":{\"outlinewidth\":0,\"ticks\":\"\"}},\"type\":\"scattermapbox\"}],\"scatterpolar\":[{\"marker\":{\"colorbar\":{\"outlinewidth\":0,\"ticks\":\"\"}},\"type\":\"scatterpolar\"}],\"scatterpolargl\":[{\"marker\":{\"colorbar\":{\"outlinewidth\":0,\"ticks\":\"\"}},\"type\":\"scatterpolargl\"}],\"scatterternary\":[{\"marker\":{\"colorbar\":{\"outlinewidth\":0,\"ticks\":\"\"}},\"type\":\"scatterternary\"}],\"surface\":[{\"colorbar\":{\"outlinewidth\":0,\"ticks\":\"\"},\"colorscale\":[[0.0,\"#0d0887\"],[0.1111111111111111,\"#46039f\"],[0.2222222222222222,\"#7201a8\"],[0.3333333333333333,\"#9c179e\"],[0.4444444444444444,\"#bd3786\"],[0.5555555555555556,\"#d8576b\"],[0.6666666666666666,\"#ed7953\"],[0.7777777777777778,\"#fb9f3a\"],[0.8888888888888888,\"#fdca26\"],[1.0,\"#f0f921\"]],\"type\":\"surface\"}],\"table\":[{\"cells\":{\"fill\":{\"color\":\"#EBF0F8\"},\"line\":{\"color\":\"white\"}},\"header\":{\"fill\":{\"color\":\"#C8D4E3\"},\"line\":{\"color\":\"white\"}},\"type\":\"table\"}]},\"layout\":{\"annotationdefaults\":{\"arrowcolor\":\"#2a3f5f\",\"arrowhead\":0,\"arrowwidth\":1},\"autotypenumbers\":\"strict\",\"coloraxis\":{\"colorbar\":{\"outlinewidth\":0,\"ticks\":\"\"}},\"colorscale\":{\"diverging\":[[0,\"#8e0152\"],[0.1,\"#c51b7d\"],[0.2,\"#de77ae\"],[0.3,\"#f1b6da\"],[0.4,\"#fde0ef\"],[0.5,\"#f7f7f7\"],[0.6,\"#e6f5d0\"],[0.7,\"#b8e186\"],[0.8,\"#7fbc41\"],[0.9,\"#4d9221\"],[1,\"#276419\"]],\"sequential\":[[0.0,\"#0d0887\"],[0.1111111111111111,\"#46039f\"],[0.2222222222222222,\"#7201a8\"],[0.3333333333333333,\"#9c179e\"],[0.4444444444444444,\"#bd3786\"],[0.5555555555555556,\"#d8576b\"],[0.6666666666666666,\"#ed7953\"],[0.7777777777777778,\"#fb9f3a\"],[0.8888888888888888,\"#fdca26\"],[1.0,\"#f0f921\"]],\"sequentialminus\":[[0.0,\"#0d0887\"],[0.1111111111111111,\"#46039f\"],[0.2222222222222222,\"#7201a8\"],[0.3333333333333333,\"#9c179e\"],[0.4444444444444444,\"#bd3786\"],[0.5555555555555556,\"#d8576b\"],[0.6666666666666666,\"#ed7953\"],[0.7777777777777778,\"#fb9f3a\"],[0.8888888888888888,\"#fdca26\"],[1.0,\"#f0f921\"]]},\"colorway\":[\"#636efa\",\"#EF553B\",\"#00cc96\",\"#ab63fa\",\"#FFA15A\",\"#19d3f3\",\"#FF6692\",\"#B6E880\",\"#FF97FF\",\"#FECB52\"],\"font\":{\"color\":\"#2a3f5f\"},\"geo\":{\"bgcolor\":\"white\",\"lakecolor\":\"white\",\"landcolor\":\"#E5ECF6\",\"showlakes\":true,\"showland\":true,\"subunitcolor\":\"white\"},\"hoverlabel\":{\"align\":\"left\"},\"hovermode\":\"closest\",\"mapbox\":{\"style\":\"light\"},\"paper_bgcolor\":\"white\",\"plot_bgcolor\":\"#E5ECF6\",\"polar\":{\"angularaxis\":{\"gridcolor\":\"white\",\"linecolor\":\"white\",\"ticks\":\"\"},\"bgcolor\":\"#E5ECF6\",\"radialaxis\":{\"gridcolor\":\"white\",\"linecolor\":\"white\",\"ticks\":\"\"}},\"scene\":{\"xaxis\":{\"backgroundcolor\":\"#E5ECF6\",\"gridcolor\":\"white\",\"gridwidth\":2,\"linecolor\":\"white\",\"showbackground\":true,\"ticks\":\"\",\"zerolinecolor\":\"white\"},\"yaxis\":{\"backgroundcolor\":\"#E5ECF6\",\"gridcolor\":\"white\",\"gridwidth\":2,\"linecolor\":\"white\",\"showbackground\":true,\"ticks\":\"\",\"zerolinecolor\":\"white\"},\"zaxis\":{\"backgroundcolor\":\"#E5ECF6\",\"gridcolor\":\"white\",\"gridwidth\":2,\"linecolor\":\"white\",\"showbackground\":true,\"ticks\":\"\",\"zerolinecolor\":\"white\"}},\"shapedefaults\":{\"line\":{\"color\":\"#2a3f5f\"}},\"ternary\":{\"aaxis\":{\"gridcolor\":\"white\",\"linecolor\":\"white\",\"ticks\":\"\"},\"baxis\":{\"gridcolor\":\"white\",\"linecolor\":\"white\",\"ticks\":\"\"},\"bgcolor\":\"#E5ECF6\",\"caxis\":{\"gridcolor\":\"white\",\"linecolor\":\"white\",\"ticks\":\"\"}},\"title\":{\"x\":0.05},\"xaxis\":{\"automargin\":true,\"gridcolor\":\"white\",\"linecolor\":\"white\",\"ticks\":\"\",\"title\":{\"standoff\":15},\"zerolinecolor\":\"white\",\"zerolinewidth\":2},\"yaxis\":{\"automargin\":true,\"gridcolor\":\"white\",\"linecolor\":\"white\",\"ticks\":\"\",\"title\":{\"standoff\":15},\"zerolinecolor\":\"white\",\"zerolinewidth\":2}}},\"xaxis\":{\"anchor\":\"y\",\"domain\":[0.0,1.0],\"title\":{\"text\":\"year\"}},\"yaxis\":{\"anchor\":\"x\",\"domain\":[0.0,1.0],\"title\":{\"text\":\"count\"}},\"legend\":{\"title\":{\"text\":\"Type_of_show\"},\"tracegroupgap\":0},\"margin\":{\"t\":60}},                        {\"responsive\": true}                    ).then(function(){\n",
              "                            \n",
              "var gd = document.getElementById('2051458e-402b-4eec-bc75-d43c5ed0a46d');\n",
              "var x = new MutationObserver(function (mutations, observer) {{\n",
              "        var display = window.getComputedStyle(gd).display;\n",
              "        if (!display || display === 'none') {{\n",
              "            console.log([gd, 'removed!']);\n",
              "            Plotly.purge(gd);\n",
              "            observer.disconnect();\n",
              "        }}\n",
              "}});\n",
              "\n",
              "// Listen for the removal of the full notebook cells\n",
              "var notebookContainer = gd.closest('#notebook-container');\n",
              "if (notebookContainer) {{\n",
              "    x.observe(notebookContainer, {childList: true});\n",
              "}}\n",
              "\n",
              "// Listen for the clearing of the current output cell\n",
              "var outputEl = gd.closest('.output');\n",
              "if (outputEl) {{\n",
              "    x.observe(outputEl, {childList: true});\n",
              "}}\n",
              "\n",
              "                        })                };                            </script>        </div>\n",
              "</body>\n",
              "</html>"
            ]
          },
          "metadata": {}
        }
      ]
    },
    {
      "cell_type": "markdown",
      "source": [
        "In the plot above, we can see that Netflix has been increasingly focusing on movies rather than TV shows in recent years, as evidenced by the fact that after 2014, Netflix has relied more on movies than TV shows."
      ],
      "metadata": {
        "id": "76biFwJED5Bp"
      }
    },
    {
      "cell_type": "markdown",
      "source": [
        "# Making some hypothesis from the data visualized"
      ],
      "metadata": {
        "id": "xcume77F-fOW"
      }
    },
    {
      "cell_type": "code",
      "source": [
        "#making copy of df_clean_frame\n",
        "df_hypothesis=df_clean_frame.copy()"
      ],
      "metadata": {
        "id": "Vk7pqQyhxSV_"
      },
      "execution_count": 40,
      "outputs": []
    },
    {
      "cell_type": "code",
      "source": [
        "#head of df_hypothesis\n",
        "df_hypothesis.head()"
      ],
      "metadata": {
        "id": "mnoZFNxNhnR6",
        "colab": {
          "base_uri": "https://localhost:8080/",
          "height": 423
        },
        "outputId": "562e4a0f-8315-4a02-f599-b00d7a3b312b"
      },
      "execution_count": 41,
      "outputs": [
        {
          "output_type": "execute_result",
          "data": {
            "text/html": [
              "\n",
              "  <div id=\"df-5ae02c93-8178-45d5-8715-4c9d7ca36c6c\">\n",
              "    <div class=\"colab-df-container\">\n",
              "      <div>\n",
              "<style scoped>\n",
              "    .dataframe tbody tr th:only-of-type {\n",
              "        vertical-align: middle;\n",
              "    }\n",
              "\n",
              "    .dataframe tbody tr th {\n",
              "        vertical-align: top;\n",
              "    }\n",
              "\n",
              "    .dataframe thead th {\n",
              "        text-align: right;\n",
              "    }\n",
              "</style>\n",
              "<table border=\"1\" class=\"dataframe\">\n",
              "  <thead>\n",
              "    <tr style=\"text-align: right;\">\n",
              "      <th></th>\n",
              "      <th>show_id</th>\n",
              "      <th>Type_of_show</th>\n",
              "      <th>Title_of_Movie/show</th>\n",
              "      <th>Actors</th>\n",
              "      <th>country</th>\n",
              "      <th>Date_Added_in_netflix</th>\n",
              "      <th>Release_year</th>\n",
              "      <th>Ratings</th>\n",
              "      <th>duration</th>\n",
              "      <th>Genre</th>\n",
              "      <th>description</th>\n",
              "      <th>year</th>\n",
              "      <th>month</th>\n",
              "    </tr>\n",
              "  </thead>\n",
              "  <tbody>\n",
              "    <tr>\n",
              "      <th>0</th>\n",
              "      <td>s1</td>\n",
              "      <td>TV Show</td>\n",
              "      <td>3%</td>\n",
              "      <td>João Miguel, Bianca Comparato, Michel Gomes, R...</td>\n",
              "      <td>Brazil</td>\n",
              "      <td>2020-08-14</td>\n",
              "      <td>2020</td>\n",
              "      <td>TV-MA</td>\n",
              "      <td>4 Seasons</td>\n",
              "      <td>International TV Shows, TV Dramas, TV Sci-Fi &amp;...</td>\n",
              "      <td>In a future where the elite inhabit an island ...</td>\n",
              "      <td>2020</td>\n",
              "      <td>8</td>\n",
              "    </tr>\n",
              "    <tr>\n",
              "      <th>1</th>\n",
              "      <td>s2</td>\n",
              "      <td>Movie</td>\n",
              "      <td>7:19</td>\n",
              "      <td>Demián Bichir, Héctor Bonilla, Oscar Serrano, ...</td>\n",
              "      <td>Mexico</td>\n",
              "      <td>2016-12-23</td>\n",
              "      <td>2016</td>\n",
              "      <td>TV-MA</td>\n",
              "      <td>93 min</td>\n",
              "      <td>Dramas, International Movies</td>\n",
              "      <td>After a devastating earthquake hits Mexico Cit...</td>\n",
              "      <td>2016</td>\n",
              "      <td>12</td>\n",
              "    </tr>\n",
              "    <tr>\n",
              "      <th>2</th>\n",
              "      <td>s3</td>\n",
              "      <td>Movie</td>\n",
              "      <td>23:59</td>\n",
              "      <td>Tedd Chan, Stella Chung, Henley Hii, Lawrence ...</td>\n",
              "      <td>Singapore</td>\n",
              "      <td>2018-12-20</td>\n",
              "      <td>2011</td>\n",
              "      <td>R</td>\n",
              "      <td>78 min</td>\n",
              "      <td>Horror Movies, International Movies</td>\n",
              "      <td>When an army recruit is found dead, his fellow...</td>\n",
              "      <td>2018</td>\n",
              "      <td>12</td>\n",
              "    </tr>\n",
              "    <tr>\n",
              "      <th>3</th>\n",
              "      <td>s4</td>\n",
              "      <td>Movie</td>\n",
              "      <td>9</td>\n",
              "      <td>Elijah Wood, John C. Reilly, Jennifer Connelly...</td>\n",
              "      <td>United States</td>\n",
              "      <td>2017-11-16</td>\n",
              "      <td>2009</td>\n",
              "      <td>PG-13</td>\n",
              "      <td>80 min</td>\n",
              "      <td>Action &amp; Adventure, Independent Movies, Sci-Fi...</td>\n",
              "      <td>In a postapocalyptic world, rag-doll robots hi...</td>\n",
              "      <td>2017</td>\n",
              "      <td>11</td>\n",
              "    </tr>\n",
              "    <tr>\n",
              "      <th>4</th>\n",
              "      <td>s5</td>\n",
              "      <td>Movie</td>\n",
              "      <td>21</td>\n",
              "      <td>Jim Sturgess, Kevin Spacey, Kate Bosworth, Aar...</td>\n",
              "      <td>United States</td>\n",
              "      <td>2020-01-01</td>\n",
              "      <td>2008</td>\n",
              "      <td>PG-13</td>\n",
              "      <td>123 min</td>\n",
              "      <td>Dramas</td>\n",
              "      <td>A brilliant group of students become card-coun...</td>\n",
              "      <td>2020</td>\n",
              "      <td>1</td>\n",
              "    </tr>\n",
              "  </tbody>\n",
              "</table>\n",
              "</div>\n",
              "      <button class=\"colab-df-convert\" onclick=\"convertToInteractive('df-5ae02c93-8178-45d5-8715-4c9d7ca36c6c')\"\n",
              "              title=\"Convert this dataframe to an interactive table.\"\n",
              "              style=\"display:none;\">\n",
              "        \n",
              "  <svg xmlns=\"http://www.w3.org/2000/svg\" height=\"24px\"viewBox=\"0 0 24 24\"\n",
              "       width=\"24px\">\n",
              "    <path d=\"M0 0h24v24H0V0z\" fill=\"none\"/>\n",
              "    <path d=\"M18.56 5.44l.94 2.06.94-2.06 2.06-.94-2.06-.94-.94-2.06-.94 2.06-2.06.94zm-11 1L8.5 8.5l.94-2.06 2.06-.94-2.06-.94L8.5 2.5l-.94 2.06-2.06.94zm10 10l.94 2.06.94-2.06 2.06-.94-2.06-.94-.94-2.06-.94 2.06-2.06.94z\"/><path d=\"M17.41 7.96l-1.37-1.37c-.4-.4-.92-.59-1.43-.59-.52 0-1.04.2-1.43.59L10.3 9.45l-7.72 7.72c-.78.78-.78 2.05 0 2.83L4 21.41c.39.39.9.59 1.41.59.51 0 1.02-.2 1.41-.59l7.78-7.78 2.81-2.81c.8-.78.8-2.07 0-2.86zM5.41 20L4 18.59l7.72-7.72 1.47 1.35L5.41 20z\"/>\n",
              "  </svg>\n",
              "      </button>\n",
              "      \n",
              "  <style>\n",
              "    .colab-df-container {\n",
              "      display:flex;\n",
              "      flex-wrap:wrap;\n",
              "      gap: 12px;\n",
              "    }\n",
              "\n",
              "    .colab-df-convert {\n",
              "      background-color: #E8F0FE;\n",
              "      border: none;\n",
              "      border-radius: 50%;\n",
              "      cursor: pointer;\n",
              "      display: none;\n",
              "      fill: #1967D2;\n",
              "      height: 32px;\n",
              "      padding: 0 0 0 0;\n",
              "      width: 32px;\n",
              "    }\n",
              "\n",
              "    .colab-df-convert:hover {\n",
              "      background-color: #E2EBFA;\n",
              "      box-shadow: 0px 1px 2px rgba(60, 64, 67, 0.3), 0px 1px 3px 1px rgba(60, 64, 67, 0.15);\n",
              "      fill: #174EA6;\n",
              "    }\n",
              "\n",
              "    [theme=dark] .colab-df-convert {\n",
              "      background-color: #3B4455;\n",
              "      fill: #D2E3FC;\n",
              "    }\n",
              "\n",
              "    [theme=dark] .colab-df-convert:hover {\n",
              "      background-color: #434B5C;\n",
              "      box-shadow: 0px 1px 3px 1px rgba(0, 0, 0, 0.15);\n",
              "      filter: drop-shadow(0px 1px 2px rgba(0, 0, 0, 0.3));\n",
              "      fill: #FFFFFF;\n",
              "    }\n",
              "  </style>\n",
              "\n",
              "      <script>\n",
              "        const buttonEl =\n",
              "          document.querySelector('#df-5ae02c93-8178-45d5-8715-4c9d7ca36c6c button.colab-df-convert');\n",
              "        buttonEl.style.display =\n",
              "          google.colab.kernel.accessAllowed ? 'block' : 'none';\n",
              "\n",
              "        async function convertToInteractive(key) {\n",
              "          const element = document.querySelector('#df-5ae02c93-8178-45d5-8715-4c9d7ca36c6c');\n",
              "          const dataTable =\n",
              "            await google.colab.kernel.invokeFunction('convertToInteractive',\n",
              "                                                     [key], {});\n",
              "          if (!dataTable) return;\n",
              "\n",
              "          const docLinkHtml = 'Like what you see? Visit the ' +\n",
              "            '<a target=\"_blank\" href=https://colab.research.google.com/notebooks/data_table.ipynb>data table notebook</a>'\n",
              "            + ' to learn more about interactive tables.';\n",
              "          element.innerHTML = '';\n",
              "          dataTable['output_type'] = 'display_data';\n",
              "          await google.colab.output.renderOutput(dataTable, element);\n",
              "          const docLink = document.createElement('div');\n",
              "          docLink.innerHTML = docLinkHtml;\n",
              "          element.appendChild(docLink);\n",
              "        }\n",
              "      </script>\n",
              "    </div>\n",
              "  </div>\n",
              "  "
            ],
            "text/plain": [
              "  show_id Type_of_show  ...  year month\n",
              "0      s1      TV Show  ...  2020     8\n",
              "1      s2        Movie  ...  2016    12\n",
              "2      s3        Movie  ...  2018    12\n",
              "3      s4        Movie  ...  2017    11\n",
              "4      s5        Movie  ...  2020     1\n",
              "\n",
              "[5 rows x 13 columns]"
            ]
          },
          "metadata": {},
          "execution_count": 41
        }
      ]
    },
    {
      "cell_type": "code",
      "source": [
        "#filtering movie from Type_of_show column\n",
        "df_hypothesis = df_hypothesis[df_hypothesis[\"Type_of_show\"] == \"Movie\"]"
      ],
      "metadata": {
        "id": "xcEp-zHz3jVJ"
      },
      "execution_count": 42,
      "outputs": []
    },
    {
      "cell_type": "code",
      "source": [
        "#with respect to each ratings assigning it into group of categories                 \n",
        "ratings_ages = {\n",
        "    'TV-PG': 'Older Kids',\n",
        "    'TV-MA': 'Adults',\n",
        "    'TV-Y7-FV': 'Older Kids',\n",
        "    'TV-Y7': 'Older Kids',\n",
        "    'TV-14': 'Teens',\n",
        "    'R': 'Adults',\n",
        "    'TV-Y': 'Kids',\n",
        "    'NR': 'Adults',\n",
        "    'PG-13': 'Teens',\n",
        "    'TV-G': 'Kids',\n",
        "    'PG': 'Older Kids',\n",
        "    'G': 'Kids',\n",
        "    'UR': 'Adults',\n",
        "    'NC-17': 'Adults'\n",
        "}\n",
        "\n",
        "df_hypothesis['target_ages'] = df_hypothesis['Ratings'].replace(ratings_ages)\n",
        "#let's see unique target ages \n",
        "df_hypothesis['target_ages'].unique()"
      ],
      "metadata": {
        "id": "WatvocZDhnhY",
        "colab": {
          "base_uri": "https://localhost:8080/"
        },
        "outputId": "5407881e-9e75-4f0c-d58f-d0a3c775e47e"
      },
      "execution_count": 43,
      "outputs": [
        {
          "output_type": "execute_result",
          "data": {
            "text/plain": [
              "array(['Adults', 'Teens', 'Older Kids', 'Kids'], dtype=object)"
            ]
          },
          "metadata": {},
          "execution_count": 43
        }
      ]
    },
    {
      "cell_type": "code",
      "source": [
        "#Another category is target_ages (4 classes).\n",
        "df_hypothesis['target_ages'] = pd.Categorical(df_hypothesis['target_ages'], categories=['Kids', 'Older Kids', 'Teens', 'Adults'])"
      ],
      "metadata": {
        "id": "VaRu4u5khnkO"
      },
      "execution_count": 44,
      "outputs": []
    },
    {
      "cell_type": "code",
      "source": [
        "#from duration feature extractin string part and after extracting Changing the object type to numeric\n",
        "df_hypothesis['duration']= df_hypothesis['duration'].str.extract('(\\d+)')\n",
        "df_hypothesis['duration'] = pd.to_numeric(df_hypothesis['duration'])"
      ],
      "metadata": {
        "id": "olFbXTF2xTZ7"
      },
      "execution_count": 45,
      "outputs": []
    },
    {
      "cell_type": "code",
      "source": [
        "#head of df_\n",
        "df_hypothesis.head(3)"
      ],
      "metadata": {
        "id": "xQ_03VbInMMm",
        "colab": {
          "base_uri": "https://localhost:8080/",
          "height": 377
        },
        "outputId": "4adb935c-c6c2-4931-dd51-13c856a3b8d0"
      },
      "execution_count": 46,
      "outputs": [
        {
          "output_type": "execute_result",
          "data": {
            "text/html": [
              "\n",
              "  <div id=\"df-1b660ca4-b15d-4dfe-a18e-0200aa9de2a5\">\n",
              "    <div class=\"colab-df-container\">\n",
              "      <div>\n",
              "<style scoped>\n",
              "    .dataframe tbody tr th:only-of-type {\n",
              "        vertical-align: middle;\n",
              "    }\n",
              "\n",
              "    .dataframe tbody tr th {\n",
              "        vertical-align: top;\n",
              "    }\n",
              "\n",
              "    .dataframe thead th {\n",
              "        text-align: right;\n",
              "    }\n",
              "</style>\n",
              "<table border=\"1\" class=\"dataframe\">\n",
              "  <thead>\n",
              "    <tr style=\"text-align: right;\">\n",
              "      <th></th>\n",
              "      <th>show_id</th>\n",
              "      <th>Type_of_show</th>\n",
              "      <th>Title_of_Movie/show</th>\n",
              "      <th>Actors</th>\n",
              "      <th>country</th>\n",
              "      <th>Date_Added_in_netflix</th>\n",
              "      <th>Release_year</th>\n",
              "      <th>Ratings</th>\n",
              "      <th>duration</th>\n",
              "      <th>Genre</th>\n",
              "      <th>description</th>\n",
              "      <th>year</th>\n",
              "      <th>month</th>\n",
              "      <th>target_ages</th>\n",
              "    </tr>\n",
              "  </thead>\n",
              "  <tbody>\n",
              "    <tr>\n",
              "      <th>1</th>\n",
              "      <td>s2</td>\n",
              "      <td>Movie</td>\n",
              "      <td>7:19</td>\n",
              "      <td>Demián Bichir, Héctor Bonilla, Oscar Serrano, ...</td>\n",
              "      <td>Mexico</td>\n",
              "      <td>2016-12-23</td>\n",
              "      <td>2016</td>\n",
              "      <td>TV-MA</td>\n",
              "      <td>93</td>\n",
              "      <td>Dramas, International Movies</td>\n",
              "      <td>After a devastating earthquake hits Mexico Cit...</td>\n",
              "      <td>2016</td>\n",
              "      <td>12</td>\n",
              "      <td>Adults</td>\n",
              "    </tr>\n",
              "    <tr>\n",
              "      <th>2</th>\n",
              "      <td>s3</td>\n",
              "      <td>Movie</td>\n",
              "      <td>23:59</td>\n",
              "      <td>Tedd Chan, Stella Chung, Henley Hii, Lawrence ...</td>\n",
              "      <td>Singapore</td>\n",
              "      <td>2018-12-20</td>\n",
              "      <td>2011</td>\n",
              "      <td>R</td>\n",
              "      <td>78</td>\n",
              "      <td>Horror Movies, International Movies</td>\n",
              "      <td>When an army recruit is found dead, his fellow...</td>\n",
              "      <td>2018</td>\n",
              "      <td>12</td>\n",
              "      <td>Adults</td>\n",
              "    </tr>\n",
              "    <tr>\n",
              "      <th>3</th>\n",
              "      <td>s4</td>\n",
              "      <td>Movie</td>\n",
              "      <td>9</td>\n",
              "      <td>Elijah Wood, John C. Reilly, Jennifer Connelly...</td>\n",
              "      <td>United States</td>\n",
              "      <td>2017-11-16</td>\n",
              "      <td>2009</td>\n",
              "      <td>PG-13</td>\n",
              "      <td>80</td>\n",
              "      <td>Action &amp; Adventure, Independent Movies, Sci-Fi...</td>\n",
              "      <td>In a postapocalyptic world, rag-doll robots hi...</td>\n",
              "      <td>2017</td>\n",
              "      <td>11</td>\n",
              "      <td>Teens</td>\n",
              "    </tr>\n",
              "  </tbody>\n",
              "</table>\n",
              "</div>\n",
              "      <button class=\"colab-df-convert\" onclick=\"convertToInteractive('df-1b660ca4-b15d-4dfe-a18e-0200aa9de2a5')\"\n",
              "              title=\"Convert this dataframe to an interactive table.\"\n",
              "              style=\"display:none;\">\n",
              "        \n",
              "  <svg xmlns=\"http://www.w3.org/2000/svg\" height=\"24px\"viewBox=\"0 0 24 24\"\n",
              "       width=\"24px\">\n",
              "    <path d=\"M0 0h24v24H0V0z\" fill=\"none\"/>\n",
              "    <path d=\"M18.56 5.44l.94 2.06.94-2.06 2.06-.94-2.06-.94-.94-2.06-.94 2.06-2.06.94zm-11 1L8.5 8.5l.94-2.06 2.06-.94-2.06-.94L8.5 2.5l-.94 2.06-2.06.94zm10 10l.94 2.06.94-2.06 2.06-.94-2.06-.94-.94-2.06-.94 2.06-2.06.94z\"/><path d=\"M17.41 7.96l-1.37-1.37c-.4-.4-.92-.59-1.43-.59-.52 0-1.04.2-1.43.59L10.3 9.45l-7.72 7.72c-.78.78-.78 2.05 0 2.83L4 21.41c.39.39.9.59 1.41.59.51 0 1.02-.2 1.41-.59l7.78-7.78 2.81-2.81c.8-.78.8-2.07 0-2.86zM5.41 20L4 18.59l7.72-7.72 1.47 1.35L5.41 20z\"/>\n",
              "  </svg>\n",
              "      </button>\n",
              "      \n",
              "  <style>\n",
              "    .colab-df-container {\n",
              "      display:flex;\n",
              "      flex-wrap:wrap;\n",
              "      gap: 12px;\n",
              "    }\n",
              "\n",
              "    .colab-df-convert {\n",
              "      background-color: #E8F0FE;\n",
              "      border: none;\n",
              "      border-radius: 50%;\n",
              "      cursor: pointer;\n",
              "      display: none;\n",
              "      fill: #1967D2;\n",
              "      height: 32px;\n",
              "      padding: 0 0 0 0;\n",
              "      width: 32px;\n",
              "    }\n",
              "\n",
              "    .colab-df-convert:hover {\n",
              "      background-color: #E2EBFA;\n",
              "      box-shadow: 0px 1px 2px rgba(60, 64, 67, 0.3), 0px 1px 3px 1px rgba(60, 64, 67, 0.15);\n",
              "      fill: #174EA6;\n",
              "    }\n",
              "\n",
              "    [theme=dark] .colab-df-convert {\n",
              "      background-color: #3B4455;\n",
              "      fill: #D2E3FC;\n",
              "    }\n",
              "\n",
              "    [theme=dark] .colab-df-convert:hover {\n",
              "      background-color: #434B5C;\n",
              "      box-shadow: 0px 1px 3px 1px rgba(0, 0, 0, 0.15);\n",
              "      filter: drop-shadow(0px 1px 2px rgba(0, 0, 0, 0.3));\n",
              "      fill: #FFFFFF;\n",
              "    }\n",
              "  </style>\n",
              "\n",
              "      <script>\n",
              "        const buttonEl =\n",
              "          document.querySelector('#df-1b660ca4-b15d-4dfe-a18e-0200aa9de2a5 button.colab-df-convert');\n",
              "        buttonEl.style.display =\n",
              "          google.colab.kernel.accessAllowed ? 'block' : 'none';\n",
              "\n",
              "        async function convertToInteractive(key) {\n",
              "          const element = document.querySelector('#df-1b660ca4-b15d-4dfe-a18e-0200aa9de2a5');\n",
              "          const dataTable =\n",
              "            await google.colab.kernel.invokeFunction('convertToInteractive',\n",
              "                                                     [key], {});\n",
              "          if (!dataTable) return;\n",
              "\n",
              "          const docLinkHtml = 'Like what you see? Visit the ' +\n",
              "            '<a target=\"_blank\" href=https://colab.research.google.com/notebooks/data_table.ipynb>data table notebook</a>'\n",
              "            + ' to learn more about interactive tables.';\n",
              "          element.innerHTML = '';\n",
              "          dataTable['output_type'] = 'display_data';\n",
              "          await google.colab.output.renderOutput(dataTable, element);\n",
              "          const docLink = document.createElement('div');\n",
              "          docLink.innerHTML = docLinkHtml;\n",
              "          element.appendChild(docLink);\n",
              "        }\n",
              "      </script>\n",
              "    </div>\n",
              "  </div>\n",
              "  "
            ],
            "text/plain": [
              "  show_id Type_of_show Title_of_Movie/show  ...  year month target_ages\n",
              "1      s2        Movie                7:19  ...  2016    12      Adults\n",
              "2      s3        Movie               23:59  ...  2018    12      Adults\n",
              "3      s4        Movie                   9  ...  2017    11       Teens\n",
              "\n",
              "[3 rows x 14 columns]"
            ]
          },
          "metadata": {},
          "execution_count": 46
        }
      ]
    },
    {
      "cell_type": "code",
      "source": [
        "#group_by duration and target_ages                 \n",
        "group_by_= df_hypothesis[['duration','target_ages']].groupby(by='target_ages')\n",
        "#mean of group_by variable\n",
        "group=group_by_.mean().reset_index()\n",
        "group"
      ],
      "metadata": {
        "id": "TLIdLsb0nMnp",
        "colab": {
          "base_uri": "https://localhost:8080/",
          "height": 174
        },
        "outputId": "2f1b7516-55a6-416c-a06e-f27955ec2714"
      },
      "execution_count": 47,
      "outputs": [
        {
          "output_type": "execute_result",
          "data": {
            "text/html": [
              "\n",
              "  <div id=\"df-f8746b20-50cd-4e24-b16a-2daefaae8d5f\">\n",
              "    <div class=\"colab-df-container\">\n",
              "      <div>\n",
              "<style scoped>\n",
              "    .dataframe tbody tr th:only-of-type {\n",
              "        vertical-align: middle;\n",
              "    }\n",
              "\n",
              "    .dataframe tbody tr th {\n",
              "        vertical-align: top;\n",
              "    }\n",
              "\n",
              "    .dataframe thead th {\n",
              "        text-align: right;\n",
              "    }\n",
              "</style>\n",
              "<table border=\"1\" class=\"dataframe\">\n",
              "  <thead>\n",
              "    <tr style=\"text-align: right;\">\n",
              "      <th></th>\n",
              "      <th>target_ages</th>\n",
              "      <th>duration</th>\n",
              "    </tr>\n",
              "  </thead>\n",
              "  <tbody>\n",
              "    <tr>\n",
              "      <th>0</th>\n",
              "      <td>Kids</td>\n",
              "      <td>74.622407</td>\n",
              "    </tr>\n",
              "    <tr>\n",
              "      <th>1</th>\n",
              "      <td>Older Kids</td>\n",
              "      <td>95.322718</td>\n",
              "    </tr>\n",
              "    <tr>\n",
              "      <th>2</th>\n",
              "      <td>Teens</td>\n",
              "      <td>111.754748</td>\n",
              "    </tr>\n",
              "    <tr>\n",
              "      <th>3</th>\n",
              "      <td>Adults</td>\n",
              "      <td>100.947937</td>\n",
              "    </tr>\n",
              "  </tbody>\n",
              "</table>\n",
              "</div>\n",
              "      <button class=\"colab-df-convert\" onclick=\"convertToInteractive('df-f8746b20-50cd-4e24-b16a-2daefaae8d5f')\"\n",
              "              title=\"Convert this dataframe to an interactive table.\"\n",
              "              style=\"display:none;\">\n",
              "        \n",
              "  <svg xmlns=\"http://www.w3.org/2000/svg\" height=\"24px\"viewBox=\"0 0 24 24\"\n",
              "       width=\"24px\">\n",
              "    <path d=\"M0 0h24v24H0V0z\" fill=\"none\"/>\n",
              "    <path d=\"M18.56 5.44l.94 2.06.94-2.06 2.06-.94-2.06-.94-.94-2.06-.94 2.06-2.06.94zm-11 1L8.5 8.5l.94-2.06 2.06-.94-2.06-.94L8.5 2.5l-.94 2.06-2.06.94zm10 10l.94 2.06.94-2.06 2.06-.94-2.06-.94-.94-2.06-.94 2.06-2.06.94z\"/><path d=\"M17.41 7.96l-1.37-1.37c-.4-.4-.92-.59-1.43-.59-.52 0-1.04.2-1.43.59L10.3 9.45l-7.72 7.72c-.78.78-.78 2.05 0 2.83L4 21.41c.39.39.9.59 1.41.59.51 0 1.02-.2 1.41-.59l7.78-7.78 2.81-2.81c.8-.78.8-2.07 0-2.86zM5.41 20L4 18.59l7.72-7.72 1.47 1.35L5.41 20z\"/>\n",
              "  </svg>\n",
              "      </button>\n",
              "      \n",
              "  <style>\n",
              "    .colab-df-container {\n",
              "      display:flex;\n",
              "      flex-wrap:wrap;\n",
              "      gap: 12px;\n",
              "    }\n",
              "\n",
              "    .colab-df-convert {\n",
              "      background-color: #E8F0FE;\n",
              "      border: none;\n",
              "      border-radius: 50%;\n",
              "      cursor: pointer;\n",
              "      display: none;\n",
              "      fill: #1967D2;\n",
              "      height: 32px;\n",
              "      padding: 0 0 0 0;\n",
              "      width: 32px;\n",
              "    }\n",
              "\n",
              "    .colab-df-convert:hover {\n",
              "      background-color: #E2EBFA;\n",
              "      box-shadow: 0px 1px 2px rgba(60, 64, 67, 0.3), 0px 1px 3px 1px rgba(60, 64, 67, 0.15);\n",
              "      fill: #174EA6;\n",
              "    }\n",
              "\n",
              "    [theme=dark] .colab-df-convert {\n",
              "      background-color: #3B4455;\n",
              "      fill: #D2E3FC;\n",
              "    }\n",
              "\n",
              "    [theme=dark] .colab-df-convert:hover {\n",
              "      background-color: #434B5C;\n",
              "      box-shadow: 0px 1px 3px 1px rgba(0, 0, 0, 0.15);\n",
              "      filter: drop-shadow(0px 1px 2px rgba(0, 0, 0, 0.3));\n",
              "      fill: #FFFFFF;\n",
              "    }\n",
              "  </style>\n",
              "\n",
              "      <script>\n",
              "        const buttonEl =\n",
              "          document.querySelector('#df-f8746b20-50cd-4e24-b16a-2daefaae8d5f button.colab-df-convert');\n",
              "        buttonEl.style.display =\n",
              "          google.colab.kernel.accessAllowed ? 'block' : 'none';\n",
              "\n",
              "        async function convertToInteractive(key) {\n",
              "          const element = document.querySelector('#df-f8746b20-50cd-4e24-b16a-2daefaae8d5f');\n",
              "          const dataTable =\n",
              "            await google.colab.kernel.invokeFunction('convertToInteractive',\n",
              "                                                     [key], {});\n",
              "          if (!dataTable) return;\n",
              "\n",
              "          const docLinkHtml = 'Like what you see? Visit the ' +\n",
              "            '<a target=\"_blank\" href=https://colab.research.google.com/notebooks/data_table.ipynb>data table notebook</a>'\n",
              "            + ' to learn more about interactive tables.';\n",
              "          element.innerHTML = '';\n",
              "          dataTable['output_type'] = 'display_data';\n",
              "          await google.colab.output.renderOutput(dataTable, element);\n",
              "          const docLink = document.createElement('div');\n",
              "          docLink.innerHTML = docLinkHtml;\n",
              "          element.appendChild(docLink);\n",
              "        }\n",
              "      </script>\n",
              "    </div>\n",
              "  </div>\n",
              "  "
            ],
            "text/plain": [
              "  target_ages    duration\n",
              "0        Kids   74.622407\n",
              "1  Older Kids   95.322718\n",
              "2       Teens  111.754748\n",
              "3      Adults  100.947937"
            ]
          },
          "metadata": {},
          "execution_count": 47
        }
      ]
    },
    {
      "cell_type": "code",
      "source": [
        "#visualising target_ages w.r.t. duration feature\n",
        "plt.figure(figsize=(15,8))\n",
        "sns.barplot(x=group['target_ages'],y=group['duration'])"
      ],
      "metadata": {
        "id": "-3HgcWPvnMqi",
        "colab": {
          "base_uri": "https://localhost:8080/",
          "height": 514
        },
        "outputId": "ff5e992c-0f94-4459-b74c-c74fd2d2b9cd"
      },
      "execution_count": 48,
      "outputs": [
        {
          "output_type": "execute_result",
          "data": {
            "text/plain": [
              "<matplotlib.axes._subplots.AxesSubplot at 0x7fcac1dec650>"
            ]
          },
          "metadata": {},
          "execution_count": 48
        },
        {
          "output_type": "display_data",
          "data": {
            "image/png": "[encoded data removed]",
            "text/plain": [
              "<Figure size 1080x576 with 1 Axes>"
            ]
          },
          "metadata": {
            "image/png": {
              "width": 891,
              "height": 479
            },
            "needs_background": "light"
          }
        }
      ]
    },
    {
      "cell_type": "markdown",
      "source": [
        "As shown in the graph above, teens have the longest average duration of time for movies, while kids have the lowest."
      ],
      "metadata": {
        "id": "9ZOkbrqWtp7E"
      }
    },
    {
      "cell_type": "markdown",
      "source": [
        "**Hypothesis- kids and older kids rated movies are of atleast 2 hours long.**"
      ],
      "metadata": {
        "id": "g6p1pFkexApD"
      }
    },
    {
      "cell_type": "code",
      "source": [
        "#In A and B variable grouping values \n",
        "A= group_by_.get_group('Kids')\n",
        "B= group_by_.get_group('Older Kids')"
      ],
      "metadata": {
        "id": "UV3ST_YbnMuy"
      },
      "execution_count": 49,
      "outputs": []
    },
    {
      "cell_type": "code",
      "source": [
        "#mean and std. calutation for kids and older kids variables\n",
        "M1 = A.mean()\n",
        "S1 = A.std()\n",
        "\n",
        "M2= B.mean()\n",
        "S2 = B.std()\n",
        "\n",
        "print('Mean for movies rated for Kids {} \\n Mean for  movies rated for older kids {}'.format(M1,M2))\n",
        "print('Std for  movies rated for Older Kids {} \\n Std for  movies rated for kids {}'.format(S2,S1))"
      ],
      "metadata": {
        "id": "T725j6-_4r66",
        "colab": {
          "base_uri": "https://localhost:8080/"
        },
        "outputId": "c75b0ee1-73d7-441f-943f-04601afa3645"
      },
      "execution_count": 50,
      "outputs": [
        {
          "output_type": "stream",
          "name": "stdout",
          "text": [
            "Mean for movies rated for Kids duration    74.622407\n",
            "dtype: float64 \n",
            " Mean for  movies rated for older kids duration    95.322718\n",
            "dtype: float64\n",
            "Std for  movies rated for Older Kids duration    27.895697\n",
            "dtype: float64 \n",
            " Std for  movies rated for kids duration    28.817431\n",
            "dtype: float64\n"
          ]
        }
      ]
    },
    {
      "cell_type": "code",
      "source": [
        "#import stats \n",
        "from scipy import stats\n",
        "#length of groups and DOF\n",
        "n1 = len(A)\n",
        "n2= len(B)\n",
        "print(n1,n2)\n",
        "\n",
        "dof = n1+n2-2\n",
        "print('dof',dof)\n",
        "\n",
        "sp_2 = ((n2-1)*S1**2  + (n1-1)*S2**2) / dof\n",
        "print('SP_2 =',sp_2)\n",
        "\n",
        "sp = np.sqrt(sp_2)\n",
        "print('SP',sp)\n",
        "\n",
        "#tvalue\n",
        "t_val = (M1-M2)/(sp * np.sqrt(1/n1 + 1/n2))\n",
        "print('tvalue',t_val[0])"
      ],
      "metadata": {
        "id": "3uZpciHE4r-N",
        "colab": {
          "base_uri": "https://localhost:8080/"
        },
        "outputId": "b7d0f37c-149f-4286-ca8c-5c65b7559631"
      },
      "execution_count": 51,
      "outputs": [
        {
          "output_type": "stream",
          "name": "stdout",
          "text": [
            "241 942\n",
            "dof 1181\n",
            "SP_2 = duration    819.821248\n",
            "dtype: float64\n",
            "SP duration    28.632521\n",
            "dtype: float64\n",
            "tvalue -10.015182906255275\n"
          ]
        }
      ]
    },
    {
      "cell_type": "code",
      "source": [
        "#t-distribution\n",
        "stats.t.ppf(0.025,dof)"
      ],
      "metadata": {
        "id": "FbHOtUoS4sCi",
        "colab": {
          "base_uri": "https://localhost:8080/"
        },
        "outputId": "bcebea0d-c03c-4e9b-cdd0-1e36e37afcef"
      },
      "execution_count": 52,
      "outputs": [
        {
          "output_type": "execute_result",
          "data": {
            "text/plain": [
              "-1.9619747067977586"
            ]
          },
          "metadata": {},
          "execution_count": 52
        }
      ]
    },
    {
      "cell_type": "code",
      "source": [
        "#t-distribution\n",
        "stats.t.ppf(0.975,dof)"
      ],
      "metadata": {
        "id": "FCcLbGYM4sIG",
        "colab": {
          "base_uri": "https://localhost:8080/"
        },
        "outputId": "ad9e832e-39b5-455f-9e86-fcc15dc99c47"
      },
      "execution_count": 53,
      "outputs": [
        {
          "output_type": "execute_result",
          "data": {
            "text/plain": [
              "1.9619747067977582"
            ]
          },
          "metadata": {},
          "execution_count": 53
        }
      ]
    },
    {
      "cell_type": "markdown",
      "source": [
        "Because the t-value is not in the range, the null hypothesis is rejected.\n",
        "\n",
        "As a result, movies rated for kids and older kids are not at least two hours long."
      ],
      "metadata": {
        "id": "Racu09DnSjMN"
      }
    },
    {
      "cell_type": "markdown",
      "source": [
        "# 4. Clustering similar content by matching text-based features"
      ],
      "metadata": {
        "id": "oqKCftiXE_2B"
      }
    },
    {
      "cell_type": "code",
      "execution_count": 54,
      "metadata": {
        "id": "sVcW5T9Ye-68",
        "colab": {
          "base_uri": "https://localhost:8080/",
          "height": 423
        },
        "outputId": "582e4b81-6074-4088-c23b-ae80e8d7414a"
      },
      "outputs": [
        {
          "output_type": "execute_result",
          "data": {
            "text/html": [
              "\n",
              "  <div id=\"df-69fa17c4-b02d-407b-b77d-168493e26180\">\n",
              "    <div class=\"colab-df-container\">\n",
              "      <div>\n",
              "<style scoped>\n",
              "    .dataframe tbody tr th:only-of-type {\n",
              "        vertical-align: middle;\n",
              "    }\n",
              "\n",
              "    .dataframe tbody tr th {\n",
              "        vertical-align: top;\n",
              "    }\n",
              "\n",
              "    .dataframe thead th {\n",
              "        text-align: right;\n",
              "    }\n",
              "</style>\n",
              "<table border=\"1\" class=\"dataframe\">\n",
              "  <thead>\n",
              "    <tr style=\"text-align: right;\">\n",
              "      <th></th>\n",
              "      <th>show_id</th>\n",
              "      <th>Type_of_show</th>\n",
              "      <th>Title_of_Movie/show</th>\n",
              "      <th>Actors</th>\n",
              "      <th>country</th>\n",
              "      <th>Date_Added_in_netflix</th>\n",
              "      <th>Release_year</th>\n",
              "      <th>Ratings</th>\n",
              "      <th>duration</th>\n",
              "      <th>Genre</th>\n",
              "      <th>description</th>\n",
              "      <th>year</th>\n",
              "      <th>month</th>\n",
              "    </tr>\n",
              "  </thead>\n",
              "  <tbody>\n",
              "    <tr>\n",
              "      <th>0</th>\n",
              "      <td>s1</td>\n",
              "      <td>TV Show</td>\n",
              "      <td>3%</td>\n",
              "      <td>João Miguel, Bianca Comparato, Michel Gomes, R...</td>\n",
              "      <td>Brazil</td>\n",
              "      <td>2020-08-14</td>\n",
              "      <td>2020</td>\n",
              "      <td>TV-MA</td>\n",
              "      <td>4 Seasons</td>\n",
              "      <td>International TV Shows, TV Dramas, TV Sci-Fi &amp;...</td>\n",
              "      <td>In a future where the elite inhabit an island ...</td>\n",
              "      <td>2020</td>\n",
              "      <td>8</td>\n",
              "    </tr>\n",
              "    <tr>\n",
              "      <th>1</th>\n",
              "      <td>s2</td>\n",
              "      <td>Movie</td>\n",
              "      <td>7:19</td>\n",
              "      <td>Demián Bichir, Héctor Bonilla, Oscar Serrano, ...</td>\n",
              "      <td>Mexico</td>\n",
              "      <td>2016-12-23</td>\n",
              "      <td>2016</td>\n",
              "      <td>TV-MA</td>\n",
              "      <td>93 min</td>\n",
              "      <td>Dramas, International Movies</td>\n",
              "      <td>After a devastating earthquake hits Mexico Cit...</td>\n",
              "      <td>2016</td>\n",
              "      <td>12</td>\n",
              "    </tr>\n",
              "    <tr>\n",
              "      <th>2</th>\n",
              "      <td>s3</td>\n",
              "      <td>Movie</td>\n",
              "      <td>23:59</td>\n",
              "      <td>Tedd Chan, Stella Chung, Henley Hii, Lawrence ...</td>\n",
              "      <td>Singapore</td>\n",
              "      <td>2018-12-20</td>\n",
              "      <td>2011</td>\n",
              "      <td>R</td>\n",
              "      <td>78 min</td>\n",
              "      <td>Horror Movies, International Movies</td>\n",
              "      <td>When an army recruit is found dead, his fellow...</td>\n",
              "      <td>2018</td>\n",
              "      <td>12</td>\n",
              "    </tr>\n",
              "    <tr>\n",
              "      <th>3</th>\n",
              "      <td>s4</td>\n",
              "      <td>Movie</td>\n",
              "      <td>9</td>\n",
              "      <td>Elijah Wood, John C. Reilly, Jennifer Connelly...</td>\n",
              "      <td>United States</td>\n",
              "      <td>2017-11-16</td>\n",
              "      <td>2009</td>\n",
              "      <td>PG-13</td>\n",
              "      <td>80 min</td>\n",
              "      <td>Action &amp; Adventure, Independent Movies, Sci-Fi...</td>\n",
              "      <td>In a postapocalyptic world, rag-doll robots hi...</td>\n",
              "      <td>2017</td>\n",
              "      <td>11</td>\n",
              "    </tr>\n",
              "    <tr>\n",
              "      <th>4</th>\n",
              "      <td>s5</td>\n",
              "      <td>Movie</td>\n",
              "      <td>21</td>\n",
              "      <td>Jim Sturgess, Kevin Spacey, Kate Bosworth, Aar...</td>\n",
              "      <td>United States</td>\n",
              "      <td>2020-01-01</td>\n",
              "      <td>2008</td>\n",
              "      <td>PG-13</td>\n",
              "      <td>123 min</td>\n",
              "      <td>Dramas</td>\n",
              "      <td>A brilliant group of students become card-coun...</td>\n",
              "      <td>2020</td>\n",
              "      <td>1</td>\n",
              "    </tr>\n",
              "  </tbody>\n",
              "</table>\n",
              "</div>\n",
              "      <button class=\"colab-df-convert\" onclick=\"convertToInteractive('df-69fa17c4-b02d-407b-b77d-168493e26180')\"\n",
              "              title=\"Convert this dataframe to an interactive table.\"\n",
              "              style=\"display:none;\">\n",
              "        \n",
              "  <svg xmlns=\"http://www.w3.org/2000/svg\" height=\"24px\"viewBox=\"0 0 24 24\"\n",
              "       width=\"24px\">\n",
              "    <path d=\"M0 0h24v24H0V0z\" fill=\"none\"/>\n",
              "    <path d=\"M18.56 5.44l.94 2.06.94-2.06 2.06-.94-2.06-.94-.94-2.06-.94 2.06-2.06.94zm-11 1L8.5 8.5l.94-2.06 2.06-.94-2.06-.94L8.5 2.5l-.94 2.06-2.06.94zm10 10l.94 2.06.94-2.06 2.06-.94-2.06-.94-.94-2.06-.94 2.06-2.06.94z\"/><path d=\"M17.41 7.96l-1.37-1.37c-.4-.4-.92-.59-1.43-.59-.52 0-1.04.2-1.43.59L10.3 9.45l-7.72 7.72c-.78.78-.78 2.05 0 2.83L4 21.41c.39.39.9.59 1.41.59.51 0 1.02-.2 1.41-.59l7.78-7.78 2.81-2.81c.8-.78.8-2.07 0-2.86zM5.41 20L4 18.59l7.72-7.72 1.47 1.35L5.41 20z\"/>\n",
              "  </svg>\n",
              "      </button>\n",
              "      \n",
              "  <style>\n",
              "    .colab-df-container {\n",
              "      display:flex;\n",
              "      flex-wrap:wrap;\n",
              "      gap: 12px;\n",
              "    }\n",
              "\n",
              "    .colab-df-convert {\n",
              "      background-color: #E8F0FE;\n",
              "      border: none;\n",
              "      border-radius: 50%;\n",
              "      cursor: pointer;\n",
              "      display: none;\n",
              "      fill: #1967D2;\n",
              "      height: 32px;\n",
              "      padding: 0 0 0 0;\n",
              "      width: 32px;\n",
              "    }\n",
              "\n",
              "    .colab-df-convert:hover {\n",
              "      background-color: #E2EBFA;\n",
              "      box-shadow: 0px 1px 2px rgba(60, 64, 67, 0.3), 0px 1px 3px 1px rgba(60, 64, 67, 0.15);\n",
              "      fill: #174EA6;\n",
              "    }\n",
              "\n",
              "    [theme=dark] .colab-df-convert {\n",
              "      background-color: #3B4455;\n",
              "      fill: #D2E3FC;\n",
              "    }\n",
              "\n",
              "    [theme=dark] .colab-df-convert:hover {\n",
              "      background-color: #434B5C;\n",
              "      box-shadow: 0px 1px 3px 1px rgba(0, 0, 0, 0.15);\n",
              "      filter: drop-shadow(0px 1px 2px rgba(0, 0, 0, 0.3));\n",
              "      fill: #FFFFFF;\n",
              "    }\n",
              "  </style>\n",
              "\n",
              "      <script>\n",
              "        const buttonEl =\n",
              "          document.querySelector('#df-69fa17c4-b02d-407b-b77d-168493e26180 button.colab-df-convert');\n",
              "        buttonEl.style.display =\n",
              "          google.colab.kernel.accessAllowed ? 'block' : 'none';\n",
              "\n",
              "        async function convertToInteractive(key) {\n",
              "          const element = document.querySelector('#df-69fa17c4-b02d-407b-b77d-168493e26180');\n",
              "          const dataTable =\n",
              "            await google.colab.kernel.invokeFunction('convertToInteractive',\n",
              "                                                     [key], {});\n",
              "          if (!dataTable) return;\n",
              "\n",
              "          const docLinkHtml = 'Like what you see? Visit the ' +\n",
              "            '<a target=\"_blank\" href=https://colab.research.google.com/notebooks/data_table.ipynb>data table notebook</a>'\n",
              "            + ' to learn more about interactive tables.';\n",
              "          element.innerHTML = '';\n",
              "          dataTable['output_type'] = 'display_data';\n",
              "          await google.colab.output.renderOutput(dataTable, element);\n",
              "          const docLink = document.createElement('div');\n",
              "          docLink.innerHTML = docLinkHtml;\n",
              "          element.appendChild(docLink);\n",
              "        }\n",
              "      </script>\n",
              "    </div>\n",
              "  </div>\n",
              "  "
            ],
            "text/plain": [
              "  show_id Type_of_show  ...  year month\n",
              "0      s1      TV Show  ...  2020     8\n",
              "1      s2        Movie  ...  2016    12\n",
              "2      s3        Movie  ...  2018    12\n",
              "3      s4        Movie  ...  2017    11\n",
              "4      s5        Movie  ...  2020     1\n",
              "\n",
              "[5 rows x 13 columns]"
            ]
          },
          "metadata": {},
          "execution_count": 54
        }
      ],
      "source": [
        "#head of df_clean_frame\n",
        "df_clean_frame.head()"
      ]
    },
    {
      "cell_type": "code",
      "source": [
        "#using tolist() function to Convert description column to list \n",
        "content = df_clean_frame['description'].tolist()\n",
        "content"
      ],
      "metadata": {
        "id": "taE79ebML2kZ",
        "colab": {
          "base_uri": "https://localhost:8080/"
        },
        "outputId": "81fb0cad-8023-4039-a906-56a5760b9c0c"
      },
      "execution_count": 55,
      "outputs": [
        {
          "output_type": "execute_result",
          "data": {
            "text/plain": [
              "['In a future where the elite inhabit an island paradise far from the crowded slums, you get one chance to join the 3% saved from squalor.',\n",
              " 'After a devastating earthquake hits Mexico City, trapped survivors from all walks of life wait to be rescued while trying desperately to stay alive.',\n",
              " \"When an army recruit is found dead, his fellow soldiers are forced to confront a terrifying secret that's haunting their jungle island training camp.\",\n",
              " 'In a postapocalyptic world, rag-doll robots hide in fear from dangerous machines out to exterminate them, until a brave newcomer joins the group.',\n",
              " 'A brilliant group of students become card-counting experts with the intent of swindling millions out of Las Vegas casinos by playing blackjack.',\n",
              " 'A genetics professor experiments with a treatment for his comatose sister that blends medical and shamanic cures, but unlocks a shocking side effect.',\n",
              " 'After an awful accident, a couple admitted to a grisly hospital are separated and must find each other to escape — before death finds them.',\n",
              " 'After one of his high school students attacks him, dedicated teacher Trevor Garfield grows weary of the gang warfare in the New York City school system and moves to California to teach there, thinking it must be a less hostile environment.',\n",
              " \"When a doctor goes missing, his psychiatrist wife treats the bizarre medical condition of a psychic patient, who knows much more than he's leading on.\",\n",
              " 'An architect and his wife move into a castle that is slated to become a luxury hotel. But something inside is determined to stop the renovation.',\n",
              " \"A farmer pens a confession admitting to his wife's murder, but her death is just the beginning of a macabre tale. Based on Stephen King's novella.\",\n",
              " 'This intimate documentary follows rock star Artiwara Kongmalai on his historic, 2,215-kilometer charity run across Thailand in 2017.',\n",
              " 'Stranded when the Earth is suddenly destroyed in a mysterious cataclysm, the astronauts aboard a marooned space station slowly lose their minds.',\n",
              " \"Against the backdrop of Nigeria's looming independence from Britain, detective Danladi Waziri races to capture a killer terrorizing local women.\",\n",
              " \"On India's Independence Day, a zany mishap in a Mumbai chawl disrupts a young love story while compelling the residents to unite in aid of a little boy.\",\n",
              " \"Mixing old footage with interviews, this is the story of Arsenal's improbable win versus Liverpool in the final moments of the 1989 championship game.\",\n",
              " 'After accidentally connecting over the Internet, two strangers form a tight friendship – not knowing they already share a bond.',\n",
              " 'A taxi driver, a gangster and an athlete struggle to better their lives despite obstacles like crooked politicians, evil dons and caste barriers.',\n",
              " 'A successful writer returns to the town that launched his career, encountering people who spark nostalgic, often painfully illuminating flashbacks.',\n",
              " 'When a middle-aged divorcee returns to Kolkata to visit his ailing father, long-buried memories resurface, bringing new discoveries with them.',\n",
              " 'Seiya and the Knights of the Zodiac rise again to protect the reincarnation of the goddess Athena, but a dark prophecy hangs over them all.',\n",
              " 'As a grisly virus rampages a city, a lone man stays locked inside his apartment, digitally cut off from seeking help and desperate to find a way out.',\n",
              " \"Through her diary, Anne Frank's story is retold alongside those of five Holocaust survivors in this poignant documentary from Oscar winner Helen Mirren.\",\n",
              " 'Kenya Barris and his family navigate relationships, race and culture while grappling with their newfound success in this comedy series.',\n",
              " \"Pining for his high school crush for years, a young man puts up his best efforts to move out of the friend zone until she reveals she's getting married.\",\n",
              " 'As Ayu and Ditto finally transition from best friends to newlyweds, a quick pregnancy creates uncertainty for the future of their young marriage.',\n",
              " 'When nerdy high schooler Dani finally attracts the interest of her longtime crush, she lands in the cross hairs of his ex, a social media celebrity.',\n",
              " 'A teenage hacker with a huge nose helps a cool kid woo a girl that he’s secretly in love with.',\n",
              " 'Two days before their final exams, three teen girls make a seaside getaway to end their adolescence with a bang.',\n",
              " 'After a painful breakup, a trio of party-loving friends makes a bet: who can get married in three days.',\n",
              " 'When her estranged mother suddenly dies, a woman must follow the quirky instructions laid out in the will in order to collect an important inheritance.',\n",
              " 'The slacker owner of a public bath house rallies his community to save it when a big developer comes to town to close it down and open a new mall.',\n",
              " \"Young urbanites renovating a rundown house, and a psychiatrist grieving his son's disappearance, are connected to a supernatural, decades-old secret.\",\n",
              " 'Vignettes of the summer holidays follow vacationers as they battle mosquitoes, suffer ruined plans and otherwise hit snags in their precious time off.',\n",
              " 'In Lagos, a journalist goes undercover as a prostitute to expose human trafficking. What she finds is a world of exploited women and ruthless violence.',\n",
              " \"Aiming to hasten an uprising, the leader of an underground rebellion dispatches acrobatic assassin Aeon Flux to eliminate the government's top leader.\",\n",
              " \"An orphan subjected to tests that gave him superpowers is rescued and raised on Istanbul's streets, where he falls for a reporter linked to his past.\",\n",
              " 'When an aspiring dancer is uprooted during her senior year of high school, she finds herself torn between two boys – and with one shot at her dream.',\n",
              " 'After escaping the bus accident that killed his girlfriend, a high school student channels his grief into running, with the help of a new coach.',\n",
              " 'When a carefree bachelor is unexpectedly left in charge of a young boy, the two embark on a road trip that will change both of their lives.',\n",
              " 'Upon losing his memory, a crown prince encounters a commoner’s life and experiences unforgettable love as the husband to Joseon’s oldest bachelorette.',\n",
              " 'One hundred hardy souls from diverse backgrounds participate in playful experiments exploring age, sex, happiness and other aspects of being human.',\n",
              " 'Led by seventh-grader C.J., three students who have been warned about the dangers of high school decide to make the best of their middle-school years.',\n",
              " \"After high school, a young woman marries the man of her father's choice but soon faces the possibility that her religion considers the union invalid.\",\n",
              " \"A stylist, a hair designer and a makeup artist team up to give Britain's biggest fashion disasters some much-needed makeunders.\",\n",
              " \"After randomly receiving a handsome political bribe, a sweet, poor elderly woman decides to treat herself a shopping spree, which doesn't go smoothly.\",\n",
              " 'Dealing with personal demons and the death of his son, a prizefighter attempts a return to the ring by challenging his rival to a 12-round rematch.',\n",
              " 'A pregnant teen is forced by her family to leave her boyfriend and assume a new identity in America, but 12 years later, the couple reunites in Korea.',\n",
              " 'Young parents-to-be Claire and Ryan move into a suburban rental home, unaware that someone is secretly watching their every move via hidden cameras.',\n",
              " \"After a teenage girl's perplexing suicide, a classmate receives a series of tapes that unravel the mystery of her tragic choice.\",\n",
              " 'Cast members, writers, producers and mental health professionals discuss some of the difficult issues and themes explored in \"13 Reasons Why.\"',\n",
              " \"A man agrees to appear on a game show with a $6 million prize. But as the challenges become more extreme, he realizes he's made a grave mistake.\",\n",
              " 'Upping the “13 Cameras” ante, this sequel finds a family renting a vacation house that’s been customized to violate their privacy.',\n",
              " 'Nearing a midlife crisis, thirty-something Mike wishes for a \"do-over\" – and that\\'s exactly what he gets when he wakes up to find he\\'s 17 again.',\n",
              " 'A pregnant mother with terminal cancer leaves behind 18 sentimental gifts for her unborn daughter to receive every birthday until she reaches womanhood.',\n",
              " 'While Spain relinquishes its last colonies, a battle-fatigued outpost engages in a long, brutal and sometimes bizarre clash with Filipino insurgents.',\n",
              " 'Seeking her independence, a young woman moves to Los Angeles and settles into a cozy apartment complex with a disturbing sense of community.',\n",
              " 'Student filmmakers uncover occult rituals tied to an abandoned warehouse, then gradually realize the horror is closer than they think.',\n",
              " \"A bumbling Paris policeman is doggedly determined to capture the master thief that repeatedly eludes him, even when they're the last two men on Earth.\",\n",
              " \"Graduate students Krish and Ananya hope to win their parents' approval before they marry, but the two families clash over their cultural differences.\",\n",
              " 'Winner of the 2014 Academy Award for Best Documentary Feature, this film takes a look at the world of backup vocalists and the legends they support.',\n",
              " 'When his wife is convicted of murder, a horrified family man races to prove her innocence while a dogged investigator sets out to uncover the truth.',\n",
              " \"The world's biggest K-pop festival marked its 21st year in 2015, with groups such as EXO, 4Minute and SHINee electrifying the Seoul World Cup Stadium.\",\n",
              " 'Working with an artificial intelligence to investigate the failure of a deadly Mars landing, a mission controller makes an astonishing discovery.',\n",
              " 'In 1979, single bohemian mom Dorothea, hoping to help her teen son find his place as a man, asks two young women to share their lives with him.',\n",
              " \"Jeff's straight-and-narrow life changes abruptly when his buddies take him out for a birthday bash – the night before a crucial med school interview.\",\n",
              " 'In a social experiment, a group of daughters sends their mothers, disguised as 21-year-olds, into the world to experience life as a member of Gen Z.',\n",
              " \"In one of history's greatest last stands, a battalion of 21 Sikh soldiers fights to defend their outpost from attack by over 10,000 Afghans.\",\n",
              " 'Players and coaches for a Montreal soccer team chase dreams of stardom while their personal lives erupt with love, fear, passion and violence.',\n",
              " 'In the frozen tundra of a futuristic Arizona where humans have been forced underground, a soldier hunts the bioengineered leader of a rebellion.',\n",
              " 'Four brothers learn that they have inherited ancestral land, but must fight to claim it when a greedy feudal lord threatens to take it over.',\n",
              " 'Twenty-six years after the 1980 massacre at Gwangju, South Korea, three relatives of the victims come together to avenge the infamous orchestrator.',\n",
              " 'After a musician dies under suspicious circumstances, a hard-drinking detective and a music fan investigate why rock stars often die at the age of 27.',\n",
              " 'Explore the circumstances surrounding the tragic deaths at 27 of Jimi Hendrix, Jim Morrison, Brian Jones, Janis Joplin, Kurt Cobain and Amy Winehouse.',\n",
              " 'After her drunken antics result in property damage, an alcoholic journalist enters rehab – and soon meets a fellow resident who changes her outlook.',\n",
              " 'When her fiancé acts strangely upon receiving a mysterious invitation, a florist sets out to find out the truth behind the tiny scrap of paper.',\n",
              " 'When teenage Ray begins transitioning from female to male, his single mom and grandmother must cope with the change while tracking down his father.',\n",
              " 'Three Indonesian women break records by becoming the first of their nation to medal in archery at the Seoul Olympics in the summer of 1988.',\n",
              " \"While attending one of India's premier colleges, three miserable engineering students and best friends struggle to beat the school's draconian system.\",\n",
              " \"The lives of three dissatisfied brothers running a family bridal shop turn topsy-turvy when one of them has to care for his ex-girlfriend's baby.\",\n",
              " 'With the help of his friends, a man breaks out of prison in hopes of restoring a lively nightclub.',\n",
              " 'Two crooks planning a bank heist wind up abducting a pizza delivery driver and force him to commit the robbery — with a strict time limit.',\n",
              " 'A fiery executive in a spiritless relationship falls victim to a dominant mafia boss, who imprisons her and gives her one year to fall in love with him.',\n",
              " 'Trapped by society and familial obligations, a young manga artist goes on an unconventional journey for sexual freedom and personal liberation.',\n",
              " 'After crash-landing on Earth, two royal teen aliens on the run struggle to blend in with humans as they evade intergalactic bounty hunters.',\n",
              " 'When their prison bus crashes in a forest on a rainy night, a group of criminals finds themselves battling wild animals and a mysterious killer.',\n",
              " 'After launching a successful underground restaurant out of their apartment, an ambitious chef and his wife open an all-consuming upscale eatery.',\n",
              " 'Paw-esome tales abound when singing furry friends Lampo, Milady, Pilou and Meatball band together.',\n",
              " \"In 1960s Madrid, music producer Guillermo Rojas launches a rock 'n' roll label with the help of aspiring singer Robert and clever producer Maribel.\",\n",
              " \"When a small town's letters to Santa accidentally go up in smoke, two elves venture out of the North Pole to retrieve every missing wish.\",\n",
              " 'Hoping to reunite with a dying friend, two longtime pals re-create their desert road trip from Spain to Mali, bringing along his estranged daughter.',\n",
              " \"A young mechanic comes out to his extremely straight best friends. Once they get used to the idea, they're determined to help him find the right guy.\",\n",
              " \"After the election-night murder of her campaign manager at a polling site, a gubernatorial candidate challenges the corrupt incumbent's victory.\",\n",
              " 'A couple finds unexpected drama when, after 40 years of living in the same Brooklyn walk-up, they attempt to sell their apartment and buy a new one.',\n",
              " 'When the Italian prime minister meets his lover and political rival while on an official trip to Budapest during Christmas week, things go topsy-turvy.',\n",
              " \"A young novelist's life is turned upside down when a chance encounter outside a New York hotel leads to an intense affair with a diplomat's wife.\",\n",
              " 'After falling for a pretty art teacher who has no short-term memory, a marine veterinarian has to win her over again every single day.',\n",
              " 'An otherwise healthy twentysomething has a comically early midlife crisis when he gets slapped with a cancer diagnosis and a 50-50 chance of survival.',\n",
              " 'Five friends embark on a mission to climb the highest peak in Java, overcoming obstacles on the way and discovering the true meaning of friendship.',\n",
              " \"To keep the band together, Selly tries to earn money by making an appearance at the birthday party of a mobster's daughter — until he gets kidnapped.\",\n",
              " 'A loyal sister struggles to stay afloat while driving her heroin-addicted brother to a detox center and looking after his 2-year-old daughter.',\n",
              " 'After faking his death, a tech billionaire recruits a team of international operatives for a bold and bloody mission to take down a brutal dictator.',\n",
              " 'As a volatile young couple who have been together for six years approach college graduation, unexpected career opportunities threaten their future.',\n",
              " 'Six friends decide to undertake a grueling mountain trek, only to find that the difficulties in store for them are not merely physical.',\n",
              " 'A hapless guy agrees to help his stunning – but psychotic – girlfriend rob her loathsome sugar daddy in a scheme as ill-conceived as it is violent.',\n",
              " 'Multiple women report their husbands as missing but when it appears they are looking for the same man, a police officer traces their cryptic connection.',\n",
              " 'Loyalties are tested and cruelties revealed when four business partners spend a tense evening debating who will pay for the crime they committed.',\n",
              " 'Given just seven days by a genie to find a girl who will fall for him, a nerdy young man embarks on a madcap and messy search for his would-be wife.',\n",
              " 'Spiced liberally with black comedy, this Bollywood drama follows the lethal love life of a woman who marries numerous men – only to find them flawed.',\n",
              " 'From fangs to claws to venomous stings, they all wield deadly weapons. But which creature will be crowned the fiercest of all?',\n",
              " 'Get up close and personal with avalanches, fiery volcanoes and other natural cataclysms, and learn why some choose to live in their destructive paths.',\n",
              " \"Witness the wonders of human gestation through cutting-edge CGI, and learn how those nine months inside the womb can affect all aspects of one's life.\",\n",
              " 'Four friends shake up their lives when they meet a new woman in their apartment complex who encourages them to embrace their wild sides.',\n",
              " 'Heroic health workers fight to contain an Ebola outbreak when a patient arrives in Lagos with symptoms of the deadly virus. Based on a true story.',\n",
              " 'A gymnast lacks the confidence she needs to reach the top. But with the help of her new coach, she has the chance to win a spot on the national team.',\n",
              " \"Recruited by a secret society of babysitters, a high schooler battles the Boogeyman and his monsters when they nab the boy she's watching on Halloween.\",\n",
              " 'The curious child of idealistic interfaith parents observes an increasingly intolerant world as his family faces financial strain.',\n",
              " \"After his wife's death, an overworked engineer struggles to care for his son with autism, who regresses into a fantasy world to escape real-life bullying.\",\n",
              " 'A 28-year-old layabout begins to re-examine his life when his dysfunctional family assembles to pay respects to a dying grandmother who won’t pass on.',\n",
              " 'With his carefree lifestyle on the line, a wealthy charmer poses as a ranch hand to get a hardworking farmer to sell her family’s land before Christmas.',\n",
              " 'When a grieving teen must work off her debt to a ranch, she cares for a wounded horse that teaches her more about healing than she expected.',\n",
              " 'Forced to wed his childhood friend, a man obsessed with football attempts to get rid of his wife in order to keep the woman he truly loves.',\n",
              " 'Determined to win the heart of his childhood crush from orphanage, EJ becomes a boxer with superpowers and soon confronts a formidable villain.',\n",
              " 'A cop working undercover to trail a possible diamond thief gets caught in a tricky spot when she finds new clues — and new feelings — for the suspect.',\n",
              " \"Christmas comes early for an aspiring young journalist when she's sent abroad to get the scoop on a dashing prince who's poised to be king.\",\n",
              " 'Christmas brings the ultimate gift to Aldovia: a royal baby. But first, Queen Amber must save her family and kingdom by unwrapping a monarchy mystery.',\n",
              " 'A year after helping Richard secure the crown, Amber returns to Aldovia to plan their wedding. But her simple tastes clash with royal protocol.',\n",
              " 'Despite her vain stepmother and mean stepsisters, an aspiring singer works as an elf at a Christmas tree lot and finds her own holiday miracle.',\n",
              " 'At the center of this engrossing melodrama is a Golden Globe-nominated turn by Debra Winger, who plays a sheltered, slow-witted woman living with her widowed Aunt Frances while working at a dry cleaners.',\n",
              " 'In this live-action adventure, the gang heads to Hawaii, where Timmy learns the source of all fairy magic is in dangerous hands.',\n",
              " 'When gentle, law-abiding Grace confesses to killing her new husband, her skeptical young lawyer sets out to uncover the truth. A film by Tyler Perry.',\n",
              " \"M'Dear and her sisters struggle to keep their singing act together before a church Christmas pageant while Grandpa teaches the kids a valuable lesson.\",\n",
              " \"A timid man gets unexpected superpowers while trying to save his family's land and a sacred tree from a ruthless tycoon.\",\n",
              " \"A gifted engineer flees his austere roots to pursue wealth and success among Copenhagen's elite, but the pride propelling him threatens to be his ruin.\",\n",
              " 'In a brief life full of triumph and failure, \"National Lampoon\" co-founder Doug Kenney built a comedy empire, molding pop culture in the 1970s.',\n",
              " \"Following a fatal car crash, a man's spirit remains stuck in the home he shared with his wife as doors into the past and future begin to open.\",\n",
              " 'When his girlfriend walks out and leaves him a wreck, a graphic designer – who seemed to have it all – sets out to discover where he went wrong.',\n",
              " 'When a familiar-looking stranger crashes in without a memory, Cory helps him remember the magic of Christmas to save the holiday for everyone.',\n",
              " 'As her seemingly idyllic life begins to crumble, a lonely woman in a restrictive marriage starts an affair with a gentle bookstore owner.',\n",
              " \"Aardman Animations icons Wallace & Gromit, Morph and more join fans and collaborators for a retrospective celebrating the studio's 40th anniversary.\",\n",
              " 'This spoof on scary movies follows a young couple settling into a new home, where an evil spirit — and horrifyingly hilarious antics — await.',\n",
              " 'When the ghost of her serial killer aunt seemingly resurfaces, Jordan must return to Silver Falls in hopes of finally putting an end to the torment.',\n",
              " 'Long past his heyday, a still-virile boxer tries to reconnect with his daughter as he confronts the onset of a terminal, degenerative neural disorder.',\n",
              " \"Hilary's plan to hire a good-looking guy to act as her boyfriend backfires when she brings him home for the holidays to try and fool her family.\",\n",
              " 'When a neighbor blocks their view of the city with a commercial billboard, a Hong Kong family resorts to drastic, imaginative measures to take it down.',\n",
              " 'Yijuan and her mentally ill sister Kaiqi struggle to be happy in the face of misfortune, criminal intrigue, marital strife, an exorcism and a ghost.',\n",
              " 'Obsessed with an unsolved murder case, a crime novelist stuck in an unhappy marriage fantasizes about killing his wife, who soon turns up dead.',\n",
              " \"A self-serving mythical creature's bid for invincibility backfires when he finds himself at the mercy of a woman who can see otherworldly beings.\",\n",
              " \"A willful young woman is hired to design a garden at Versailles for Louis XIV. Soon, she's ensnared in political and romantic complications.\",\n",
              " 'Comedy icon Carol Burnett returns to TV with a panel of clever kids, who help adults and celebrity guests solve their problems with brutal honesty.',\n",
              " 'A shy college student with a knack for drawing develops a crush on a musically gifted classmate and embarks on a journey of self-discovery.',\n",
              " 'Love is as tough as it is sweet for a lovestruck teenager, whose relationship with her next-door neighbor transforms as they grow into adulthood.',\n",
              " \"Self-made millionaire Ian thinks he's found happiness when he marries caring Joanna, but his love is put to the test when he meets stewardess Karyn.\",\n",
              " 'Raised in America, government agent Choi Kang-Ta returns to Korea with the skills of an assassin and a thirst for revenge on his father’s killers.',\n",
              " 'When a fit of anger leads to a serious injury, a sidelined soccer star returns to his hometown and reluctantly agrees to train the local youth.',\n",
              " \"As her wedding nears, a bride-to-be is visited by an angel who reveals what could have been if she'd followed feelings for her childhood best friend.\",\n",
              " 'After a run-in with Richard Grieco, dimwits Doug and Steve gain entry to a swanky nightclub in this comedy based on a \"Saturday Night Live\" sketch.',\n",
              " 'In 1888 Amsterdam, a headstrong violin maker finds himself immersed in peril and tragedy after challenging businessmen who threaten his community.',\n",
              " 'When a guard catches a writer-television host shoplifting, instead of turning him in, he only asks to be a friend, then begins to rule his life.',\n",
              " 'After confessing an unusual secret, a repressed wife – prompted by her friends – decides to explore her sexuality with a high-priced call girl.',\n",
              " 'Nina thinks her husband, James, is cheating on her, and she sets out to prove it by calling him and pretending to be another woman.',\n",
              " 'At the invitation of a relative, young Jules Daly travels with her niece and nephew to a castle in Europe, where Jules falls for a dashing prince.',\n",
              " 'Gloria Groove and Alexia Twister make drag dreams come true as they help six artists find the confidence to own the stage in this makeover show.',\n",
              " \"The residents of an isolated town look to revive their home's identity when a group of foreigners unexpectedly arrive, bringing culture shock with them.\",\n",
              " 'Inspired by the variety shows of the 1970s, \"A Russell Peters Christmas\" is a sweet, silly, sentimental and, most of all, funny Christmas special.',\n",
              " \"A film school graduate is interested in making a movie about his girlfriend's uncle, who claims that he can see his long-dead daughter.\",\n",
              " 'Following their storybook wedding, Popoy and Basha find married life – and starting a business together – more challenging than they ever imagined.',\n",
              " 'The extraordinary Baudelaire orphans face trials, tribulations and the evil Count Olaf in their fateful quest to unlock long-held family secrets.',\n",
              " \"A former class bully reaches out to the deaf girl he'd tormented in grade school. He feels unworthy of redemption but tries to make things right.\",\n",
              " \"This stream-of-consciousness drama centers on a day in the life of a gay college professor who's reeling from his longtime lover's recent death.\",\n",
              " 'Ace news producer Amy is called back to her Louisiana hometown where memories of what used to be – and what might have been – come flooding back.',\n",
              " 'After reckless teens kill an Amish child, a prosecutor attempts to bring the youths to justice despite the condemnation he faces from the community.',\n",
              " \"Bo thinks her holiday gift-giving isn't good enough, so she heads north to study under Santa Claus – only to find he's missing.\",\n",
              " \"A family reckons with the aftermath of their younger son's incarceration and a greater misfortune that follows.\",\n",
              " 'A Taipei doctor and a San Francisco engineer swap homes in a daring pact, embarking on journeys filled with trials, secrets and unexpected encounters.',\n",
              " \"When a philandering club promoter sets out to woo a rich, glamorous woman, he has no clue just how much mayhem he's about to unleash on his life.\",\n",
              " \"To carry out her dad's wish and discover her roots, Dai Tian-qing embarks on a journey around Taiwan and finds love and redemption on the way.\",\n",
              " 'When he learns his karma will permit him to speak just a thousand more words before he dies, fast-talking agent Jack must make every syllable count.',\n",
              " \"Amid the turmoil of China's civil war, families of Kuomintang pilots face the pain of leaving their homes but find strength in their shared bonds.\",\n",
              " \"A newly engaged couple's romantic vacation in Jamaica turns into a mischievous adventure that tests their union in wild and unexpected ways.\",\n",
              " 'Facing a drought, a hungry tiger and a noble cow have an extraordinary encounter in this fable based on a children’s book and a Kannada folk song.',\n",
              " 'Bill Murray rounds up an all-star cast for an evening of music, mischief and barroom camaraderie in this irreverent twist on holiday variety shows.',\n",
              " 'At the height of the Cold War in 1960, André Merlaux joins the French Secret Service and contends with enemies both foreign and bureaucratic.',\n",
              " \"After landing a job working for her longtime crush, an optimistic woman realizes that the man of her dreams isn't exactly who she envisioned.\",\n",
              " 'When bad boy Landon is cast opposite campus bookworm Jamie in a high school play, romance blooms — until tragedy threatens to tear them apart.',\n",
              " 'After receiving an anonymous tip about a bomb, a police commissioner must negotiate with the terrorist, who demands the release of four militants.',\n",
              " \"A peculiar girl transforms into a cat to catch her crush's attention. But before she realizes it, the line between human and animal starts to blur.\",\n",
              " \"Beatrix can't wait to be inducted as a witch, but an unfortunate incident threatens to take her pending title away if she doesn't act fast.\",\n",
              " 'Years after their father disappears, Meg and her younger brother Charles Wallace cross galaxies on a quest to save him from the heart of darkness.',\n",
              " \"Two astronauts attempt to brave a life in Earth's orbit on a record-setting mission to see if humans have the endurance to survive a flight to Mars.\",\n",
              " \"In the wake of Jesus Christ's crucifixion, his apostles dedicate themselves to spreading his message, risking their freedom and their lives.\",\n",
              " \"Everything Aiko knew was a lie. Now she's joining a team of Divers to reach the place where the Burst began to stop it for good and save her family.\",\n",
              " 'After losing her mother, a teenage girl bonds with her phone’s artificial intelligence app, a relationship that soon takes a dark and violent turn.',\n",
              " 'Young motocross racer Miles Hill helps a top-secret robotic combat dog evade its ruthless creator and the military, who are in hot pursuit.',\n",
              " 'A series of coincidences brings two star-crossed lovers together, but fate pulls them apart until they encounter each other again in Istanbul.',\n",
              " 'When Shaji Pappan and his gang of goofy outlaws find themselves low on funds, they plan to once again win a hefty prize in a tug-of-war competition.',\n",
              " \"A cop full of self-doubt loses his gun five days before he's due to leave the force, and becomes an unexpected hero as he tries to retrieve it.\",\n",
              " 'A conscientious politician helps an elderly singer overcome the obstacles placed in his path a by a powerful bureaucracy.',\n",
              " 'An intrepid police inspector forced into a desk job must take matters into his own hands when ruthless criminals are released on a technicality.',\n",
              " 'When an aging father seeks the help of a doctor and a journalist to look for the son who left him 16 years ago, he learns some surprising truths.',\n",
              " \"In this high-tension thriller, an anonymous caller on a cell phone threatens to harm a man's family if he doesn't carry out every order.\",\n",
              " 'When a man falls from his balcony, an investigator questions the victim’s family, determined to uncover a darker truth behind the alleged accident.',\n",
              " \"The decision by India's supreme court to establish caste-based reservations for jobs in education causes conflict between a teacher and his mentor.\",\n",
              " 'When he learns he has terminal cancer, a cynical gambler and chronic smoker ditches his fiancée, snubs doctors and checks into a nursing home to die.',\n",
              " \"Raised by a kindly thief, orphaned Jimmy goes on the run from goons and falls in love with Jyoti, whose father indirectly caused his parents' deaths.\",\n",
              " \"A municipal clerk with literary ambitions stalks a loan recovery officer on whom he has decided to base his story's central character.\",\n",
              " 'After losing their first child in an accident, a couple moves to a palatial home, where their young daughter comes under the spell of an eerie spirit.',\n",
              " 'After losing his seventh job in a row, a TV producer and sci-fi buff travels back in time to 1980, where his employment prospects improve.',\n",
              " 'After being accused of cheating on a reality TV show, a dance troupe seeks to redeem itself by winning the World Hip-Hop Dance Championship.',\n",
              " \"Thrown out of the elite dance studio he founded, Vishnu's spirits rebound when he sees young street dancers prepping for an annual contest.\",\n",
              " 'Following the mysterious death of his parents, a young man finds himself enmeshed in the dark world of drugs and crime.',\n",
              " 'Inspired by real events, this drama follows a trucker jailed after driving five ill-fated travelers across Quetta, and the officer taking on his case.',\n",
              " 'Due to family pressure, a corporate man reluctantly marries a woman from the village, but in their new home, she abruptly assumes a different persona.',\n",
              " 'Led by a trio of Korean celebs, a multinational panel of men engage in – usually – lighthearted debates on issues that surround Korea and beyond.',\n",
              " \"Two small abominable snowmen flee their mountain to escape a scientist who's trying to capture them and end up spending Christmas with a human family.\",\n",
              " 'When Tim learns that the men in his family can travel in time and change their own lives, he decides to go back and win the woman of his dreams.',\n",
              " 'Step inside the minds of the most innovative designers in a variety of disciplines and learn how design impacts every aspect of life.',\n",
              " 'A cast of quirky critters and Mother Nature herself narrate this funny science series, which peeks into the lives of Earth’s most incredible animals.',\n",
              " 'After meeting an untimely demise in separate incidents, Cha Min and Go Se-yeon discover they’ve come back to life in new bodies they don’t recognize.',\n",
              " 'A disenfranchised 16-year-old girl connects to an older man on the internet and after a brief one-sided affair descends into obsession and anorexia.',\n",
              " 'Three lifelong friends travel to Acapulco ostensibly so one of them can find his lost love, but the real reason behind the trip holds some surprises.',\n",
              " 'A contract killer skilled at staging lethal accidents fears he may be a victim of his own strategy when an accomplice dies in a mysterious mishap.',\n",
              " 'Rejecting the demands of her wealthy family, a young woman poses as an ordinary college student and crosses paths with a stoic pop star at school.',\n",
              " \"A young boy, upset by his parents' divorce, becomes infatuated with his grandmother's neighbor, an entrancing dancer he watches through a window.\",\n",
              " 'A black high school student sets his sights for the National Hockey League, but rising racial tensions in his community may jeopardize his goals.',\n",
              " 'An elite squad of Navy SEALs is tasked with rescuing a kidnapped CIA agent from a lethal terrorist cell.',\n",
              " 'Sick of his parents’ constant squabbling, a young man travels back in time to the onset of their romance, with plans to set them up for marital bliss.',\n",
              " 'When his future sister-in-law is kidnapped by human traffickers, a military veteran joins forces with his brothers and a world-weary cop to rescue her.',\n",
              " 'In a future where regeneration technology lets humans live indefinitely, a cop and a troubled young woman investigate a strange wave of youth suicides.',\n",
              " 'Near a Spanish town in northern Africa, a child takes a painful journey, a father reconnects with his daughter and a coast guard is guilt stricken.',\n",
              " 'Frenetic comic Adam Devine talks teen awkwardness, celebrity encounters, his \"Pitch Perfect\" audition and more in a special from his hometown of Omaha.',\n",
              " 'Education can be fun – and funny. Comedian Adam Conover bursts misconceptions, deconstructs topics and leaves with positive takeaways.',\n",
              " 'From \"Heroes\" to \"Ice Cream Ladies\" – Adam Sandler\\'s comedy special hits you with new songs and jokes in an unexpected, groundbreaking way.',\n",
              " 'After their child was abducted and murdered, John and Reve Walsh fought to raise national awareness of the problem of missing children.',\n",
              " 'Chasing extreme challenges, athletic daredevils test their limits in various environments from giant waves to snowy slopes around the world.',\n",
              " 'From Casino du Liban, Lebanese actor and comedian Adel Karam delivers earthy punchlines on kissing norms, colonoscopies and a porn star named Rocco.',\n",
              " 'Trailblazing comic Aditi Mittal mixes topical stand-up with frank talk about being single, wearing thongs and the awkwardness of Indian movie ratings.',\n",
              " 'A family’s harmonious existence is interrupted when the young son begins showing symptoms of anxiety that seem linked to disturbing events at home.',\n",
              " 'In order to keep her job at a biomedical engineering firm that prizes youth, a middle-aged woman must submit to a drastic experimental procedure.',\n",
              " 'Dubai residents struggle to figure out why a fleet of alien spaceships are hovering over their city when all contact with the outside world is cut off.',\n",
              " 'Brazilian comedian Afonso Padilha dives into his humble beginnings and digs out hilarious stories about his childhood in this very personal set.',\n",
              " 'This five-part nature series chronicles fascinating stories of survival on the African continent, home to the most diverse animal life on the planet.',\n",
              " 'This docuseries spotlights Afro-Brazilian thinkers sharing their individual journeys and discussing representation, entrepreneurship and community.',\n",
              " 'Wholesome college freshman Tessa Young thinks she knows what she wants out of life, until she crosses paths with complicated bad boy Hardin Scott.',\n",
              " \"Struggling to come to terms with his wife's death, a writer for a newspaper adopts a gruff new persona in an effort to push away those trying to help.\",\n",
              " 'Tessa fell hard and fast for Hardin, but after a betrayal tears them apart, she must decide whether to move on — or trust him with a second chance.',\n",
              " 'When a prep school loner films two classmates overdosing on cocaine, his footage plays a role in the emotional fallout within the school community.',\n",
              " 'A detective and a psychologist investigating a string of murders form a crime-solving team with the novelist whose work inspired the killings.',\n",
              " 'In a dramatized depiction of her 11-day disappearance, novelist Agatha Christie solving a real murder amid a crisis in her writing and marriage.',\n",
              " 'Despite the social backlash and challenges that come with intergenerational romance, these couples choose to stick together through thick and thin.',\n",
              " 'At their high school, a group of unruly teens wreak havoc, face bullies and navigate turbulent lives beyond school grounds.',\n",
              " 'A mix of brilliance, erudition and skill enables a modern Sherlock Holmes to solve impossible cases, all while he tries to heal personal wounds.',\n",
              " 'Frustrated with her thankless office job, Retsuko the Red Panda copes with her daily struggles by belting out death metal karaoke after work.',\n",
              " 'While Retsuko desperately makes plans for Christmas Eve, her new obsession with seeking validation through social media spirals out of control.',\n",
              " 'A boy grows up to become a gangster in pursuit of the mobster who killed his innocent father, but revenge and reparation may come at great costs.',\n",
              " 'Argentine comedian Agustín \"Radagast\" Aristarán adds doses of magic, music and acting to his high-energy stand-up routine.',\n",
              " 'A film crew shooting in a remote forested location begins losing members one by one to a mysterious entity that they cannot see or hear.',\n",
              " 'Stood up by her groom at the altar, a young woman finds help and healing from another man – until her ex-fiancé returns, hoping to win her back.',\n",
              " 'Chinese artist and activist Ai Weiwei uses social media and art to inspire protests and suffers government persecution for his actions.',\n",
              " 'To find love, seven strangers leave Japan and embark on a journey through the continent of Africa together. Challenges, adventure and romance await!',\n",
              " 'Seven men and women board a pink bus in search of true love. On a journey through Asia with strangers, their goal is to return to Japan as a couple.',\n",
              " 'Celebrity chef Ainsley Harriott embarks on a journey around the world to explore the relationship between local street foods and cultural identity.',\n",
              " \"When Ana, an influencer, crashes her car while talking on the phone, she’s shipped to her grumpy grandfather's farm – and forced into a digital detox.\",\n",
              " 'During a vacation with her parents, away from her concrete urban existence, a young girl learns to appreciate the joys of connecting with nature.',\n",
              " 'A happily married business executive is forced to deal with an episode from his past that he had long thought was put behind him.',\n",
              " 'When his protégé goes rogue and poses a grave threat to the government he serves, a veteran officer of the Indian Army tries to stop him at all costs.',\n",
              " 'An outspoken, imaginative girl from a conservative family pursues her dream man while fending off the prospect of an arranged marriage.',\n",
              " 'While traveling across the country in a run-down RV, drag queen Ruby Red discovers an unlikely sidekick in AJ: a tough-talking 10-year-old stowaway.',\n",
              " \"A young man's obsession with making others happy drives him to help the girl he loves marry someone else, then try to win her heart.\",\n",
              " 'A teenager discovers that he is an Ajin and flees before the authorities experiment on him. Other Ajin plan to fight back and he must choose a side.',\n",
              " 'When her small granddaughter is sexually assaulted by a powerful man and no justice is served, a poor, frail old woman plots her violent revenge.',\n",
              " 'After a public spat with a movie star, a disgraced director retaliates by kidnapping the actor’s daughter, filming the search for her in real time.',\n",
              " \"Tatsumi sets out on a journey to help his poor village. When he's rescued by a band of assassins, he joins their fight against the corrupt government.\",\n",
              " 'From battles of wit to fights for justice, Emperor Akbar and his trusty advisor Birbal display their unique bond through adventures in Mughal-era India.',\n",
              " 'In a village by the Lebanon-Syria border, the head of an arms-smuggling clan contends with family conflicts, power struggles and complicated love.',\n",
              " 'After growing up enduring criticism from his father, a young man finds his world shaken upon learning he was switched at birth with a millionaire’s son.',\n",
              " 'Mexican comic Alan Saldaña has fun with everything from the pressure of sitting in an exit row to maxing out his credit card in this stand-up special.',\n",
              " 'Tormented by bullies, an aspiring drag star working at an Alaskan cannery becomes a skilled fighter and is tapped for competition by a boxing coach.',\n",
              " 'As the police investigate his disappearance, a young man heads to Goa to carry out an act of vengeance fueled by years of pent-up anger toward society.',\n",
              " 'Colombian comedian Alejandro Riaño discusses the perks of dating a she-wolf, styles of dancing, the quirks of Bogotá men and soccer game announcers.',\n",
              " 'A retrospective look at the life and career of Grammy-award winning Spanish musician Alejandro Sanz.',\n",
              " 'Comic Alex Fernández performs his familiar autobiographical stories but goes a little deeper this time with a tender tale about one of his six siblings.',\n",
              " \"High school senior Alex Truelove's plan to lose his virginity to lovable girlfriend Claire goes awry when he meets the equally lovable Elliot.\",\n",
              " \"Alexa is battling cancer. But with her best friend, Katie, by her side, she's also starting high school – and ready for whatever comes next.\",\n",
              " 'After being shot during a robbery in Colombia and losing sensation in his legs, Uruguayan soccer star Alexis Viera finds a new sense of purpose.',\n",
              " 'Drugs and addiction endanger the love — and lives — of two childhood sweethearts struggling to survive the perils of a precarious world.',\n",
              " 'A garden gnome vendor and his brother-in-law attend a trade fair in Sofia, where they accidentally stumble into shenanigans involving a mafia boss.',\n",
              " \"Ali Wong's stand up special delves into her sexual adventures, hoarding, the rocky road to pregnancy, and why feminism is terrible.\",\n",
              " 'Two years after the hit \"Baby Cobra,\" Ali Wong is back with another baby bump – and a torrent of hilarious truths about marriage and motherhood.',\n",
              " 'After telling a white lie that spins out of control, the son of an Iraqi-born cleric in Melbourne becomes torn between family duty and his own heart.',\n",
              " \"In 19th-century Canada, a psychiatrist weighs whether a murderess should be pardoned due to insanity. Based on Margaret Atwood's award-winning novel.\",\n",
              " 'A widowed singer and single mother starts over as a diner waitress in Arizona, befriending her coworkers and romancing a ruggedly handsome rancher.',\n",
              " \"An aimless gamer and his two friends find themselves in a parallel Tokyo, where they're forced to compete in a series of sadistic games to survive.\",\n",
              " \"In a small town, a trans teen with a vibrant personality shakes up her high school's conservative ways while trying to secure her first kiss.\",\n",
              " \"This fact-based account delves into humankind's efforts to gather signals from possible intelligent beings beyond the solar system.\",\n",
              " 'The U.S. Navy Seal team tackles a top-secret mission at a research center where scientists have mysteriously disappeared and another life form awaits.',\n",
              " \"A young elf mistakes a tiny alien for a Christmas gift, not knowing her new plaything has plans to destroy Earth's gravity — and steal all the presents.\",\n",
              " \"Tiny alien lawmen fly into Rod's bedroom and recruit him into helping them stop an intergalactic criminal – who's disguised as a very familiar human.\",\n",
              " 'An inseparable couple struggles to stay together when betrayal threatens to tear their lives apart.',\n",
              " \"Fearless provocation has fueled stand-up comic Nina Geld's career, but a move to LA and a new love take her to new levels of honesty.\",\n",
              " 'Hip-hop icon MC Joe Speed retires from showbiz and finds a new rhythm balancing business, romance and everyday family chaos.',\n",
              " 'Culture clashes and brewing rivalries test a teen football player from South Los Angeles when he’s recruited to the Beverly Hills High School team.',\n",
              " 'After falling for a guest, an unsuspecting hotel staff becomes embroiled in a hostage scheme and discovers true love in an unlikely place.',\n",
              " 'While serving life in prison, a young man looks back at the people, the circumstances and the system that set him on the path toward his crime.',\n",
              " 'A penniless country boy goes in search of his runaway sister in Bogotá, where he falls for an aspiring singer, but gets tangled up in organized crime.',\n",
              " \"In this Emmy winner for Outstanding Children's Animated Program, Madagascar booty-shaker King Julien takes on the jungle’s craziest adventures.\",\n",
              " 'Instead of summoning the spirit of her dearly departed mother, a charming teen accidentally awakens a vengeful witch who wants to destroy her town.',\n",
              " 'A horror novelist with a traumatic past returns to her childhood hometown, where she revisits her night terrors and loses sight of reality.',\n",
              " 'Two strangers meet on a dating app and experience instant chemistry, but their relationship unravels as jarring differences catch up to them.',\n",
              " 'During a weekend excursion to a secluded ranch, an unwelcome visitor begins picking off the randy admirers of teenage temptress Mandy Lane.',\n",
              " 'Two teens facing personal struggles form a powerful bond as they embark on a cathartic journey chronicling the wonders of Indiana.',\n",
              " 'A battle-scarred Special Ops military vet joins a CIA-funded assignment to take down a Russian terrorist and his trigger-happy comrades.',\n",
              " 'Thirteen-year-old José Miguel is immune to 1994 World Cup fever until he realizes soccer is the only way to win the heart of his crush.',\n",
              " \"A Brazilian man tries a myriad of ways to get over his breakup with his girlfriend but is surprised to learn it's more difficult than he anticipated.\",\n",
              " \"An optimistic, talented teen clings to a huge secret: She's homeless and living on a bus. When tragedy strikes, can she learn to accept a helping hand?\",\n",
              " 'Bound by a family rule that forbids him from marrying until his stubborn sister gets hitched, a bachelor enlists the help of a love guru to woo her.',\n",
              " \"A woman sexually assaulted by her new boss's brother-in-law tries to move on as if nothing happened, but the night weighs heavily on her mind and body.\",\n",
              " 'Over a series of birthdays, a happy-go-lucky, commitment-averse fashion designer strives to bring a bit of calm to her chaotic love life.',\n",
              " 'Sebastián is a radio show host of modest fame, trying to find a way in the world as he deals with his ex-wife (whom he still loves) and two kids.',\n",
              " 'A close crew of striving New Yorkers experiences both joy and heartache in their romantic and professional lives.',\n",
              " 'Eight years after their breakup, college sweethearts Christine and Raf reconnect at different points in their lives as feelings from the past resurface.',\n",
              " 'In this animated outdoor adventure, wolf couple Humphrey and Kate face a crisis when one of their three cubs disappears without explanation.',\n",
              " 'The letters of the alphabet come to life in Alphaland as they read, write and spell their way into an exciting world of phonic fun.',\n",
              " 'After 250 years on ice, a prisoner returns to life in a new body with one chance to win his freedom: by solving a mind-bending murder.',\n",
              " 'Never married but always at weddings, a copy editor finally dives into the dating pool but wonders if her love story involves staying single forever.',\n",
              " 'A young 17th-century witch time travels to the future to save the man she loves, but first must adjust to present-day Cartagena and defeat a dark rival.',\n",
              " 'After being unexpectedly dumped by their respective lovers, a man and a woman have a chance meeting at a resort and embark on a unique relationship.',\n",
              " 'Young Laura and Carlos experience the intensity and fragility of first love, as life realities gradually tarnish their idealized notions of romance.',\n",
              " 'The brotherly bond between three childhood friends – one Sikh, one Muslim and one Catholic – is tested by the often comic absurdities of adulthood.',\n",
              " \"Abandoned in a park by their father, Amar, Akbar and Anthony grow up independently and have no knowledge of one another. They're reunited as adults when, by coincidence, they all give blood at the same hospital.\",\n",
              " 'To fulfill her husband’s dream to build a home, a widow sends her five children to earn money in Cairo, where their poverty tests them at every turn.',\n",
              " \"After he's recruited to an elite prep school, a 14-year-old basketball phenom is confronted by corruption and greed in amateur sports.\",\n",
              " \"Eight decades after her disappearance, Amelia Earhart's incredible accomplishments are still celebrated, thanks in large part to her sister Muriel.\",\n",
              " 'This engaging documentary series shares the surprising backstories of familiar institutions like the Pentagon, West Point and the Playboy Mansion.',\n",
              " 'Supermodel Tyra Banks created and executive-produced this reality series that chronicles the transformation of young women into potential supermodels.',\n",
              " 'This documentary profiles William Powell, who wrote the \"The Anarchist Cookbook\" in the early 1970s and spent his later life regretting his actions.',\n",
              " 'After grad student Mitch Rapp suffers a tragic loss during a terrorist attack, his single-minded thirst for vengeance catches the interest of the CIA.',\n",
              " \"While struggling to endure his tightly wound wife, an unfulfilling job and a surly teen, a man becomes obsessed with one of his daughter's friends.\",\n",
              " 'This anthology series unfolds a different story arc for each season, with dramas focusing on aspects of American life and the criminal justice system.',\n",
              " \"This anthology series dramatizes historic criminal cases in the U.S., including the O.J. Simpson trial and Andrew Cunanan's 1997 murder spree.\",\n",
              " 'A botched attempt to arrest a white supremacist in Idaho results in a gun battle, a standoff and three deaths that galvanize public opinion in 1992.',\n",
              " 'In 1931, a young Navy wife tore apart Hawaii on racial lines after claiming she was raped by a gang of nonwhite islanders.',\n",
              " 'Barack and Michelle Obama talk with directors Steven Bognar and Julia Reichert about the documentary and the importance of storytelling.',\n",
              " 'A judge’s kidnapping is streamed live on social media, as a vengeful loner puts him on trial for supposedly sending an innocent man to his death.',\n",
              " 'A neo-Nazi gets sent to prison for murder and comes out a changed man. But can he prevent his younger brother from following in his footsteps?',\n",
              " \"This twisted Emmy-winning drama plays upon the power of supernatural fears and everyday horrors, exploring humankind's unsettling capacity for evil.\",\n",
              " 'Baseball legend Ted Williams fights to become the greatest hitter of all time as he battles family, teammates, the press and even the fans.',\n",
              " 'An elite soldier, a corporate lawyer and a political activist uncover a deadly conspiracy linking terrorists to a powerful American corporation.',\n",
              " 'Four tight-knit high school seniors vow to turn their love lives around by homecoming when the arrival of a new student muddles their plans.',\n",
              " 'Time passes and tension mounts in a Florida police station as an estranged interracial couple awaits news of their missing teenage son.',\n",
              " 'A high school is rocked by an act of vandalism, but the top suspect pleads innocence and finds an ally in a filmmaker. A satirical true crime mystery.',\n",
              " 'A Navy SEAL haunted by wartime memories tries to rebuild his life at home, even as one last mission threatens to unravel everything.',\n",
              " 'From the death of romance in marriage to the injustices of modern-day parenting, Amit Tandon shares wisdom and wisecracks as a battle-scarred family guy.',\n",
              " \"Despite the Philippine government's crackdown on narcotics, high schooler Joseph expands his drug running while his cop uncle profits from corruption.\",\n",
              " 'Amid a marital crisis, Fikret befriends songstress Solmaz after a wacky encounter and must fill in as the father of her soon-to-wed daughter.',\n",
              " 'In the age of Buddha and his philosophy of nonviolence, a warmonger king plots the destruction of an enemy kingdom to rescue the woman he loves.',\n",
              " \"Rare home videos and interviews with Amy Winehouse's inner circle offer an intimate look at her journey from charismatic teen to troubled star.\",\n",
              " \"Amy Schumer spills on her new marriage, personal growth, making a baby and her mom's misguided advice in a special that's both raunchy and sincere.\",\n",
              " \"Comic sensation Amy Schumer riffs on sex, dating and the absurdities of fame in a bold and uncensored stand-up set at Denver's Bellco Theater.\",\n",
              " 'Fievel, a young Russian mouse, immigrates to America and must make his own way in the strange and sometimes perilous new world.',\n",
              " 'Fievel and his family head west for what turns out to be a wild adventure. Deep in cowboy country, the intrepid mouse faces down a nasty feline.',\n",
              " 'When a monster goes on a mouse-napping spree in New York, Fievel and his friends help a reporter get to the bottom of the mystery.',\n",
              " 'When Fievel and friends go hunting for buried treasure beneath the ruins of an old subway tunnel, they stumble onto something surprising.',\n",
              " 'A teen girl is drawn to her cousin’s hedonistic lifestyle when they spend the summer together in Cannes as she learns about herself and her own values.',\n",
              " \"While undergoing heart surgery in London, Yehia reflects on his life as his heart chamber becomes a courtroom where he's tried for his mistakes.\",\n",
              " 'Based on the 2002 El Ayyat train accident, this drama begins 90 minutes before the explosion, following the lives of riders in the third-class cars.',\n",
              " 'Haunted by a nightmare involving her abusive ex-boyfriend, an actress begins to question her reality and whether the incident took place.',\n",
              " 'Raised by three mothers, a self-assured teen in turmoil meets the father figure she never had. But she also stands to drive the man and his son apart.',\n",
              " 'After an assignment in a war zone, a journalist trying to put his life back together is granted an interview with someone claiming to be God.',\n",
              " \"An accountant and aspiring magician invites his boss to spend Christmas with his family — unaware that he's one of Colombia's most-wanted criminals.\",\n",
              " 'Eager to settle down, Abdullah searches for the right woman to marry – but the one he truly longs for may not feel the same way.',\n",
              " 'After meeting by chance, two young musicians with differing views on love and life record an album that drastically alters their lives.',\n",
              " 'As a woman scours Hyderabad for her missing husband, she becomes entangled in a conspiracy that suggests there’s more to the mystery than meets the eye.',\n",
              " 'After being sexually harassed by a drunken politician while performing at a public event, a village dancer plots revenge to clear her name.',\n",
              " 'Kat and Eva’s happy romance hits a rough patch when Eva decides that she wants a child. Visiting friend Roger could help complete their family.',\n",
              " 'Were ancient humans really behind some of the most important technological advances in civilized history, or did they have extraterrestrial help?',\n",
              " \"Aiming for fame, a struggling singer finds his long-lost millionaire twin and falls for his brother's secretary as a plot brews to steal the fortune.\",\n",
              " 'Broke and with no concrete plans for the future, two young men discover that a stunning heiress lives nearby and try to charm her into marriage.',\n",
              " 'A visually impaired pianist’s world careens into a series of shocking twists after he unintentionally lands at the murder scene of a former film star.',\n",
              " 'As a blind librarian, dispirited cricketer and desolate psychiatrist each seek retribution and release, their lives overlap under eerie influences.',\n",
              " 'As he prepares to close his restaurant, Michelin-starred Chef André Chiang embarks on a personal and emotional journey of reflection.',\n",
              " 'Inscrutable, incomparable or both? Famed French footballer Nicolas Anelka’s controversial legacy is explored in this in-depth documentary.',\n",
              " 'After a popular professor is attacked on a New York street, the story of how a series of intertwined events led to the life-altering assault unfolds.',\n",
              " 'After growing up amidst the gang wars of his hometown, Vincent forms an entrepreneurial squad of his own and ends up on the wrong side of the law.',\n",
              " 'In a world known as the Copper Dimension, a group of high-school girls fights against dark forces – and their own inner demons.',\n",
              " \"In a high school that's a way station to the afterlife, a teenager gets caught up in the battle for the rights of those in this purgatorial world.\",\n",
              " \"When a violent assault leaves her vulnerable, a streetwise Chicago cop receives help from a haunted loner who's struggling with traumas of his own.\",\n",
              " 'Secret Service agent Mike Banning is caught in the crossfire when he’s framed for a deadly attack on the president and forced to run for his life.',\n",
              " 'With her father working far away in Australia, a determined Angela makes a plan — and a heartfelt wish — to reunite her family in time for the holidays.',\n",
              " 'After a gentle businessman is forced to get anger management counseling, his therapist moves in – but turns out to have anger issues of his own.',\n",
              " 'Birds Red, Chuck and their feathered friends have lots of adventures while guarding eggs in their nest that pesky pigs keep trying to steal.',\n",
              " 'From his singular career to his personal demons, this biopic chronicles the short yet prolific life of the Marathi dentist-turned-superstar.',\n",
              " 'In a short musical film directed by Paul Thomas Anderson, Thom Yorke of Radiohead stars in a mind-bending visual piece. Best played loud.',\n",
              " \"An unlucky, debt-ridden teen resorts to his math skills when he's forced into a deadly tournament of rock-paper-scissors run by a diabolical host.\",\n",
              " 'In this intimate documentary, Brazilian pop queen Anitta opens up about fame, family and her fierce work ethic, revealing the woman behind the hits.',\n",
              " 'Mild-mannered Krishna comes to Mumbai to search for his gang-leader brother, and quickly finds himself in way over his head.',\n",
              " 'The cases are supernatural; the police officers human. Together, cops Aditi and Vikrant must solve mysteries from the realm of the paranormal.',\n",
              " 'The actress, comedian and YouTube sensation riffs on everything from nail salons and Gypsies to Mexican moms and super-sleuthing Liam Neeson.',\n",
              " 'After a distressing incident, a Delhi man vows to believe only what he can see, but his new ideals soon take his life in extreme directions.',\n",
              " 'A young medical intern sets out to fight for justice after the negligence of the surgeon he looked up to ends in tragedy.',\n",
              " 'While vacationing on picturesque Nantucket, a crafty teenage mystery writer contends with two thieves as she tries to solve a ghostly conundrum.',\n",
              " 'A plucky orphan whose passions run deep finds an unlikely home with a spinster and her soft-spoken bachelor brother. Based on \"Anne of Green Gables.\"',\n",
              " \"A teen haunted by the spirit of an old friend summons the other members of their childhood club to help fulfill the girl's final wish.\",\n",
              " 'After a massive alien artifact lands on Earth, Niko Breckinridge leads an interstellar mission to track down its source and make first contact.',\n",
              " 'A sound director who suddenly starts getting visions of someone else’s future gets mired in the lives of two women, who happen to share the same name.',\n",
              " 'Problems big and small pop up when Scott Lang, aka Ant-Man, gets drafted by Dr. Hank Pym and Hope van Dyne, aka the Wasp, for an urgent rescue mission.',\n",
              " 'Learning he is the grandson of a famous knight, a young man hilariously fights a rival gang to win over the most beautiful woman in the tribe.',\n",
              " \"Forging his own comedic boundaries, Anthony Jeselnik revels in getting away with saying things others can't in this stand-up special shot in New York.\",\n",
              " \"There's no subject too dark as the comedian skewers taboos and riffs on national tragedies before pulling back the curtain on his provocative style.\",\n",
              " 'A forger uses a fake identity in trying to retrieve stolen diamonds buried in a penitentiary, unaware a mob assassin is on the trail of his phony alias.',\n",
              " 'A tough-as-nails treasure hunter protects a humanitarian doctor as she tries to cure a supernatural disease caused by a mysterious witch.',\n",
              " 'Seeking refuge in a Hindu temple after the tragic death of the girl he loved, a Muslim youth is caught by the police, who mistake him for an enemy.',\n",
              " \"This gritty dramatization of the life of Carlos Tevez shows his rise to soccer stardom amid the harrowing conditions in Argentina's Fuerte Apache.\",\n",
              " 'A young journalist is forced into a life of crime to save his father and family in this series based on the novel by Miguel Sáez Carral.',\n",
              " 'Raised under the condescending eye of his activist father, an underachieving loafer is lured into the local kingpin’s web of corruption and kidnapping.',\n",
              " 'A visionary carmaker introduces his fuel-efficient, high-performance hypercar to a market filled with big-name competitors like Ferrari and Porsche.',\n",
              " 'Amid the turmoil of 1960s LA, two cops and a prominent political family are drawn into the sex- and drug-fueled web of a young Charles Manson.',\n",
              " 'A futuristic France tries to keep its people from despair and rebellion over crippling poverty by engaging them with a violent TV competition show.',\n",
              " 'Newly orphaned Aram leaves Beirut to live with his grandfather in Los Angeles, and overwhelmed by culture shock, he falls prey to an Armenian gang.',\n",
              " 'Colombian stand-up comedians Antonio Sanint and Julián Arango impersonate an Argentine visitor and a cabbie, and a pair of dirty old men at the opera.',\n",
              " 'Twenty years after their debut, join the beloved members of Arashi on a new journey as they showcase their lives, talents and gifts to the world.',\n",
              " \"When authorities arrest his young son, a taxi driver must convince the courts and rabid media that he's not the criminal they seek.\",\n",
              " 'Determined by a dating algorithm, a group of single contestants must identify their perfect matches for a shot at love and a cash prize.',\n",
              " \"Aiming to become part of Amsterdam's elite, an ambitious college student joins an exclusive society, unaware it's hiding a horrifying secret.\",\n",
              " 'In a world filled with provocative (and often misleading) news, a passionate team of investigative TV reporters strives to bring truths to light.',\n",
              " \"In this English-language special, Icelandic comedian Ari Eldjárn pokes fun at Nordic rivalries, Hollywood's take on Thor, the whims of toddlers and more.\",\n",
              " 'Wry yet thoughtful, comedian Ari Shaffir brings his edgy humor to two fast-paced stand-up specials about children and adulthood.',\n",
              " 'Ariana Grande takes the stage in London for her Sweetener World Tour and shares a behind-the-scenes look at her life in rehearsal and on the road.',\n",
              " 'A group of friends reunites for a vacation amid nature, where they laugh about their shared history and bond over difficult truths.',\n",
              " \"This animated retelling of the classic Indian tale of Prince Arjun – part of the Sanskrit epic Mahabharata – begins during the prince's youth.\",\n",
              " \"It's the Emmy-winning story of a wealthy family that lost everything, and the one son who had no choice but to keep them all together.\",\n",
              " \"Based on DC Comics' Green Arrow, an affluent playboy becomes a vengeful superhero, saving the city from villains armed with just a bow and arrows.\",\n",
              " 'In his first stand-up special, Arsenio Hall discusses getting older, the changing times and culture, social issues and even bothersome baby toes.',\n",
              " 'In a mythical land called Arth, the inhabitants of the ancient city of Arthdal and its surrounding regions vie for power as they build a new society.',\n",
              " 'Russell Brand stars in this remake as a philanderer who must decide whether to give up an inheritance of millions for the sake of romance.',\n",
              " 'The grim realities of caste discrimination come to light as an entitled but upright city cop ventures into India’s heartland to investigate a murder.',\n",
              " 'A beautiful tomb raider and her crew hunt for treasure in the catacombs of Paris and find themselves in a hellish underworld.',\n",
              " \"The structured world of a sour, obsessive-compulsive author crumbles when he's drawn into the lives of a stressed-out single mom and his gay neighbor.\",\n",
              " 'Entangling the lives of a movie star, a chauffeur, a prostitute and a pimp, this bold drama reveals ugly truths beneath Mumbai’s glitzy veneer.',\n",
              " 'When a dispute breaks out between five siblings over their mother’s property, one devoted son will go to any lengths to protect her land.',\n",
              " 'Thirty years later, Ash Williams – demon hunter par excellence – is back to battle a new Deadite plague. He may have lost a hand, but not his touch.',\n",
              " \"Hidden away by her mother, the Floral Goddess, the naïve Jinmi is drawn to Xufeng, the Heavenly Emperor's son. Yet forces conspire against them.\",\n",
              " 'From allergies to diet to sleep, three friendly doctors share expert advice, bust medical myths and test the latest treatments.',\n",
              " \"Five curious little creatures track down the answers to kids' biggest questions, like how night happens or why we need to brush our teeth.\",\n",
              " \"This elaborate Bollywood epic dramatizes one man's transformation from a vengeful and cunning warrior into a legendary leader and teacher of Buddhism.\",\n",
              " 'A comedy troupe of four friends on the autism spectrum prepares for a final show before its members go their separate ways.',\n",
              " 'When the brakes slam on his wedding, Roy accepts a challenge from a new foe to race for his runaway bride at the iconic Nürburgring track in Germany.',\n",
              " 'A group of friends making a web series about their hometown realize it isn’t as boring as they thought when their neighbors start behaving strangely.',\n",
              " 'With unique individual perspectives that converge into a unified voice, sketch comedy group Astronomy Club delivers a smart and absurd brand of humor.',\n",
              " 'To win the heart of his true love – a high-society girl – a hapless commoner plots to change his identity and avoid his embarrassing friends.',\n",
              " 'For a tech-savvy thief, elaborate robberies and evading the police are second nature until a private detective is hired to investigate his latest heist.',\n",
              " \"Caught between a corrupt mayor and a prosecutor intent on exposing political depravity, a police detective must decide whose side he's on.\",\n",
              " 'This revealing documentary explores how the high-stakes world of Amateur Athletic Union basketball has professionalized youth sports in America.',\n",
              " 'After mysterious lights imbue her with extraordinary powers, a teenager goes on the run from authorities with the friend who harbors a crush on her.',\n",
              " 'Encountering each other after a long separation, two childhood friends from orphanage must overcome great odds to fulfill an old promise and find love.',\n",
              " 'A young \"fabric geek\" lands a job at an upscale Japanese lingerie company – and quickly discovers she\\'ll need help to survive.',\n",
              " \"With the world's economy in dire straits, corporate protagonist Dagny Taggart searches for a solution amid the rubble of a long-abandoned factory.\",\n",
              " 'With his hometown in ruins, young Eren Yeager becomes determined to fight back against the giant Titans that threaten to destroy the human race.',\n",
              " 'Intrepid newspaper editor Harold Evans wages an ongoing battle to expose the truth about a dangerous drug and obtain compensation for its victims.',\n",
              " 'Four high school seniors steal an important college entrance exam and go on vacation to \"study,\" but accidentally lose the exam while partying.',\n",
              " 'When a teen on the autism spectrum decides to get a girlfriend, his bid for more independence puts his whole family on a path of self-discovery.',\n",
              " 'Comedy trio Aunty Donna showcase their uniquely absurd and offbeat style through an array of sketches, songs and eclectic characters.',\n",
              " 'Newly released KGB files expose evidence proving how architects and engineers conspired with the Nazis to build a camp designed for genocide.',\n",
              " \"The world's most shagadelic spy continues his fight against the diabolical Dr. Evil, who's teamed with a new foe: 1970s villain Goldmember.\",\n",
              " \"A swingin' fashion photographer by day and a groovy British secret agent by night, superspy Austin Powers must foil the sinister schemes of Dr. Evil.\",\n",
              " 'When diabolical genius Dr. Evil travels back in time to steal superspy Austin Powers\\'s \"mojo,\" Austin must return to the swingin\\' \\'60s himself.',\n",
              " \"A production crew that thinks it's making a documentary about a humble Mumbai rickshaw driver unmasks a horrifying truth about their film's subject.\",\n",
              " 'After losing all memories of his past, a wealthy lawyer travels to a rural village where a woman he once loved now lives with her son.',\n",
              " 'An elite assassin wrestling with doubts about her work scrambles to protect herself — and her estranged family — after a hit goes dangerously wrong.',\n",
              " \"Siblings Katara and Sokka wake young Aang from a long hibernation and learn he's an Avatar, whose air-bending powers can defeat the evil Fire Nation.\",\n",
              " 'A devoted nun who cares for her elder sisters must choose between upholding her vows or pursuing her forbidden feelings for a fascinating pastor.',\n",
              " 'Betrayed by his loan shark brother, a hardened convict escapes from prison while on furlough to exact revenge against the people who made him a killer.',\n",
              " 'Superheroes amass to stop intergalactic sociopath Thanos from acquiring a full set of Infinity Stones and wiping out half of all life in the universe.',\n",
              " 'A family’s tense reunion turns terrifying when they get trapped in their home by an unknown force, and sinister commands begin appearing on their TV.',\n",
              " 'After an accident leaves him with no recollection of who he is, a man becomes a prime suspect in the search for a serial killer targeting young women.',\n",
              " 'Sleepless for 24 hours, contestants in the comedy game show stumble through challenges both eccentric and everyday for a chance at a $1 million prize.',\n",
              " 'Commander Emma Green leaves behind her husband and daughter to lead an international crew of astronauts on a perilous three-year mission to Mars.',\n",
              " 'Disparate characters, including an aspiring time traveler, a phony chef, a drug-addicted waitress and several others, share a surprising connection.',\n",
              " 'In Delhi, friends from Northeast India prepare a pungent delicacy for a wedding party, sparking conflict and comedy with their unaccustomed neighbors.',\n",
              " 'With his carefree bachelor days behind him, a young entrepreneur’s ambitions for adulthood come with some painful personal and professional decisions.',\n",
              " 'Sent away to evade an arranged marriage, a 14-year-old begins a harrowing journey of sex work and poverty in the slums of Accra.',\n",
              " \"This biopic traces the tumultuous life and career of top cricket player Mohammad Azharuddin, who led India's national team in the 1990s.\",\n",
              " 'Stand-up comedian and TV star Aziz Ansari (\"Parks and Recreation\") delivers his sharp-witted take on immigrants, relationships and the food industry.',\n",
              " '\"Parks and Recreation\" star Aziz Ansari takes the stage to share his unfiltered views on adulthood, babies, marriage, love and more in the modern era.',\n",
              " 'In a comedy special directed by Spike Jonze, Aziz Ansari shares deep personal insights and hilarious takes on wokeness, family and the social climate.',\n",
              " 'Genius investigator Keith Flick rejoins the royal police force just as serial killer \"B\" emerges. Mysterious youth Koku may be an ally, or a target.',\n",
              " 'Orphaned and at loose ends, young Mukesh falls into the seductive orbit of married Sarika, who leads him ever deeper into a world of sex and betrayal.',\n",
              " 'A young woman eager to avoid an arranged marriage moves to Mumbai, where she learns hard truths about show business, life and love.',\n",
              " \"In 1975, during the government-declared Emergency, thief Bhawani and his crew plan a daring robbery to reclaim his royal lover's seized treasures.\",\n",
              " 'A martial artist faces his biggest test when he has to travel to Bangkok to rescue the woman he loves from the clutches of his romantic rival.',\n",
              " \"To avenge his father's death, a young man leads an army into battle against a cruel tyrant in this Hindi conclusion to the historic saga.\",\n",
              " \"Villagers in the kingdom of Mahismati rescue a baby who is destined to embark on a heroic quest in this Hindi version of S.S. Rajamouli's epic.\",\n",
              " 'A wide-eyed graduate learns the ugly side of ambition when he joins in the dubious business practices of his idol, a ruthless Mumbai stock tycoon.',\n",
              " \"Following Turkey's bloody coup of 1980, a widowed reporter returns to his Aegean hometown, bringing his son and a last wish for his estranged father.\",\n",
              " 'Facing pressure to marry immediately, an unemployed man must find a way to pay for a wedding by any means necessary.',\n",
              " \"Fed up with their families and classmates, two teen girls from a wealthy part of Rome are drawn to the city's underworld and start leading double lives.\",\n",
              " \"Step into the cutthroat world of kids' ballroom dancing, where ambitious instructors, proud parents and pint-sized performers waltz to win.\",\n",
              " 'When two sisters travel from Canada to Punjab to visit their maternal family, they discover an opportunity to mend a broken bond with their grandmother.',\n",
              " 'From surprise news to relationship blues, four coworkers in different stages of motherhood unite to support each other in their struggles with men.',\n",
              " \"A Soviet freight train's hijacking leads a haunted cop and a poor typist to uncover a political conspiracy amid the vice and glamour of 1929 Berlin.\",\n",
              " 'When their car breaks down en route to São Paulo, a father and son accept a ride from four beautiful telemarketers who are headed there on holiday.',\n",
              " 'An American science geek ready to spend a summer at sea accidentally ends up at an Australian soccer academy and is forced to kick it with the locals.',\n",
              " 'To pay for an epic blunder, three yakuza brothers are forced to alter their bodies, form a girl group and break into the underground J-Pop idol scene.',\n",
              " \"A young man who's learned nothing about his father from his single mom has a freak accident that sends him back to 1989, the year before he was born.\",\n",
              " 'When a teenager is transported back to his parents’ high school days, he has the chance to alter the events that led to their unhappy marriage.',\n",
              " 'A weekend hike for urbanites Alex and Jenn takes a dangerous turn when they become lost deep in the remote territory of a menacing bear.',\n",
              " 'In this sequel to the 1991 film, a determined fire investigator recruits an imprisoned arsonist to help untangle a web of fire, murder and corruption.',\n",
              " 'When two would-be robbers accidentally kill a made man, they find themselves on the run from the South Philly Italian mob.',\n",
              " 'This sprawling crime drama follows the true story of the Rizzuto family and its associates, who presided over organized crime in Montreal for decades.',\n",
              " 'In this fast-paced actioner, two Miami narcotics cops are hot on the trail of a master crook who has snatched $100 million worth of heroin.',\n",
              " \"In this hyperkinetic sequel, a pair of Miami narcotics cops investigate a Cuban drug kingpin's connection to Florida's influx of Ecstasy.\",\n",
              " \"A mild-mannered, middle-aged Irish farmer devoted to his mother embarks on a violent quest for revenge when she's murdered in a home invasion.\",\n",
              " \"A history teacher at the posh Abbey Grove, Alfie Wickers is something truly special: He's his school's, if not England's, single worst educator.\",\n",
              " 'A top student gets pulled into a cheating racket with increasingly higher risks and even higher rewards. But she may lose much more than she gains.',\n",
              " 'The geriatric antics of Irving Zisman continue in this next installment of the Jackass franchise, which features unused footage from the first film.',\n",
              " 'Reinstated to eradicate the worst crimes in the city, a detective requests the release of three convicts to enlist their help in catching the felons.',\n",
              " 'Ordered to take down a villainous business leader who controls the city, a prosecutor gathers a team of men who may not be so clean themselves.',\n",
              " 'When a man is killed, his wife and his lover – both of whom are pregnant with his children – come under the thumb of his brutal, dictatorial father.',\n",
              " 'A young woman who is suspected of practicing black magic and witchcraft is demonized and forced to live apart from her family.',\n",
              " 'When a woman is accused of killing her lover, a renowned lawyer is hired – but the more they try to  untangle the truth, the more convoluted it becomes.',\n",
              " 'A detective with a license to kill roams the Old West to wrangle Confederate war criminals and meets a pioneer woman who throws his journey off track.',\n",
              " 'While martial arts champion Baki Hanma trains hard to surpass his legendary father, five violent death row inmates descend upon Tokyo to take him on.',\n",
              " 'A veteran journalist starting a news site about corruption in Chile stumbles on a big story when a fellow investigative reporter dies suspiciously.',\n",
              " 'Balto, who is half wolf and half dog, endures the taunts of disapproving humans as he guides a precious cargo of medicine through the Alaskan winter.',\n",
              " 'Half-dog, half-wolf Balto (voiced by Maurice LaMarche) and his wife proudly put their pups up for adoption to humans, but when nobody takes daughter Aleu because she looks too much like a wolf, she runs away to search for her place in the world.',\n",
              " \"A pilot challenges Balto's son Kodi and his sled team to see who can deliver the mail faster, but the dogs race to the rescue when the plane vanishes.\",\n",
              " 'Determined to stop his ex-girlfriend from marrying, a young man crashes the wrong wedding and meets a bride looking to run away.',\n",
              " 'Minibus driver Riza is a steady presence in his close-knit neighborhood, until he brings home a dreamy beauty and throws everything into chaos.',\n",
              " 'Searching for a soul mate, a ghost negotiates with God for three more days on Earth to find love, then meets a woman in need of help herself.',\n",
              " \"Despite leaving for college, a heartsick teen tries to build a new friendship with a kindred spirit even though she's dating her ex-boyfriend.\",\n",
              " 'A young married couple tries to save their disintegrating relationship by turning their fights into songs, with the help of an oddball neighbor.',\n",
              " 'Recast as modern-day men, Tom Sawyer and Huck Finn draft their misfit cronies to help find the buried treasure the two have sought since boyhood.',\n",
              " \"Heirless Maharaj Brajbhan leaves his throne to his cousin Vikram, but when Brajbhan's wife, Badi Rani, finally conceives, Vikram plots to destroy her.\",\n",
              " 'A small but fierce group of resistance fighters engages in a brutal battle to protect their village from an army of Burmese invaders.',\n",
              " \"Sent on the same deadly international mission by their rival religious factions, two men's madcap antics along the way take them hilariously off course.\",\n",
              " 'Living under the same roof, a group of unabashed friends wrestle with everyday issues from financial woes and shared quarters to romantic misfires.',\n",
              " 'When offered a deal to snitch on fellow prisoners, an inmate faces a tough dilemma: act in his own interest, or help those who may need him.',\n",
              " \"From a teenage parkour enthusiast to a bawdy restaurateur, an eclectic group of characters find romance in Bangkok's glittering Silom district.\",\n",
              " 'A kind computer repairman falls for a street-smart graffiti artist whose multiple personality disorder worsens after she witnesses a double murder.',\n",
              " \"In Bangkok's Chinatown, a spirited digital marketing expert falls for a blind fortune-teller, but their love is predestined to end in disaster.\",\n",
              " 'After an encounter with an engineer working the night shift for the city train, a 30-year-old woman struggles against all odds to pursue true love.',\n",
              " \"Explore the history and philosophies behind one of the world's most beloved – and successful – soccer franchises: FC Barcelona.\",\n",
              " 'After futile attempts to better their lives with honest work, three broke friends opt for a more dubious means of making money: kidnapping for ransom.',\n",
              " 'A laid-back civil servant and wealthy video blogger struggle to make it as a modern couple amid strict Saudi social conventions.',\n",
              " \"Torn between the mighty empire that raised him and his own tribal people, a Roman officer's conflicted allegiances lead to an epic historical clash.\",\n",
              " \"Barbie and her sisters set off on a Swiss adventure to the majestic Alps, where they're excited to spend the summer at a fun-filled riding academy!\",\n",
              " \"Surf champ Merliah discovers she's actually a mermaid in a girl's body. With the help of a dolphin, Merliah must rescue her mom, the Queen of Oceana.\",\n",
              " \"A princess with a predictable life finds herself transformed by a magical butterfly's kiss into Super Sparkle, a crime-fighting superhero.\",\n",
              " 'When royal Princess Courtney trades places with famous rock star Erika, two worlds collide while both learn to appreciate new friends and experiences.',\n",
              " \"Through music and magic, Barbie learns what it's like to be a modern princess when she trades places with a royal lookalike.\",\n",
              " 'A hoverboard-riding princess of the cosmos, Barbie must band together with a team of talented new friends to save the stars from winking out.',\n",
              " 'When devilish fairies capture Ken and fly away with him, Barbie and Raquelle travel to the glittering fairy world of Gloss Angeles to save him.',\n",
              " 'Barbie stars as a princess who would rather sing and dance than be a royal. When a famous pop star visits the kingdom, they decide to switch places.',\n",
              " \"Pulled into her favorite video game, Barbie becomes a fun, roller-skating heroine who's battling a sinister emoji that's trying to take over.\",\n",
              " 'Iconic songstress Barbra Streisand culminates her 13-city tour in Miami with dazzling ballads, Broadway standards and stories from behind the scenes.',\n",
              " 'While pursuing a degree in Spain, an architecture student struggling with grief meets a fellow expatriate trying to flee a difficult family life.',\n",
              " 'Years after a disastrous job in Balochistan, a former Indian spy must confront his past when he returns to lead an unsanctioned hostage-rescue mission.',\n",
              " 'When she falls in love with the author of a novel she adores, bohemian Bitti enlists the help of a local printer to find her new object of affection.',\n",
              " 'A girl raised to be a government assassin just wants to be a normal teen – so she runs away and pretends to be a high school exchange student.',\n",
              " 'Years after rejecting Barfii, a hearing and speech impaired young man, for a more \"appropriate\" suitor, Shruti finds herself falling for him.',\n",
              " 'Four friends from a humble technical school compete against the elite students of a prestigious university in a robot-building contest.',\n",
              " 'A young Barack Obama forges his identity while dealing with race, divergent cultures and ordinary life as a New York City college student.',\n",
              " \"A naïve young man and a rich city girl fall in love. Her stepfather, however, doesn't approve of the match and will stop at nothing to split the pair.\",\n",
              " \"When two slackers' made-up sport, BASEketball, becomes a national craze, they hope to cash in on the basketball/baseball hybrid's popularity.\",\n",
              " \"A curious and talkative bat finds spooky fun on the streets of Fogville, a town that's not as quiet as it seems, with a plucky girl and her brothers.\",\n",
              " \"When his father dies, Norman Bates and his mother open a hotel. But Norman's precarious mental state drives them down a dark and violent path.\",\n",
              " 'An ambitious young athlete endeavors to revive his floundering running career after falling prey to negative influences.',\n",
              " 'A comedy writer for David Letterman unearths a hidden world of hilariously bizarre musicals, which turns into a toe-tapping obsession.',\n",
              " 'The Joker makes life hell for the Gordon family in a monstrous attempt to prove to Batman that one bad day can drive a good man to madness.',\n",
              " \"A polished FBI agent must team up with a cynical cop when he's dispatched to Battle Creek, Michigan, to set up an office at the local precinct.\",\n",
              " 'A team of mercenaries working with the CIA accepts an off-the-books mission in Chernobyl, where deadly human-controlled droids prepare an ambush.',\n",
              " 'A dysfunctional middle-class family is transformed by the attentions of their talented new chef – until he vanishes along with their valuable jewels.',\n",
              " 'A young girl grows increasingly concerned about the rhino poaching in her village when it begins to directly impact her impoverished family.',\n",
              " 'A young man challenges traditional customs by standing up to the father of the woman he loves, who has promised her to a wealthy expatriate.',\n",
              " 'A cooly confident aging hit man returns from exile in Paris to his old city, Mumbai, to revisit his past and perform one last job.',\n",
              " 'To escape the stress of fame, teen pop star Jordan goes incognito in a small town, where he forms a special bond with high school art student Emily.',\n",
              " 'They were the boy band to beat until fame tore them apart. Ten years later, five friends and an ex-love reunite and find themselves closer than ever.',\n",
              " 'After reconnecting with their girlhood crushes, two sisters find their lives turned upside down by surprising revelations and romantic intrigue.',\n",
              " 'Bear buddies Bucky and Bjorn play games, go on far-out adventures and learn about wondrous new things together.',\n",
              " 'A diverse crew of experts dive deep into the origin stories of mythological monsters before building replicas of the creatures using 3D CGI technology.',\n",
              " 'In a world where beasts of all kinds coexist, a gentle wolf awakens to his own predatory urges as his school deals with a murder within its midst.',\n",
              " 'When civil war tears his family apart, a young West African boy is forced to join a unit of mercenary fighters and transform into a child soldier.',\n",
              " 'After enduring both business and family upheavals, a ruthless investment director has a heart transplant and finds a new way to look at life and love.',\n",
              " \"On Chicago's South Side, hip-hop prodigy August Monroe navigates crippling anxiety and new creative frontiers with the help of an unlikely mentor.\",\n",
              " 'Back in the days of disco, Mexico had its own stars of the night. This documentary casts new light on former queens of the Mexican burlesque scene.',\n",
              " 'A homicide detective and a veteran who has been turned into a beast by a military experiment gone awry become allies after they meet by chance.',\n",
              " 'Finding himself in a desperate situation, undercover agent Emman asks his former best friend, Erika, to join him on a dangerous mission.',\n",
              " \"After realizing that their boob tube is gone, Beavis and Butt-head set off on an expedition that takes them from Las Vegas to the nation's capital.\",\n",
              " \"When ladies' man Robin meets Jamika, he falls head over heels, but she greets him with four surprises: her son and her girlfriend Bebe's three kids.\",\n",
              " 'After losing a World Cup bet, two hapless buddies must use their wits to pay off their debt to a big Jakarta bookie in this action-packed comedy.',\n",
              " 'Two housemates get married for financial convenience, but discover nothing is simple when it comes to demanding in-laws, or facing their growing bond.',\n",
              " 'Trouble and high jinks ensue when a man and woman stumble on a bag full of money while out on the town.',\n",
              " 'Join former first lady Michelle Obama in an intimate documentary looking at her life, hopes and connection with others as she tours with \"Becoming.\"',\n",
              " \"Skeeter's life is turned upside down when the fantastical stories he makes up to entertain his niece and nephew inexplicably turn into reality.\",\n",
              " 'Four female friends in the fast-paced city of Lagos, Nigeria endure public and private pressures to walk down the aisle by the age of 30.',\n",
              " 'Forced to continually relive the day she dies in a car crash, a privileged high schooler must unravel the cosmic mystery of her suddenly looping life.',\n",
              " 'Still mourning the death of their son, Mark and Jessie welcome foster child Cody into their lives. Soon they discover he has a strange ability.',\n",
              " 'Leonardo DiCaprio crisscrosses the globe to investigate the consequences of man-made globe warming and the measures being taken to reverse it.',\n",
              " 'Ahead of summer break, a couple heads to a seaside resort where intimate interactions with other villagers make for anything but a peaceful holiday.',\n",
              " 'Follow singer and YouTube sensation Todrick Hall as he launches an original musical based on growing up gay in Texas and finding showbiz success.',\n",
              " 'An Ankara homicide detective with a dark personal life and a disdain for rules and political correctness solves murders and fights police corruption.',\n",
              " 'After having her heart broken by a man who seduced her at a party, a young, ambitious woman concocts a scheme to get revenge.',\n",
              " 'With retirement staring him in the face, an all-time-great jump jockey pursues his 20th consecutive title in his unrelenting quest for glory.',\n",
              " 'Whoopi Goldberg narrates Elmo creator Kevin Clash\\'s remarkable journey from a working-class Baltimore neighborhood to Jim Henson\\'s \"Sesame Street.\"',\n",
              " 'Ambitious single TV journalist Mary Jane attempts to balance her career with her overbearing family and an increasingly messy love life.',\n",
              " \"When a scorned wife from the city shares a cab with a troubled villager, a fiery accident forces them to live out each other's lives.\",\n",
              " 'On the 200th anniversary of the Battle of Waterloo, thousands of enthusiasts reenact the epic clash. But there can only be one Napoleon.',\n",
              " 'In the aftermath of the 1967 Arab-Israeli War, four young Lebanese navigate their existence along rapidly transforming political lines.',\n",
              " \"This documentary tries to reconstruct, through a series of interviews, a family's misguided attempt to heal a woman's pain through exorcism.\",\n",
              " \"The life of cheerleader Bella Dawson turns upside down when, in a twist of fate, she becomes quarterback for her middle school's football team.\",\n",
              " 'An engaged fashion editor begins a torrid affair with a female roofer that threatens to turn both of their lives upside down.',\n",
              " 'In the magical Little Kingdom, friends Ben Elf and fairy princess Holly have fun adventures as they learn about teamwork, sharing and problem-solving.',\n",
              " \"Ben can transform into ten types of aliens. He'll try 'em all while adventuring across the country with his cousin Gwen and Grandpa Max.\",\n",
              " 'Backed by a full band and a ready wit, actor Ben Platt opens up a very personal songbook onstage —numbers from his debut LP, \"Sing to Me Instead.”',\n",
              " \"A rookie lawyer with an emasculating past in baseball can break into the legal world only if he manages a law firm's ragtag company softball team.\",\n",
              " 'An escaped psychopathic child killer faces off against one of his former victims, who has since become a hard-nosed detective.',\n",
              " \"Benji is back in this charming story that's told from the pooch's point of view, tracking his early days as a pup to his current life in showbiz.\",\n",
              " \"While on a press tour, Benji goes behind the scenes of Santa's workshop. But Santa has a devastating secret, so it's up to Benji to save Christmas.\",\n",
              " \"A medically discharged soldier attempts an improbable return to motorcycle racing to win enough prize money to save his father's farm.\",\n",
              " 'DJ Ickarus is at the top of his game, dazzling fans and touring the world – until he gets locked in the loony bin after taking a few too many drugs.',\n",
              " 'After a losing streak puts him in debt of 50,000 euros to his sponsors, an unlikely Turkish-German boxer in Berlin finds himself in need of a miracle.',\n",
              " \"What starts as a passionate one-night stand quickly turns sinister when Clare learns she's locked inside Andi's apartment with no way out.\",\n",
              " 'In this cinematic sequel to the hit TV series, Lolle has moved on from Sven and is about to marry her friend Hart – until Sven disrupts her plans.',\n",
              " 'Loner Guts is recruited by Griffith and his band of mercenaries, but their ensuing success as a full-fledged army could lead to a horrible fate.',\n",
              " \"For three years, Guts believed his mission was to pursue Griffith's dream together with him. But in order to become Griffith's equal and truly be called his friend, Guts realizes he will have to leave the Band of the Hawk.\",\n",
              " 'A year after he left the Band of the Hawk, Guts rejoins them in an epic battle to vanquish the God Hand and save Griffith from a hellish fate.',\n",
              " 'Ever the stand-up party animal, comic Bert Kreischer riffs on parenting and family life, being a gun and pet owner, his dad discovering pot, and more.',\n",
              " 'From his run-in with a grizzly bear to partying with the Russian mafia, the shirtless comic returns with laugh-out-loud tales in this stand-up special.',\n",
              " 'Decadent pasta from day-old fries? Skillful cooks transform tired leftovers into tantalizing new dishes in this wildly creative culinary competition.',\n",
              " 'From unseen footage to the last table read, this documentary takes an inside look at the final season of the acclaimed comedy series \"Schitt\\'s Creek.\"',\n",
              " 'The cast and crew of the 1981 Broadway musical \"Merrily We Roll Along\" recall joy and heartbreak during the production of a surefire hit that wasn\\'t.',\n",
              " 'Teenage friends plan an epic trip to Comic-Con to meet their idol, only to get caught in one hilariously awkward predicament after another.',\n",
              " 'Hired to displace tribal villagers to make way for a new highway, officials unearth an old curse and an army of British soldier-zombies.',\n",
              " 'This documentary follows the rising tide of Bethany Hamilton who lost her arm as a teen before making waves in pro surfing and her personal life.',\n",
              " 'This Emmy-nominated prequel to \"Breaking Bad\" follows small-time attorney Jimmy McGill as he transforms into morally challenged lawyer Saul Goodman.',\n",
              " 'A family on the brink of splitting up become the owners of a cutting-edge robot being sought by a corporation, homicide investigators and terrorists.',\n",
              " 'This documentary dives into the complex world of Herbalife, the international nutritional products company accused of being a pyramid scheme.',\n",
              " 'This documentary on actress and television producer Betty White traces her decades-long career as a  woman breaking new ground in entertainment.',\n",
              " 'After a mysterious disease kills every resident over 22 years old, survivors of a town must fend for themselves when the government quarantines them.',\n",
              " 'A former actress takes a trip to Japan, where she meets a young man who provides an escape from reality and makes her consider a different way of life.',\n",
              " 'Armed with awkward questions and zero self-awareness, Zach Galifianakis hits the road to find famous interview subjects for his no-budget talk show.',\n",
              " 'Grieving for his dead wife and daughter, a trucker plunges into a romance with a mother who needs his help. The dead, however, are far from gone.',\n",
              " \"A young woman faces pressure to marry her brother-in-law, after her sister dies while giving birth. But she's secretly in love with someone else.\",\n",
              " \"A man suffering from amnesia can't seem to choose between the women playing tricks on him.\",\n",
              " \"Middle schooler Valt Aoi, with his Beyblade Valtryek, faces off against friends, classmates and rivals to become the world's number one Blader.\",\n",
              " \"After training with legendary Valt Aoi, Dante and his trusty Ace Dragon lead the next generation of Bladers to battle in Japan — Beyblade's birthplace.\",\n",
              " 'In this anime adventure series for kids, the forces of good and evil \"blade it out,\" battling each other with enchanted spinning tops.',\n",
              " 'When a local musician and his band are forced to perform in honor of a right-wing coup, his daughter schemes to make their music subversive instead.',\n",
              " 'Secrets from the \"Stranger Things 2\" universe are revealed as cast and guests discuss the latest episodes with host Jim Rash. Caution: spoilers ahead!',\n",
              " 'A kind-hearted insurance agent has the mysterious power to temporarily shoulder the problems and pain of others, with comic results in his own life.',\n",
              " 'Facing disapproving parents, a knotty love life and her own inner critic, an aspiring comic ditches her cushy but unsatisfying life to pursue stand-up.',\n",
              " \"An impulsive, free-spirited woman who's defied convention for much of her life suddenly finds herself flirting with a classic romance.\",\n",
              " 'A theater group lands in trouble when its new actress takes her own life, two of its members are framed for murder and no one is who they appear to be.',\n",
              " 'This first of a two-part biopic depicts the early years that lay the foundation for beloved Marathi writer and comedian P.L. Deshpande’s iconic career.',\n",
              " 'The second installment of P.L. Deshpande’s biopic explores the Marathi humorist’s political journey, philanthropic endeavors and personal life.',\n",
              " 'Married to two women – each unaware of the other – a man finds his double life threatened when an old friend who knows his not-so-little secret arrives.',\n",
              " 'Determined to bring traditional bhangra to the world stage, a dancer preps for an international competition against a rival with dreams of her own.',\n",
              " 'In this heart-wrenching coming-of-age story, a young boy embarks on an arduous trek with his debt-ridden father to sell their beloved family donkey.',\n",
              " 'When his best friend is killed for uncovering political corruption, an idealistic young man decides to become a masked fighter for justice.',\n",
              " 'Tired of being single, a smart-aleck meme creator has a chance to prove himself to the girl he loves when he is suddenly appointed CEO of her workplace.',\n",
              " 'Siddharth dismisses warnings that his palace might be haunted, until ghostly occurrences force him to reconsider his beliefs.',\n",
              " 'After a couple moves into an apartment, the wife’s increasingly disturbing behavior unravels chilling secrets about their new home’s past.',\n",
              " \"A 23-year-old girl who's married to a man more than twice her age is forced to contend with the predatory nature of a male-dominated society.\",\n",
              " \"Teen witch Bibi and horse-loving Tina face trouble when a posh girl flirts with Tina's boyfriend and a crook sets his greedy eyes on a promising foal.\",\n",
              " \"When robbers hit Falkenstein castle, teen witch Bibi and pal Tina hunt for the crooks, then devise a plan to save the neighbors' failing ranch.\",\n",
              " \"At summer camp, young Bibi and her friends are pitted against the boys in a treasure hunt. But what's a witch to do when she loses her powers?\",\n",
              " 'Teen witch Bibi and her pal Tina return to the screen to reconcile a runaway girl with her narrow-minded family and save Falkenstein Castle from chaos.',\n",
              " \"The alcohol-fueled high jinks of a bachelor party go haywire when the buddies of an ill-fated groom abduct his fiancée's new lover.\",\n",
              " \"Dumped by his girlfriend because he refuses to accept responsibility, overgrown adolescent Sonny Koufax adopts a 5-year-old to prove he's a grownup.\",\n",
              " \"Writer and presenter Monty Don helps England's budding horticulturists plant and grow the gardens of their dreams.\",\n",
              " 'A tenderfoot and two gamblers seeking their fortunes in a boom town instead find themselves defending it from a gunslinging preacher and his gang.',\n",
              " 'Teenage friends find their lives upended by the wonders and horrors of puberty in this edgy comedy from real-life pals Nick Kroll and Andrew Goldberg.',\n",
              " 'A single middle-aged woman who has lived her whole life in a small Virginia mining town uncovers a family secret that alters her profoundly.',\n",
              " \"In this documentary, architect Bjarke Ingels offers his vision for 2 World Trade Center as he aims to restore Manhattan's skyline to its former glory.\",\n",
              " 'Go backstage with French rap duo Bigflo & Oli in this intimate music documentary, then join the superstar siblings as they embark on a major tour.',\n",
              " \"When his video game concept is stolen by a dishonest executive, a teenage chronic liar sets out to prove that he's telling the truth, for once.\",\n",
              " 'British documentarian Nick Broomfield investigates the murders of rappers Tupac Shakur and Biggie Smalls, digging up some surprises in the process.',\n",
              " 'This documentary charts the rise and fall of hot yoga founder Bikram Choudhury as his global empire is born and disturbing revelations come to light.',\n",
              " 'Bill Burr escapes the zombie apocalypse, explores how rom-coms ruin great sex and explains how too many childhood hugs may be the downfall of man.',\n",
              " 'The musings of comedian Bill Burr are let loose in this special, which was filmed at the historic Fillmore Auditorium in San Francisco.',\n",
              " 'No-nonsense comic Bill Burr takes the stage in Nashville and riffs on fast food, overpopulation, dictators and gorilla sign language.',\n",
              " 'Funnyman Bill Burr takes the stage to uncork a profanity-laced, incisive routine that pokes fun at plastic surgery, reality TV, gold diggers and more.',\n",
              " 'Bill Hicks remembers a wild night in 1989 and offers his views on puffing cigarettes, smoking weed, drinking, sex, commercials and music.',\n",
              " 'In one of his most iconic performances, late comedian Bill Hicks demonstrates what made him such a singular talent and a force to be reckoned with.',\n",
              " 'In his final recorded special, the iconoclastic comedian channels Goat Boy and tackles provocative topics like British porn, pot and the priesthood.',\n",
              " \"Filmed in 1989 at a turning point in comedian Bill Hicks's career, this rare onstage performance captures him spouting off on a variety of topics.\",\n",
              " 'Emmy-winning host Bill Nye brings experts and famous guests to his lab for a talk show exploring scientific issues that touch our lives.',\n",
              " 'The dynamic, bow-tied host behind the young adult science show faces climate-change skeptics as he demonstrates the importance of scientific evidence.',\n",
              " \"An Indian village is abuzz with news that a major movie star is coming to town – even more so because the town barber went to school with him. But as the day of the actor's visit approaches, the humble barber begins to worry he won't be recognized.\",\n",
              " 'This documentary recounts the life story of evangelist preacher Billy Graham featuring interviews with family members and former presidents.',\n",
              " 'Comedian Billy Eichner sprints through New York with celebrities to stun pedestrians with unapologetic, unfiltered and unique pop culture questions.',\n",
              " 'Torn between his demanding corporate career, his passion for music and his turbulent family life, a man struggles to keep his inner demons in check.',\n",
              " 'A medical student enters a top German university on a secret mission to uncover a conspiracy linking a family tragedy to a visionary biology professor.',\n",
              " 'Inspired by classic and contemporary literature, four renowned Marathi directors create four individual stories in this anthology of short films.',\n",
              " 'Five years after an ominous unseen presence drives most of society to suicide, a survivor and her two children make a desperate bid to reach safety.',\n",
              " 'In an attempt to settle the \"nature vs. nurture\" debate, a scientist couple raises three children to live lives that defy their genetic dispositions.',\n",
              " 'Cracking under the demands of children and a philandering, thankless husband, an overworked suburban mother assumes the persona of a ferocious dog.',\n",
              " 'A unconventional, efficient Interpol special agent goes rogue and assembles a team of thieves to catch a shadowy hacker called \"The Ghost.\"',\n",
              " 'Elena Michaels tries to stray from the pack of werewolves that turned her into a monster, but her efforts are thwarted by a string of grisly murders.',\n",
              " 'While investigating the disappearance of a teen girl in a tight-knit Galician town, a Civil Guard officer uncovers secrets linked to a loss of her own.',\n",
              " 'After 20 years abroad, a photographer returns to his birth country of Egypt and gets stranded without identification in a now unfamiliar culture.',\n",
              " 'When a small-town wedding videographer falls in love, he decides he needs to make more money and turns to shooting sexy videos – with mixed results.',\n",
              " 'A small-town man takes on a dangerous gangster to avenge his father, a police officer who ended his own life after being framed in a deadly crime.',\n",
              " 'When low-income families move into a thriving black community in Chicago, they find themselves at odds with politicians to maintain their status.',\n",
              " \"In Victorian London, 12-year-old business magnate Ciel Phantomhive thwarts dangers to the queen as he's watched over by his demon butler, Sebastian.\",\n",
              " 'Adopted by a human rights attorney after the Rwandan genocide, legal investigator Kate Ashby confronts her past when she takes on war crimes cases.',\n",
              " 'This docudrama based on the same-titled book tracks the aftermath of a 1993 bombing in Bombay through the eyes of a journalist covering the story.',\n",
              " 'Blaming a crooked media mogul for the death of his journalist sister, a surgeon enlists the help of a beautiful psychologist to get revenge.',\n",
              " 'At a Black-owned-and-operated hotspot for ink in Harlem, tattoo king Ceaser looks to expand his empire while working with a rambunctious crew.',\n",
              " 'School principal and retired superhero Jefferson Pierce leaps back into action as the legendary Black Lightning after a gang threatens his family.',\n",
              " \"This sci-fi anthology series explores a twisted, high-tech near-future where humanity's greatest innovations and darkest instincts collide.\",\n",
              " 'In 1984, a young programmer begins to question reality as he adapts a dark fantasy novel into a video game. A mind-bending tale with multiple endings.',\n",
              " \"After a cop's fiancée and a jewelry designer's father are found dead together, the two bereaved ones face a perilous aftermath of a theft gone wrong.\",\n",
              " \"T'Challa, the superpowered new leader of the hidden, highly advanced African nation of Wakanda, strives to protect his home from enemies old and new.\",\n",
              " 'After discovering that their secret military prison is under attack by terrorists, a ragtag group of inmates does their best to neutralize the enemy.',\n",
              " 'Lazarus finds Rae beaten and near death, and acts as a father figure to help redeem her. But before saving anyone, Lazarus must face his own demons.',\n",
              " 'Record-shattering Korean girl band BLACKPINK tell their story — and detail the hard-fought journey of the dreams and trials behind their meteoric rise.',\n",
              " \"Menaced by a psychopath who's got the local cops scared, waitress Lillian turns to a mysterious old logger to help her turn the tables on her stalker.\",\n",
              " 'Inside a vast, self-replicating city bent on eliminating all life, mysterious loner Killy emerges to guide a remnant of humanity desperate to survive.',\n",
              " 'An influential, if unsung country songwriter reflects on his career, and how the love of his life drove him to write his most personal music.',\n",
              " \"Featuring the boys of Johnny's West, a gang of zany transfer students are recruited for a mysterious mission ordained by their shadowy principal.\",\n",
              " 'After teenager Ichigo Kurosaki acquires superpowers from wounded soul reaper Rukia Kuchiki, the two of them join forces to round up lost souls.',\n",
              " 'When his mind is fogged by a scimitar-weilding stranger, Mayuri destroys his laboratory, unleashing a cloud of reishi that lays waste to the Seiretei.',\n",
              " \"When a group of vicious Sinners plots to escape from this eternal prison in Hell, they discover that Substitute Soul Reaper Ichigo is the key to their freedom. The Sinners launch an attack and in the process kidnap Ichigo's younger sister.\",\n",
              " 'After a devastating injury derails his career, scrappy world champion boxer Vinny Pazienza determines to make an against-all-odds comeback.',\n",
              " \"A passionate pianist and a soulful puzzle maker who treasures silence aren't the best neighbors, but things get interesting when they start to date.\",\n",
              " 'Caught between family pressures and small-time crime-fighting, a pair of bumbling cops tries to bust a massive drug deal and go down in history.',\n",
              " 'Dumped over a video he made to amuse his ailing dad, a heartsick Jérémy hatches an elaborate scheme to win back his superhero-loving girlfriend, Lola.',\n",
              " \"Condemned by a centuries-old vow to protect her kingdom's treasures, an embittered spirit returns to seek justice against the man who wronged her.\",\n",
              " 'After crossing paths at a party, a Cape Town teen sets out to prove whether a private-school swimming star is her sister who was abducted at birth.',\n",
              " 'An ex-convict and estranged father finds the chance to prove himself when his daughter seeks his help shaking off a dangerous group of drug dealers.',\n",
              " \"Ambitious Kunal takes a job in the diamond business, but his life is thrown into turmoil when he's drawn into the seedy underworld of his new career.\",\n",
              " 'A commoner living in ancient Greece, Heron discovers his true heritage as a son of Zeus, and his purpose: to save the world from a demonic army.',\n",
              " 'An ambitious TV reporter uses risky and ethically questionable methods to report on gang wars and police corruption in the Amazon port of Belém, Brazil.',\n",
              " 'When the black sheep son of a respected family threatens to expose dark secrets from their past, sibling loyalties are put to the test.',\n",
              " 'The doomed passengers aboard a spectral bus head toward a gruesome, unknown destination in this deliciously macabre horror anthology series.',\n",
              " 'Cocaine smuggler George rises from poverty to become one of the biggest drug dealers in America before his eventual downfall.',\n",
              " \"Determined to throw off the curse of being Satan's illegitimate son, Rin enters the True Cross Academy to become an exorcist, just like his mentor.\",\n",
              " 'The high life leads to high anxiety for a fashionable New York City homemaker in crisis who finds herself forced to live a more modest lifestyle.',\n",
              " 'Two former high school sweethearts unexpectedly reunite in their old hometown, where they rediscover their magical bond and face a shared regret.',\n",
              " \"New NFL star Thad buys his old teammates' beloved frat house, renames it Thadland and throws the raunchiest, most debauched party in school history.\",\n",
              " 'This sequel to the award-winning nature series \"Blue Planet\" dives beneath Earth\\'s oceans to reveal the dazzling vistas and amazing creatures there.',\n",
              " 'As Cindy and Dean muddle through their languishing marriage, they hearken back to the golden days when life was filled with possibility and romance.',\n",
              " 'When his girlfriend learns the truth about his murky past, a con artist is forced to examine his choices and get to the root of his real identity.',\n",
              " 'Morphed into a raccoon beastman, Michiru seeks refuge, and answers, with the aid of wolf beastman Shirou inside the special zone of Anima-City.',\n",
              " 'Combining his trademark wit and self-deprecating humor with original music, Bo Burnham offers up his unique twist on life in this stand-up special.',\n",
              " \"Left brain and right brain duke it out – and ultimately belt out a melody – in stand-up comedian Bo Burnham's quick and clever one-man show.\",\n",
              " \"Staying at home doesn't mean sitting still for energetic Bo and her little dragon friend Dezzy, who embark on amazing adventures through movement.\",\n",
              " \"Decades ago, Bob Lazar blew the whistle on Area 51. Now he’s back to explain the alien tech he worked with, and the government's war to shut him up.\",\n",
              " \"An overly eager elf improves Santa's sleigh, but when he crash lands far from home, three odd critters pitch in to send him back to the North Pole.\",\n",
              " 'A team of bobbleheads band together to defend their collector’s home when uninvited relatives barge in looking to steal from his prized collection.',\n",
              " 'Raj, the son of strict, wealthy parents, falls in love with Bobby, the daughter of a poor Christian fisherman – a romance his parents oppose.',\n",
              " 'With unlimited determination and zero field experience, a small-town detective accepts a lucrative case from a mysterious – and suspicious – stranger.',\n",
              " 'Explore the life and times of legendary soccer manager Bobby Robson, whose keen mind for the game was matched only by his devotion to his teams.',\n",
              " 'Irked by her bodyguard, an heiress invents a secret admirer to throw him off his duties, but the plan may backfire when she falls for him.',\n",
              " 'An aspiring dancer accompanies her terminally ill mother on one last road trip that alternately strains and strengthens their knotty relationship.',\n",
              " \"A young chauffeur who's at a crossroads in his life escorts a pair of clients around Barcelona and becomes embroiled in their mysterious quest.\",\n",
              " \"Meet the most beloved sitcom horse of the '90s, 20 years later. He’s a curmudgeon with a heart of...not quite gold...but something like gold. Copper?\",\n",
              " 'It\\'s Christmas, and BoJack wants nothing to do with it. Then Todd shows up with a giant candy cane and an old \"Horsin\\' Around\" Christmas episode.',\n",
              " 'This dramatization depicts the life – and loves – of Venezuelan Gen. Simón Bolívar, who helped liberate several Latin American countries from Spain.',\n",
              " 'A down-and-out Hollywood actor is utterly unprepared for the eccentricities that await when an Indian producer offers him a role in a Bollywood film.',\n",
              " \"This tale follows German shepherd Bolt, a canine actor who makes a cross-country trek when he's mistakenly shipped from Hollywood to New York City.\",\n",
              " 'In this dark comedy, a dysfunctional group of wannabe Basque terrorists awaits word about a new mission while Spain makes a run at the World Cup title.',\n",
              " \"A gay man deals with his sexuality, a struggling actor has an epiphany, a boy becomes a dancer, and a man tries to fulfill his father's dying wish.\",\n",
              " 'In 1985, when a vessel protesting nuclear testing is sunk in New Zealand, local police fight to prove it was a terrorist plot by their French allies.',\n",
              " 'An unearthed audio interview of Hollywood icon Hedy Lamarr reveals a woman with brains as well as beauty, who was the first to patent frequency hopping.',\n",
              " 'On the island of Curaçao, an amiable scam artist angers gangsters and flees to Holland, where his conscience is torn between a woman and a new scheme.',\n",
              " 'Two veteran buddy cops are back for a second chapter, this time to tackle a car theft ring that turns out to be much more than they bargained for.',\n",
              " 'An English-speaking officer from Toronto and a French-speaking cop from Montreal are forced to work together to solve a crime.',\n",
              " \"This reality series follows elite professional lifeguards on Sydney's Bondi Beach, as they take on everything from animal stings to criminals.\",\n",
              " 'A New York City grad student moonlighting as a dominatrix enlists her gay BFF from high school to be her assistant.',\n",
              " 'Bonnie Parker and Clyde Barrow are young, in love and on the run during a bullet-riddled bank robbery spree across Depression-ravaged America.',\n",
              " 'A new couple, their exes and their children navigate the emotional challenges and tricky logistics of blended family life in this Swedish dramedy.',\n",
              " 'The world is a mystery to little Booba. But he approaches the curiosities around him with wonder, finding adventure in his everyday surroundings.',\n",
              " \"Celebrity readers share children's books by Black authors to spark kid-friendly conversations about empathy, equality, self-love and antiracism.\",\n",
              " 'Following a fashion show mishap, three supermodels find themselves on the run from dangerous gangsters trying to recover a fortune in stolen diamonds.',\n",
              " 'A team of inept border agents tackles immigration issues at the fictional Northend Airport in this improvised mockumentary series.',\n",
              " \"A shocking turn of events puts Birgitte Nyborg in the Danish prime minister's seat as her country's first female leader in this landmark drama.\",\n",
              " 'Left deeply in debt after their boss flees the country, four import company employees start producing online video content to keep themselves afloat.',\n",
              " 'After her best friend dies, Barbs attempts to rediscover herself until love leaves her true identity — and heart — in question.',\n",
              " 'In this all-access pass, IndyCar champion Scott Dixon and his team navigate the risks on the road in the quest to win it all.',\n",
              " 'Four 400-pound giants fight for the crown at the Arnold Strongman Classic and offer a glimpse into their lives leading up to the competition.',\n",
              " \"Disowned by his father as a boy, Surya is taken in by a crime boss. When his brother Shiv is wrongly imprisoned, his father pleads for Surya's help.\",\n",
              " 'After 15 years in France, Kamal returns to his native Beirut and reassembles his dance crew, striving to modernize traditional Dabke routines.',\n",
              " 'From lifting saggy skin to repairing shoddy breast enhancements, plastic surgeons tackle extreme fixer-uppers.',\n",
              " 'A former mortal who is now the Kitchen God cooks up celestial turmoil when he impregnates and opens a restaurant with his beloved, reincarnated wife.',\n",
              " 'A former goalkeeper-turned-talent scout embarks on a mischievous adventure to recruit players for Egyptian football clubs.',\n",
              " 'Young Cuca leaves his idyllic village on a grand adventure to find his father, who has traveled to the city seeking work.',\n",
              " \"Single entrepreneur Veronica finally starts to believe in love after meeting sexy Lance, but she soon discovers he's hiding something from her.\",\n",
              " 'When her son is kidnapped and later found traumatized, a lawyer takes justice into her own hands, causing events that spiral out of control.',\n",
              " \"Unassuming high school girl Jan-di stands up to – and eventually falls for – a spoiled rich kid who belongs to the school's most powerful clique.\",\n",
              " 'Country music star Brad Paisley hosts a night of music and laughs with comics Nate Bargatze, John Heffron, Jon Reep, Sarah Tiana and Mike E. Winfield.',\n",
              " 'This interactive series uses games, illusions and experiments to illustrate how our brains manufacture our reality and often play tricks on us.',\n",
              " 'After 12 years in the minors, a struggling baseball player retires, returns home and faces the last person he struck out with – his ex-girlfriend.',\n",
              " 'When high school hierarchy divides four best friends into different cliques, the girls defy expectations and try to bring their groups together.',\n",
              " 'Small-town residents mistake an Orson Welles radio broadcast for news about an alien invasion and are emboldened to act as they await an apocalypse.',\n",
              " 'A logger defends himself and his family from a group of murderous drug traffickers who have hidden a stash of heroin in his hunting cabin.',\n",
              " 'Songstress sisters Toni, Traci, Towanda, Trina and Tamar Braxton open up about their lives and their relationships — and reveal a few surprises.',\n",
              " 'Childhood friends Abhay and Aaliya experience plenty of obstacles in their paths as they find their way in the world and back to each other.',\n",
              " 'After their 99th breakup, a career woman and her carefree partner open a cafe where customers can put up souvenirs of past relationships.',\n",
              " 'Chef David Chang takes his insatiable curiosity about food, culture and identity on the road, in the convivial company of fun-loving celebrity guests.',\n",
              " \"A high school chemistry teacher dying of cancer teams with a former student to secure his family's future by manufacturing and selling crystal meth.\",\n",
              " 'One filmmaker’s quest to expose the human rights violations faced by India’s LGBTQ community was a project of passion seven years in the making.',\n",
              " 'Bank chairman Charles Bunbury – who knows next to nothing about banking – fights to save both his company and his marriage from disaster.',\n",
              " 'In mid-1970s Australia, two small-town teenage boys befriend an enigmatic middle-aged surfer, who urges them to see the thrill in facing their fears.',\n",
              " 'Two rival brothers must work together to keep their brewery in business, but shenanigans keep foaming up their company with chaos.',\n",
              " 'Brian Regan takes relatable family humor to new heights as he talks board games, underwear elastic and looking for hot dogs in all the wrong places.',\n",
              " \"Teenage loner Brendan Fry navigates his high school's intense social network to discover a killer's identity after his secret crush is murdered.\",\n",
              " 'Rocco needs to hire a bride so he can access his trust fund. Rocky desperately needs a job. Their marriage starts out fake, but ends up as much more.',\n",
              " 'After failing to deliver for a demanding bride, a wedding planner makes a bold business move and throws the wedding of the year — for herself.',\n",
              " \"The eight close-knit siblings of the Bridgerton family look for love and happiness in London high society. Inspired by Julia Quinn's bestselling novels.\",\n",
              " \"Performing stand-up for a packed house in London's Hoxton Hall, comedian Bridget Christie dives into the politics of gender, sex and equality.\",\n",
              " 'In an LA rife with interspecies tensions, a human cop and his orc partner stumble on a powerful object and become embroiled in a prophesied turf war.',\n",
              " 'Faking his death to escape the realities of his uneventful life worked out well for Brij Mohan – until he was sentenced to death for his own murder.',\n",
              " 'A college student with psychic abilities takes in an amnesiac ghost as his roommate – who ends up helping him hunt down spooky spirits.',\n",
              " 'When cheerleading champs the Rebels are challenged by an edgy new squad, they take on teams from all over the world in a virtual cheer battle.',\n",
              " 'After a young boy is murdered in the small seaside town of Broadchurch, local detectives Ellie Miller and Alec Hardy are assigned the mysterious case.',\n",
              " \"Ya-nuo's been raised as a boy. Now at age 25, she's caught the eye of a triad leader's sister. But what happens when she reveals her true gender?\",\n",
              " 'Three cops find themselves hurtling toward the same crime scene on one fatal night in this tense, edge-of your-seat thriller.',\n",
              " 'Thrust from a violent home into a brutal custody center, a teenager learns to navigate a tough new reality and forge unlikely alliances to survive.',\n",
              " 'A robbery leaves a proprietor penniless before his wedding, but becoming a son-in-law to a second family might be the financial solution he needs.',\n",
              " 'After serving time in jail, a disgraced son returns to the family business in New York, where he struggles to fill the shoes of his late twin brother.',\n",
              " 'An honest lawyer reaches a moral crossroads after the cops force her to inform on her incarcerated brother, the leader of a rising criminal faction.',\n",
              " 'While tracking down a seditious painter, an imperial guard is accused of a royal assassination attempt and framed in a complicated conspiracy.',\n",
              " 'An Indian American man living with his artistic wife and contentious father-in-law struggles to handle his household and a foundering IT company.',\n",
              " 'To keep pal Boots from being sent to a rival school with better athletics, prankster Bruno leads an epic campaign to build a pool at Macdonald Hall.',\n",
              " 'Fed up with weird dress codes and wacky punishments, the students of neighboring schools face off against two recently hired oddball authoritarians.',\n",
              " 'The biggest troublemakers at Macdonald Hall are Bruno and Boots, who are caught and face an unthinkable punishment: separation into different dorms.',\n",
              " 'After getting a heart transplant, a 40-year-old homemaker in Pune makes the life-changing decision to complete the bucket list of her 20-year-old donor.',\n",
              " 'Inspired by the movie \"Thelma & Louise,\" three young people with Down syndrome leave the institution where they live to take a road trip together.',\n",
              " 'Follow the outrageous, high-octane adventures of Buddy Thunderstruck, a truck-racing dog who brings guts and good times to the town of Greasepit.',\n",
              " 'Champion truck-racing dog Buddy and his best friend, ferret mechanic Darnell, paw through the \"maybe pile\" and test out a bunch of crazy stunts.',\n",
              " \"In this thought-provoking biopic, an idealistic judo trainer adopts a boy from the slums and grooms him into the world's youngest marathon runner.\",\n",
              " 'A child bride grows up to be an enigmatic woman presiding over her household, harboring a painful past as supernatural murders of men plague her village.',\n",
              " 'Exploring their sexual identities in the face of the patriarchal rules of their Assamese village, a teenager and her two friends are rocked by tragedy.',\n",
              " 'A special agent abruptly reunites with a criminal – once a former friend – when he attempts to use his identity to infiltrate and take down a cartel.',\n",
              " \"When four college friends reunite for a bachelor party, their hunt for cash said to be hidden in Kentucky's backwoods leads to bloodshed and betrayal.\",\n",
              " \"When Jeff Ross and Dave Attell take the stage, no one is safe. With the help of special guests, they're packing a lot of laughs into one epic weekend.\",\n",
              " 'The Ross siblings of Disney\\'s hit series \"Jessie\" spend a summer full of fun and adventure at Maine\\'s Camp Kikiwaka, where their parents first met.',\n",
              " 'After leaving Iowa with stars in her eyes, Ali arrives at a Los Angeles burlesque lounge with dreams of taking the stage with her soaring voice.',\n",
              " 'A secret marriage unites two families – one wealthy and traditional, the other bankrupt and modern – and is threatened by the resulting conflicts.',\n",
              " 'A small-town Louisiana minister and one of his parishioners cope with grief, alcoholism and a crisis of faith in this dramatic character study.',\n",
              " \"Promising student Zurich opens his eyes to some hard truths when his fraternity's violent hazing escalates into a disastrous hell night.\",\n",
              " 'This sketch series focuses on the eccentric characters in a small Scottish town, including bumbling cops, \"DJ Jesus\" and a disgruntled serial killer.',\n",
              " 'When their diverse neighborhood is besieged by a mysterious militia, a grad student and an ex-Marine become an unlikely team in a battle for survival.',\n",
              " 'Tackling different mysteries in each episode of this game show, seven sleuths get closer to solving the biggest one of all: What happened to Project D?',\n",
              " 'On the run from authorities, a troubled man recalls the mysterious events – and the strange drifter – that inspired his unusual transformation.',\n",
              " \"Elizabeth Taylor won an Oscar as Gloria Wandrous, a stylish call girl who yearns to go straight, especially after she thinks she's found Mr. Right.\",\n",
              " 'In a mazelike Manila slum, at war with incensed civilians and a brutal cartel, special agent Nina Manigan must fight her way through one fierce night.',\n",
              " 'In this satirical play, a wealthy Kuwaiti businessman travels to London for pleasure and encounters a host of eccentric characters.',\n",
              " \"A mother's plan to find her bachelor son a match derails when a new prospect turns up and sinister schemes unfold.\",\n",
              " 'On the night his ex-lover mysteriously dies, a top fashion designer has a serious accident, raising questions on whether the incidents are linked.',\n",
              " \"To blow off some steam, friends Akshay, Joshi and Lambodar, posing as a gang called C Kkompany, make a phony extortion demand to Joshi's apathetic son. The trio is shocked when their prank call makes them anonymous celebrities.\",\n",
              " \"As a flesh-eating virus rips its way through a remote woodland cabin, the terrified teens vacationing inside wonder who'll fall victim next.\",\n",
              " 'Engineer Dick Strawbridge and craftsman Will Hardie tour eight unique cabins built for a pop-up hotel in Wales, and construct No. 9 on their own.',\n",
              " 'In 1920s Madrid, four women at the National Telephone Company ring in revolution as they manage romance, friendship and the modern workplace.',\n",
              " \"When a peculiar hotel dinner show draws crowds during a postapocalyptic famine, one family discovers they'll pay much more than the price of admission.\",\n",
              " 'Thirty years after a disease that turns the infected into carnivorous insects emerged, a young exterminator and a teenage girl search for her mother.',\n",
              " 'After witnessing a child’s death during a violent clash, a former soccer player launches a youth team to help local kids avoid further bloodshed.',\n",
              " \"When Julia literally falls into Alejandro's backyard from her apartment above, it's just the jolt that's needed to nudge these two loners together.\",\n",
              " 'Gifted doctor Cho-in leads a charmed life while his older brother Seon-woo seethes with jealousy in this series inspired by Biblical characters.',\n",
              " \"A Cairo newsstand vendor's fantasies morph into a dangerous fixation with a lemonade seller as a serial killer begins terrorizing the city.\",\n",
              " 'Five calendar models try to navigate the twists and turns thrown in their path by the seductive and ruthless world of glamour.',\n",
              " 'Two lifelong friends on a hunting trip in Scotland find their nerves – and their morals – ruthlessly tested after a harrowing turn of events.',\n",
              " 'An impending ISIS attack on Sweden entangles a group of women, including a mother in a bind, a spirited student and an ambitious cop.',\n",
              " 'On his path to becoming Pope Francis, Father Jorge Bergoglio pursues his religious vocation in a country ravaged by a brutal military dictatorship.',\n",
              " 'At a top Paris talent firm, agents scramble to keep their star clients happy – and their business afloat – after an unexpected crisis.',\n",
              " 'This period drama set in impoverished East London in the 1950s follows a newly qualified midwife and her colleagues at a nursing convent.',\n",
              " 'Bodybuilder and two-time Mr. Universe, Calum von Moger, reflects on his rise to fame and battle to come back from a debilitating injury.',\n",
              " 'After a look-alike takes over her account, a cam girl with a growing fan base sets out to identify the mysterious culprit and reclaim her own identity.',\n",
              " 'This documentary looks back on the life of legendary flamenco singer Camarón, who went from humble roots to rock star status to a tragic early death.',\n",
              " 'With the digital revolution just around the corner, the employees of Bibideaux camera store strive to stay relevant amid unstoppable change.',\n",
              " 'A young boy attends summer camp, where he overcomes his fears, stands up to bullies and learns important lessons about faith and life.',\n",
              " \"Fresh Army recruit Amy Cole is assigned to Guantanamo Bay's Camp X-Ray, where she forms a surprising bond with one of the prisoners in her charge.\",\n",
              " 'On the cusp of marriage or divorce, four couples consider the meaning of love, sharing a life, meddling families and the weight of their commitment.',\n",
              " 'Three friends in a low-income neighborhood find humor and hope in their lives as they grapple with bad boyfriends and their dysfunctional families.',\n",
              " 'In Dublin, friends Aisling and Danielle must come to terms with adulthood when their millennial hijinks and hangovers begin to wear off.',\n",
              " 'At a wild high school graduation party, aspiring writer Preston hopes to declare his love to popular girl Amanda, who just got dumped by the class jock.',\n",
              " \"Gab is eager to tie the knot with her handsome boyfriend, but there's a problem, and it's a doozy: She's already married to a total stranger.\",\n",
              " 'Raised by a father to fraudulently act as one person, three identical brothers end up pining for the same woman as one triplet seeks psychiatric help.',\n",
              " 'Dueling high school debate champs who are at odds on just about everything forge ahead with ambitious plans to get into the colleges of their dreams.',\n",
              " \"When a wardrobe malfunction goes viral, a bubbly live streamer struggles to navigate her classmates' cruel judgment and the small town she lives in.\",\n",
              " 'On the incandescent shores of Goa, a young man tumbles down a mind-bending – and soon dangerous – series of trips after taking hallucinatory drugs.',\n",
              " 'When a huge marijuana shipment falls prey to thieves, the aftermath touches players from all ranks of the drug trade between Morocco and Europe.',\n",
              " 'Richi is a director of commercials whose computer memory drive is accidentally switched with that of Sneha, a woman he soon falls in love with.',\n",
              " 'In this interactive special, Harold and George need your decision-making skills to stop Krupp from blowing their beloved treehouse to smithereens.',\n",
              " \"Christmas gets weird — really weird — after George and Harold go back in time to change up a few of their beloved holiday's traditions.\",\n",
              " 'A low-level drug dealer decides to move up the ranks of the illegal narcotics trade in Darndale, Dublin, putting him and his gang on a violent path.',\n",
              " 'After a young girl breaks the seal of a magical book, releasing the spirits of the cards inside, she must become a \"Cardcaptor\" and retrieve them.',\n",
              " 'The whole huggable gang is back, bringing tales of caring and sharing to a new generation. And now the Care Bear Cousins are here to join the fun!',\n",
              " 'Nestled in a faraway cloud is a rainbow-colored world called Care-a-Lot, home to the magical Care Bears who each have a special talent.',\n",
              " 'From a schoolboy’s crush to a middle-aged bachelor’s office romance, four love stories spanning age, religion and status unfold in a small Indian town.',\n",
              " 'Sarah leaves her son in the Philippines to reunite with her husband in London, where she struggles personally and professionally as a care-home worker.',\n",
              " 'Aboard a spaceship where souls of the deceased are readied for reincarnation, a lone crew member’s rigid existence is disrupted by a spry new assistant.',\n",
              " \"Mixing archival footage with interviews, this film celebrates one of Los Angeles's most influential painters and Chicano art activists from the 1970s.\",\n",
              " 'Carlos Ballarta mocks daily life in Mexico, including public transit, the education system and the corn seller who betrays your confidence.',\n",
              " \"Mexican comic Carlos Ballarta mocks himself and points out the absurdities of parenthood and how he uses his wife's pregnancies to avoid commitments.\",\n",
              " \"A master thief who uses her skills for good, Carmen Sandiego travels the world foiling V.I.L.E.'s evil plans – with help from her savvy sidekicks.\",\n",
              " \"Part-timer Carole meets rich girl Tuesday, and each realizes they've found the musical partner they need. Together, they just might make it.\",\n",
              " 'An outcast teen with telekinetic ability lashes out with her deadly power when the high school \"in crowd\" torments her with a sick joke at the prom.',\n",
              " 'A socially awkward 19-year-old genius makes big plans to step out of her shell and make a friend, get a job and – maybe – even go on a date.',\n",
              " 'As a lethal virus spreads globally, four friends seek a reputed plague-free haven. But while avoiding the infected, the travelers turn on one another.',\n",
              " \"A smart lawyer whose drinking and recklessness send him on a path of self-destruction finds new purpose investigating a teenager's apparent suicide.\",\n",
              " 'Turned into a young boy by a sinister potion, teen sleuth Conan helps solve baffling crimes while tracking down the nefarious agents who poisoned him.',\n",
              " \"When Japanese troops invade Hong Kong, young Benny Ho flees to Macau and rises to the top of the city's casino business with pluck, diligence and wit.\",\n",
              " 'Casino mogul Benny Ho wields enormous power. But a feud with his former partner and a massive fraud scheme soon threaten his family and his empire.',\n",
              " 'A pair of high-powered, successful lawyers find themselves defending opposite interests of the justice system, causing a strain on their happy marriage.',\n",
              " 'A vampire hunter fights to save a besieged city from an army of otherworldly beasts controlled by Dracula himself. Inspired by the classic video games.',\n",
              " \"Members of a Southern clan scramble to curry favor with a dying, wealthy patriarch in this adaptation of Tennessee Williams's sizzling stage drama.\",\n",
              " 'Amid growing tensions in their marriage, a Johannesburg professor and his journalist wife find their lives upended by a famous, hard-partying author.',\n",
              " \"Two college frenemies whose lives aren't what they hoped meet up decades later and escalate their resentments from verbal jabs to bloody brawls.\",\n",
              " \"In 14th-century Barcelona, a serf's determined climb to wealth and freedom incurs the disdain of the noble class and the suspicion of the Inquisition.\",\n",
              " 'Nick Wallis presents crimes caught on CCTV, cell phones and other devices and reveals how investigators use the recordings to solve tough cases.',\n",
              " 'Torn between old camaraderie and recent tensions, three ex-soldiers reunite to explore a deadly cave but soon discover terror beyond all expectations.',\n",
              " 'Donning his signature suit and fedora, the dapper comic offers a unique spin on getting old, the presidential election and \"Honky Tonk Badonkadonk.\"',\n",
              " \"One newcomer red blood cell just wants to do her job. Between bacteria incursions and meeting a certain white blood cell, she's got a lot to learn!\",\n",
              " \"This documentary chronicles the philosophy and life's work of archivist P.K. Nair, who made a mission of preserving Indian cinema’s rich history.\",\n",
              " 'After bankruptcy, Abah and Emak must adapt to a new life with their children in a remote village.',\n",
              " 'Vying for a spot in the American Ballet Company, 12 dance students are ready to push their bodies and minds to the limit to realize their dreams.',\n",
              " 'A vulnerable singer is forced to choose between the girl he loves and another who has developed an unhealthy obsession with him.',\n",
              " 'With a horde of enemy invaders bearing down, four sons of an illustrious Sikh guru lead a tiny but valiant army into a desperate fight for freedom.',\n",
              " 'After reaching his 40th birthday, an egotistical businessman kicks off his midlife crisis by deciding to secure a mistress.',\n",
              " 'Three petty criminals find themselves in a pickle when police wrongly charge them with the murder of an important politician.',\n",
              " 'After her fat-shaming husband brings home a new lover, a wife in Maharashtra recruits a group of women to challenge him in a kabaddi match.',\n",
              " \"When a secretary saves her tycoon boss's life, his family hears wedding bells. Problem is, she's already in love – with his younger brother.\",\n",
              " 'Beautiful and adventurous doctor Resham meets a handsome Chinese backpacker named Adam while traveling with friends on a journey of self-discovery.',\n",
              " 'Priya and Raj are polar opposites. Raj is brash and earthy, while Pirya is sophisticated and something of a perfectionist in all she does. They really are like oil and water, but nonetheless, they dare to fall in love.',\n",
              " 'A local shop becomes a hub for young men taken with the new neighbor. But as business booms, it may leave the equally smitten storeowner heartbroken.',\n",
              " 'A village schoolteacher and the ghost of a murdered man, who were both betrayed by those closest to them, join forces to help each other.',\n",
              " \"Haunted by eerie visions and sinister impulses after a heart transplant, a teenager tries to unmask the truth behind her donor's mysterious death.\",\n",
              " 'While taking shelter from a Mumbai monsoon, an investment banker forms an unlikely connection with a naïve prostitute over the course of the night.',\n",
              " 'Years after getting his girlfriend pregnant, washed-up jock Vince meets his eccentric son Michael and learns about fatherhood, one show tune at a time.',\n",
              " 'Having risen from humble beginnings, an ambitious young man sets his sights on winning a major dance competition that could catapult him to fame.',\n",
              " 'When a secretive woman breezes into a quiet town, her subdued neighbors get swept up in curiosity over her ethereal presence.',\n",
              " 'Spanning the 1970s, ‘80s and ‘90s, this lyrical love story of two childhood neighbors plays out amidst a rapidly evolving Indonesia.',\n",
              " \"At Berlin's Charité hospital in 1888, Ida finds romance, a path to her dream job and an inside look into cures for tuberculosis and diphtheria.\",\n",
              " 'In this reboot of the TV classic, the Angels are tasked with finding lost rings encoded with the personal information of people in witness protection.',\n",
              " 'Charlie creates fun stories using different shapes, and he needs your help! Take off for adventures in outer space, the Wild West – and right at home.',\n",
              " \"Follow the adventures of Wilbur the pig, Templeton the rat and Charlotte the spider in this animated musical version of E.B. White's timeless story.\",\n",
              " 'After their mother’s tragic death, a trio of sisters bond over their newfound powers, vanquish demons and band together to defend their magical legacy.',\n",
              " 'When pretty new neighbor Seema falls for their shy roommate Sid, jealous womanizers Omi and Jai plot to break up the new lovebirds.',\n",
              " 'When pretty new neighbor Seema falls for their shy roommate Sid, jealous womanizers Omi and Jai plot to break up the new lovebirds.',\n",
              " \"Comic book artist Holden meets the perfect woman, only to learn that she's a lesbian. But that doesn't stop him from falling in love with her.\",\n",
              " 'Go behind the scenes with social media sensation Cameron Dallas as he takes his career to the next level on an international tour.',\n",
              " 'Adventurer Cyril Chauquet seeks out the most colossal and dangerous underwater creatures around the world in this adrenaline-packed series.',\n",
              " 'Featuring interviews, insights and archival footage, this documentary aims to reveal how historical events shaped the music of John Coltrane.',\n",
              " 'The romanticized life of media mogul Assis Chateaubriand depicts him as the star of a televised trial, where his passions and achievements are judged.',\n",
              " 'Couples on a tiny budget try to ensure that the day of their wedding turns out to be the magical experience they always dreamed it would be.',\n",
              " 'When a former shop owner grows bored of retirement, he buys a fish pond and manages the new hijinks in his life with a staff of quirky employees.',\n",
              " \"Sam Malone, an ex-baseball player turned bar owner, operates a saloon that's always filled with quirky customers and even more eccentric staff.\",\n",
              " 'In this adaptation of a popular webtoon, a poor student trying to navigate college life gains the attention of a wealthy upperclassman with a dark side.',\n",
              " 'After igniting a Twitter war with a well-known culinary critic, a Los Angeles chef packs his knives, heads home to Miami and opens a food truck.',\n",
              " \"The best chefs of Korea go head-to-head to create impromptu dishes that feature ingredients found inside the guest stars' very own refrigerators.\",\n",
              " 'In a provocative documentary series, comedian Chelsea Handler confronts personal and cultural hang-ups around four topics that fascinate her.',\n",
              " 'In her first Netflix stand-up comedy special, Chelsea Handler recounts her African adventures (and provides hilarious photographic evidence).',\n",
              " '\"Brooklyn Nine-Nine\" star Chelsea Peretti showcases her diverse talents in this dark yet silly reimagining of the comedy special.',\n",
              " \"What could have been a sad journey turns joyful for Rahul when he falls in love with a woman en route to submerging his grandfather's ashes.\",\n",
              " 'A group of kids takes an illegal tour through an abandoned city near Chernobyl, where mysterious humanoid forms begin to haunt their steps...',\n",
              " 'Petty criminals, dodgy decorators, full-bore Glaswegians and oddball documentary presenters converge in this sketch show that parodies Scottish life.',\n",
              " 'The virginal Tracey, who was raised in a strictly religious Tower Hamlets flat, is ready to realize her potential. And the first step is having sex.',\n",
              " 'A brave, energetic little boy with superhuman powers leads his friends on exciting adventures to guard their fellow Dholakpur villagers from evil.',\n",
              " 'An evil demon who traded his freedom for immortality lures Chhota Bheem and his friends to the city of Sonapur with tales of hidden treasure.',\n",
              " 'Chhota Bheem is in China for a martial arts competition but his real challenge: to save the emperor’s daughter from being kidnapped by the villain Zuhu!',\n",
              " 'A veterinarian and two writers have a mysterious connection to Korean independence fighters from the Japanese colonial period.',\n",
              " \"In the wake of his sister's marriage, a young middle-class man leaves his village and learns that supporting one's self is easier said than done.\",\n",
              " \"No one believes Chicken Little when he tries to warn of an alien invasion – so it's up to him and his misfit friends to save the world!\",\n",
              " 'Armed with tools and engineering smarts, monkey mechanic Chico Bon Bon and his Fix-It Force help the people of Blunderburg solve all of their problems.',\n",
              " 'When a wealthy patriarch unexpectedly drops dead, his money-crazed family, friends and staff scramble for his billionaire fortune.',\n",
              " 'As a chief of staff in the National Assembly, Jang Tae-jun influences power behind the scenes while pursuing his own ambitions to rise to the top.',\n",
              " 'When a rash of murders unfolds, 6-year-old Andy knows that his toy doll Chucky is the killer, but neither his mom nor the cops believe him.',\n",
              " 'Amid crime and corruption, the lives of two couples intertwine as unexpected events soon reveal their dark secrets and tainted pasts.',\n",
              " 'Ruka spends her summer at the aquarium, where she’s drawn into an enigmatic aquatic event alongside two mysterious boys raised in the ocean.',\n",
              " 'As a magic wielder, young archivist Chakuro knows his time is short, but everything changes when a girl from the outside appears on his island.',\n",
              " \"Eight feisty boys befriend young drifter Fatka. When a mean politician threatens Fatka's way of life, the boys band together in honor of their pal.\",\n",
              " \"Magic and mischief collide as half-human, half-witch Sabrina navigates between two worlds: mortal teen life and her family's legacy, the Church of Night.\",\n",
              " 'A Chinese engineer travels to a war-torn African country to rebuild its telecommunications but instead finds massive corruption and explosive danger.',\n",
              " 'At midnight on his 10th birthday, a boy scours the lesser-known Kolkata streets in search of a father he’s never met, carrying a letter he can’t read.',\n",
              " 'Brought together by meaningful meals in the past and present, a doctor and a chef are reacquainted when they begin working at a hospice ward.',\n",
              " 'The exotic dancers from Chocolate City get back together for a trip to Las Vegas and a chance at $500,000 in prize money.',\n",
              " \"A bank employee weighed down by her jobless husband's debts — and her own broken dreams — finds a secret source of seemingly unlimited cash in her home.\",\n",
              " 'A gifted but insecure woman embarks on a transformative journey when she enlists an enigmatic con man to recover her stolen car from an eccentric thug.',\n",
              " 'When a mysterious box arrives at his door, a doctor and father is forced to participate in a twisted killing game, or risk losing everything.',\n",
              " 'Featuring interviews, concert footage and behind-the-scenes access, this documentary delivers fans an all-access look at the life of Chris Brown.',\n",
              " \"Stand-up comedian Chris D'Elia covers everything from how to improve the NFL to why dating is evil and that babies should grow up before they're born.\",\n",
              " \"Unbridled comic Chris D'Elia reconsiders his approach to major life events like marriage, not having kids and buying pants for your friends.\",\n",
              " \"Chris D'Elia takes the stage in Minneapolis to offer his thoughts on everything from self-censorship to problematic dolphins to lame mutant powers.\",\n",
              " 'Chris Rock takes the stage in Brooklyn for a comedy special filled with searing observations on fatherhood, infidelity and American politics.',\n",
              " 'Filmed in his hometown of Atlanta, Chris Tucker showcases his stand-up comedic chops as he shares his experiences from childhood to the big time.',\n",
              " 'A career woman who has everything but romance finds her values challenged when she starts dating a good man she met on a Christian matchmaking site.',\n",
              " 'Christina Pazsitzky hits Seattle with a biting dose of reality, telling truths about her childhood, getting older and the horrors of giving birth.',\n",
              " 'Stranded at school before holiday break, a precocious girl gets into the spirit of saving when a trio of robbers trespass and hold the janitor hostage.',\n",
              " \"A man foils an attempted murder, then flees the crew of would-be killers along with their intended target as a woman he's just met tries to find him.\",\n",
              " \"Two girls realize they're both visiting grandparents they’ve never met and decide to switch places to see how the other half lives.\",\n",
              " \"In the Smoky Mountains, an ambitious woman works to save her family's historic berry farm as her ex, a country music star, returns to town.\",\n",
              " \"To inherit her father's company, socialite Ellen must first visit his small hometown, where she learns the value of hard work and helping others.\",\n",
              " \"With Christmas just around the corner, sisters Miranda and Lyla bring their families to their childhood home, where rivalries don't take a holiday.\",\n",
              " 'A wedding planner’s world is turned upside down when a handsome private investigator is hired to disrupt one of her biggest jobs.',\n",
              " 'A dedicated pediatrician reconsiders her feelings for a carefree prince as he secretly recovers from a ski accident alongside her young patients.',\n",
              " 'Still reeling from a business failure, the restaurant manager of a ski resort finds her world jolted by a new chef, who has his own hidden past.',\n",
              " 'When Luther Krank and his wife opt to skip Christmas – no tree and no rooftop Frosty – can they handle the fallout from their family and neighbors?',\n",
              " ...]"
            ]
          },
          "metadata": {},
          "execution_count": 55
        }
      ]
    },
    {
      "cell_type": "code",
      "source": [
        "#using  lower() method for Changing the string into lower case\n",
        "content = [low.lower() for low in content]\n",
        "#using sub() function for Handling all the urls and (@) present in content variable \n",
        "content = [re.sub(\"\\w+://\\S+\",\"\", urls) for urls in content]\n",
        "content =[re.sub(\"@\\w+\",\"\", handles) for handles in content]"
      ],
      "metadata": {
        "id": "AdUmwm65L4Wl"
      },
      "execution_count": 56,
      "outputs": []
    },
    {
      "cell_type": "code",
      "source": [
        "#using tokenization functions for the text present in content variable\n",
        "content= [word_tokenize(word) for word in content]"
      ],
      "metadata": {
        "id": "AOb0j7y3L3Dz"
      },
      "execution_count": 57,
      "outputs": []
    },
    {
      "cell_type": "code",
      "source": [
        "#Removing stopwords and punctuation from the description feature \n",
        "removing_stopwords= stopwords.words(\"english\")\n",
        "removing_punctuation= list(punctuation)\n",
        "removing_punctuation.extend(['...','``',\"''\",\"..\"])\n",
        "removing_context= ['rt', 'amp',\"'s\"]\n",
        "final_variable= removing_stopwords + removing_punctuation + removing_context"
      ],
      "metadata": {
        "id": "GcCfhBXCL3Hx"
      },
      "execution_count": 58,
      "outputs": []
    },
    {
      "cell_type": "code",
      "source": [
        "#defining final_stop function to remove the stop words\n",
        "def final_stop(final):\n",
        "    return [re.sub(\"#\",\"\",term) for term in final if ((term not in final_variable) & (len(term)>1))]\n",
        "content_clean = [final_stop(clean) for clean in content]"
      ],
      "metadata": {
        "id": "wIFhhYeeL3MK"
      },
      "execution_count": 59,
      "outputs": []
    },
    {
      "cell_type": "code",
      "source": [
        "#creating a cleaned_list where all the words of the cleaned data is present and getting top 10 words using counter over top_term variable \n",
        "cleaned_list= []\n",
        "for i in content_clean:\n",
        "    cleaned_list.extend(i)\n",
        "top_terms= Counter(cleaned_list)\n",
        "top_terms.most_common(10)"
      ],
      "metadata": {
        "id": "R7LrAlzaMlsw",
        "colab": {
          "base_uri": "https://localhost:8080/"
        },
        "outputId": "ecac7296-d868-4d22-dc49-f75bc06d541e"
      },
      "execution_count": 60,
      "outputs": [
        {
          "output_type": "execute_result",
          "data": {
            "text/plain": [
              "[('young', 778),\n",
              " ('life', 714),\n",
              " ('new', 655),\n",
              " ('family', 610),\n",
              " ('man', 529),\n",
              " ('world', 502),\n",
              " ('woman', 488),\n",
              " ('love', 446),\n",
              " ('two', 445),\n",
              " ('must', 411)]"
            ]
          },
          "metadata": {},
          "execution_count": 60
        }
      ]
    },
    {
      "cell_type": "code",
      "source": [
        "#using join method to form a string by Joining all the words \n",
        "content_clean = [\" \".join(label) for label in content_clean]"
      ],
      "metadata": {
        "id": "b6_f_39JMmGT"
      },
      "execution_count": 61,
      "outputs": []
    },
    {
      "cell_type": "markdown",
      "source": [
        "# TFIDF"
      ],
      "metadata": {
        "id": "jxcaSWrqG4_Y"
      }
    },
    {
      "cell_type": "code",
      "source": [
        "#tfid_vectorizer variable \n",
        "tfid_vectorizer= TfidfVectorizer()"
      ],
      "metadata": {
        "id": "rGvMlb3mMmbl"
      },
      "execution_count": 62,
      "outputs": []
    },
    {
      "cell_type": "code",
      "source": [
        "#using tfid_vectorizer for fiting content_clean variable and converting it into arrays \n",
        "content_tfidf = tfid_vectorizer.fit_transform(content_clean).toarray()"
      ],
      "metadata": {
        "id": "E1ev9VLkMmgE"
      },
      "execution_count": 63,
      "outputs": []
    },
    {
      "cell_type": "code",
      "source": [
        "#shape of content_tfidf\n",
        "content_tfidf.shape"
      ],
      "metadata": {
        "id": "fTgR9gcjGJDh",
        "colab": {
          "base_uri": "https://localhost:8080/"
        },
        "outputId": "edf775b5-8e8c-48f2-bf87-3c63f3687e38"
      },
      "execution_count": 64,
      "outputs": [
        {
          "output_type": "execute_result",
          "data": {
            "text/plain": [
              "(8262, 16635)"
            ]
          },
          "metadata": {},
          "execution_count": 64
        }
      ]
    },
    {
      "cell_type": "code",
      "source": [
        "#content_tfidf\n",
        "content_tfidf"
      ],
      "metadata": {
        "id": "01mKSi0UFPoi",
        "colab": {
          "base_uri": "https://localhost:8080/"
        },
        "outputId": "42d8a5e3-e7bd-4141-aa69-a401c10c39d4"
      },
      "execution_count": 65,
      "outputs": [
        {
          "output_type": "execute_result",
          "data": {
            "text/plain": [
              "array([[0., 0., 0., ..., 0., 0., 0.],\n",
              "       [0., 0., 0., ..., 0., 0., 0.],\n",
              "       [0., 0., 0., ..., 0., 0., 0.],\n",
              "       ...,\n",
              "       [0., 0., 0., ..., 0., 0., 0.],\n",
              "       [0., 0., 0., ..., 0., 0., 0.],\n",
              "       [0., 0., 0., ..., 0., 0., 0.]])"
            ]
          },
          "metadata": {},
          "execution_count": 65
        }
      ]
    },
    {
      "cell_type": "markdown",
      "source": [
        "As we can see, the content_tfidf variable has 8262 rows and 16635 columns, which is far too enormous, so we'll use PCA to shrink it."
      ],
      "metadata": {
        "id": "XO7Vz30HJHLL"
      }
    },
    {
      "cell_type": "markdown",
      "source": [
        "# Implementation of PCA FOR DIMENSION REDUCTION"
      ],
      "metadata": {
        "id": "7vVLMtPgW8AV"
      }
    },
    {
      "cell_type": "code",
      "source": [
        "#Scale data before applying PCA\n",
        "scaling=StandardScaler()\n",
        " \n",
        "#Use fit and transform method\n",
        "scaling.fit(content_tfidf)\n",
        "Scaled_data=scaling.transform(content_tfidf)\n",
        " \n",
        "#Set the n_components=4000\n",
        "principal=PCA(n_components=4000)\n",
        "principal.fit(Scaled_data)\n",
        "pca_content_tfidf=principal.transform(Scaled_data)\n",
        " \n",
        "#Check the dimensions of data after PCA\n",
        "print(pca_content_tfidf.shape)"
      ],
      "metadata": {
        "id": "V0demQ9iFQPb",
        "colab": {
          "base_uri": "https://localhost:8080/"
        },
        "outputId": "7b67461d-8129-4b6a-afd9-32c799a1bff0"
      },
      "execution_count": 66,
      "outputs": [
        {
          "output_type": "stream",
          "name": "stdout",
          "text": [
            "(8262, 4000)\n"
          ]
        }
      ]
    },
    {
      "cell_type": "code",
      "source": [
        "#pca_content_tfidf\n",
        "pca_content_tfidf"
      ],
      "metadata": {
        "id": "lvrwl3jcFQUw",
        "colab": {
          "base_uri": "https://localhost:8080/"
        },
        "outputId": "d437db46-8f06-42c7-c7e7-7025d46da8e1"
      },
      "execution_count": 67,
      "outputs": [
        {
          "output_type": "execute_result",
          "data": {
            "text/plain": [
              "array([[-0.00468954, -0.17356309, -0.11852505, ...,  1.7993778 ,\n",
              "        -0.9109731 ,  0.05569491],\n",
              "       [-0.09792966, -0.34434724, -0.11147859, ..., -0.42064094,\n",
              "         1.85477888,  0.25206995],\n",
              "       [-0.13288831, -0.25843187, -0.14825203, ...,  0.11880056,\n",
              "         1.06621072, -0.68934973],\n",
              "       ...,\n",
              "       [-0.14058933, -0.26818504, -0.18241798, ..., -0.01684849,\n",
              "        -0.40300415, -0.35580771],\n",
              "       [-0.14058933, -0.26818504, -0.18241798, ..., -0.01684849,\n",
              "        -0.40300415, -0.35580771],\n",
              "       [-0.14058933, -0.26818504, -0.18241798, ..., -0.01684849,\n",
              "        -0.40300415, -0.35580771]])"
            ]
          },
          "metadata": {},
          "execution_count": 67
        }
      ]
    },
    {
      "cell_type": "code",
      "source": [
        "#Check the values of eigen vectors prodeced by principal components\n",
        "principal.components_"
      ],
      "metadata": {
        "id": "X5ZyqKfAFQYm",
        "colab": {
          "base_uri": "https://localhost:8080/"
        },
        "outputId": "56922c4d-a5b1-4c12-951d-8e8651cf9aa8"
      },
      "execution_count": 68,
      "outputs": [
        {
          "output_type": "execute_result",
          "data": {
            "text/plain": [
              "array([[ 8.65538248e-04,  7.75794092e-03, -2.19978187e-04, ...,\n",
              "        -1.78976948e-04, -1.07974378e-04, -9.20353037e-05],\n",
              "       [ 8.94838654e-03, -3.35113194e-03, -2.38923047e-04, ...,\n",
              "        -7.12488331e-04, -7.79114807e-05, -6.39176516e-04],\n",
              "       [-1.29770595e-04, -1.46033524e-03, -4.08188150e-04, ...,\n",
              "        -2.49450157e-04, -1.41392758e-04, -1.25202016e-04],\n",
              "       ...,\n",
              "       [-1.67416870e-03, -1.78965320e-03, -5.02490115e-03, ...,\n",
              "        -2.02612865e-03, -1.34510860e-02, -1.54984020e-03],\n",
              "       [ 8.55420145e-03, -4.63719558e-04,  2.64101956e-03, ...,\n",
              "        -7.81591357e-03,  1.29588146e-02, -4.49061824e-04],\n",
              "       [-8.68433893e-03,  3.45683103e-04,  5.33865802e-03, ...,\n",
              "        -1.68290432e-02,  1.10678013e-02,  1.27046373e-03]])"
            ]
          },
          "metadata": {},
          "execution_count": 68
        }
      ]
    },
    {
      "cell_type": "code",
      "source": [
        "#check how much variance is explained by each principal component\n",
        "principal.explained_variance_ratio_.sum()*100"
      ],
      "metadata": {
        "id": "jSssB99EFQc1",
        "colab": {
          "base_uri": "https://localhost:8080/"
        },
        "outputId": "f74d415b-d291-4c22-f218-e3432f8454f8"
      },
      "execution_count": 69,
      "outputs": [
        {
          "output_type": "execute_result",
          "data": {
            "text/plain": [
              "84.06261683542111"
            ]
          },
          "metadata": {},
          "execution_count": 69
        }
      ]
    },
    {
      "cell_type": "markdown",
      "source": [
        "Now we can evaluate how much variation is described by each principal component, and we can see that it is explained by more than 84%. Therefore, we may use 4000 components to continue. "
      ],
      "metadata": {
        "id": "Vzh0b0kteUWU"
      }
    },
    {
      "cell_type": "markdown",
      "source": [
        "### TFIDF after implementation of  Principal component analysis with maximum features set to 4000"
      ],
      "metadata": {
        "id": "18EnGFHusouJ"
      }
    },
    {
      "cell_type": "code",
      "source": [
        "#In tfid_vectorizer variable giving max_features=4000\n",
        "tfid_vectorizer= TfidfVectorizer(max_features=4000)"
      ],
      "metadata": {
        "id": "7HWUAoHgJDxs"
      },
      "execution_count": 70,
      "outputs": []
    },
    {
      "cell_type": "code",
      "source": [
        "#using tfid_vectorizer for fiting content_clean variable and converting it into arrays \n",
        "content_tfidf = tfid_vectorizer.fit_transform(content_clean).toarray()"
      ],
      "metadata": {
        "id": "iw-WaSJaJZZR"
      },
      "execution_count": 71,
      "outputs": []
    },
    {
      "cell_type": "code",
      "source": [
        "#shape of content_tfidf\n",
        "content_tfidf.shape"
      ],
      "metadata": {
        "id": "OQ5esduuJbRc",
        "colab": {
          "base_uri": "https://localhost:8080/"
        },
        "outputId": "175b4c2b-973c-4847-8ec7-148ea9ac0d8f"
      },
      "execution_count": 72,
      "outputs": [
        {
          "output_type": "execute_result",
          "data": {
            "text/plain": [
              "(8262, 4000)"
            ]
          },
          "metadata": {},
          "execution_count": 72
        }
      ]
    },
    {
      "cell_type": "code",
      "source": [
        "#content_tfidf\n",
        "content_tfidf"
      ],
      "metadata": {
        "id": "_xkjIRxmJrlk",
        "colab": {
          "base_uri": "https://localhost:8080/"
        },
        "outputId": "f4c7ca0f-e4a8-485d-9f1b-7bef8a5c6d03"
      },
      "execution_count": 73,
      "outputs": [
        {
          "output_type": "execute_result",
          "data": {
            "text/plain": [
              "array([[0., 0., 0., ..., 0., 0., 0.],\n",
              "       [0., 0., 0., ..., 0., 0., 0.],\n",
              "       [0., 0., 0., ..., 0., 0., 0.],\n",
              "       ...,\n",
              "       [0., 0., 0., ..., 0., 0., 0.],\n",
              "       [0., 0., 0., ..., 0., 0., 0.],\n",
              "       [0., 0., 0., ..., 0., 0., 0.]])"
            ]
          },
          "metadata": {},
          "execution_count": 73
        }
      ]
    },
    {
      "cell_type": "code",
      "source": [
        "#fiting content_tfidf variable in model and checking sse\n",
        "sse=[]\n",
        "for i in range(1,39):\n",
        "    model = KMeans(n_clusters=i)\n",
        "    model.fit(content_tfidf)\n",
        "    error = model.inertia_\n",
        "    sse.append(error)\n",
        "    print('cluster: %d \\t SSE: %0.2f'%(i,error))"
      ],
      "metadata": {
        "id": "XxE-kB0wJ2TU",
        "colab": {
          "base_uri": "https://localhost:8080/"
        },
        "outputId": "7d8c1743-79a8-4ae8-b131-333ac68d6b6d"
      },
      "execution_count": null,
      "outputs": [
        {
          "output_type": "stream",
          "name": "stdout",
          "text": [
            "cluster: 1 \t SSE: 8201.25\n",
            "cluster: 2 \t SSE: 8179.48\n"
          ]
        }
      ]
    },
    {
      "cell_type": "code",
      "source": [
        "#giving figure.figsize to visualize it in better way\n",
        "from pylab import rcParams\n",
        "rcParams['figure.figsize'] = 18, 10\n",
        "#elbow method and the range of clusters are varying from 1 to 39 \n",
        "plt.plot(sse,'bs--')\n",
        "plt.xticks(list(range(1,39)),list(range(1,39)))\n",
        "plt.grid(),plt.xlabel('Number of cluster')\n",
        "plt.show()"
      ],
      "metadata": {
        "id": "yZgUzpkHJ9Fw"
      },
      "execution_count": null,
      "outputs": []
    },
    {
      "cell_type": "code",
      "source": [
        "#sillhoute score of clusters \n",
        "sill = [] \n",
        "for i in range(2,39):\n",
        "    model = KMeans(n_clusters=i,init ='k-means++',random_state=51)\n",
        "    model.fit(content_tfidf)\n",
        "    y1 = model.predict(content_tfidf)\n",
        "    score = silhouette_score(content_tfidf,y1)\n",
        "    sill.append(score)\n",
        "    print('cluster: %d \\t Sillhoute: %0.4f'%(i,score))"
      ],
      "metadata": {
        "id": "xoDIh5D3nFrC"
      },
      "execution_count": null,
      "outputs": []
    },
    {
      "cell_type": "markdown",
      "source": [
        "Clustering is the process of splitting a population or set of data points into many groups so that data points in the same group are more similar than data points in other groups. To put it another way, the goal is to separate groups with similar characteristics and assign them to clusters. We used the Elbow method and the Silhoute score to do so, and we chose the 28 clusters based on the results."
      ],
      "metadata": {
        "id": "VdBbEawm4UAY"
      }
    },
    {
      "cell_type": "markdown",
      "source": [
        "##Implementation of Kmeans clustering"
      ],
      "metadata": {
        "id": "cqHzw1niI278"
      }
    },
    {
      "cell_type": "code",
      "source": [
        "#Kmeans clustering Implementation\n",
        "Kmeans_clustersmodel= KMeans(n_clusters=28, init='k-means++', max_iter=100, n_init=1,random_state=51)\n",
        "Kmeans_clustersmodel.fit(content_tfidf)"
      ],
      "metadata": {
        "id": "VG72wrOP4fY2"
      },
      "execution_count": null,
      "outputs": []
    },
    {
      "cell_type": "code",
      "source": [
        "#Predicting from model and also checking centres_Cluster in arrays\n",
        "pred= Kmeans_clustersmodel.predict(content_tfidf)\n",
        "centres_Cluster= Kmeans_clustersmodel.cluster_centers_\n",
        "centres_Cluster"
      ],
      "metadata": {
        "id": "Fq9k2_5G9skE"
      },
      "execution_count": null,
      "outputs": []
    },
    {
      "cell_type": "code",
      "source": [
        "#now creating a new feature name as cluster in which each row of content feature is assigned to their separate cluster\n",
        "df_clean_frame['cluster'] = Kmeans_clustersmodel.labels_"
      ],
      "metadata": {
        "id": "IiYDssC19unL"
      },
      "execution_count": null,
      "outputs": []
    },
    {
      "cell_type": "code",
      "source": [
        "#head of df_clean_frame\n",
        "df_clean_frame.head()"
      ],
      "metadata": {
        "id": "sM-pkDL_C54N"
      },
      "execution_count": null,
      "outputs": []
    },
    {
      "cell_type": "code",
      "source": [
        "#checking the number of clusters\n",
        "number_of_clusters=df_clean_frame['cluster'].value_counts().reset_index()\n",
        "number_of_clusters"
      ],
      "metadata": {
        "id": "V86AAG_SK1RV"
      },
      "execution_count": null,
      "outputs": []
    },
    {
      "cell_type": "code",
      "source": [
        "#checking the number of clusters\n",
        "plt.figure(figsize=(18,10))\n",
        "sns.barplot(x=number_of_clusters['index'],y=number_of_clusters['cluster'])"
      ],
      "metadata": {
        "id": "Mz3qQD48LPBD"
      },
      "execution_count": null,
      "outputs": []
    },
    {
      "cell_type": "markdown",
      "source": [
        "We can observe in the above plot that cluser 9 has the most clusters 2354, while cluser 1 has the second most clusters 569."
      ],
      "metadata": {
        "id": "c-4FViNfIUhU"
      }
    },
    {
      "cell_type": "code",
      "source": [
        "#groupby cluster in df_clean_frame variable \n",
        "clusters = df_clean_frame.groupby('cluster')    \n",
        "print(\"Cluster centroids: \\n\")\n",
        "order_centroids = Kmeans_clustersmodel.cluster_centers_.argsort()[:, ::-1]\n",
        "terms=tfid_vectorizer.get_feature_names_out()\n",
        "#printing 10 feature words of each cluster\n",
        "for i in range(28):\n",
        "    print(\"Cluster %d:\" % i)\n",
        "    for j in order_centroids[i, :10]: \n",
        "        print (' %s' % terms[j])\n",
        "    print('------------')"
      ],
      "metadata": {
        "id": "-SxMhJM2PVEx"
      },
      "execution_count": null,
      "outputs": []
    }
  ]
}